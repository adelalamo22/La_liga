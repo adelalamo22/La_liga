{
 "cells": [
  {
   "cell_type": "code",
   "execution_count": 1,
   "metadata": {
    "ExecuteTime": {
     "end_time": "2021-04-16T15:31:19.694641Z",
     "start_time": "2021-04-16T15:31:17.624434Z"
    }
   },
   "outputs": [],
   "source": [
    "import numpy as np\n",
    "import pandas as pd\n",
    "import matplotlib.pyplot as plt\n",
    "from sklearn.tree import DecisionTreeClassifier\n",
    "from sklearn.ensemble import RandomForestClassifier\n",
    "\n",
    "from sklearn.metrics import confusion_matrix\n",
    "from sklearn.metrics import classification_report\n",
    "\n",
    "\n",
    "import xgboost as xgb\n",
    "\n",
    "import plotly.graph_objs as go\n",
    "\n",
    "RANDOM_STATE=42\n",
    "\n",
    "# Predecimos esta jornada\n",
    "jornada=31\n",
    "path_files='..\\..\\la_liga_data\\primera\\Bet365'\n",
    "path_last='..\\..\\la_liga_data\\primera'"
   ]
  },
  {
   "cell_type": "code",
   "execution_count": 2,
   "metadata": {
    "ExecuteTime": {
     "end_time": "2021-04-15T18:25:12.503774Z",
     "start_time": "2021-04-15T18:25:12.494768Z"
    }
   },
   "outputs": [],
   "source": [
    "lista_ficheros=[path_files+'\\SP1-2005-2006.csv',\n",
    "path_files+'\\SP1-2006-2007.csv',\n",
    "path_files+'\\SP1-2007-2008.csv',\n",
    "path_files+'\\SP1-2008-2009.csv',\n",
    "path_files+'\\SP1-2009-2010.csv',\n",
    "path_files+'\\SP1-2010-2011.csv',\n",
    "path_files+'\\SP1-2011-2012.csv',\n",
    "path_files+'\\SP1-2012-2013.csv',\n",
    "path_files+'\\SP1-2013-2014.csv',\n",
    "path_files+'\\SP1-2014-2015.csv',\n",
    "path_files+'\\SP1-2015-2016.csv',\n",
    "path_files+'\\SP1-2016-2017.csv',\n",
    "path_files+'\\SP1-2017-2018.csv',\n",
    "path_files+'\\SP1-2018-2019.csv',\n",
    "path_files+'\\SP1-2019-2020.csv',               \n",
    "path_last+'\\SP1-J'+str(jornada)+'\\SP1-2020-2021.csv',\n",
    "path_last+'\\SP1-J'+str(jornada)+'\\SP1-J'+str(jornada)+'-2020-2021.csv']"
   ]
  },
  {
   "cell_type": "code",
   "execution_count": 3,
   "metadata": {
    "ExecuteTime": {
     "end_time": "2021-04-15T18:25:15.639481Z",
     "start_time": "2021-04-15T18:25:15.629487Z"
    }
   },
   "outputs": [],
   "source": [
    "columns=['Div',\n",
    " 'Date',\n",
    " 'HomeTeam',\n",
    " 'AwayTeam',\n",
    " 'FTHG',\n",
    " 'FTAG',\n",
    " 'FTR',\n",
    " 'HTHG',\n",
    " 'HTAG',\n",
    " 'HTR',\n",
    " 'HS',\n",
    " 'AS',\n",
    " 'HST',\n",
    " 'AST',\n",
    " 'HF',\n",
    " 'AF',\n",
    " 'HC',\n",
    " 'AC',\n",
    " 'HY',\n",
    " 'AY',\n",
    " 'HR',\n",
    " 'AR',\n",
    " 'B365H',\n",
    " 'B365D',\n",
    " 'B365A',\n",
    " 'BWH',\n",
    " 'BWD',\n",
    " 'BWA',\n",
    " 'IWH',\n",
    " 'IWD',\n",
    " 'IWA',\n",
    " 'WHH',\n",
    " 'WHD',\n",
    " 'WHA',\n",
    " 'VCH',\n",
    " 'VCD',\n",
    " 'VCA']"
   ]
  },
  {
   "cell_type": "markdown",
   "metadata": {
    "ExecuteTime": {
     "end_time": "2021-03-17T08:44:34.660871Z",
     "start_time": "2021-03-17T08:44:34.654895Z"
    }
   },
   "source": [
    "# Montamos el dataset"
   ]
  },
  {
   "cell_type": "code",
   "execution_count": 9,
   "metadata": {
    "ExecuteTime": {
     "end_time": "2021-04-15T18:26:58.668103Z",
     "start_time": "2021-04-15T18:26:58.303206Z"
    }
   },
   "outputs": [
    {
     "name": "stdout",
     "output_type": "stream",
     "text": [
      "..\\..\\la_liga_data\\primera\\Bet365\\SP1-2005-2006.csv\n",
      "..\\..\\la_liga_data\\primera\\Bet365\\SP1-2006-2007.csv\n",
      "..\\..\\la_liga_data\\primera\\Bet365\\SP1-2007-2008.csv\n",
      "..\\..\\la_liga_data\\primera\\Bet365\\SP1-2008-2009.csv\n",
      "..\\..\\la_liga_data\\primera\\Bet365\\SP1-2009-2010.csv\n",
      "..\\..\\la_liga_data\\primera\\Bet365\\SP1-2010-2011.csv\n",
      "..\\..\\la_liga_data\\primera\\Bet365\\SP1-2011-2012.csv\n",
      "..\\..\\la_liga_data\\primera\\Bet365\\SP1-2012-2013.csv\n",
      "..\\..\\la_liga_data\\primera\\Bet365\\SP1-2013-2014.csv\n",
      "..\\..\\la_liga_data\\primera\\Bet365\\SP1-2014-2015.csv\n",
      "..\\..\\la_liga_data\\primera\\Bet365\\SP1-2015-2016.csv\n",
      "..\\..\\la_liga_data\\primera\\Bet365\\SP1-2016-2017.csv\n",
      "..\\..\\la_liga_data\\primera\\Bet365\\SP1-2017-2018.csv\n",
      "..\\..\\la_liga_data\\primera\\Bet365\\SP1-2018-2019.csv\n",
      "..\\..\\la_liga_data\\primera\\Bet365\\SP1-2019-2020.csv\n",
      "..\\..\\la_liga_data\\primera\\SP1-J31\\SP1-2020-2021.csv\n",
      "..\\..\\la_liga_data\\primera\\SP1-J31\\SP1-J31-2020-2021.csv\n"
     ]
    }
   ],
   "source": [
    "j=1\n",
    "for x in lista_ficheros:\n",
    "    print(x)       \n",
    "    _liga=pd.read_csv(x)\n",
    "    # Nos quedamos solo con estas columnas para empezar\n",
    "    _liga=_liga[columns]\n",
    "    # Existen dos formatos posibles de la fecha con 19 o 2019\n",
    "    # Pero solo cambia en las dos ultimas temporadas\n",
    "    formato='%d/%m/%Y' if ((x == path_files+'\\SP1-2018-2019.csv')\n",
    "                           or (x == path_files+'\\SP1-2019-2020.csv') \n",
    "                           or (x == path_last+'\\SP1-J'+str(jornada)+'\\SP1-2020-2021.csv')\n",
    "                           or (x == path_last+'\\SP1-J'+str(jornada)+'\\SP1-J'+str(jornada)+'-2020-2021.csv')) else '%d/%m/%y'\n",
    "    _liga['Date1']=pd.to_datetime(_liga['Date'], format=formato)\n",
    "    # Añadimos la temporada\n",
    "    _liga['Temporada']=x[-13:-4]\n",
    "    # Ordenamos por la fecha del partido\n",
    "    _liga.sort_values(by=['Date1'], ascending=False, inplace=True)\n",
    "    # Vamos juntando todas las temporadas.\n",
    "    liga = _liga.copy(deep=True) if j==1 else pd.concat([_liga,liga], axis=0)\n",
    "    j+=1\n",
    "# Reseteamos el indice\n",
    "liga.reset_index(drop=True,inplace=True)"
   ]
  },
  {
   "cell_type": "code",
   "execution_count": 10,
   "metadata": {
    "ExecuteTime": {
     "end_time": "2021-04-15T18:27:01.868893Z",
     "start_time": "2021-04-15T18:27:01.820890Z"
    }
   },
   "outputs": [
    {
     "data": {
      "text/html": [
       "<div>\n",
       "<style scoped>\n",
       "    .dataframe tbody tr th:only-of-type {\n",
       "        vertical-align: middle;\n",
       "    }\n",
       "\n",
       "    .dataframe tbody tr th {\n",
       "        vertical-align: top;\n",
       "    }\n",
       "\n",
       "    .dataframe thead th {\n",
       "        text-align: right;\n",
       "    }\n",
       "</style>\n",
       "<table border=\"1\" class=\"dataframe\">\n",
       "  <thead>\n",
       "    <tr style=\"text-align: right;\">\n",
       "      <th></th>\n",
       "      <th>Div</th>\n",
       "      <th>Date</th>\n",
       "      <th>HomeTeam</th>\n",
       "      <th>AwayTeam</th>\n",
       "      <th>FTHG</th>\n",
       "      <th>FTAG</th>\n",
       "      <th>FTR</th>\n",
       "      <th>HTHG</th>\n",
       "      <th>HTAG</th>\n",
       "      <th>HTR</th>\n",
       "      <th>...</th>\n",
       "      <th>IWD</th>\n",
       "      <th>IWA</th>\n",
       "      <th>WHH</th>\n",
       "      <th>WHD</th>\n",
       "      <th>WHA</th>\n",
       "      <th>VCH</th>\n",
       "      <th>VCD</th>\n",
       "      <th>VCA</th>\n",
       "      <th>Date1</th>\n",
       "      <th>Temporada</th>\n",
       "    </tr>\n",
       "  </thead>\n",
       "  <tbody>\n",
       "    <tr>\n",
       "      <th>10</th>\n",
       "      <td>SP1</td>\n",
       "      <td>12/04/2021</td>\n",
       "      <td>Celta</td>\n",
       "      <td>Sevilla</td>\n",
       "      <td>3.0</td>\n",
       "      <td>4.0</td>\n",
       "      <td>A</td>\n",
       "      <td>3.0</td>\n",
       "      <td>2.0</td>\n",
       "      <td>H</td>\n",
       "      <td>...</td>\n",
       "      <td>3.25</td>\n",
       "      <td>2.20</td>\n",
       "      <td>3.40</td>\n",
       "      <td>3.30</td>\n",
       "      <td>2.20</td>\n",
       "      <td>3.40</td>\n",
       "      <td>3.25</td>\n",
       "      <td>2.20</td>\n",
       "      <td>2021-04-12</td>\n",
       "      <td>2020-2021</td>\n",
       "    </tr>\n",
       "    <tr>\n",
       "      <th>11</th>\n",
       "      <td>SP1</td>\n",
       "      <td>11/04/2021</td>\n",
       "      <td>Betis</td>\n",
       "      <td>Ath Madrid</td>\n",
       "      <td>1.0</td>\n",
       "      <td>1.0</td>\n",
       "      <td>D</td>\n",
       "      <td>1.0</td>\n",
       "      <td>1.0</td>\n",
       "      <td>D</td>\n",
       "      <td>...</td>\n",
       "      <td>3.05</td>\n",
       "      <td>2.40</td>\n",
       "      <td>3.20</td>\n",
       "      <td>3.20</td>\n",
       "      <td>2.35</td>\n",
       "      <td>3.13</td>\n",
       "      <td>3.10</td>\n",
       "      <td>2.38</td>\n",
       "      <td>2021-04-11</td>\n",
       "      <td>2020-2021</td>\n",
       "    </tr>\n",
       "    <tr>\n",
       "      <th>12</th>\n",
       "      <td>SP1</td>\n",
       "      <td>11/04/2021</td>\n",
       "      <td>Valladolid</td>\n",
       "      <td>Granada</td>\n",
       "      <td>1.0</td>\n",
       "      <td>2.0</td>\n",
       "      <td>A</td>\n",
       "      <td>1.0</td>\n",
       "      <td>0.0</td>\n",
       "      <td>H</td>\n",
       "      <td>...</td>\n",
       "      <td>3.30</td>\n",
       "      <td>3.55</td>\n",
       "      <td>2.15</td>\n",
       "      <td>3.25</td>\n",
       "      <td>3.60</td>\n",
       "      <td>2.10</td>\n",
       "      <td>3.25</td>\n",
       "      <td>3.60</td>\n",
       "      <td>2021-04-11</td>\n",
       "      <td>2020-2021</td>\n",
       "    </tr>\n",
       "    <tr>\n",
       "      <th>13</th>\n",
       "      <td>SP1</td>\n",
       "      <td>11/04/2021</td>\n",
       "      <td>Valencia</td>\n",
       "      <td>Sociedad</td>\n",
       "      <td>2.0</td>\n",
       "      <td>2.0</td>\n",
       "      <td>D</td>\n",
       "      <td>0.0</td>\n",
       "      <td>2.0</td>\n",
       "      <td>A</td>\n",
       "      <td>...</td>\n",
       "      <td>3.25</td>\n",
       "      <td>2.20</td>\n",
       "      <td>3.60</td>\n",
       "      <td>3.40</td>\n",
       "      <td>2.10</td>\n",
       "      <td>3.50</td>\n",
       "      <td>3.40</td>\n",
       "      <td>2.10</td>\n",
       "      <td>2021-04-11</td>\n",
       "      <td>2020-2021</td>\n",
       "    </tr>\n",
       "    <tr>\n",
       "      <th>14</th>\n",
       "      <td>SP1</td>\n",
       "      <td>11/04/2021</td>\n",
       "      <td>Villarreal</td>\n",
       "      <td>Osasuna</td>\n",
       "      <td>1.0</td>\n",
       "      <td>2.0</td>\n",
       "      <td>A</td>\n",
       "      <td>0.0</td>\n",
       "      <td>0.0</td>\n",
       "      <td>D</td>\n",
       "      <td>...</td>\n",
       "      <td>3.65</td>\n",
       "      <td>5.50</td>\n",
       "      <td>1.67</td>\n",
       "      <td>3.60</td>\n",
       "      <td>5.80</td>\n",
       "      <td>1.65</td>\n",
       "      <td>3.70</td>\n",
       "      <td>5.50</td>\n",
       "      <td>2021-04-11</td>\n",
       "      <td>2020-2021</td>\n",
       "    </tr>\n",
       "    <tr>\n",
       "      <th>15</th>\n",
       "      <td>SP1</td>\n",
       "      <td>10/04/2021</td>\n",
       "      <td>Eibar</td>\n",
       "      <td>Levante</td>\n",
       "      <td>0.0</td>\n",
       "      <td>1.0</td>\n",
       "      <td>A</td>\n",
       "      <td>0.0</td>\n",
       "      <td>1.0</td>\n",
       "      <td>A</td>\n",
       "      <td>...</td>\n",
       "      <td>3.35</td>\n",
       "      <td>3.30</td>\n",
       "      <td>2.20</td>\n",
       "      <td>3.40</td>\n",
       "      <td>3.30</td>\n",
       "      <td>2.20</td>\n",
       "      <td>3.40</td>\n",
       "      <td>3.20</td>\n",
       "      <td>2021-04-10</td>\n",
       "      <td>2020-2021</td>\n",
       "    </tr>\n",
       "    <tr>\n",
       "      <th>16</th>\n",
       "      <td>SP1</td>\n",
       "      <td>10/04/2021</td>\n",
       "      <td>Ath Bilbao</td>\n",
       "      <td>Alaves</td>\n",
       "      <td>0.0</td>\n",
       "      <td>0.0</td>\n",
       "      <td>D</td>\n",
       "      <td>0.0</td>\n",
       "      <td>0.0</td>\n",
       "      <td>D</td>\n",
       "      <td>...</td>\n",
       "      <td>3.25</td>\n",
       "      <td>4.50</td>\n",
       "      <td>1.88</td>\n",
       "      <td>3.30</td>\n",
       "      <td>4.60</td>\n",
       "      <td>1.90</td>\n",
       "      <td>3.30</td>\n",
       "      <td>4.33</td>\n",
       "      <td>2021-04-10</td>\n",
       "      <td>2020-2021</td>\n",
       "    </tr>\n",
       "    <tr>\n",
       "      <th>17</th>\n",
       "      <td>SP1</td>\n",
       "      <td>10/04/2021</td>\n",
       "      <td>Getafe</td>\n",
       "      <td>Cadiz</td>\n",
       "      <td>0.0</td>\n",
       "      <td>1.0</td>\n",
       "      <td>A</td>\n",
       "      <td>0.0</td>\n",
       "      <td>0.0</td>\n",
       "      <td>D</td>\n",
       "      <td>...</td>\n",
       "      <td>3.05</td>\n",
       "      <td>4.80</td>\n",
       "      <td>2.00</td>\n",
       "      <td>3.10</td>\n",
       "      <td>4.50</td>\n",
       "      <td>1.95</td>\n",
       "      <td>3.10</td>\n",
       "      <td>4.75</td>\n",
       "      <td>2021-04-10</td>\n",
       "      <td>2020-2021</td>\n",
       "    </tr>\n",
       "    <tr>\n",
       "      <th>18</th>\n",
       "      <td>SP1</td>\n",
       "      <td>10/04/2021</td>\n",
       "      <td>Real Madrid</td>\n",
       "      <td>Barcelona</td>\n",
       "      <td>2.0</td>\n",
       "      <td>1.0</td>\n",
       "      <td>H</td>\n",
       "      <td>2.0</td>\n",
       "      <td>0.0</td>\n",
       "      <td>H</td>\n",
       "      <td>...</td>\n",
       "      <td>3.70</td>\n",
       "      <td>2.30</td>\n",
       "      <td>2.90</td>\n",
       "      <td>3.70</td>\n",
       "      <td>2.30</td>\n",
       "      <td>2.80</td>\n",
       "      <td>3.75</td>\n",
       "      <td>2.30</td>\n",
       "      <td>2021-04-10</td>\n",
       "      <td>2020-2021</td>\n",
       "    </tr>\n",
       "    <tr>\n",
       "      <th>19</th>\n",
       "      <td>SP1</td>\n",
       "      <td>09/04/2021</td>\n",
       "      <td>Huesca</td>\n",
       "      <td>Elche</td>\n",
       "      <td>3.0</td>\n",
       "      <td>1.0</td>\n",
       "      <td>H</td>\n",
       "      <td>2.0</td>\n",
       "      <td>1.0</td>\n",
       "      <td>H</td>\n",
       "      <td>...</td>\n",
       "      <td>3.10</td>\n",
       "      <td>4.10</td>\n",
       "      <td>2.05</td>\n",
       "      <td>3.20</td>\n",
       "      <td>4.00</td>\n",
       "      <td>2.05</td>\n",
       "      <td>3.30</td>\n",
       "      <td>3.90</td>\n",
       "      <td>2021-04-09</td>\n",
       "      <td>2020-2021</td>\n",
       "    </tr>\n",
       "  </tbody>\n",
       "</table>\n",
       "<p>10 rows × 39 columns</p>\n",
       "</div>"
      ],
      "text/plain": [
       "    Div        Date     HomeTeam    AwayTeam  FTHG  FTAG FTR  HTHG  HTAG HTR  \\\n",
       "10  SP1  12/04/2021        Celta     Sevilla   3.0   4.0   A   3.0   2.0   H   \n",
       "11  SP1  11/04/2021        Betis  Ath Madrid   1.0   1.0   D   1.0   1.0   D   \n",
       "12  SP1  11/04/2021   Valladolid     Granada   1.0   2.0   A   1.0   0.0   H   \n",
       "13  SP1  11/04/2021     Valencia    Sociedad   2.0   2.0   D   0.0   2.0   A   \n",
       "14  SP1  11/04/2021   Villarreal     Osasuna   1.0   2.0   A   0.0   0.0   D   \n",
       "15  SP1  10/04/2021        Eibar     Levante   0.0   1.0   A   0.0   1.0   A   \n",
       "16  SP1  10/04/2021   Ath Bilbao      Alaves   0.0   0.0   D   0.0   0.0   D   \n",
       "17  SP1  10/04/2021       Getafe       Cadiz   0.0   1.0   A   0.0   0.0   D   \n",
       "18  SP1  10/04/2021  Real Madrid   Barcelona   2.0   1.0   H   2.0   0.0   H   \n",
       "19  SP1  09/04/2021       Huesca       Elche   3.0   1.0   H   2.0   1.0   H   \n",
       "\n",
       "    ...   IWD   IWA   WHH   WHD   WHA   VCH   VCD   VCA      Date1  Temporada  \n",
       "10  ...  3.25  2.20  3.40  3.30  2.20  3.40  3.25  2.20 2021-04-12  2020-2021  \n",
       "11  ...  3.05  2.40  3.20  3.20  2.35  3.13  3.10  2.38 2021-04-11  2020-2021  \n",
       "12  ...  3.30  3.55  2.15  3.25  3.60  2.10  3.25  3.60 2021-04-11  2020-2021  \n",
       "13  ...  3.25  2.20  3.60  3.40  2.10  3.50  3.40  2.10 2021-04-11  2020-2021  \n",
       "14  ...  3.65  5.50  1.67  3.60  5.80  1.65  3.70  5.50 2021-04-11  2020-2021  \n",
       "15  ...  3.35  3.30  2.20  3.40  3.30  2.20  3.40  3.20 2021-04-10  2020-2021  \n",
       "16  ...  3.25  4.50  1.88  3.30  4.60  1.90  3.30  4.33 2021-04-10  2020-2021  \n",
       "17  ...  3.05  4.80  2.00  3.10  4.50  1.95  3.10  4.75 2021-04-10  2020-2021  \n",
       "18  ...  3.70  2.30  2.90  3.70  2.30  2.80  3.75  2.30 2021-04-10  2020-2021  \n",
       "19  ...  3.10  4.10  2.05  3.20  4.00  2.05  3.30  3.90 2021-04-09  2020-2021  \n",
       "\n",
       "[10 rows x 39 columns]"
      ]
     },
     "execution_count": 10,
     "metadata": {},
     "output_type": "execute_result"
    }
   ],
   "source": [
    "liga[10:].head(10)"
   ]
  },
  {
   "cell_type": "code",
   "execution_count": 11,
   "metadata": {
    "ExecuteTime": {
     "end_time": "2021-04-15T18:27:20.392241Z",
     "start_time": "2021-04-15T18:27:20.358240Z"
    }
   },
   "outputs": [
    {
     "data": {
      "text/html": [
       "<div>\n",
       "<style scoped>\n",
       "    .dataframe tbody tr th:only-of-type {\n",
       "        vertical-align: middle;\n",
       "    }\n",
       "\n",
       "    .dataframe tbody tr th {\n",
       "        vertical-align: top;\n",
       "    }\n",
       "\n",
       "    .dataframe thead th {\n",
       "        text-align: right;\n",
       "    }\n",
       "</style>\n",
       "<table border=\"1\" class=\"dataframe\">\n",
       "  <thead>\n",
       "    <tr style=\"text-align: right;\">\n",
       "      <th></th>\n",
       "      <th>Div</th>\n",
       "      <th>Date</th>\n",
       "      <th>HomeTeam</th>\n",
       "      <th>AwayTeam</th>\n",
       "      <th>FTHG</th>\n",
       "      <th>FTAG</th>\n",
       "      <th>FTR</th>\n",
       "      <th>HTHG</th>\n",
       "      <th>HTAG</th>\n",
       "      <th>HTR</th>\n",
       "      <th>...</th>\n",
       "      <th>IWD</th>\n",
       "      <th>IWA</th>\n",
       "      <th>WHH</th>\n",
       "      <th>WHD</th>\n",
       "      <th>WHA</th>\n",
       "      <th>VCH</th>\n",
       "      <th>VCD</th>\n",
       "      <th>VCA</th>\n",
       "      <th>Date1</th>\n",
       "      <th>Temporada</th>\n",
       "    </tr>\n",
       "  </thead>\n",
       "  <tbody>\n",
       "    <tr>\n",
       "      <th>0</th>\n",
       "      <td>SP1</td>\n",
       "      <td>22/04/2021</td>\n",
       "      <td>Ath Madrid</td>\n",
       "      <td>Huesca</td>\n",
       "      <td>NaN</td>\n",
       "      <td>NaN</td>\n",
       "      <td>NaN</td>\n",
       "      <td>NaN</td>\n",
       "      <td>NaN</td>\n",
       "      <td>NaN</td>\n",
       "      <td>...</td>\n",
       "      <td>NaN</td>\n",
       "      <td>NaN</td>\n",
       "      <td>NaN</td>\n",
       "      <td>NaN</td>\n",
       "      <td>NaN</td>\n",
       "      <td>NaN</td>\n",
       "      <td>NaN</td>\n",
       "      <td>NaN</td>\n",
       "      <td>2021-04-22</td>\n",
       "      <td>2020-2021</td>\n",
       "    </tr>\n",
       "    <tr>\n",
       "      <th>1</th>\n",
       "      <td>SP1</td>\n",
       "      <td>22/04/2021</td>\n",
       "      <td>Granada</td>\n",
       "      <td>Eibar</td>\n",
       "      <td>NaN</td>\n",
       "      <td>NaN</td>\n",
       "      <td>NaN</td>\n",
       "      <td>NaN</td>\n",
       "      <td>NaN</td>\n",
       "      <td>NaN</td>\n",
       "      <td>...</td>\n",
       "      <td>NaN</td>\n",
       "      <td>NaN</td>\n",
       "      <td>NaN</td>\n",
       "      <td>NaN</td>\n",
       "      <td>NaN</td>\n",
       "      <td>NaN</td>\n",
       "      <td>NaN</td>\n",
       "      <td>NaN</td>\n",
       "      <td>2021-04-22</td>\n",
       "      <td>2020-2021</td>\n",
       "    </tr>\n",
       "    <tr>\n",
       "      <th>2</th>\n",
       "      <td>SP1</td>\n",
       "      <td>22/04/2021</td>\n",
       "      <td>Sociedad</td>\n",
       "      <td>Celta</td>\n",
       "      <td>NaN</td>\n",
       "      <td>NaN</td>\n",
       "      <td>NaN</td>\n",
       "      <td>NaN</td>\n",
       "      <td>NaN</td>\n",
       "      <td>NaN</td>\n",
       "      <td>...</td>\n",
       "      <td>NaN</td>\n",
       "      <td>NaN</td>\n",
       "      <td>NaN</td>\n",
       "      <td>NaN</td>\n",
       "      <td>NaN</td>\n",
       "      <td>NaN</td>\n",
       "      <td>NaN</td>\n",
       "      <td>NaN</td>\n",
       "      <td>2021-04-22</td>\n",
       "      <td>2020-2021</td>\n",
       "    </tr>\n",
       "    <tr>\n",
       "      <th>3</th>\n",
       "      <td>SP1</td>\n",
       "      <td>22/04/2021</td>\n",
       "      <td>Barcelona</td>\n",
       "      <td>Getafe</td>\n",
       "      <td>NaN</td>\n",
       "      <td>NaN</td>\n",
       "      <td>NaN</td>\n",
       "      <td>NaN</td>\n",
       "      <td>NaN</td>\n",
       "      <td>NaN</td>\n",
       "      <td>...</td>\n",
       "      <td>NaN</td>\n",
       "      <td>NaN</td>\n",
       "      <td>NaN</td>\n",
       "      <td>NaN</td>\n",
       "      <td>NaN</td>\n",
       "      <td>NaN</td>\n",
       "      <td>NaN</td>\n",
       "      <td>NaN</td>\n",
       "      <td>2021-04-22</td>\n",
       "      <td>2020-2021</td>\n",
       "    </tr>\n",
       "    <tr>\n",
       "      <th>4</th>\n",
       "      <td>SP1</td>\n",
       "      <td>21/04/2021</td>\n",
       "      <td>Levante</td>\n",
       "      <td>Sevilla</td>\n",
       "      <td>NaN</td>\n",
       "      <td>NaN</td>\n",
       "      <td>NaN</td>\n",
       "      <td>NaN</td>\n",
       "      <td>NaN</td>\n",
       "      <td>NaN</td>\n",
       "      <td>...</td>\n",
       "      <td>NaN</td>\n",
       "      <td>NaN</td>\n",
       "      <td>NaN</td>\n",
       "      <td>NaN</td>\n",
       "      <td>NaN</td>\n",
       "      <td>NaN</td>\n",
       "      <td>NaN</td>\n",
       "      <td>NaN</td>\n",
       "      <td>2021-04-21</td>\n",
       "      <td>2020-2021</td>\n",
       "    </tr>\n",
       "    <tr>\n",
       "      <th>5</th>\n",
       "      <td>SP1</td>\n",
       "      <td>21/04/2021</td>\n",
       "      <td>Osasuna</td>\n",
       "      <td>Valencia</td>\n",
       "      <td>NaN</td>\n",
       "      <td>NaN</td>\n",
       "      <td>NaN</td>\n",
       "      <td>NaN</td>\n",
       "      <td>NaN</td>\n",
       "      <td>NaN</td>\n",
       "      <td>...</td>\n",
       "      <td>NaN</td>\n",
       "      <td>NaN</td>\n",
       "      <td>NaN</td>\n",
       "      <td>NaN</td>\n",
       "      <td>NaN</td>\n",
       "      <td>NaN</td>\n",
       "      <td>NaN</td>\n",
       "      <td>NaN</td>\n",
       "      <td>2021-04-21</td>\n",
       "      <td>2020-2021</td>\n",
       "    </tr>\n",
       "    <tr>\n",
       "      <th>6</th>\n",
       "      <td>SP1</td>\n",
       "      <td>21/04/2021</td>\n",
       "      <td>Betis</td>\n",
       "      <td>Ath Bilbao</td>\n",
       "      <td>NaN</td>\n",
       "      <td>NaN</td>\n",
       "      <td>NaN</td>\n",
       "      <td>NaN</td>\n",
       "      <td>NaN</td>\n",
       "      <td>NaN</td>\n",
       "      <td>...</td>\n",
       "      <td>NaN</td>\n",
       "      <td>NaN</td>\n",
       "      <td>NaN</td>\n",
       "      <td>NaN</td>\n",
       "      <td>NaN</td>\n",
       "      <td>NaN</td>\n",
       "      <td>NaN</td>\n",
       "      <td>NaN</td>\n",
       "      <td>2021-04-21</td>\n",
       "      <td>2020-2021</td>\n",
       "    </tr>\n",
       "    <tr>\n",
       "      <th>7</th>\n",
       "      <td>SP1</td>\n",
       "      <td>21/04/2021</td>\n",
       "      <td>Alaves</td>\n",
       "      <td>Villarreal</td>\n",
       "      <td>NaN</td>\n",
       "      <td>NaN</td>\n",
       "      <td>NaN</td>\n",
       "      <td>NaN</td>\n",
       "      <td>NaN</td>\n",
       "      <td>NaN</td>\n",
       "      <td>...</td>\n",
       "      <td>NaN</td>\n",
       "      <td>NaN</td>\n",
       "      <td>NaN</td>\n",
       "      <td>NaN</td>\n",
       "      <td>NaN</td>\n",
       "      <td>NaN</td>\n",
       "      <td>NaN</td>\n",
       "      <td>NaN</td>\n",
       "      <td>2021-04-21</td>\n",
       "      <td>2020-2021</td>\n",
       "    </tr>\n",
       "    <tr>\n",
       "      <th>8</th>\n",
       "      <td>SP1</td>\n",
       "      <td>21/04/2021</td>\n",
       "      <td>Elche</td>\n",
       "      <td>Valladolid</td>\n",
       "      <td>NaN</td>\n",
       "      <td>NaN</td>\n",
       "      <td>NaN</td>\n",
       "      <td>NaN</td>\n",
       "      <td>NaN</td>\n",
       "      <td>NaN</td>\n",
       "      <td>...</td>\n",
       "      <td>NaN</td>\n",
       "      <td>NaN</td>\n",
       "      <td>NaN</td>\n",
       "      <td>NaN</td>\n",
       "      <td>NaN</td>\n",
       "      <td>NaN</td>\n",
       "      <td>NaN</td>\n",
       "      <td>NaN</td>\n",
       "      <td>2021-04-21</td>\n",
       "      <td>2020-2021</td>\n",
       "    </tr>\n",
       "    <tr>\n",
       "      <th>9</th>\n",
       "      <td>SP1</td>\n",
       "      <td>21/04/2021</td>\n",
       "      <td>Cadiz</td>\n",
       "      <td>Real Madrid</td>\n",
       "      <td>NaN</td>\n",
       "      <td>NaN</td>\n",
       "      <td>NaN</td>\n",
       "      <td>NaN</td>\n",
       "      <td>NaN</td>\n",
       "      <td>NaN</td>\n",
       "      <td>...</td>\n",
       "      <td>NaN</td>\n",
       "      <td>NaN</td>\n",
       "      <td>NaN</td>\n",
       "      <td>NaN</td>\n",
       "      <td>NaN</td>\n",
       "      <td>NaN</td>\n",
       "      <td>NaN</td>\n",
       "      <td>NaN</td>\n",
       "      <td>2021-04-21</td>\n",
       "      <td>2020-2021</td>\n",
       "    </tr>\n",
       "  </tbody>\n",
       "</table>\n",
       "<p>10 rows × 39 columns</p>\n",
       "</div>"
      ],
      "text/plain": [
       "   Div        Date    HomeTeam     AwayTeam  FTHG  FTAG  FTR  HTHG  HTAG  HTR  \\\n",
       "0  SP1  22/04/2021  Ath Madrid       Huesca   NaN   NaN  NaN   NaN   NaN  NaN   \n",
       "1  SP1  22/04/2021     Granada        Eibar   NaN   NaN  NaN   NaN   NaN  NaN   \n",
       "2  SP1  22/04/2021    Sociedad        Celta   NaN   NaN  NaN   NaN   NaN  NaN   \n",
       "3  SP1  22/04/2021   Barcelona       Getafe   NaN   NaN  NaN   NaN   NaN  NaN   \n",
       "4  SP1  21/04/2021     Levante      Sevilla   NaN   NaN  NaN   NaN   NaN  NaN   \n",
       "5  SP1  21/04/2021     Osasuna     Valencia   NaN   NaN  NaN   NaN   NaN  NaN   \n",
       "6  SP1  21/04/2021       Betis   Ath Bilbao   NaN   NaN  NaN   NaN   NaN  NaN   \n",
       "7  SP1  21/04/2021      Alaves   Villarreal   NaN   NaN  NaN   NaN   NaN  NaN   \n",
       "8  SP1  21/04/2021       Elche   Valladolid   NaN   NaN  NaN   NaN   NaN  NaN   \n",
       "9  SP1  21/04/2021       Cadiz  Real Madrid   NaN   NaN  NaN   NaN   NaN  NaN   \n",
       "\n",
       "   ...  IWD  IWA  WHH  WHD  WHA  VCH  VCD  VCA      Date1  Temporada  \n",
       "0  ...  NaN  NaN  NaN  NaN  NaN  NaN  NaN  NaN 2021-04-22  2020-2021  \n",
       "1  ...  NaN  NaN  NaN  NaN  NaN  NaN  NaN  NaN 2021-04-22  2020-2021  \n",
       "2  ...  NaN  NaN  NaN  NaN  NaN  NaN  NaN  NaN 2021-04-22  2020-2021  \n",
       "3  ...  NaN  NaN  NaN  NaN  NaN  NaN  NaN  NaN 2021-04-22  2020-2021  \n",
       "4  ...  NaN  NaN  NaN  NaN  NaN  NaN  NaN  NaN 2021-04-21  2020-2021  \n",
       "5  ...  NaN  NaN  NaN  NaN  NaN  NaN  NaN  NaN 2021-04-21  2020-2021  \n",
       "6  ...  NaN  NaN  NaN  NaN  NaN  NaN  NaN  NaN 2021-04-21  2020-2021  \n",
       "7  ...  NaN  NaN  NaN  NaN  NaN  NaN  NaN  NaN 2021-04-21  2020-2021  \n",
       "8  ...  NaN  NaN  NaN  NaN  NaN  NaN  NaN  NaN 2021-04-21  2020-2021  \n",
       "9  ...  NaN  NaN  NaN  NaN  NaN  NaN  NaN  NaN 2021-04-21  2020-2021  \n",
       "\n",
       "[10 rows x 39 columns]"
      ]
     },
     "execution_count": 11,
     "metadata": {},
     "output_type": "execute_result"
    }
   ],
   "source": [
    "liga.head(10)"
   ]
  },
  {
   "cell_type": "code",
   "execution_count": 12,
   "metadata": {
    "ExecuteTime": {
     "end_time": "2021-04-15T18:27:26.577621Z",
     "start_time": "2021-04-15T18:27:26.569623Z"
    }
   },
   "outputs": [
    {
     "data": {
      "text/plain": [
       "(6010, 39)"
      ]
     },
     "execution_count": 12,
     "metadata": {},
     "output_type": "execute_result"
    }
   ],
   "source": [
    "liga.shape"
   ]
  },
  {
   "cell_type": "code",
   "execution_count": 13,
   "metadata": {
    "ExecuteTime": {
     "end_time": "2021-04-15T18:27:31.459394Z",
     "start_time": "2021-04-15T18:27:31.435394Z"
    }
   },
   "outputs": [
    {
     "name": "stdout",
     "output_type": "stream",
     "text": [
      "<class 'pandas.core.frame.DataFrame'>\n",
      "RangeIndex: 6010 entries, 0 to 6009\n",
      "Data columns (total 39 columns):\n",
      " #   Column     Non-Null Count  Dtype         \n",
      "---  ------     --------------  -----         \n",
      " 0   Div        6010 non-null   object        \n",
      " 1   Date       6010 non-null   object        \n",
      " 2   HomeTeam   6010 non-null   object        \n",
      " 3   AwayTeam   6010 non-null   object        \n",
      " 4   FTHG       6000 non-null   float64       \n",
      " 5   FTAG       6000 non-null   float64       \n",
      " 6   FTR        6000 non-null   object        \n",
      " 7   HTHG       6000 non-null   float64       \n",
      " 8   HTAG       6000 non-null   float64       \n",
      " 9   HTR        6000 non-null   object        \n",
      " 10  HS         6000 non-null   float64       \n",
      " 11  AS         6000 non-null   float64       \n",
      " 12  HST        6000 non-null   float64       \n",
      " 13  AST        6000 non-null   float64       \n",
      " 14  HF         6000 non-null   float64       \n",
      " 15  AF         6000 non-null   float64       \n",
      " 16  HC         6000 non-null   float64       \n",
      " 17  AC         6000 non-null   float64       \n",
      " 18  HY         6000 non-null   float64       \n",
      " 19  AY         6000 non-null   float64       \n",
      " 20  HR         6000 non-null   float64       \n",
      " 21  AR         6000 non-null   float64       \n",
      " 22  B365H      6000 non-null   float64       \n",
      " 23  B365D      6000 non-null   float64       \n",
      " 24  B365A      6000 non-null   float64       \n",
      " 25  BWH        6000 non-null   float64       \n",
      " 26  BWD        6000 non-null   float64       \n",
      " 27  BWA        6000 non-null   float64       \n",
      " 28  IWH        5993 non-null   float64       \n",
      " 29  IWD        5993 non-null   float64       \n",
      " 30  IWA        5993 non-null   float64       \n",
      " 31  WHH        5901 non-null   float64       \n",
      " 32  WHD        5901 non-null   float64       \n",
      " 33  WHA        5901 non-null   float64       \n",
      " 34  VCH        5995 non-null   float64       \n",
      " 35  VCD        5995 non-null   float64       \n",
      " 36  VCA        5995 non-null   float64       \n",
      " 37  Date1      6010 non-null   datetime64[ns]\n",
      " 38  Temporada  6010 non-null   object        \n",
      "dtypes: datetime64[ns](1), float64(31), object(7)\n",
      "memory usage: 1.8+ MB\n"
     ]
    }
   ],
   "source": [
    "liga.info()"
   ]
  },
  {
   "cell_type": "code",
   "execution_count": 14,
   "metadata": {
    "ExecuteTime": {
     "end_time": "2021-04-15T18:27:35.677088Z",
     "start_time": "2021-04-15T18:27:35.665086Z"
    }
   },
   "outputs": [
    {
     "data": {
      "text/plain": [
       "Div           0\n",
       "Date          0\n",
       "HomeTeam      0\n",
       "AwayTeam      0\n",
       "FTHG          0\n",
       "FTAG          0\n",
       "FTR           0\n",
       "HTHG          0\n",
       "HTAG          0\n",
       "HTR           0\n",
       "HS            0\n",
       "AS            0\n",
       "HST           0\n",
       "AST           0\n",
       "HF            0\n",
       "AF            0\n",
       "HC            0\n",
       "AC            0\n",
       "HY            0\n",
       "AY            0\n",
       "HR            0\n",
       "AR            0\n",
       "B365H         0\n",
       "B365D         0\n",
       "B365A         0\n",
       "BWH           0\n",
       "BWD           0\n",
       "BWA           0\n",
       "IWH           7\n",
       "IWD           7\n",
       "IWA           7\n",
       "WHH          99\n",
       "WHD          99\n",
       "WHA          99\n",
       "VCH           5\n",
       "VCD           5\n",
       "VCA           5\n",
       "Date1         0\n",
       "Temporada     0\n",
       "dtype: int64"
      ]
     },
     "execution_count": 14,
     "metadata": {},
     "output_type": "execute_result"
    }
   ],
   "source": [
    "# Quitamos los nuelos excepto en los 10 ultimos partidos de la ultima jornada\n",
    "liga[10:].isnull().sum()"
   ]
  },
  {
   "cell_type": "code",
   "execution_count": 15,
   "metadata": {
    "ExecuteTime": {
     "end_time": "2021-04-15T18:27:38.606270Z",
     "start_time": "2021-04-15T18:27:38.591272Z"
    }
   },
   "outputs": [
    {
     "name": "stderr",
     "output_type": "stream",
     "text": [
      "C:\\ProgramData\\Anaconda3\\lib\\site-packages\\pandas\\core\\frame.py:4147: SettingWithCopyWarning: \n",
      "A value is trying to be set on a copy of a slice from a DataFrame\n",
      "\n",
      "See the caveats in the documentation: https://pandas.pydata.org/pandas-docs/stable/user_guide/indexing.html#returning-a-view-versus-a-copy\n",
      "  return super().fillna(\n"
     ]
    }
   ],
   "source": [
    "liga[10:].fillna(-998,inplace=True)"
   ]
  },
  {
   "cell_type": "code",
   "execution_count": 16,
   "metadata": {
    "ExecuteTime": {
     "end_time": "2021-04-15T18:27:42.331331Z",
     "start_time": "2021-04-15T18:27:42.319332Z"
    }
   },
   "outputs": [
    {
     "data": {
      "text/plain": [
       "Div           0\n",
       "Date          0\n",
       "HomeTeam      0\n",
       "AwayTeam      0\n",
       "FTHG         10\n",
       "FTAG         10\n",
       "FTR          10\n",
       "HTHG         10\n",
       "HTAG         10\n",
       "HTR          10\n",
       "HS           10\n",
       "AS           10\n",
       "HST          10\n",
       "AST          10\n",
       "HF           10\n",
       "AF           10\n",
       "HC           10\n",
       "AC           10\n",
       "HY           10\n",
       "AY           10\n",
       "HR           10\n",
       "AR           10\n",
       "B365H        10\n",
       "B365D        10\n",
       "B365A        10\n",
       "BWH          10\n",
       "BWD          10\n",
       "BWA          10\n",
       "IWH          10\n",
       "IWD          10\n",
       "IWA          10\n",
       "WHH          10\n",
       "WHD          10\n",
       "WHA          10\n",
       "VCH          10\n",
       "VCD          10\n",
       "VCA          10\n",
       "Date1         0\n",
       "Temporada     0\n",
       "dtype: int64"
      ]
     },
     "execution_count": 16,
     "metadata": {},
     "output_type": "execute_result"
    }
   ],
   "source": [
    "liga.isnull().sum()"
   ]
  },
  {
   "cell_type": "markdown",
   "metadata": {},
   "source": [
    "## Encoding de los equipos"
   ]
  },
  {
   "cell_type": "code",
   "execution_count": 17,
   "metadata": {
    "ExecuteTime": {
     "end_time": "2021-04-15T18:27:50.230821Z",
     "start_time": "2021-04-15T18:27:50.222822Z"
    }
   },
   "outputs": [],
   "source": [
    "equipos_home=pd.read_csv(path_last+'/SP1-encoders/SP1_equipos_encoding.csv')\n",
    "equipos_home.set_index('index',inplace=True)"
   ]
  },
  {
   "cell_type": "code",
   "execution_count": 18,
   "metadata": {
    "ExecuteTime": {
     "end_time": "2021-04-15T18:27:50.985562Z",
     "start_time": "2021-04-15T18:27:50.972559Z"
    }
   },
   "outputs": [
    {
     "data": {
      "text/html": [
       "<div>\n",
       "<style scoped>\n",
       "    .dataframe tbody tr th:only-of-type {\n",
       "        vertical-align: middle;\n",
       "    }\n",
       "\n",
       "    .dataframe tbody tr th {\n",
       "        vertical-align: top;\n",
       "    }\n",
       "\n",
       "    .dataframe thead th {\n",
       "        text-align: right;\n",
       "    }\n",
       "</style>\n",
       "<table border=\"1\" class=\"dataframe\">\n",
       "  <thead>\n",
       "    <tr style=\"text-align: right;\">\n",
       "      <th></th>\n",
       "      <th>Id</th>\n",
       "    </tr>\n",
       "    <tr>\n",
       "      <th>index</th>\n",
       "      <th></th>\n",
       "    </tr>\n",
       "  </thead>\n",
       "  <tbody>\n",
       "    <tr>\n",
       "      <th>Ath Madrid</th>\n",
       "      <td>0</td>\n",
       "    </tr>\n",
       "    <tr>\n",
       "      <th>Sevilla</th>\n",
       "      <td>1</td>\n",
       "    </tr>\n",
       "    <tr>\n",
       "      <th>Barcelona</th>\n",
       "      <td>2</td>\n",
       "    </tr>\n",
       "    <tr>\n",
       "      <th>Real Madrid</th>\n",
       "      <td>3</td>\n",
       "    </tr>\n",
       "    <tr>\n",
       "      <th>Valencia</th>\n",
       "      <td>4</td>\n",
       "    </tr>\n",
       "    <tr>\n",
       "      <th>Ath Bilbao</th>\n",
       "      <td>5</td>\n",
       "    </tr>\n",
       "    <tr>\n",
       "      <th>Espanol</th>\n",
       "      <td>6</td>\n",
       "    </tr>\n",
       "    <tr>\n",
       "      <th>Getafe</th>\n",
       "      <td>7</td>\n",
       "    </tr>\n",
       "    <tr>\n",
       "      <th>Villarreal</th>\n",
       "      <td>8</td>\n",
       "    </tr>\n",
       "    <tr>\n",
       "      <th>Sociedad</th>\n",
       "      <td>10</td>\n",
       "    </tr>\n",
       "    <tr>\n",
       "      <th>Osasuna</th>\n",
       "      <td>9</td>\n",
       "    </tr>\n",
       "    <tr>\n",
       "      <th>Betis</th>\n",
       "      <td>11</td>\n",
       "    </tr>\n",
       "    <tr>\n",
       "      <th>La Coruna</th>\n",
       "      <td>12</td>\n",
       "    </tr>\n",
       "    <tr>\n",
       "      <th>Malaga</th>\n",
       "      <td>13</td>\n",
       "    </tr>\n",
       "    <tr>\n",
       "      <th>Levante</th>\n",
       "      <td>14</td>\n",
       "    </tr>\n",
       "    <tr>\n",
       "      <th>Celta</th>\n",
       "      <td>15</td>\n",
       "    </tr>\n",
       "    <tr>\n",
       "      <th>Mallorca</th>\n",
       "      <td>16</td>\n",
       "    </tr>\n",
       "    <tr>\n",
       "      <th>Granada</th>\n",
       "      <td>17</td>\n",
       "    </tr>\n",
       "    <tr>\n",
       "      <th>Santander</th>\n",
       "      <td>18</td>\n",
       "    </tr>\n",
       "    <tr>\n",
       "      <th>Zaragoza</th>\n",
       "      <td>19</td>\n",
       "    </tr>\n",
       "    <tr>\n",
       "      <th>Valladolid</th>\n",
       "      <td>20</td>\n",
       "    </tr>\n",
       "    <tr>\n",
       "      <th>Almeria</th>\n",
       "      <td>21</td>\n",
       "    </tr>\n",
       "    <tr>\n",
       "      <th>Sp Gijon</th>\n",
       "      <td>22</td>\n",
       "    </tr>\n",
       "    <tr>\n",
       "      <th>Eibar</th>\n",
       "      <td>23</td>\n",
       "    </tr>\n",
       "    <tr>\n",
       "      <th>Vallecano</th>\n",
       "      <td>24</td>\n",
       "    </tr>\n",
       "    <tr>\n",
       "      <th>Alaves</th>\n",
       "      <td>25</td>\n",
       "    </tr>\n",
       "    <tr>\n",
       "      <th>Las Palmas</th>\n",
       "      <td>26</td>\n",
       "    </tr>\n",
       "    <tr>\n",
       "      <th>Recreativo</th>\n",
       "      <td>27</td>\n",
       "    </tr>\n",
       "    <tr>\n",
       "      <th>Leganes</th>\n",
       "      <td>28</td>\n",
       "    </tr>\n",
       "    <tr>\n",
       "      <th>Elche</th>\n",
       "      <td>29</td>\n",
       "    </tr>\n",
       "    <tr>\n",
       "      <th>Cadiz</th>\n",
       "      <td>30</td>\n",
       "    </tr>\n",
       "    <tr>\n",
       "      <th>Gimnastic</th>\n",
       "      <td>31</td>\n",
       "    </tr>\n",
       "    <tr>\n",
       "      <th>Numancia</th>\n",
       "      <td>32</td>\n",
       "    </tr>\n",
       "    <tr>\n",
       "      <th>Hercules</th>\n",
       "      <td>33</td>\n",
       "    </tr>\n",
       "    <tr>\n",
       "      <th>Cordoba</th>\n",
       "      <td>34</td>\n",
       "    </tr>\n",
       "    <tr>\n",
       "      <th>Girona</th>\n",
       "      <td>35</td>\n",
       "    </tr>\n",
       "    <tr>\n",
       "      <th>Murcia</th>\n",
       "      <td>36</td>\n",
       "    </tr>\n",
       "    <tr>\n",
       "      <th>Tenerife</th>\n",
       "      <td>37</td>\n",
       "    </tr>\n",
       "    <tr>\n",
       "      <th>Xerez</th>\n",
       "      <td>38</td>\n",
       "    </tr>\n",
       "    <tr>\n",
       "      <th>Huesca</th>\n",
       "      <td>39</td>\n",
       "    </tr>\n",
       "  </tbody>\n",
       "</table>\n",
       "</div>"
      ],
      "text/plain": [
       "             Id\n",
       "index          \n",
       "Ath Madrid    0\n",
       "Sevilla       1\n",
       "Barcelona     2\n",
       "Real Madrid   3\n",
       "Valencia      4\n",
       "Ath Bilbao    5\n",
       "Espanol       6\n",
       "Getafe        7\n",
       "Villarreal    8\n",
       "Sociedad     10\n",
       "Osasuna       9\n",
       "Betis        11\n",
       "La Coruna    12\n",
       "Malaga       13\n",
       "Levante      14\n",
       "Celta        15\n",
       "Mallorca     16\n",
       "Granada      17\n",
       "Santander    18\n",
       "Zaragoza     19\n",
       "Valladolid   20\n",
       "Almeria      21\n",
       "Sp Gijon     22\n",
       "Eibar        23\n",
       "Vallecano    24\n",
       "Alaves       25\n",
       "Las Palmas   26\n",
       "Recreativo   27\n",
       "Leganes      28\n",
       "Elche        29\n",
       "Cadiz        30\n",
       "Gimnastic    31\n",
       "Numancia     32\n",
       "Hercules     33\n",
       "Cordoba      34\n",
       "Girona       35\n",
       "Murcia       36\n",
       "Tenerife     37\n",
       "Xerez        38\n",
       "Huesca       39"
      ]
     },
     "execution_count": 18,
     "metadata": {},
     "output_type": "execute_result"
    }
   ],
   "source": [
    "equipos_home"
   ]
  },
  {
   "cell_type": "code",
   "execution_count": 19,
   "metadata": {
    "ExecuteTime": {
     "end_time": "2021-04-15T18:27:56.537792Z",
     "start_time": "2021-04-15T18:27:56.527792Z"
    }
   },
   "outputs": [],
   "source": [
    "liga['HomeTeamCode']=liga['HomeTeam'].map(equipos_home['Id'])\n",
    "liga['AwayTeamCode']=liga['AwayTeam'].map(equipos_home['Id'])"
   ]
  },
  {
   "cell_type": "code",
   "execution_count": 20,
   "metadata": {
    "ExecuteTime": {
     "end_time": "2021-04-15T18:27:57.735166Z",
     "start_time": "2021-04-15T18:27:57.726166Z"
    }
   },
   "outputs": [
    {
     "data": {
      "text/plain": [
       "0"
      ]
     },
     "execution_count": 20,
     "metadata": {},
     "output_type": "execute_result"
    }
   ],
   "source": [
    "liga['HomeTeamCode'].isnull().sum()"
   ]
  },
  {
   "cell_type": "code",
   "execution_count": 21,
   "metadata": {
    "ExecuteTime": {
     "end_time": "2021-04-15T18:27:58.518216Z",
     "start_time": "2021-04-15T18:27:58.515215Z"
    }
   },
   "outputs": [],
   "source": [
    "#liga[liga.isnull().any(axis=1)]"
   ]
  },
  {
   "cell_type": "code",
   "execution_count": 22,
   "metadata": {
    "ExecuteTime": {
     "end_time": "2021-04-15T18:27:59.098378Z",
     "start_time": "2021-04-15T18:27:59.091377Z"
    }
   },
   "outputs": [
    {
     "data": {
      "text/plain": [
       "0"
      ]
     },
     "execution_count": 22,
     "metadata": {},
     "output_type": "execute_result"
    }
   ],
   "source": [
    "liga['AwayTeamCode'].isnull().sum()"
   ]
  },
  {
   "cell_type": "markdown",
   "metadata": {},
   "source": [
    "## Encoding de los resultados"
   ]
  },
  {
   "cell_type": "code",
   "execution_count": 23,
   "metadata": {
    "ExecuteTime": {
     "end_time": "2021-04-15T18:28:02.240405Z",
     "start_time": "2021-04-15T18:28:02.212402Z"
    }
   },
   "outputs": [],
   "source": [
    "liga.loc[ liga['FTR']=='H', 'ResultadoFT' ]=1\n",
    "liga.loc[ liga['FTR']=='D', 'ResultadoFT' ]=2\n",
    "liga.loc[ liga['FTR']=='A', 'ResultadoFT' ]=3\n",
    "\n",
    "liga.loc[ liga['HTR']=='H', 'ResultadoHT' ]=1\n",
    "liga.loc[ liga['HTR']=='D', 'ResultadoHT' ]=2\n",
    "liga.loc[ liga['HTR']=='A', 'ResultadoHT' ]=3"
   ]
  },
  {
   "cell_type": "markdown",
   "metadata": {},
   "source": [
    "## Encoding de las fechas"
   ]
  },
  {
   "cell_type": "code",
   "execution_count": 24,
   "metadata": {
    "ExecuteTime": {
     "end_time": "2021-04-15T18:28:04.818859Z",
     "start_time": "2021-04-15T18:28:04.805860Z"
    }
   },
   "outputs": [],
   "source": [
    "liga['Day']=liga['Date1'].dt.day\n",
    "liga['Month']=liga['Date1'].dt.month\n",
    "liga['Year']=liga['Date1'].dt.year\n",
    "liga['DayWeek']=liga['Date1'].dt.day_name()"
   ]
  },
  {
   "cell_type": "code",
   "execution_count": 25,
   "metadata": {
    "ExecuteTime": {
     "end_time": "2021-04-15T18:28:05.568828Z",
     "start_time": "2021-04-15T18:28:05.555831Z"
    }
   },
   "outputs": [],
   "source": [
    "mapeo_DayWeek=liga['DayWeek'].value_counts().reset_index(drop=False).reset_index().set_index('index')\n",
    "mapeo_DayWeek=mapeo_DayWeek[['level_0']]\n",
    "mapeo_DayWeek.columns=['id']"
   ]
  },
  {
   "cell_type": "code",
   "execution_count": 26,
   "metadata": {
    "ExecuteTime": {
     "end_time": "2021-04-15T18:28:06.742361Z",
     "start_time": "2021-04-15T18:28:06.738364Z"
    }
   },
   "outputs": [],
   "source": [
    "#mapeo_DayWeek.to_csv(path_last+'/SP1-encoders/SP1_dayweek_encoding.csv')"
   ]
  },
  {
   "cell_type": "code",
   "execution_count": 27,
   "metadata": {
    "ExecuteTime": {
     "end_time": "2021-04-15T18:28:07.370714Z",
     "start_time": "2021-04-15T18:28:07.364713Z"
    }
   },
   "outputs": [],
   "source": [
    "liga['DayWeek_Code']=liga['DayWeek'].map(mapeo_DayWeek['id'])"
   ]
  },
  {
   "cell_type": "markdown",
   "metadata": {},
   "source": [
    "## Encoding de Temporada"
   ]
  },
  {
   "cell_type": "code",
   "execution_count": 28,
   "metadata": {
    "ExecuteTime": {
     "end_time": "2021-04-15T18:28:10.589409Z",
     "start_time": "2021-04-15T18:28:10.574408Z"
    }
   },
   "outputs": [],
   "source": [
    "mapeo_temporada=liga['Temporada'].value_counts().to_frame().reset_index()\n",
    "mapeo_temporada.columns=['Temporada','Count']\n",
    "mapeo_temporada=mapeo_temporada.sort_values(by=['Temporada'],ignore_index=True).reset_index()\n",
    "mapeo_temporada.set_index('Temporada',inplace=True)\n",
    "mapeo_temporada=mapeo_temporada[['index']]"
   ]
  },
  {
   "cell_type": "code",
   "execution_count": 29,
   "metadata": {
    "ExecuteTime": {
     "end_time": "2021-04-15T18:28:11.065464Z",
     "start_time": "2021-04-15T18:28:11.062463Z"
    }
   },
   "outputs": [],
   "source": [
    "#mapeo_temporada.to_csv(path_last+'/SP1-encoders/SP1_temporada_encoding.csv')"
   ]
  },
  {
   "cell_type": "code",
   "execution_count": 30,
   "metadata": {
    "ExecuteTime": {
     "end_time": "2021-04-15T18:28:11.519832Z",
     "start_time": "2021-04-15T18:28:11.510834Z"
    }
   },
   "outputs": [
    {
     "data": {
      "text/html": [
       "<div>\n",
       "<style scoped>\n",
       "    .dataframe tbody tr th:only-of-type {\n",
       "        vertical-align: middle;\n",
       "    }\n",
       "\n",
       "    .dataframe tbody tr th {\n",
       "        vertical-align: top;\n",
       "    }\n",
       "\n",
       "    .dataframe thead th {\n",
       "        text-align: right;\n",
       "    }\n",
       "</style>\n",
       "<table border=\"1\" class=\"dataframe\">\n",
       "  <thead>\n",
       "    <tr style=\"text-align: right;\">\n",
       "      <th></th>\n",
       "      <th>index</th>\n",
       "    </tr>\n",
       "    <tr>\n",
       "      <th>Temporada</th>\n",
       "      <th></th>\n",
       "    </tr>\n",
       "  </thead>\n",
       "  <tbody>\n",
       "    <tr>\n",
       "      <th>2005-2006</th>\n",
       "      <td>0</td>\n",
       "    </tr>\n",
       "    <tr>\n",
       "      <th>2006-2007</th>\n",
       "      <td>1</td>\n",
       "    </tr>\n",
       "    <tr>\n",
       "      <th>2007-2008</th>\n",
       "      <td>2</td>\n",
       "    </tr>\n",
       "    <tr>\n",
       "      <th>2008-2009</th>\n",
       "      <td>3</td>\n",
       "    </tr>\n",
       "    <tr>\n",
       "      <th>2009-2010</th>\n",
       "      <td>4</td>\n",
       "    </tr>\n",
       "    <tr>\n",
       "      <th>2010-2011</th>\n",
       "      <td>5</td>\n",
       "    </tr>\n",
       "    <tr>\n",
       "      <th>2011-2012</th>\n",
       "      <td>6</td>\n",
       "    </tr>\n",
       "    <tr>\n",
       "      <th>2012-2013</th>\n",
       "      <td>7</td>\n",
       "    </tr>\n",
       "    <tr>\n",
       "      <th>2013-2014</th>\n",
       "      <td>8</td>\n",
       "    </tr>\n",
       "    <tr>\n",
       "      <th>2014-2015</th>\n",
       "      <td>9</td>\n",
       "    </tr>\n",
       "    <tr>\n",
       "      <th>2015-2016</th>\n",
       "      <td>10</td>\n",
       "    </tr>\n",
       "    <tr>\n",
       "      <th>2016-2017</th>\n",
       "      <td>11</td>\n",
       "    </tr>\n",
       "    <tr>\n",
       "      <th>2017-2018</th>\n",
       "      <td>12</td>\n",
       "    </tr>\n",
       "    <tr>\n",
       "      <th>2018-2019</th>\n",
       "      <td>13</td>\n",
       "    </tr>\n",
       "    <tr>\n",
       "      <th>2019-2020</th>\n",
       "      <td>14</td>\n",
       "    </tr>\n",
       "    <tr>\n",
       "      <th>2020-2021</th>\n",
       "      <td>15</td>\n",
       "    </tr>\n",
       "  </tbody>\n",
       "</table>\n",
       "</div>"
      ],
      "text/plain": [
       "           index\n",
       "Temporada       \n",
       "2005-2006      0\n",
       "2006-2007      1\n",
       "2007-2008      2\n",
       "2008-2009      3\n",
       "2009-2010      4\n",
       "2010-2011      5\n",
       "2011-2012      6\n",
       "2012-2013      7\n",
       "2013-2014      8\n",
       "2014-2015      9\n",
       "2015-2016     10\n",
       "2016-2017     11\n",
       "2017-2018     12\n",
       "2018-2019     13\n",
       "2019-2020     14\n",
       "2020-2021     15"
      ]
     },
     "execution_count": 30,
     "metadata": {},
     "output_type": "execute_result"
    }
   ],
   "source": [
    "mapeo_temporada"
   ]
  },
  {
   "cell_type": "code",
   "execution_count": 31,
   "metadata": {
    "ExecuteTime": {
     "end_time": "2021-04-15T18:28:14.251165Z",
     "start_time": "2021-04-15T18:28:14.245165Z"
    }
   },
   "outputs": [],
   "source": [
    "liga['Temporada_Code']=liga['Temporada'].map(mapeo_temporada['index'])"
   ]
  },
  {
   "cell_type": "code",
   "execution_count": 32,
   "metadata": {
    "ExecuteTime": {
     "end_time": "2021-04-15T18:28:14.765285Z",
     "start_time": "2021-04-15T18:28:14.760283Z"
    }
   },
   "outputs": [],
   "source": [
    "#liga.to_csv(path_last+'\\SP1-J'+str(jornada)+'\\SP1_Modelo5_J'+str(jornada)+'.csv')"
   ]
  },
  {
   "cell_type": "code",
   "execution_count": 33,
   "metadata": {
    "ExecuteTime": {
     "end_time": "2021-04-15T18:28:15.265155Z",
     "start_time": "2021-04-15T18:28:15.217153Z"
    }
   },
   "outputs": [
    {
     "data": {
      "text/html": [
       "<div>\n",
       "<style scoped>\n",
       "    .dataframe tbody tr th:only-of-type {\n",
       "        vertical-align: middle;\n",
       "    }\n",
       "\n",
       "    .dataframe tbody tr th {\n",
       "        vertical-align: top;\n",
       "    }\n",
       "\n",
       "    .dataframe thead th {\n",
       "        text-align: right;\n",
       "    }\n",
       "</style>\n",
       "<table border=\"1\" class=\"dataframe\">\n",
       "  <thead>\n",
       "    <tr style=\"text-align: right;\">\n",
       "      <th></th>\n",
       "      <th>Div</th>\n",
       "      <th>Date</th>\n",
       "      <th>HomeTeam</th>\n",
       "      <th>AwayTeam</th>\n",
       "      <th>FTHG</th>\n",
       "      <th>FTAG</th>\n",
       "      <th>FTR</th>\n",
       "      <th>HTHG</th>\n",
       "      <th>HTAG</th>\n",
       "      <th>HTR</th>\n",
       "      <th>...</th>\n",
       "      <th>HomeTeamCode</th>\n",
       "      <th>AwayTeamCode</th>\n",
       "      <th>ResultadoFT</th>\n",
       "      <th>ResultadoHT</th>\n",
       "      <th>Day</th>\n",
       "      <th>Month</th>\n",
       "      <th>Year</th>\n",
       "      <th>DayWeek</th>\n",
       "      <th>DayWeek_Code</th>\n",
       "      <th>Temporada_Code</th>\n",
       "    </tr>\n",
       "  </thead>\n",
       "  <tbody>\n",
       "    <tr>\n",
       "      <th>10</th>\n",
       "      <td>SP1</td>\n",
       "      <td>12/04/2021</td>\n",
       "      <td>Celta</td>\n",
       "      <td>Sevilla</td>\n",
       "      <td>3.0</td>\n",
       "      <td>4.0</td>\n",
       "      <td>A</td>\n",
       "      <td>3.0</td>\n",
       "      <td>2.0</td>\n",
       "      <td>H</td>\n",
       "      <td>...</td>\n",
       "      <td>15</td>\n",
       "      <td>1</td>\n",
       "      <td>3.0</td>\n",
       "      <td>1.0</td>\n",
       "      <td>12</td>\n",
       "      <td>4</td>\n",
       "      <td>2021</td>\n",
       "      <td>Monday</td>\n",
       "      <td>3</td>\n",
       "      <td>15</td>\n",
       "    </tr>\n",
       "    <tr>\n",
       "      <th>11</th>\n",
       "      <td>SP1</td>\n",
       "      <td>11/04/2021</td>\n",
       "      <td>Betis</td>\n",
       "      <td>Ath Madrid</td>\n",
       "      <td>1.0</td>\n",
       "      <td>1.0</td>\n",
       "      <td>D</td>\n",
       "      <td>1.0</td>\n",
       "      <td>1.0</td>\n",
       "      <td>D</td>\n",
       "      <td>...</td>\n",
       "      <td>11</td>\n",
       "      <td>0</td>\n",
       "      <td>2.0</td>\n",
       "      <td>2.0</td>\n",
       "      <td>11</td>\n",
       "      <td>4</td>\n",
       "      <td>2021</td>\n",
       "      <td>Sunday</td>\n",
       "      <td>0</td>\n",
       "      <td>15</td>\n",
       "    </tr>\n",
       "    <tr>\n",
       "      <th>12</th>\n",
       "      <td>SP1</td>\n",
       "      <td>11/04/2021</td>\n",
       "      <td>Valladolid</td>\n",
       "      <td>Granada</td>\n",
       "      <td>1.0</td>\n",
       "      <td>2.0</td>\n",
       "      <td>A</td>\n",
       "      <td>1.0</td>\n",
       "      <td>0.0</td>\n",
       "      <td>H</td>\n",
       "      <td>...</td>\n",
       "      <td>20</td>\n",
       "      <td>17</td>\n",
       "      <td>3.0</td>\n",
       "      <td>1.0</td>\n",
       "      <td>11</td>\n",
       "      <td>4</td>\n",
       "      <td>2021</td>\n",
       "      <td>Sunday</td>\n",
       "      <td>0</td>\n",
       "      <td>15</td>\n",
       "    </tr>\n",
       "    <tr>\n",
       "      <th>13</th>\n",
       "      <td>SP1</td>\n",
       "      <td>11/04/2021</td>\n",
       "      <td>Valencia</td>\n",
       "      <td>Sociedad</td>\n",
       "      <td>2.0</td>\n",
       "      <td>2.0</td>\n",
       "      <td>D</td>\n",
       "      <td>0.0</td>\n",
       "      <td>2.0</td>\n",
       "      <td>A</td>\n",
       "      <td>...</td>\n",
       "      <td>4</td>\n",
       "      <td>10</td>\n",
       "      <td>2.0</td>\n",
       "      <td>3.0</td>\n",
       "      <td>11</td>\n",
       "      <td>4</td>\n",
       "      <td>2021</td>\n",
       "      <td>Sunday</td>\n",
       "      <td>0</td>\n",
       "      <td>15</td>\n",
       "    </tr>\n",
       "    <tr>\n",
       "      <th>14</th>\n",
       "      <td>SP1</td>\n",
       "      <td>11/04/2021</td>\n",
       "      <td>Villarreal</td>\n",
       "      <td>Osasuna</td>\n",
       "      <td>1.0</td>\n",
       "      <td>2.0</td>\n",
       "      <td>A</td>\n",
       "      <td>0.0</td>\n",
       "      <td>0.0</td>\n",
       "      <td>D</td>\n",
       "      <td>...</td>\n",
       "      <td>8</td>\n",
       "      <td>9</td>\n",
       "      <td>3.0</td>\n",
       "      <td>2.0</td>\n",
       "      <td>11</td>\n",
       "      <td>4</td>\n",
       "      <td>2021</td>\n",
       "      <td>Sunday</td>\n",
       "      <td>0</td>\n",
       "      <td>15</td>\n",
       "    </tr>\n",
       "    <tr>\n",
       "      <th>...</th>\n",
       "      <td>...</td>\n",
       "      <td>...</td>\n",
       "      <td>...</td>\n",
       "      <td>...</td>\n",
       "      <td>...</td>\n",
       "      <td>...</td>\n",
       "      <td>...</td>\n",
       "      <td>...</td>\n",
       "      <td>...</td>\n",
       "      <td>...</td>\n",
       "      <td>...</td>\n",
       "      <td>...</td>\n",
       "      <td>...</td>\n",
       "      <td>...</td>\n",
       "      <td>...</td>\n",
       "      <td>...</td>\n",
       "      <td>...</td>\n",
       "      <td>...</td>\n",
       "      <td>...</td>\n",
       "      <td>...</td>\n",
       "      <td>...</td>\n",
       "    </tr>\n",
       "    <tr>\n",
       "      <th>6005</th>\n",
       "      <td>SP1</td>\n",
       "      <td>28/08/05</td>\n",
       "      <td>Osasuna</td>\n",
       "      <td>Villarreal</td>\n",
       "      <td>2.0</td>\n",
       "      <td>1.0</td>\n",
       "      <td>H</td>\n",
       "      <td>1.0</td>\n",
       "      <td>0.0</td>\n",
       "      <td>H</td>\n",
       "      <td>...</td>\n",
       "      <td>9</td>\n",
       "      <td>8</td>\n",
       "      <td>1.0</td>\n",
       "      <td>1.0</td>\n",
       "      <td>28</td>\n",
       "      <td>8</td>\n",
       "      <td>2005</td>\n",
       "      <td>Sunday</td>\n",
       "      <td>0</td>\n",
       "      <td>0</td>\n",
       "    </tr>\n",
       "    <tr>\n",
       "      <th>6006</th>\n",
       "      <td>SP1</td>\n",
       "      <td>28/08/05</td>\n",
       "      <td>Sevilla</td>\n",
       "      <td>Santander</td>\n",
       "      <td>1.0</td>\n",
       "      <td>0.0</td>\n",
       "      <td>H</td>\n",
       "      <td>1.0</td>\n",
       "      <td>0.0</td>\n",
       "      <td>H</td>\n",
       "      <td>...</td>\n",
       "      <td>1</td>\n",
       "      <td>18</td>\n",
       "      <td>1.0</td>\n",
       "      <td>1.0</td>\n",
       "      <td>28</td>\n",
       "      <td>8</td>\n",
       "      <td>2005</td>\n",
       "      <td>Sunday</td>\n",
       "      <td>0</td>\n",
       "      <td>0</td>\n",
       "    </tr>\n",
       "    <tr>\n",
       "      <th>6007</th>\n",
       "      <td>SP1</td>\n",
       "      <td>27/08/05</td>\n",
       "      <td>Valencia</td>\n",
       "      <td>Betis</td>\n",
       "      <td>1.0</td>\n",
       "      <td>0.0</td>\n",
       "      <td>H</td>\n",
       "      <td>0.0</td>\n",
       "      <td>0.0</td>\n",
       "      <td>D</td>\n",
       "      <td>...</td>\n",
       "      <td>4</td>\n",
       "      <td>11</td>\n",
       "      <td>1.0</td>\n",
       "      <td>2.0</td>\n",
       "      <td>27</td>\n",
       "      <td>8</td>\n",
       "      <td>2005</td>\n",
       "      <td>Saturday</td>\n",
       "      <td>1</td>\n",
       "      <td>0</td>\n",
       "    </tr>\n",
       "    <tr>\n",
       "      <th>6008</th>\n",
       "      <td>SP1</td>\n",
       "      <td>27/08/05</td>\n",
       "      <td>Ath Bilbao</td>\n",
       "      <td>Sociedad</td>\n",
       "      <td>3.0</td>\n",
       "      <td>0.0</td>\n",
       "      <td>H</td>\n",
       "      <td>0.0</td>\n",
       "      <td>0.0</td>\n",
       "      <td>D</td>\n",
       "      <td>...</td>\n",
       "      <td>5</td>\n",
       "      <td>10</td>\n",
       "      <td>1.0</td>\n",
       "      <td>2.0</td>\n",
       "      <td>27</td>\n",
       "      <td>8</td>\n",
       "      <td>2005</td>\n",
       "      <td>Saturday</td>\n",
       "      <td>1</td>\n",
       "      <td>0</td>\n",
       "    </tr>\n",
       "    <tr>\n",
       "      <th>6009</th>\n",
       "      <td>SP1</td>\n",
       "      <td>27/08/05</td>\n",
       "      <td>Alaves</td>\n",
       "      <td>Barcelona</td>\n",
       "      <td>0.0</td>\n",
       "      <td>0.0</td>\n",
       "      <td>D</td>\n",
       "      <td>0.0</td>\n",
       "      <td>0.0</td>\n",
       "      <td>D</td>\n",
       "      <td>...</td>\n",
       "      <td>25</td>\n",
       "      <td>2</td>\n",
       "      <td>2.0</td>\n",
       "      <td>2.0</td>\n",
       "      <td>27</td>\n",
       "      <td>8</td>\n",
       "      <td>2005</td>\n",
       "      <td>Saturday</td>\n",
       "      <td>1</td>\n",
       "      <td>0</td>\n",
       "    </tr>\n",
       "  </tbody>\n",
       "</table>\n",
       "<p>6000 rows × 49 columns</p>\n",
       "</div>"
      ],
      "text/plain": [
       "      Div        Date    HomeTeam    AwayTeam  FTHG  FTAG FTR  HTHG  HTAG HTR  \\\n",
       "10    SP1  12/04/2021       Celta     Sevilla   3.0   4.0   A   3.0   2.0   H   \n",
       "11    SP1  11/04/2021       Betis  Ath Madrid   1.0   1.0   D   1.0   1.0   D   \n",
       "12    SP1  11/04/2021  Valladolid     Granada   1.0   2.0   A   1.0   0.0   H   \n",
       "13    SP1  11/04/2021    Valencia    Sociedad   2.0   2.0   D   0.0   2.0   A   \n",
       "14    SP1  11/04/2021  Villarreal     Osasuna   1.0   2.0   A   0.0   0.0   D   \n",
       "...   ...         ...         ...         ...   ...   ...  ..   ...   ...  ..   \n",
       "6005  SP1    28/08/05     Osasuna  Villarreal   2.0   1.0   H   1.0   0.0   H   \n",
       "6006  SP1    28/08/05     Sevilla   Santander   1.0   0.0   H   1.0   0.0   H   \n",
       "6007  SP1    27/08/05    Valencia       Betis   1.0   0.0   H   0.0   0.0   D   \n",
       "6008  SP1    27/08/05  Ath Bilbao    Sociedad   3.0   0.0   H   0.0   0.0   D   \n",
       "6009  SP1    27/08/05      Alaves   Barcelona   0.0   0.0   D   0.0   0.0   D   \n",
       "\n",
       "      ...  HomeTeamCode  AwayTeamCode  ResultadoFT  ResultadoHT  Day  Month  \\\n",
       "10    ...            15             1          3.0          1.0   12      4   \n",
       "11    ...            11             0          2.0          2.0   11      4   \n",
       "12    ...            20            17          3.0          1.0   11      4   \n",
       "13    ...             4            10          2.0          3.0   11      4   \n",
       "14    ...             8             9          3.0          2.0   11      4   \n",
       "...   ...           ...           ...          ...          ...  ...    ...   \n",
       "6005  ...             9             8          1.0          1.0   28      8   \n",
       "6006  ...             1            18          1.0          1.0   28      8   \n",
       "6007  ...             4            11          1.0          2.0   27      8   \n",
       "6008  ...             5            10          1.0          2.0   27      8   \n",
       "6009  ...            25             2          2.0          2.0   27      8   \n",
       "\n",
       "      Year   DayWeek  DayWeek_Code  Temporada_Code  \n",
       "10    2021    Monday             3              15  \n",
       "11    2021    Sunday             0              15  \n",
       "12    2021    Sunday             0              15  \n",
       "13    2021    Sunday             0              15  \n",
       "14    2021    Sunday             0              15  \n",
       "...    ...       ...           ...             ...  \n",
       "6005  2005    Sunday             0               0  \n",
       "6006  2005    Sunday             0               0  \n",
       "6007  2005  Saturday             1               0  \n",
       "6008  2005  Saturday             1               0  \n",
       "6009  2005  Saturday             1               0  \n",
       "\n",
       "[6000 rows x 49 columns]"
      ]
     },
     "execution_count": 33,
     "metadata": {},
     "output_type": "execute_result"
    }
   ],
   "source": [
    "liga[10:]"
   ]
  },
  {
   "cell_type": "markdown",
   "metadata": {},
   "source": [
    "## Variables Delta de goles"
   ]
  },
  {
   "cell_type": "code",
   "execution_count": 34,
   "metadata": {
    "ExecuteTime": {
     "end_time": "2021-04-15T18:28:19.936748Z",
     "start_time": "2021-04-15T18:28:19.914747Z"
    }
   },
   "outputs": [
    {
     "data": {
      "text/html": [
       "<div>\n",
       "<style scoped>\n",
       "    .dataframe tbody tr th:only-of-type {\n",
       "        vertical-align: middle;\n",
       "    }\n",
       "\n",
       "    .dataframe tbody tr th {\n",
       "        vertical-align: top;\n",
       "    }\n",
       "\n",
       "    .dataframe thead th {\n",
       "        text-align: right;\n",
       "    }\n",
       "</style>\n",
       "<table border=\"1\" class=\"dataframe\">\n",
       "  <thead>\n",
       "    <tr style=\"text-align: right;\">\n",
       "      <th></th>\n",
       "      <th>Div</th>\n",
       "      <th>Date</th>\n",
       "      <th>HomeTeam</th>\n",
       "      <th>AwayTeam</th>\n",
       "      <th>FTHG</th>\n",
       "      <th>FTAG</th>\n",
       "      <th>FTR</th>\n",
       "    </tr>\n",
       "  </thead>\n",
       "  <tbody>\n",
       "    <tr>\n",
       "      <th>10</th>\n",
       "      <td>SP1</td>\n",
       "      <td>12/04/2021</td>\n",
       "      <td>Celta</td>\n",
       "      <td>Sevilla</td>\n",
       "      <td>3.0</td>\n",
       "      <td>4.0</td>\n",
       "      <td>A</td>\n",
       "    </tr>\n",
       "    <tr>\n",
       "      <th>11</th>\n",
       "      <td>SP1</td>\n",
       "      <td>11/04/2021</td>\n",
       "      <td>Betis</td>\n",
       "      <td>Ath Madrid</td>\n",
       "      <td>1.0</td>\n",
       "      <td>1.0</td>\n",
       "      <td>D</td>\n",
       "    </tr>\n",
       "    <tr>\n",
       "      <th>12</th>\n",
       "      <td>SP1</td>\n",
       "      <td>11/04/2021</td>\n",
       "      <td>Valladolid</td>\n",
       "      <td>Granada</td>\n",
       "      <td>1.0</td>\n",
       "      <td>2.0</td>\n",
       "      <td>A</td>\n",
       "    </tr>\n",
       "    <tr>\n",
       "      <th>13</th>\n",
       "      <td>SP1</td>\n",
       "      <td>11/04/2021</td>\n",
       "      <td>Valencia</td>\n",
       "      <td>Sociedad</td>\n",
       "      <td>2.0</td>\n",
       "      <td>2.0</td>\n",
       "      <td>D</td>\n",
       "    </tr>\n",
       "    <tr>\n",
       "      <th>14</th>\n",
       "      <td>SP1</td>\n",
       "      <td>11/04/2021</td>\n",
       "      <td>Villarreal</td>\n",
       "      <td>Osasuna</td>\n",
       "      <td>1.0</td>\n",
       "      <td>2.0</td>\n",
       "      <td>A</td>\n",
       "    </tr>\n",
       "    <tr>\n",
       "      <th>...</th>\n",
       "      <td>...</td>\n",
       "      <td>...</td>\n",
       "      <td>...</td>\n",
       "      <td>...</td>\n",
       "      <td>...</td>\n",
       "      <td>...</td>\n",
       "      <td>...</td>\n",
       "    </tr>\n",
       "    <tr>\n",
       "      <th>6005</th>\n",
       "      <td>SP1</td>\n",
       "      <td>28/08/05</td>\n",
       "      <td>Osasuna</td>\n",
       "      <td>Villarreal</td>\n",
       "      <td>2.0</td>\n",
       "      <td>1.0</td>\n",
       "      <td>H</td>\n",
       "    </tr>\n",
       "    <tr>\n",
       "      <th>6006</th>\n",
       "      <td>SP1</td>\n",
       "      <td>28/08/05</td>\n",
       "      <td>Sevilla</td>\n",
       "      <td>Santander</td>\n",
       "      <td>1.0</td>\n",
       "      <td>0.0</td>\n",
       "      <td>H</td>\n",
       "    </tr>\n",
       "    <tr>\n",
       "      <th>6007</th>\n",
       "      <td>SP1</td>\n",
       "      <td>27/08/05</td>\n",
       "      <td>Valencia</td>\n",
       "      <td>Betis</td>\n",
       "      <td>1.0</td>\n",
       "      <td>0.0</td>\n",
       "      <td>H</td>\n",
       "    </tr>\n",
       "    <tr>\n",
       "      <th>6008</th>\n",
       "      <td>SP1</td>\n",
       "      <td>27/08/05</td>\n",
       "      <td>Ath Bilbao</td>\n",
       "      <td>Sociedad</td>\n",
       "      <td>3.0</td>\n",
       "      <td>0.0</td>\n",
       "      <td>H</td>\n",
       "    </tr>\n",
       "    <tr>\n",
       "      <th>6009</th>\n",
       "      <td>SP1</td>\n",
       "      <td>27/08/05</td>\n",
       "      <td>Alaves</td>\n",
       "      <td>Barcelona</td>\n",
       "      <td>0.0</td>\n",
       "      <td>0.0</td>\n",
       "      <td>D</td>\n",
       "    </tr>\n",
       "  </tbody>\n",
       "</table>\n",
       "<p>6000 rows × 7 columns</p>\n",
       "</div>"
      ],
      "text/plain": [
       "      Div        Date    HomeTeam    AwayTeam  FTHG  FTAG FTR\n",
       "10    SP1  12/04/2021       Celta     Sevilla   3.0   4.0   A\n",
       "11    SP1  11/04/2021       Betis  Ath Madrid   1.0   1.0   D\n",
       "12    SP1  11/04/2021  Valladolid     Granada   1.0   2.0   A\n",
       "13    SP1  11/04/2021    Valencia    Sociedad   2.0   2.0   D\n",
       "14    SP1  11/04/2021  Villarreal     Osasuna   1.0   2.0   A\n",
       "...   ...         ...         ...         ...   ...   ...  ..\n",
       "6005  SP1    28/08/05     Osasuna  Villarreal   2.0   1.0   H\n",
       "6006  SP1    28/08/05     Sevilla   Santander   1.0   0.0   H\n",
       "6007  SP1    27/08/05    Valencia       Betis   1.0   0.0   H\n",
       "6008  SP1    27/08/05  Ath Bilbao    Sociedad   3.0   0.0   H\n",
       "6009  SP1    27/08/05      Alaves   Barcelona   0.0   0.0   D\n",
       "\n",
       "[6000 rows x 7 columns]"
      ]
     },
     "execution_count": 34,
     "metadata": {},
     "output_type": "execute_result"
    }
   ],
   "source": [
    "liga[['Div','Date','HomeTeam','AwayTeam','FTHG','FTAG','FTR']][10:]"
   ]
  },
  {
   "cell_type": "code",
   "execution_count": 35,
   "metadata": {
    "ExecuteTime": {
     "end_time": "2021-04-15T18:28:24.683700Z",
     "start_time": "2021-04-15T18:28:24.651698Z"
    }
   },
   "outputs": [],
   "source": [
    "liga['deltaFTHG']=liga['FTHG']-liga['FTAG']\n",
    "liga['deltaFTAG']=liga['FTAG']-liga['FTHG']"
   ]
  },
  {
   "cell_type": "code",
   "execution_count": 36,
   "metadata": {
    "ExecuteTime": {
     "end_time": "2021-04-15T18:28:25.246659Z",
     "start_time": "2021-04-15T18:28:25.216659Z"
    }
   },
   "outputs": [
    {
     "data": {
      "text/html": [
       "<div>\n",
       "<style scoped>\n",
       "    .dataframe tbody tr th:only-of-type {\n",
       "        vertical-align: middle;\n",
       "    }\n",
       "\n",
       "    .dataframe tbody tr th {\n",
       "        vertical-align: top;\n",
       "    }\n",
       "\n",
       "    .dataframe thead th {\n",
       "        text-align: right;\n",
       "    }\n",
       "</style>\n",
       "<table border=\"1\" class=\"dataframe\">\n",
       "  <thead>\n",
       "    <tr style=\"text-align: right;\">\n",
       "      <th></th>\n",
       "      <th>Div</th>\n",
       "      <th>Date</th>\n",
       "      <th>HomeTeam</th>\n",
       "      <th>AwayTeam</th>\n",
       "      <th>FTHG</th>\n",
       "      <th>FTAG</th>\n",
       "      <th>FTR</th>\n",
       "      <th>deltaFTHG</th>\n",
       "      <th>deltaFTAG</th>\n",
       "    </tr>\n",
       "  </thead>\n",
       "  <tbody>\n",
       "    <tr>\n",
       "      <th>10</th>\n",
       "      <td>SP1</td>\n",
       "      <td>12/04/2021</td>\n",
       "      <td>Celta</td>\n",
       "      <td>Sevilla</td>\n",
       "      <td>3.0</td>\n",
       "      <td>4.0</td>\n",
       "      <td>A</td>\n",
       "      <td>-1.0</td>\n",
       "      <td>1.0</td>\n",
       "    </tr>\n",
       "    <tr>\n",
       "      <th>11</th>\n",
       "      <td>SP1</td>\n",
       "      <td>11/04/2021</td>\n",
       "      <td>Betis</td>\n",
       "      <td>Ath Madrid</td>\n",
       "      <td>1.0</td>\n",
       "      <td>1.0</td>\n",
       "      <td>D</td>\n",
       "      <td>0.0</td>\n",
       "      <td>0.0</td>\n",
       "    </tr>\n",
       "    <tr>\n",
       "      <th>12</th>\n",
       "      <td>SP1</td>\n",
       "      <td>11/04/2021</td>\n",
       "      <td>Valladolid</td>\n",
       "      <td>Granada</td>\n",
       "      <td>1.0</td>\n",
       "      <td>2.0</td>\n",
       "      <td>A</td>\n",
       "      <td>-1.0</td>\n",
       "      <td>1.0</td>\n",
       "    </tr>\n",
       "    <tr>\n",
       "      <th>13</th>\n",
       "      <td>SP1</td>\n",
       "      <td>11/04/2021</td>\n",
       "      <td>Valencia</td>\n",
       "      <td>Sociedad</td>\n",
       "      <td>2.0</td>\n",
       "      <td>2.0</td>\n",
       "      <td>D</td>\n",
       "      <td>0.0</td>\n",
       "      <td>0.0</td>\n",
       "    </tr>\n",
       "    <tr>\n",
       "      <th>14</th>\n",
       "      <td>SP1</td>\n",
       "      <td>11/04/2021</td>\n",
       "      <td>Villarreal</td>\n",
       "      <td>Osasuna</td>\n",
       "      <td>1.0</td>\n",
       "      <td>2.0</td>\n",
       "      <td>A</td>\n",
       "      <td>-1.0</td>\n",
       "      <td>1.0</td>\n",
       "    </tr>\n",
       "    <tr>\n",
       "      <th>...</th>\n",
       "      <td>...</td>\n",
       "      <td>...</td>\n",
       "      <td>...</td>\n",
       "      <td>...</td>\n",
       "      <td>...</td>\n",
       "      <td>...</td>\n",
       "      <td>...</td>\n",
       "      <td>...</td>\n",
       "      <td>...</td>\n",
       "    </tr>\n",
       "    <tr>\n",
       "      <th>6005</th>\n",
       "      <td>SP1</td>\n",
       "      <td>28/08/05</td>\n",
       "      <td>Osasuna</td>\n",
       "      <td>Villarreal</td>\n",
       "      <td>2.0</td>\n",
       "      <td>1.0</td>\n",
       "      <td>H</td>\n",
       "      <td>1.0</td>\n",
       "      <td>-1.0</td>\n",
       "    </tr>\n",
       "    <tr>\n",
       "      <th>6006</th>\n",
       "      <td>SP1</td>\n",
       "      <td>28/08/05</td>\n",
       "      <td>Sevilla</td>\n",
       "      <td>Santander</td>\n",
       "      <td>1.0</td>\n",
       "      <td>0.0</td>\n",
       "      <td>H</td>\n",
       "      <td>1.0</td>\n",
       "      <td>-1.0</td>\n",
       "    </tr>\n",
       "    <tr>\n",
       "      <th>6007</th>\n",
       "      <td>SP1</td>\n",
       "      <td>27/08/05</td>\n",
       "      <td>Valencia</td>\n",
       "      <td>Betis</td>\n",
       "      <td>1.0</td>\n",
       "      <td>0.0</td>\n",
       "      <td>H</td>\n",
       "      <td>1.0</td>\n",
       "      <td>-1.0</td>\n",
       "    </tr>\n",
       "    <tr>\n",
       "      <th>6008</th>\n",
       "      <td>SP1</td>\n",
       "      <td>27/08/05</td>\n",
       "      <td>Ath Bilbao</td>\n",
       "      <td>Sociedad</td>\n",
       "      <td>3.0</td>\n",
       "      <td>0.0</td>\n",
       "      <td>H</td>\n",
       "      <td>3.0</td>\n",
       "      <td>-3.0</td>\n",
       "    </tr>\n",
       "    <tr>\n",
       "      <th>6009</th>\n",
       "      <td>SP1</td>\n",
       "      <td>27/08/05</td>\n",
       "      <td>Alaves</td>\n",
       "      <td>Barcelona</td>\n",
       "      <td>0.0</td>\n",
       "      <td>0.0</td>\n",
       "      <td>D</td>\n",
       "      <td>0.0</td>\n",
       "      <td>0.0</td>\n",
       "    </tr>\n",
       "  </tbody>\n",
       "</table>\n",
       "<p>6000 rows × 9 columns</p>\n",
       "</div>"
      ],
      "text/plain": [
       "      Div        Date    HomeTeam    AwayTeam  FTHG  FTAG FTR  deltaFTHG  \\\n",
       "10    SP1  12/04/2021       Celta     Sevilla   3.0   4.0   A       -1.0   \n",
       "11    SP1  11/04/2021       Betis  Ath Madrid   1.0   1.0   D        0.0   \n",
       "12    SP1  11/04/2021  Valladolid     Granada   1.0   2.0   A       -1.0   \n",
       "13    SP1  11/04/2021    Valencia    Sociedad   2.0   2.0   D        0.0   \n",
       "14    SP1  11/04/2021  Villarreal     Osasuna   1.0   2.0   A       -1.0   \n",
       "...   ...         ...         ...         ...   ...   ...  ..        ...   \n",
       "6005  SP1    28/08/05     Osasuna  Villarreal   2.0   1.0   H        1.0   \n",
       "6006  SP1    28/08/05     Sevilla   Santander   1.0   0.0   H        1.0   \n",
       "6007  SP1    27/08/05    Valencia       Betis   1.0   0.0   H        1.0   \n",
       "6008  SP1    27/08/05  Ath Bilbao    Sociedad   3.0   0.0   H        3.0   \n",
       "6009  SP1    27/08/05      Alaves   Barcelona   0.0   0.0   D        0.0   \n",
       "\n",
       "      deltaFTAG  \n",
       "10          1.0  \n",
       "11          0.0  \n",
       "12          1.0  \n",
       "13          0.0  \n",
       "14          1.0  \n",
       "...         ...  \n",
       "6005       -1.0  \n",
       "6006       -1.0  \n",
       "6007       -1.0  \n",
       "6008       -3.0  \n",
       "6009        0.0  \n",
       "\n",
       "[6000 rows x 9 columns]"
      ]
     },
     "execution_count": 36,
     "metadata": {},
     "output_type": "execute_result"
    }
   ],
   "source": [
    "liga[['Div','Date','HomeTeam','AwayTeam','FTHG','FTAG','FTR','deltaFTHG','deltaFTAG']][10:]"
   ]
  },
  {
   "cell_type": "markdown",
   "metadata": {},
   "source": [
    "## Encoder de resultados"
   ]
  },
  {
   "cell_type": "code",
   "execution_count": 37,
   "metadata": {
    "ExecuteTime": {
     "end_time": "2021-04-15T18:28:28.140843Z",
     "start_time": "2021-04-15T18:28:28.135849Z"
    }
   },
   "outputs": [
    {
     "data": {
      "text/plain": [
       "Index(['Div', 'Date', 'HomeTeam', 'AwayTeam', 'FTHG', 'FTAG', 'FTR', 'HTHG',\n",
       "       'HTAG', 'HTR', 'HS', 'AS', 'HST', 'AST', 'HF', 'AF', 'HC', 'AC', 'HY',\n",
       "       'AY', 'HR', 'AR', 'B365H', 'B365D', 'B365A', 'BWH', 'BWD', 'BWA', 'IWH',\n",
       "       'IWD', 'IWA', 'WHH', 'WHD', 'WHA', 'VCH', 'VCD', 'VCA', 'Date1',\n",
       "       'Temporada', 'HomeTeamCode', 'AwayTeamCode', 'ResultadoFT',\n",
       "       'ResultadoHT', 'Day', 'Month', 'Year', 'DayWeek', 'DayWeek_Code',\n",
       "       'Temporada_Code', 'deltaFTHG', 'deltaFTAG'],\n",
       "      dtype='object')"
      ]
     },
     "execution_count": 37,
     "metadata": {},
     "output_type": "execute_result"
    }
   ],
   "source": [
    "liga.columns"
   ]
  },
  {
   "cell_type": "code",
   "execution_count": 38,
   "metadata": {
    "ExecuteTime": {
     "end_time": "2021-04-15T18:28:31.624841Z",
     "start_time": "2021-04-15T18:28:31.601847Z"
    }
   },
   "outputs": [
    {
     "data": {
      "text/html": [
       "<div>\n",
       "<style scoped>\n",
       "    .dataframe tbody tr th:only-of-type {\n",
       "        vertical-align: middle;\n",
       "    }\n",
       "\n",
       "    .dataframe tbody tr th {\n",
       "        vertical-align: top;\n",
       "    }\n",
       "\n",
       "    .dataframe thead th {\n",
       "        text-align: right;\n",
       "    }\n",
       "</style>\n",
       "<table border=\"1\" class=\"dataframe\">\n",
       "  <thead>\n",
       "    <tr style=\"text-align: right;\">\n",
       "      <th></th>\n",
       "      <th>Date</th>\n",
       "      <th>HomeTeam</th>\n",
       "      <th>AwayTeam</th>\n",
       "      <th>FTHG</th>\n",
       "      <th>FTAG</th>\n",
       "      <th>FTR</th>\n",
       "    </tr>\n",
       "  </thead>\n",
       "  <tbody>\n",
       "    <tr>\n",
       "      <th>10</th>\n",
       "      <td>12/04/2021</td>\n",
       "      <td>Celta</td>\n",
       "      <td>Sevilla</td>\n",
       "      <td>3.0</td>\n",
       "      <td>4.0</td>\n",
       "      <td>A</td>\n",
       "    </tr>\n",
       "    <tr>\n",
       "      <th>11</th>\n",
       "      <td>11/04/2021</td>\n",
       "      <td>Betis</td>\n",
       "      <td>Ath Madrid</td>\n",
       "      <td>1.0</td>\n",
       "      <td>1.0</td>\n",
       "      <td>D</td>\n",
       "    </tr>\n",
       "    <tr>\n",
       "      <th>12</th>\n",
       "      <td>11/04/2021</td>\n",
       "      <td>Valladolid</td>\n",
       "      <td>Granada</td>\n",
       "      <td>1.0</td>\n",
       "      <td>2.0</td>\n",
       "      <td>A</td>\n",
       "    </tr>\n",
       "    <tr>\n",
       "      <th>13</th>\n",
       "      <td>11/04/2021</td>\n",
       "      <td>Valencia</td>\n",
       "      <td>Sociedad</td>\n",
       "      <td>2.0</td>\n",
       "      <td>2.0</td>\n",
       "      <td>D</td>\n",
       "    </tr>\n",
       "    <tr>\n",
       "      <th>14</th>\n",
       "      <td>11/04/2021</td>\n",
       "      <td>Villarreal</td>\n",
       "      <td>Osasuna</td>\n",
       "      <td>1.0</td>\n",
       "      <td>2.0</td>\n",
       "      <td>A</td>\n",
       "    </tr>\n",
       "    <tr>\n",
       "      <th>...</th>\n",
       "      <td>...</td>\n",
       "      <td>...</td>\n",
       "      <td>...</td>\n",
       "      <td>...</td>\n",
       "      <td>...</td>\n",
       "      <td>...</td>\n",
       "    </tr>\n",
       "    <tr>\n",
       "      <th>6005</th>\n",
       "      <td>28/08/05</td>\n",
       "      <td>Osasuna</td>\n",
       "      <td>Villarreal</td>\n",
       "      <td>2.0</td>\n",
       "      <td>1.0</td>\n",
       "      <td>H</td>\n",
       "    </tr>\n",
       "    <tr>\n",
       "      <th>6006</th>\n",
       "      <td>28/08/05</td>\n",
       "      <td>Sevilla</td>\n",
       "      <td>Santander</td>\n",
       "      <td>1.0</td>\n",
       "      <td>0.0</td>\n",
       "      <td>H</td>\n",
       "    </tr>\n",
       "    <tr>\n",
       "      <th>6007</th>\n",
       "      <td>27/08/05</td>\n",
       "      <td>Valencia</td>\n",
       "      <td>Betis</td>\n",
       "      <td>1.0</td>\n",
       "      <td>0.0</td>\n",
       "      <td>H</td>\n",
       "    </tr>\n",
       "    <tr>\n",
       "      <th>6008</th>\n",
       "      <td>27/08/05</td>\n",
       "      <td>Ath Bilbao</td>\n",
       "      <td>Sociedad</td>\n",
       "      <td>3.0</td>\n",
       "      <td>0.0</td>\n",
       "      <td>H</td>\n",
       "    </tr>\n",
       "    <tr>\n",
       "      <th>6009</th>\n",
       "      <td>27/08/05</td>\n",
       "      <td>Alaves</td>\n",
       "      <td>Barcelona</td>\n",
       "      <td>0.0</td>\n",
       "      <td>0.0</td>\n",
       "      <td>D</td>\n",
       "    </tr>\n",
       "  </tbody>\n",
       "</table>\n",
       "<p>6000 rows × 6 columns</p>\n",
       "</div>"
      ],
      "text/plain": [
       "            Date    HomeTeam    AwayTeam  FTHG  FTAG FTR\n",
       "10    12/04/2021       Celta     Sevilla   3.0   4.0   A\n",
       "11    11/04/2021       Betis  Ath Madrid   1.0   1.0   D\n",
       "12    11/04/2021  Valladolid     Granada   1.0   2.0   A\n",
       "13    11/04/2021    Valencia    Sociedad   2.0   2.0   D\n",
       "14    11/04/2021  Villarreal     Osasuna   1.0   2.0   A\n",
       "...          ...         ...         ...   ...   ...  ..\n",
       "6005    28/08/05     Osasuna  Villarreal   2.0   1.0   H\n",
       "6006    28/08/05     Sevilla   Santander   1.0   0.0   H\n",
       "6007    27/08/05    Valencia       Betis   1.0   0.0   H\n",
       "6008    27/08/05  Ath Bilbao    Sociedad   3.0   0.0   H\n",
       "6009    27/08/05      Alaves   Barcelona   0.0   0.0   D\n",
       "\n",
       "[6000 rows x 6 columns]"
      ]
     },
     "execution_count": 38,
     "metadata": {},
     "output_type": "execute_result"
    }
   ],
   "source": [
    "liga[['Date', 'HomeTeam', 'AwayTeam', 'FTHG', 'FTAG', 'FTR']][10:]"
   ]
  },
  {
   "cell_type": "code",
   "execution_count": 39,
   "metadata": {
    "ExecuteTime": {
     "end_time": "2021-04-15T18:28:32.959426Z",
     "start_time": "2021-04-15T18:28:32.945429Z"
    }
   },
   "outputs": [],
   "source": [
    "liga['resultadoGolesFT']=liga['FTHG'].astype(str)+'-'+liga['FTAG'].astype(str)"
   ]
  },
  {
   "cell_type": "code",
   "execution_count": 40,
   "metadata": {
    "ExecuteTime": {
     "end_time": "2021-04-15T18:28:33.661200Z",
     "start_time": "2021-04-15T18:28:33.634198Z"
    }
   },
   "outputs": [
    {
     "data": {
      "text/html": [
       "<div>\n",
       "<style scoped>\n",
       "    .dataframe tbody tr th:only-of-type {\n",
       "        vertical-align: middle;\n",
       "    }\n",
       "\n",
       "    .dataframe tbody tr th {\n",
       "        vertical-align: top;\n",
       "    }\n",
       "\n",
       "    .dataframe thead th {\n",
       "        text-align: right;\n",
       "    }\n",
       "</style>\n",
       "<table border=\"1\" class=\"dataframe\">\n",
       "  <thead>\n",
       "    <tr style=\"text-align: right;\">\n",
       "      <th></th>\n",
       "      <th>Date</th>\n",
       "      <th>HomeTeam</th>\n",
       "      <th>AwayTeam</th>\n",
       "      <th>FTHG</th>\n",
       "      <th>FTAG</th>\n",
       "      <th>FTR</th>\n",
       "      <th>resultadoGolesFT</th>\n",
       "    </tr>\n",
       "  </thead>\n",
       "  <tbody>\n",
       "    <tr>\n",
       "      <th>10</th>\n",
       "      <td>12/04/2021</td>\n",
       "      <td>Celta</td>\n",
       "      <td>Sevilla</td>\n",
       "      <td>3.0</td>\n",
       "      <td>4.0</td>\n",
       "      <td>A</td>\n",
       "      <td>3.0-4.0</td>\n",
       "    </tr>\n",
       "    <tr>\n",
       "      <th>11</th>\n",
       "      <td>11/04/2021</td>\n",
       "      <td>Betis</td>\n",
       "      <td>Ath Madrid</td>\n",
       "      <td>1.0</td>\n",
       "      <td>1.0</td>\n",
       "      <td>D</td>\n",
       "      <td>1.0-1.0</td>\n",
       "    </tr>\n",
       "    <tr>\n",
       "      <th>12</th>\n",
       "      <td>11/04/2021</td>\n",
       "      <td>Valladolid</td>\n",
       "      <td>Granada</td>\n",
       "      <td>1.0</td>\n",
       "      <td>2.0</td>\n",
       "      <td>A</td>\n",
       "      <td>1.0-2.0</td>\n",
       "    </tr>\n",
       "    <tr>\n",
       "      <th>13</th>\n",
       "      <td>11/04/2021</td>\n",
       "      <td>Valencia</td>\n",
       "      <td>Sociedad</td>\n",
       "      <td>2.0</td>\n",
       "      <td>2.0</td>\n",
       "      <td>D</td>\n",
       "      <td>2.0-2.0</td>\n",
       "    </tr>\n",
       "    <tr>\n",
       "      <th>14</th>\n",
       "      <td>11/04/2021</td>\n",
       "      <td>Villarreal</td>\n",
       "      <td>Osasuna</td>\n",
       "      <td>1.0</td>\n",
       "      <td>2.0</td>\n",
       "      <td>A</td>\n",
       "      <td>1.0-2.0</td>\n",
       "    </tr>\n",
       "    <tr>\n",
       "      <th>...</th>\n",
       "      <td>...</td>\n",
       "      <td>...</td>\n",
       "      <td>...</td>\n",
       "      <td>...</td>\n",
       "      <td>...</td>\n",
       "      <td>...</td>\n",
       "      <td>...</td>\n",
       "    </tr>\n",
       "    <tr>\n",
       "      <th>6005</th>\n",
       "      <td>28/08/05</td>\n",
       "      <td>Osasuna</td>\n",
       "      <td>Villarreal</td>\n",
       "      <td>2.0</td>\n",
       "      <td>1.0</td>\n",
       "      <td>H</td>\n",
       "      <td>2.0-1.0</td>\n",
       "    </tr>\n",
       "    <tr>\n",
       "      <th>6006</th>\n",
       "      <td>28/08/05</td>\n",
       "      <td>Sevilla</td>\n",
       "      <td>Santander</td>\n",
       "      <td>1.0</td>\n",
       "      <td>0.0</td>\n",
       "      <td>H</td>\n",
       "      <td>1.0-0.0</td>\n",
       "    </tr>\n",
       "    <tr>\n",
       "      <th>6007</th>\n",
       "      <td>27/08/05</td>\n",
       "      <td>Valencia</td>\n",
       "      <td>Betis</td>\n",
       "      <td>1.0</td>\n",
       "      <td>0.0</td>\n",
       "      <td>H</td>\n",
       "      <td>1.0-0.0</td>\n",
       "    </tr>\n",
       "    <tr>\n",
       "      <th>6008</th>\n",
       "      <td>27/08/05</td>\n",
       "      <td>Ath Bilbao</td>\n",
       "      <td>Sociedad</td>\n",
       "      <td>3.0</td>\n",
       "      <td>0.0</td>\n",
       "      <td>H</td>\n",
       "      <td>3.0-0.0</td>\n",
       "    </tr>\n",
       "    <tr>\n",
       "      <th>6009</th>\n",
       "      <td>27/08/05</td>\n",
       "      <td>Alaves</td>\n",
       "      <td>Barcelona</td>\n",
       "      <td>0.0</td>\n",
       "      <td>0.0</td>\n",
       "      <td>D</td>\n",
       "      <td>0.0-0.0</td>\n",
       "    </tr>\n",
       "  </tbody>\n",
       "</table>\n",
       "<p>6000 rows × 7 columns</p>\n",
       "</div>"
      ],
      "text/plain": [
       "            Date    HomeTeam    AwayTeam  FTHG  FTAG FTR resultadoGolesFT\n",
       "10    12/04/2021       Celta     Sevilla   3.0   4.0   A          3.0-4.0\n",
       "11    11/04/2021       Betis  Ath Madrid   1.0   1.0   D          1.0-1.0\n",
       "12    11/04/2021  Valladolid     Granada   1.0   2.0   A          1.0-2.0\n",
       "13    11/04/2021    Valencia    Sociedad   2.0   2.0   D          2.0-2.0\n",
       "14    11/04/2021  Villarreal     Osasuna   1.0   2.0   A          1.0-2.0\n",
       "...          ...         ...         ...   ...   ...  ..              ...\n",
       "6005    28/08/05     Osasuna  Villarreal   2.0   1.0   H          2.0-1.0\n",
       "6006    28/08/05     Sevilla   Santander   1.0   0.0   H          1.0-0.0\n",
       "6007    27/08/05    Valencia       Betis   1.0   0.0   H          1.0-0.0\n",
       "6008    27/08/05  Ath Bilbao    Sociedad   3.0   0.0   H          3.0-0.0\n",
       "6009    27/08/05      Alaves   Barcelona   0.0   0.0   D          0.0-0.0\n",
       "\n",
       "[6000 rows x 7 columns]"
      ]
     },
     "execution_count": 40,
     "metadata": {},
     "output_type": "execute_result"
    }
   ],
   "source": [
    "liga[['Date', 'HomeTeam', 'AwayTeam', 'FTHG', 'FTAG', 'FTR','resultadoGolesFT']][10:]"
   ]
  },
  {
   "cell_type": "code",
   "execution_count": 41,
   "metadata": {
    "ExecuteTime": {
     "end_time": "2021-04-15T18:28:35.038991Z",
     "start_time": "2021-04-15T18:28:35.028982Z"
    }
   },
   "outputs": [
    {
     "data": {
      "text/plain": [
       "1.0-1.0     702\n",
       "1.0-0.0     651\n",
       "2.0-1.0     533\n",
       "2.0-0.0     475\n",
       "0.0-0.0     452\n",
       "0.0-1.0     439\n",
       "1.0-2.0     390\n",
       "0.0-2.0     294\n",
       "2.0-2.0     270\n",
       "3.0-0.0     268\n",
       "3.0-1.0     255\n",
       "3.0-2.0     143\n",
       "1.0-3.0     130\n",
       "4.0-0.0     123\n",
       "0.0-3.0     120\n",
       "2.0-3.0     106\n",
       "4.0-1.0     103\n",
       "4.0-2.0      58\n",
       "1.0-4.0      58\n",
       "5.0-0.0      52\n",
       "5.0-1.0      48\n",
       "3.0-3.0      45\n",
       "0.0-4.0      43\n",
       "2.0-4.0      38\n",
       "4.0-3.0      34\n",
       "0.0-5.0      19\n",
       "5.0-2.0      18\n",
       "1.0-5.0      16\n",
       "6.0-0.0      16\n",
       "6.0-1.0      15\n",
       "3.0-4.0      12\n",
       "nan-nan      10\n",
       "2.0-5.0       9\n",
       "7.0-1.0       7\n",
       "3.0-5.0       6\n",
       "2.0-6.0       6\n",
       "4.0-4.0       5\n",
       "0.0-6.0       5\n",
       "7.0-0.0       5\n",
       "6.0-2.0       4\n",
       "5.0-3.0       4\n",
       "1.0-6.0       3\n",
       "0.0-8.0       3\n",
       "3.0-6.0       2\n",
       "7.0-3.0       2\n",
       "5.0-4.0       2\n",
       "6.0-3.0       2\n",
       "10.0-2.0      1\n",
       "8.0-0.0       1\n",
       "2.0-8.0       1\n",
       "9.0-1.0       1\n",
       "6.0-4.0       1\n",
       "8.0-2.0       1\n",
       "0.0-7.0       1\n",
       "4.0-5.0       1\n",
       "8.0-1.0       1\n",
       "Name: resultadoGolesFT, dtype: int64"
      ]
     },
     "execution_count": 41,
     "metadata": {},
     "output_type": "execute_result"
    }
   ],
   "source": [
    "liga['resultadoGolesFT'].value_counts()"
   ]
  },
  {
   "cell_type": "code",
   "execution_count": 42,
   "metadata": {
    "ExecuteTime": {
     "end_time": "2021-04-15T18:28:40.133462Z",
     "start_time": "2021-04-15T18:28:40.122465Z"
    }
   },
   "outputs": [],
   "source": [
    "mapeo_resultadoGolesFT=liga['resultadoGolesFT'].value_counts().to_frame().reset_index()"
   ]
  },
  {
   "cell_type": "code",
   "execution_count": 43,
   "metadata": {
    "ExecuteTime": {
     "end_time": "2021-04-15T18:28:40.739937Z",
     "start_time": "2021-04-15T18:28:40.729938Z"
    }
   },
   "outputs": [
    {
     "data": {
      "text/html": [
       "<div>\n",
       "<style scoped>\n",
       "    .dataframe tbody tr th:only-of-type {\n",
       "        vertical-align: middle;\n",
       "    }\n",
       "\n",
       "    .dataframe tbody tr th {\n",
       "        vertical-align: top;\n",
       "    }\n",
       "\n",
       "    .dataframe thead th {\n",
       "        text-align: right;\n",
       "    }\n",
       "</style>\n",
       "<table border=\"1\" class=\"dataframe\">\n",
       "  <thead>\n",
       "    <tr style=\"text-align: right;\">\n",
       "      <th></th>\n",
       "      <th>index</th>\n",
       "      <th>resultadoGolesFT</th>\n",
       "    </tr>\n",
       "  </thead>\n",
       "  <tbody>\n",
       "    <tr>\n",
       "      <th>0</th>\n",
       "      <td>1.0-1.0</td>\n",
       "      <td>702</td>\n",
       "    </tr>\n",
       "    <tr>\n",
       "      <th>1</th>\n",
       "      <td>1.0-0.0</td>\n",
       "      <td>651</td>\n",
       "    </tr>\n",
       "    <tr>\n",
       "      <th>2</th>\n",
       "      <td>2.0-1.0</td>\n",
       "      <td>533</td>\n",
       "    </tr>\n",
       "    <tr>\n",
       "      <th>3</th>\n",
       "      <td>2.0-0.0</td>\n",
       "      <td>475</td>\n",
       "    </tr>\n",
       "    <tr>\n",
       "      <th>4</th>\n",
       "      <td>0.0-0.0</td>\n",
       "      <td>452</td>\n",
       "    </tr>\n",
       "  </tbody>\n",
       "</table>\n",
       "</div>"
      ],
      "text/plain": [
       "     index  resultadoGolesFT\n",
       "0  1.0-1.0               702\n",
       "1  1.0-0.0               651\n",
       "2  2.0-1.0               533\n",
       "3  2.0-0.0               475\n",
       "4  0.0-0.0               452"
      ]
     },
     "execution_count": 43,
     "metadata": {},
     "output_type": "execute_result"
    }
   ],
   "source": [
    "mapeo_resultadoGolesFT.head()"
   ]
  },
  {
   "cell_type": "code",
   "execution_count": 44,
   "metadata": {
    "ExecuteTime": {
     "end_time": "2021-04-15T18:28:43.300193Z",
     "start_time": "2021-04-15T18:28:43.296194Z"
    }
   },
   "outputs": [],
   "source": [
    "mapeo_resultadoGolesFT.columns=['resultadoGolesFT','Count']"
   ]
  },
  {
   "cell_type": "code",
   "execution_count": 45,
   "metadata": {
    "ExecuteTime": {
     "end_time": "2021-04-15T18:28:43.927507Z",
     "start_time": "2021-04-15T18:28:43.919507Z"
    }
   },
   "outputs": [
    {
     "data": {
      "text/html": [
       "<div>\n",
       "<style scoped>\n",
       "    .dataframe tbody tr th:only-of-type {\n",
       "        vertical-align: middle;\n",
       "    }\n",
       "\n",
       "    .dataframe tbody tr th {\n",
       "        vertical-align: top;\n",
       "    }\n",
       "\n",
       "    .dataframe thead th {\n",
       "        text-align: right;\n",
       "    }\n",
       "</style>\n",
       "<table border=\"1\" class=\"dataframe\">\n",
       "  <thead>\n",
       "    <tr style=\"text-align: right;\">\n",
       "      <th></th>\n",
       "      <th>resultadoGolesFT</th>\n",
       "      <th>Count</th>\n",
       "    </tr>\n",
       "  </thead>\n",
       "  <tbody>\n",
       "    <tr>\n",
       "      <th>0</th>\n",
       "      <td>1.0-1.0</td>\n",
       "      <td>702</td>\n",
       "    </tr>\n",
       "    <tr>\n",
       "      <th>1</th>\n",
       "      <td>1.0-0.0</td>\n",
       "      <td>651</td>\n",
       "    </tr>\n",
       "    <tr>\n",
       "      <th>2</th>\n",
       "      <td>2.0-1.0</td>\n",
       "      <td>533</td>\n",
       "    </tr>\n",
       "    <tr>\n",
       "      <th>3</th>\n",
       "      <td>2.0-0.0</td>\n",
       "      <td>475</td>\n",
       "    </tr>\n",
       "    <tr>\n",
       "      <th>4</th>\n",
       "      <td>0.0-0.0</td>\n",
       "      <td>452</td>\n",
       "    </tr>\n",
       "  </tbody>\n",
       "</table>\n",
       "</div>"
      ],
      "text/plain": [
       "  resultadoGolesFT  Count\n",
       "0          1.0-1.0    702\n",
       "1          1.0-0.0    651\n",
       "2          2.0-1.0    533\n",
       "3          2.0-0.0    475\n",
       "4          0.0-0.0    452"
      ]
     },
     "execution_count": 45,
     "metadata": {},
     "output_type": "execute_result"
    }
   ],
   "source": [
    "mapeo_resultadoGolesFT.head()"
   ]
  },
  {
   "cell_type": "code",
   "execution_count": 46,
   "metadata": {
    "ExecuteTime": {
     "end_time": "2021-04-15T18:28:46.750357Z",
     "start_time": "2021-04-15T18:28:46.744360Z"
    }
   },
   "outputs": [],
   "source": [
    "mapeo_resultadoGolesFT=mapeo_resultadoGolesFT.reset_index()"
   ]
  },
  {
   "cell_type": "code",
   "execution_count": 47,
   "metadata": {
    "ExecuteTime": {
     "end_time": "2021-04-15T18:28:47.562134Z",
     "start_time": "2021-04-15T18:28:47.549130Z"
    }
   },
   "outputs": [
    {
     "data": {
      "text/html": [
       "<div>\n",
       "<style scoped>\n",
       "    .dataframe tbody tr th:only-of-type {\n",
       "        vertical-align: middle;\n",
       "    }\n",
       "\n",
       "    .dataframe tbody tr th {\n",
       "        vertical-align: top;\n",
       "    }\n",
       "\n",
       "    .dataframe thead th {\n",
       "        text-align: right;\n",
       "    }\n",
       "</style>\n",
       "<table border=\"1\" class=\"dataframe\">\n",
       "  <thead>\n",
       "    <tr style=\"text-align: right;\">\n",
       "      <th></th>\n",
       "      <th>index</th>\n",
       "      <th>resultadoGolesFT</th>\n",
       "      <th>Count</th>\n",
       "    </tr>\n",
       "  </thead>\n",
       "  <tbody>\n",
       "    <tr>\n",
       "      <th>0</th>\n",
       "      <td>0</td>\n",
       "      <td>1.0-1.0</td>\n",
       "      <td>702</td>\n",
       "    </tr>\n",
       "    <tr>\n",
       "      <th>1</th>\n",
       "      <td>1</td>\n",
       "      <td>1.0-0.0</td>\n",
       "      <td>651</td>\n",
       "    </tr>\n",
       "    <tr>\n",
       "      <th>2</th>\n",
       "      <td>2</td>\n",
       "      <td>2.0-1.0</td>\n",
       "      <td>533</td>\n",
       "    </tr>\n",
       "    <tr>\n",
       "      <th>3</th>\n",
       "      <td>3</td>\n",
       "      <td>2.0-0.0</td>\n",
       "      <td>475</td>\n",
       "    </tr>\n",
       "    <tr>\n",
       "      <th>4</th>\n",
       "      <td>4</td>\n",
       "      <td>0.0-0.0</td>\n",
       "      <td>452</td>\n",
       "    </tr>\n",
       "  </tbody>\n",
       "</table>\n",
       "</div>"
      ],
      "text/plain": [
       "   index resultadoGolesFT  Count\n",
       "0      0          1.0-1.0    702\n",
       "1      1          1.0-0.0    651\n",
       "2      2          2.0-1.0    533\n",
       "3      3          2.0-0.0    475\n",
       "4      4          0.0-0.0    452"
      ]
     },
     "execution_count": 47,
     "metadata": {},
     "output_type": "execute_result"
    }
   ],
   "source": [
    "mapeo_resultadoGolesFT.head()"
   ]
  },
  {
   "cell_type": "code",
   "execution_count": 48,
   "metadata": {
    "ExecuteTime": {
     "end_time": "2021-04-15T18:28:52.343797Z",
     "start_time": "2021-04-15T18:28:52.335799Z"
    }
   },
   "outputs": [],
   "source": [
    "# Nos quedamos solo los 20 primeros:\n",
    "mapeo_resultadoGolesFT.loc[mapeo_resultadoGolesFT['index']>19,'index' ]=20\n"
   ]
  },
  {
   "cell_type": "code",
   "execution_count": 49,
   "metadata": {
    "ExecuteTime": {
     "end_time": "2021-04-15T18:28:53.188625Z",
     "start_time": "2021-04-15T18:28:53.177628Z"
    }
   },
   "outputs": [
    {
     "data": {
      "text/html": [
       "<div>\n",
       "<style scoped>\n",
       "    .dataframe tbody tr th:only-of-type {\n",
       "        vertical-align: middle;\n",
       "    }\n",
       "\n",
       "    .dataframe tbody tr th {\n",
       "        vertical-align: top;\n",
       "    }\n",
       "\n",
       "    .dataframe thead th {\n",
       "        text-align: right;\n",
       "    }\n",
       "</style>\n",
       "<table border=\"1\" class=\"dataframe\">\n",
       "  <thead>\n",
       "    <tr style=\"text-align: right;\">\n",
       "      <th></th>\n",
       "      <th>index</th>\n",
       "      <th>resultadoGolesFT</th>\n",
       "      <th>Count</th>\n",
       "    </tr>\n",
       "  </thead>\n",
       "  <tbody>\n",
       "    <tr>\n",
       "      <th>0</th>\n",
       "      <td>0</td>\n",
       "      <td>1.0-1.0</td>\n",
       "      <td>702</td>\n",
       "    </tr>\n",
       "    <tr>\n",
       "      <th>1</th>\n",
       "      <td>1</td>\n",
       "      <td>1.0-0.0</td>\n",
       "      <td>651</td>\n",
       "    </tr>\n",
       "    <tr>\n",
       "      <th>2</th>\n",
       "      <td>2</td>\n",
       "      <td>2.0-1.0</td>\n",
       "      <td>533</td>\n",
       "    </tr>\n",
       "    <tr>\n",
       "      <th>3</th>\n",
       "      <td>3</td>\n",
       "      <td>2.0-0.0</td>\n",
       "      <td>475</td>\n",
       "    </tr>\n",
       "    <tr>\n",
       "      <th>4</th>\n",
       "      <td>4</td>\n",
       "      <td>0.0-0.0</td>\n",
       "      <td>452</td>\n",
       "    </tr>\n",
       "    <tr>\n",
       "      <th>5</th>\n",
       "      <td>5</td>\n",
       "      <td>0.0-1.0</td>\n",
       "      <td>439</td>\n",
       "    </tr>\n",
       "    <tr>\n",
       "      <th>6</th>\n",
       "      <td>6</td>\n",
       "      <td>1.0-2.0</td>\n",
       "      <td>390</td>\n",
       "    </tr>\n",
       "    <tr>\n",
       "      <th>7</th>\n",
       "      <td>7</td>\n",
       "      <td>0.0-2.0</td>\n",
       "      <td>294</td>\n",
       "    </tr>\n",
       "    <tr>\n",
       "      <th>8</th>\n",
       "      <td>8</td>\n",
       "      <td>2.0-2.0</td>\n",
       "      <td>270</td>\n",
       "    </tr>\n",
       "    <tr>\n",
       "      <th>9</th>\n",
       "      <td>9</td>\n",
       "      <td>3.0-0.0</td>\n",
       "      <td>268</td>\n",
       "    </tr>\n",
       "    <tr>\n",
       "      <th>10</th>\n",
       "      <td>10</td>\n",
       "      <td>3.0-1.0</td>\n",
       "      <td>255</td>\n",
       "    </tr>\n",
       "    <tr>\n",
       "      <th>11</th>\n",
       "      <td>11</td>\n",
       "      <td>3.0-2.0</td>\n",
       "      <td>143</td>\n",
       "    </tr>\n",
       "    <tr>\n",
       "      <th>12</th>\n",
       "      <td>12</td>\n",
       "      <td>1.0-3.0</td>\n",
       "      <td>130</td>\n",
       "    </tr>\n",
       "    <tr>\n",
       "      <th>13</th>\n",
       "      <td>13</td>\n",
       "      <td>4.0-0.0</td>\n",
       "      <td>123</td>\n",
       "    </tr>\n",
       "    <tr>\n",
       "      <th>14</th>\n",
       "      <td>14</td>\n",
       "      <td>0.0-3.0</td>\n",
       "      <td>120</td>\n",
       "    </tr>\n",
       "    <tr>\n",
       "      <th>15</th>\n",
       "      <td>15</td>\n",
       "      <td>2.0-3.0</td>\n",
       "      <td>106</td>\n",
       "    </tr>\n",
       "    <tr>\n",
       "      <th>16</th>\n",
       "      <td>16</td>\n",
       "      <td>4.0-1.0</td>\n",
       "      <td>103</td>\n",
       "    </tr>\n",
       "    <tr>\n",
       "      <th>17</th>\n",
       "      <td>17</td>\n",
       "      <td>4.0-2.0</td>\n",
       "      <td>58</td>\n",
       "    </tr>\n",
       "    <tr>\n",
       "      <th>18</th>\n",
       "      <td>18</td>\n",
       "      <td>1.0-4.0</td>\n",
       "      <td>58</td>\n",
       "    </tr>\n",
       "    <tr>\n",
       "      <th>19</th>\n",
       "      <td>19</td>\n",
       "      <td>5.0-0.0</td>\n",
       "      <td>52</td>\n",
       "    </tr>\n",
       "    <tr>\n",
       "      <th>20</th>\n",
       "      <td>20</td>\n",
       "      <td>5.0-1.0</td>\n",
       "      <td>48</td>\n",
       "    </tr>\n",
       "    <tr>\n",
       "      <th>21</th>\n",
       "      <td>20</td>\n",
       "      <td>3.0-3.0</td>\n",
       "      <td>45</td>\n",
       "    </tr>\n",
       "    <tr>\n",
       "      <th>22</th>\n",
       "      <td>20</td>\n",
       "      <td>0.0-4.0</td>\n",
       "      <td>43</td>\n",
       "    </tr>\n",
       "    <tr>\n",
       "      <th>23</th>\n",
       "      <td>20</td>\n",
       "      <td>2.0-4.0</td>\n",
       "      <td>38</td>\n",
       "    </tr>\n",
       "    <tr>\n",
       "      <th>24</th>\n",
       "      <td>20</td>\n",
       "      <td>4.0-3.0</td>\n",
       "      <td>34</td>\n",
       "    </tr>\n",
       "  </tbody>\n",
       "</table>\n",
       "</div>"
      ],
      "text/plain": [
       "    index resultadoGolesFT  Count\n",
       "0       0          1.0-1.0    702\n",
       "1       1          1.0-0.0    651\n",
       "2       2          2.0-1.0    533\n",
       "3       3          2.0-0.0    475\n",
       "4       4          0.0-0.0    452\n",
       "5       5          0.0-1.0    439\n",
       "6       6          1.0-2.0    390\n",
       "7       7          0.0-2.0    294\n",
       "8       8          2.0-2.0    270\n",
       "9       9          3.0-0.0    268\n",
       "10     10          3.0-1.0    255\n",
       "11     11          3.0-2.0    143\n",
       "12     12          1.0-3.0    130\n",
       "13     13          4.0-0.0    123\n",
       "14     14          0.0-3.0    120\n",
       "15     15          2.0-3.0    106\n",
       "16     16          4.0-1.0    103\n",
       "17     17          4.0-2.0     58\n",
       "18     18          1.0-4.0     58\n",
       "19     19          5.0-0.0     52\n",
       "20     20          5.0-1.0     48\n",
       "21     20          3.0-3.0     45\n",
       "22     20          0.0-4.0     43\n",
       "23     20          2.0-4.0     38\n",
       "24     20          4.0-3.0     34"
      ]
     },
     "execution_count": 49,
     "metadata": {},
     "output_type": "execute_result"
    }
   ],
   "source": [
    "mapeo_resultadoGolesFT.head(25)"
   ]
  },
  {
   "cell_type": "code",
   "execution_count": 50,
   "metadata": {
    "ExecuteTime": {
     "end_time": "2021-04-15T18:28:57.722545Z",
     "start_time": "2021-04-15T18:28:57.718544Z"
    }
   },
   "outputs": [],
   "source": [
    "mapeo_resultadoGolesFT.set_index('resultadoGolesFT',inplace=True)"
   ]
  },
  {
   "cell_type": "code",
   "execution_count": 51,
   "metadata": {
    "ExecuteTime": {
     "end_time": "2021-04-15T18:28:58.258833Z",
     "start_time": "2021-04-15T18:28:58.252832Z"
    }
   },
   "outputs": [],
   "source": [
    "mapeo_resultadoGolesFT=mapeo_resultadoGolesFT[['index']]"
   ]
  },
  {
   "cell_type": "code",
   "execution_count": 52,
   "metadata": {
    "ExecuteTime": {
     "end_time": "2021-04-15T18:28:58.995066Z",
     "start_time": "2021-04-15T18:28:58.981066Z"
    }
   },
   "outputs": [
    {
     "data": {
      "text/html": [
       "<div>\n",
       "<style scoped>\n",
       "    .dataframe tbody tr th:only-of-type {\n",
       "        vertical-align: middle;\n",
       "    }\n",
       "\n",
       "    .dataframe tbody tr th {\n",
       "        vertical-align: top;\n",
       "    }\n",
       "\n",
       "    .dataframe thead th {\n",
       "        text-align: right;\n",
       "    }\n",
       "</style>\n",
       "<table border=\"1\" class=\"dataframe\">\n",
       "  <thead>\n",
       "    <tr style=\"text-align: right;\">\n",
       "      <th></th>\n",
       "      <th>index</th>\n",
       "    </tr>\n",
       "    <tr>\n",
       "      <th>resultadoGolesFT</th>\n",
       "      <th></th>\n",
       "    </tr>\n",
       "  </thead>\n",
       "  <tbody>\n",
       "    <tr>\n",
       "      <th>1.0-1.0</th>\n",
       "      <td>0</td>\n",
       "    </tr>\n",
       "    <tr>\n",
       "      <th>1.0-0.0</th>\n",
       "      <td>1</td>\n",
       "    </tr>\n",
       "    <tr>\n",
       "      <th>2.0-1.0</th>\n",
       "      <td>2</td>\n",
       "    </tr>\n",
       "    <tr>\n",
       "      <th>2.0-0.0</th>\n",
       "      <td>3</td>\n",
       "    </tr>\n",
       "    <tr>\n",
       "      <th>0.0-0.0</th>\n",
       "      <td>4</td>\n",
       "    </tr>\n",
       "    <tr>\n",
       "      <th>0.0-1.0</th>\n",
       "      <td>5</td>\n",
       "    </tr>\n",
       "    <tr>\n",
       "      <th>1.0-2.0</th>\n",
       "      <td>6</td>\n",
       "    </tr>\n",
       "    <tr>\n",
       "      <th>0.0-2.0</th>\n",
       "      <td>7</td>\n",
       "    </tr>\n",
       "    <tr>\n",
       "      <th>2.0-2.0</th>\n",
       "      <td>8</td>\n",
       "    </tr>\n",
       "    <tr>\n",
       "      <th>3.0-0.0</th>\n",
       "      <td>9</td>\n",
       "    </tr>\n",
       "    <tr>\n",
       "      <th>3.0-1.0</th>\n",
       "      <td>10</td>\n",
       "    </tr>\n",
       "    <tr>\n",
       "      <th>3.0-2.0</th>\n",
       "      <td>11</td>\n",
       "    </tr>\n",
       "    <tr>\n",
       "      <th>1.0-3.0</th>\n",
       "      <td>12</td>\n",
       "    </tr>\n",
       "    <tr>\n",
       "      <th>4.0-0.0</th>\n",
       "      <td>13</td>\n",
       "    </tr>\n",
       "    <tr>\n",
       "      <th>0.0-3.0</th>\n",
       "      <td>14</td>\n",
       "    </tr>\n",
       "    <tr>\n",
       "      <th>2.0-3.0</th>\n",
       "      <td>15</td>\n",
       "    </tr>\n",
       "    <tr>\n",
       "      <th>4.0-1.0</th>\n",
       "      <td>16</td>\n",
       "    </tr>\n",
       "    <tr>\n",
       "      <th>4.0-2.0</th>\n",
       "      <td>17</td>\n",
       "    </tr>\n",
       "    <tr>\n",
       "      <th>1.0-4.0</th>\n",
       "      <td>18</td>\n",
       "    </tr>\n",
       "    <tr>\n",
       "      <th>5.0-0.0</th>\n",
       "      <td>19</td>\n",
       "    </tr>\n",
       "    <tr>\n",
       "      <th>5.0-1.0</th>\n",
       "      <td>20</td>\n",
       "    </tr>\n",
       "    <tr>\n",
       "      <th>3.0-3.0</th>\n",
       "      <td>20</td>\n",
       "    </tr>\n",
       "    <tr>\n",
       "      <th>0.0-4.0</th>\n",
       "      <td>20</td>\n",
       "    </tr>\n",
       "    <tr>\n",
       "      <th>2.0-4.0</th>\n",
       "      <td>20</td>\n",
       "    </tr>\n",
       "    <tr>\n",
       "      <th>4.0-3.0</th>\n",
       "      <td>20</td>\n",
       "    </tr>\n",
       "  </tbody>\n",
       "</table>\n",
       "</div>"
      ],
      "text/plain": [
       "                  index\n",
       "resultadoGolesFT       \n",
       "1.0-1.0               0\n",
       "1.0-0.0               1\n",
       "2.0-1.0               2\n",
       "2.0-0.0               3\n",
       "0.0-0.0               4\n",
       "0.0-1.0               5\n",
       "1.0-2.0               6\n",
       "0.0-2.0               7\n",
       "2.0-2.0               8\n",
       "3.0-0.0               9\n",
       "3.0-1.0              10\n",
       "3.0-2.0              11\n",
       "1.0-3.0              12\n",
       "4.0-0.0              13\n",
       "0.0-3.0              14\n",
       "2.0-3.0              15\n",
       "4.0-1.0              16\n",
       "4.0-2.0              17\n",
       "1.0-4.0              18\n",
       "5.0-0.0              19\n",
       "5.0-1.0              20\n",
       "3.0-3.0              20\n",
       "0.0-4.0              20\n",
       "2.0-4.0              20\n",
       "4.0-3.0              20"
      ]
     },
     "execution_count": 52,
     "metadata": {},
     "output_type": "execute_result"
    }
   ],
   "source": [
    "mapeo_resultadoGolesFT.head(25)"
   ]
  },
  {
   "cell_type": "code",
   "execution_count": 53,
   "metadata": {
    "ExecuteTime": {
     "end_time": "2021-04-15T18:29:02.985191Z",
     "start_time": "2021-04-15T18:29:02.978192Z"
    }
   },
   "outputs": [],
   "source": [
    "liga['resultadoGolesFT_Code']=liga['resultadoGolesFT'].map(mapeo_resultadoGolesFT['index'])"
   ]
  },
  {
   "cell_type": "code",
   "execution_count": 54,
   "metadata": {
    "ExecuteTime": {
     "end_time": "2021-04-15T18:29:03.726067Z",
     "start_time": "2021-04-15T18:29:03.700066Z"
    }
   },
   "outputs": [
    {
     "data": {
      "text/html": [
       "<div>\n",
       "<style scoped>\n",
       "    .dataframe tbody tr th:only-of-type {\n",
       "        vertical-align: middle;\n",
       "    }\n",
       "\n",
       "    .dataframe tbody tr th {\n",
       "        vertical-align: top;\n",
       "    }\n",
       "\n",
       "    .dataframe thead th {\n",
       "        text-align: right;\n",
       "    }\n",
       "</style>\n",
       "<table border=\"1\" class=\"dataframe\">\n",
       "  <thead>\n",
       "    <tr style=\"text-align: right;\">\n",
       "      <th></th>\n",
       "      <th>Date</th>\n",
       "      <th>HomeTeam</th>\n",
       "      <th>AwayTeam</th>\n",
       "      <th>FTHG</th>\n",
       "      <th>FTAG</th>\n",
       "      <th>FTR</th>\n",
       "      <th>resultadoGolesFT</th>\n",
       "      <th>resultadoGolesFT_Code</th>\n",
       "    </tr>\n",
       "  </thead>\n",
       "  <tbody>\n",
       "    <tr>\n",
       "      <th>10</th>\n",
       "      <td>12/04/2021</td>\n",
       "      <td>Celta</td>\n",
       "      <td>Sevilla</td>\n",
       "      <td>3.0</td>\n",
       "      <td>4.0</td>\n",
       "      <td>A</td>\n",
       "      <td>3.0-4.0</td>\n",
       "      <td>20</td>\n",
       "    </tr>\n",
       "    <tr>\n",
       "      <th>11</th>\n",
       "      <td>11/04/2021</td>\n",
       "      <td>Betis</td>\n",
       "      <td>Ath Madrid</td>\n",
       "      <td>1.0</td>\n",
       "      <td>1.0</td>\n",
       "      <td>D</td>\n",
       "      <td>1.0-1.0</td>\n",
       "      <td>0</td>\n",
       "    </tr>\n",
       "    <tr>\n",
       "      <th>12</th>\n",
       "      <td>11/04/2021</td>\n",
       "      <td>Valladolid</td>\n",
       "      <td>Granada</td>\n",
       "      <td>1.0</td>\n",
       "      <td>2.0</td>\n",
       "      <td>A</td>\n",
       "      <td>1.0-2.0</td>\n",
       "      <td>6</td>\n",
       "    </tr>\n",
       "    <tr>\n",
       "      <th>13</th>\n",
       "      <td>11/04/2021</td>\n",
       "      <td>Valencia</td>\n",
       "      <td>Sociedad</td>\n",
       "      <td>2.0</td>\n",
       "      <td>2.0</td>\n",
       "      <td>D</td>\n",
       "      <td>2.0-2.0</td>\n",
       "      <td>8</td>\n",
       "    </tr>\n",
       "    <tr>\n",
       "      <th>14</th>\n",
       "      <td>11/04/2021</td>\n",
       "      <td>Villarreal</td>\n",
       "      <td>Osasuna</td>\n",
       "      <td>1.0</td>\n",
       "      <td>2.0</td>\n",
       "      <td>A</td>\n",
       "      <td>1.0-2.0</td>\n",
       "      <td>6</td>\n",
       "    </tr>\n",
       "    <tr>\n",
       "      <th>...</th>\n",
       "      <td>...</td>\n",
       "      <td>...</td>\n",
       "      <td>...</td>\n",
       "      <td>...</td>\n",
       "      <td>...</td>\n",
       "      <td>...</td>\n",
       "      <td>...</td>\n",
       "      <td>...</td>\n",
       "    </tr>\n",
       "    <tr>\n",
       "      <th>6005</th>\n",
       "      <td>28/08/05</td>\n",
       "      <td>Osasuna</td>\n",
       "      <td>Villarreal</td>\n",
       "      <td>2.0</td>\n",
       "      <td>1.0</td>\n",
       "      <td>H</td>\n",
       "      <td>2.0-1.0</td>\n",
       "      <td>2</td>\n",
       "    </tr>\n",
       "    <tr>\n",
       "      <th>6006</th>\n",
       "      <td>28/08/05</td>\n",
       "      <td>Sevilla</td>\n",
       "      <td>Santander</td>\n",
       "      <td>1.0</td>\n",
       "      <td>0.0</td>\n",
       "      <td>H</td>\n",
       "      <td>1.0-0.0</td>\n",
       "      <td>1</td>\n",
       "    </tr>\n",
       "    <tr>\n",
       "      <th>6007</th>\n",
       "      <td>27/08/05</td>\n",
       "      <td>Valencia</td>\n",
       "      <td>Betis</td>\n",
       "      <td>1.0</td>\n",
       "      <td>0.0</td>\n",
       "      <td>H</td>\n",
       "      <td>1.0-0.0</td>\n",
       "      <td>1</td>\n",
       "    </tr>\n",
       "    <tr>\n",
       "      <th>6008</th>\n",
       "      <td>27/08/05</td>\n",
       "      <td>Ath Bilbao</td>\n",
       "      <td>Sociedad</td>\n",
       "      <td>3.0</td>\n",
       "      <td>0.0</td>\n",
       "      <td>H</td>\n",
       "      <td>3.0-0.0</td>\n",
       "      <td>9</td>\n",
       "    </tr>\n",
       "    <tr>\n",
       "      <th>6009</th>\n",
       "      <td>27/08/05</td>\n",
       "      <td>Alaves</td>\n",
       "      <td>Barcelona</td>\n",
       "      <td>0.0</td>\n",
       "      <td>0.0</td>\n",
       "      <td>D</td>\n",
       "      <td>0.0-0.0</td>\n",
       "      <td>4</td>\n",
       "    </tr>\n",
       "  </tbody>\n",
       "</table>\n",
       "<p>6000 rows × 8 columns</p>\n",
       "</div>"
      ],
      "text/plain": [
       "            Date    HomeTeam    AwayTeam  FTHG  FTAG FTR resultadoGolesFT  \\\n",
       "10    12/04/2021       Celta     Sevilla   3.0   4.0   A          3.0-4.0   \n",
       "11    11/04/2021       Betis  Ath Madrid   1.0   1.0   D          1.0-1.0   \n",
       "12    11/04/2021  Valladolid     Granada   1.0   2.0   A          1.0-2.0   \n",
       "13    11/04/2021    Valencia    Sociedad   2.0   2.0   D          2.0-2.0   \n",
       "14    11/04/2021  Villarreal     Osasuna   1.0   2.0   A          1.0-2.0   \n",
       "...          ...         ...         ...   ...   ...  ..              ...   \n",
       "6005    28/08/05     Osasuna  Villarreal   2.0   1.0   H          2.0-1.0   \n",
       "6006    28/08/05     Sevilla   Santander   1.0   0.0   H          1.0-0.0   \n",
       "6007    27/08/05    Valencia       Betis   1.0   0.0   H          1.0-0.0   \n",
       "6008    27/08/05  Ath Bilbao    Sociedad   3.0   0.0   H          3.0-0.0   \n",
       "6009    27/08/05      Alaves   Barcelona   0.0   0.0   D          0.0-0.0   \n",
       "\n",
       "      resultadoGolesFT_Code  \n",
       "10                       20  \n",
       "11                        0  \n",
       "12                        6  \n",
       "13                        8  \n",
       "14                        6  \n",
       "...                     ...  \n",
       "6005                      2  \n",
       "6006                      1  \n",
       "6007                      1  \n",
       "6008                      9  \n",
       "6009                      4  \n",
       "\n",
       "[6000 rows x 8 columns]"
      ]
     },
     "execution_count": 54,
     "metadata": {},
     "output_type": "execute_result"
    }
   ],
   "source": [
    "liga[['Date', 'HomeTeam', 'AwayTeam', 'FTHG', 'FTAG', 'FTR','resultadoGolesFT','resultadoGolesFT_Code']][10:]"
   ]
  },
  {
   "cell_type": "code",
   "execution_count": 202,
   "metadata": {
    "ExecuteTime": {
     "end_time": "2021-04-15T16:01:18.845595Z",
     "start_time": "2021-04-15T16:01:18.837594Z"
    }
   },
   "outputs": [],
   "source": [
    "#mapeo_resultadoGolesFT.to_csv(path_last+'/SP1-encoders/SP1_mapeo_resultadoGolesFT.csv')"
   ]
  },
  {
   "cell_type": "code",
   "execution_count": 55,
   "metadata": {
    "ExecuteTime": {
     "end_time": "2021-04-15T18:29:08.752505Z",
     "start_time": "2021-04-15T18:29:08.702506Z"
    }
   },
   "outputs": [
    {
     "data": {
      "text/html": [
       "<div>\n",
       "<style scoped>\n",
       "    .dataframe tbody tr th:only-of-type {\n",
       "        vertical-align: middle;\n",
       "    }\n",
       "\n",
       "    .dataframe tbody tr th {\n",
       "        vertical-align: top;\n",
       "    }\n",
       "\n",
       "    .dataframe thead th {\n",
       "        text-align: right;\n",
       "    }\n",
       "</style>\n",
       "<table border=\"1\" class=\"dataframe\">\n",
       "  <thead>\n",
       "    <tr style=\"text-align: right;\">\n",
       "      <th></th>\n",
       "      <th>Div</th>\n",
       "      <th>Date</th>\n",
       "      <th>HomeTeam</th>\n",
       "      <th>AwayTeam</th>\n",
       "      <th>FTHG</th>\n",
       "      <th>FTAG</th>\n",
       "      <th>FTR</th>\n",
       "      <th>HTHG</th>\n",
       "      <th>HTAG</th>\n",
       "      <th>HTR</th>\n",
       "      <th>...</th>\n",
       "      <th>Day</th>\n",
       "      <th>Month</th>\n",
       "      <th>Year</th>\n",
       "      <th>DayWeek</th>\n",
       "      <th>DayWeek_Code</th>\n",
       "      <th>Temporada_Code</th>\n",
       "      <th>deltaFTHG</th>\n",
       "      <th>deltaFTAG</th>\n",
       "      <th>resultadoGolesFT</th>\n",
       "      <th>resultadoGolesFT_Code</th>\n",
       "    </tr>\n",
       "  </thead>\n",
       "  <tbody>\n",
       "    <tr>\n",
       "      <th>0</th>\n",
       "      <td>SP1</td>\n",
       "      <td>22/04/2021</td>\n",
       "      <td>Ath Madrid</td>\n",
       "      <td>Huesca</td>\n",
       "      <td>NaN</td>\n",
       "      <td>NaN</td>\n",
       "      <td>NaN</td>\n",
       "      <td>NaN</td>\n",
       "      <td>NaN</td>\n",
       "      <td>NaN</td>\n",
       "      <td>...</td>\n",
       "      <td>22</td>\n",
       "      <td>4</td>\n",
       "      <td>2021</td>\n",
       "      <td>Thursday</td>\n",
       "      <td>5</td>\n",
       "      <td>15</td>\n",
       "      <td>NaN</td>\n",
       "      <td>NaN</td>\n",
       "      <td>nan-nan</td>\n",
       "      <td>20</td>\n",
       "    </tr>\n",
       "    <tr>\n",
       "      <th>1</th>\n",
       "      <td>SP1</td>\n",
       "      <td>22/04/2021</td>\n",
       "      <td>Granada</td>\n",
       "      <td>Eibar</td>\n",
       "      <td>NaN</td>\n",
       "      <td>NaN</td>\n",
       "      <td>NaN</td>\n",
       "      <td>NaN</td>\n",
       "      <td>NaN</td>\n",
       "      <td>NaN</td>\n",
       "      <td>...</td>\n",
       "      <td>22</td>\n",
       "      <td>4</td>\n",
       "      <td>2021</td>\n",
       "      <td>Thursday</td>\n",
       "      <td>5</td>\n",
       "      <td>15</td>\n",
       "      <td>NaN</td>\n",
       "      <td>NaN</td>\n",
       "      <td>nan-nan</td>\n",
       "      <td>20</td>\n",
       "    </tr>\n",
       "    <tr>\n",
       "      <th>2</th>\n",
       "      <td>SP1</td>\n",
       "      <td>22/04/2021</td>\n",
       "      <td>Sociedad</td>\n",
       "      <td>Celta</td>\n",
       "      <td>NaN</td>\n",
       "      <td>NaN</td>\n",
       "      <td>NaN</td>\n",
       "      <td>NaN</td>\n",
       "      <td>NaN</td>\n",
       "      <td>NaN</td>\n",
       "      <td>...</td>\n",
       "      <td>22</td>\n",
       "      <td>4</td>\n",
       "      <td>2021</td>\n",
       "      <td>Thursday</td>\n",
       "      <td>5</td>\n",
       "      <td>15</td>\n",
       "      <td>NaN</td>\n",
       "      <td>NaN</td>\n",
       "      <td>nan-nan</td>\n",
       "      <td>20</td>\n",
       "    </tr>\n",
       "    <tr>\n",
       "      <th>3</th>\n",
       "      <td>SP1</td>\n",
       "      <td>22/04/2021</td>\n",
       "      <td>Barcelona</td>\n",
       "      <td>Getafe</td>\n",
       "      <td>NaN</td>\n",
       "      <td>NaN</td>\n",
       "      <td>NaN</td>\n",
       "      <td>NaN</td>\n",
       "      <td>NaN</td>\n",
       "      <td>NaN</td>\n",
       "      <td>...</td>\n",
       "      <td>22</td>\n",
       "      <td>4</td>\n",
       "      <td>2021</td>\n",
       "      <td>Thursday</td>\n",
       "      <td>5</td>\n",
       "      <td>15</td>\n",
       "      <td>NaN</td>\n",
       "      <td>NaN</td>\n",
       "      <td>nan-nan</td>\n",
       "      <td>20</td>\n",
       "    </tr>\n",
       "    <tr>\n",
       "      <th>4</th>\n",
       "      <td>SP1</td>\n",
       "      <td>21/04/2021</td>\n",
       "      <td>Levante</td>\n",
       "      <td>Sevilla</td>\n",
       "      <td>NaN</td>\n",
       "      <td>NaN</td>\n",
       "      <td>NaN</td>\n",
       "      <td>NaN</td>\n",
       "      <td>NaN</td>\n",
       "      <td>NaN</td>\n",
       "      <td>...</td>\n",
       "      <td>21</td>\n",
       "      <td>4</td>\n",
       "      <td>2021</td>\n",
       "      <td>Wednesday</td>\n",
       "      <td>2</td>\n",
       "      <td>15</td>\n",
       "      <td>NaN</td>\n",
       "      <td>NaN</td>\n",
       "      <td>nan-nan</td>\n",
       "      <td>20</td>\n",
       "    </tr>\n",
       "    <tr>\n",
       "      <th>...</th>\n",
       "      <td>...</td>\n",
       "      <td>...</td>\n",
       "      <td>...</td>\n",
       "      <td>...</td>\n",
       "      <td>...</td>\n",
       "      <td>...</td>\n",
       "      <td>...</td>\n",
       "      <td>...</td>\n",
       "      <td>...</td>\n",
       "      <td>...</td>\n",
       "      <td>...</td>\n",
       "      <td>...</td>\n",
       "      <td>...</td>\n",
       "      <td>...</td>\n",
       "      <td>...</td>\n",
       "      <td>...</td>\n",
       "      <td>...</td>\n",
       "      <td>...</td>\n",
       "      <td>...</td>\n",
       "      <td>...</td>\n",
       "      <td>...</td>\n",
       "    </tr>\n",
       "    <tr>\n",
       "      <th>6005</th>\n",
       "      <td>SP1</td>\n",
       "      <td>28/08/05</td>\n",
       "      <td>Osasuna</td>\n",
       "      <td>Villarreal</td>\n",
       "      <td>2.0</td>\n",
       "      <td>1.0</td>\n",
       "      <td>H</td>\n",
       "      <td>1.0</td>\n",
       "      <td>0.0</td>\n",
       "      <td>H</td>\n",
       "      <td>...</td>\n",
       "      <td>28</td>\n",
       "      <td>8</td>\n",
       "      <td>2005</td>\n",
       "      <td>Sunday</td>\n",
       "      <td>0</td>\n",
       "      <td>0</td>\n",
       "      <td>1.0</td>\n",
       "      <td>-1.0</td>\n",
       "      <td>2.0-1.0</td>\n",
       "      <td>2</td>\n",
       "    </tr>\n",
       "    <tr>\n",
       "      <th>6006</th>\n",
       "      <td>SP1</td>\n",
       "      <td>28/08/05</td>\n",
       "      <td>Sevilla</td>\n",
       "      <td>Santander</td>\n",
       "      <td>1.0</td>\n",
       "      <td>0.0</td>\n",
       "      <td>H</td>\n",
       "      <td>1.0</td>\n",
       "      <td>0.0</td>\n",
       "      <td>H</td>\n",
       "      <td>...</td>\n",
       "      <td>28</td>\n",
       "      <td>8</td>\n",
       "      <td>2005</td>\n",
       "      <td>Sunday</td>\n",
       "      <td>0</td>\n",
       "      <td>0</td>\n",
       "      <td>1.0</td>\n",
       "      <td>-1.0</td>\n",
       "      <td>1.0-0.0</td>\n",
       "      <td>1</td>\n",
       "    </tr>\n",
       "    <tr>\n",
       "      <th>6007</th>\n",
       "      <td>SP1</td>\n",
       "      <td>27/08/05</td>\n",
       "      <td>Valencia</td>\n",
       "      <td>Betis</td>\n",
       "      <td>1.0</td>\n",
       "      <td>0.0</td>\n",
       "      <td>H</td>\n",
       "      <td>0.0</td>\n",
       "      <td>0.0</td>\n",
       "      <td>D</td>\n",
       "      <td>...</td>\n",
       "      <td>27</td>\n",
       "      <td>8</td>\n",
       "      <td>2005</td>\n",
       "      <td>Saturday</td>\n",
       "      <td>1</td>\n",
       "      <td>0</td>\n",
       "      <td>1.0</td>\n",
       "      <td>-1.0</td>\n",
       "      <td>1.0-0.0</td>\n",
       "      <td>1</td>\n",
       "    </tr>\n",
       "    <tr>\n",
       "      <th>6008</th>\n",
       "      <td>SP1</td>\n",
       "      <td>27/08/05</td>\n",
       "      <td>Ath Bilbao</td>\n",
       "      <td>Sociedad</td>\n",
       "      <td>3.0</td>\n",
       "      <td>0.0</td>\n",
       "      <td>H</td>\n",
       "      <td>0.0</td>\n",
       "      <td>0.0</td>\n",
       "      <td>D</td>\n",
       "      <td>...</td>\n",
       "      <td>27</td>\n",
       "      <td>8</td>\n",
       "      <td>2005</td>\n",
       "      <td>Saturday</td>\n",
       "      <td>1</td>\n",
       "      <td>0</td>\n",
       "      <td>3.0</td>\n",
       "      <td>-3.0</td>\n",
       "      <td>3.0-0.0</td>\n",
       "      <td>9</td>\n",
       "    </tr>\n",
       "    <tr>\n",
       "      <th>6009</th>\n",
       "      <td>SP1</td>\n",
       "      <td>27/08/05</td>\n",
       "      <td>Alaves</td>\n",
       "      <td>Barcelona</td>\n",
       "      <td>0.0</td>\n",
       "      <td>0.0</td>\n",
       "      <td>D</td>\n",
       "      <td>0.0</td>\n",
       "      <td>0.0</td>\n",
       "      <td>D</td>\n",
       "      <td>...</td>\n",
       "      <td>27</td>\n",
       "      <td>8</td>\n",
       "      <td>2005</td>\n",
       "      <td>Saturday</td>\n",
       "      <td>1</td>\n",
       "      <td>0</td>\n",
       "      <td>0.0</td>\n",
       "      <td>0.0</td>\n",
       "      <td>0.0-0.0</td>\n",
       "      <td>4</td>\n",
       "    </tr>\n",
       "  </tbody>\n",
       "</table>\n",
       "<p>6010 rows × 53 columns</p>\n",
       "</div>"
      ],
      "text/plain": [
       "      Div        Date    HomeTeam    AwayTeam  FTHG  FTAG  FTR  HTHG  HTAG  \\\n",
       "0     SP1  22/04/2021  Ath Madrid      Huesca   NaN   NaN  NaN   NaN   NaN   \n",
       "1     SP1  22/04/2021     Granada       Eibar   NaN   NaN  NaN   NaN   NaN   \n",
       "2     SP1  22/04/2021    Sociedad       Celta   NaN   NaN  NaN   NaN   NaN   \n",
       "3     SP1  22/04/2021   Barcelona      Getafe   NaN   NaN  NaN   NaN   NaN   \n",
       "4     SP1  21/04/2021     Levante     Sevilla   NaN   NaN  NaN   NaN   NaN   \n",
       "...   ...         ...         ...         ...   ...   ...  ...   ...   ...   \n",
       "6005  SP1    28/08/05     Osasuna  Villarreal   2.0   1.0    H   1.0   0.0   \n",
       "6006  SP1    28/08/05     Sevilla   Santander   1.0   0.0    H   1.0   0.0   \n",
       "6007  SP1    27/08/05    Valencia       Betis   1.0   0.0    H   0.0   0.0   \n",
       "6008  SP1    27/08/05  Ath Bilbao    Sociedad   3.0   0.0    H   0.0   0.0   \n",
       "6009  SP1    27/08/05      Alaves   Barcelona   0.0   0.0    D   0.0   0.0   \n",
       "\n",
       "      HTR  ...  Day  Month  Year    DayWeek  DayWeek_Code  Temporada_Code  \\\n",
       "0     NaN  ...   22      4  2021   Thursday             5              15   \n",
       "1     NaN  ...   22      4  2021   Thursday             5              15   \n",
       "2     NaN  ...   22      4  2021   Thursday             5              15   \n",
       "3     NaN  ...   22      4  2021   Thursday             5              15   \n",
       "4     NaN  ...   21      4  2021  Wednesday             2              15   \n",
       "...   ...  ...  ...    ...   ...        ...           ...             ...   \n",
       "6005    H  ...   28      8  2005     Sunday             0               0   \n",
       "6006    H  ...   28      8  2005     Sunday             0               0   \n",
       "6007    D  ...   27      8  2005   Saturday             1               0   \n",
       "6008    D  ...   27      8  2005   Saturday             1               0   \n",
       "6009    D  ...   27      8  2005   Saturday             1               0   \n",
       "\n",
       "      deltaFTHG  deltaFTAG  resultadoGolesFT  resultadoGolesFT_Code  \n",
       "0           NaN        NaN           nan-nan                     20  \n",
       "1           NaN        NaN           nan-nan                     20  \n",
       "2           NaN        NaN           nan-nan                     20  \n",
       "3           NaN        NaN           nan-nan                     20  \n",
       "4           NaN        NaN           nan-nan                     20  \n",
       "...         ...        ...               ...                    ...  \n",
       "6005        1.0       -1.0           2.0-1.0                      2  \n",
       "6006        1.0       -1.0           1.0-0.0                      1  \n",
       "6007        1.0       -1.0           1.0-0.0                      1  \n",
       "6008        3.0       -3.0           3.0-0.0                      9  \n",
       "6009        0.0        0.0           0.0-0.0                      4  \n",
       "\n",
       "[6010 rows x 53 columns]"
      ]
     },
     "execution_count": 55,
     "metadata": {},
     "output_type": "execute_result"
    }
   ],
   "source": [
    "liga"
   ]
  },
  {
   "cell_type": "code",
   "execution_count": 56,
   "metadata": {
    "ExecuteTime": {
     "end_time": "2021-04-15T18:29:23.264749Z",
     "start_time": "2021-04-15T18:29:22.949243Z"
    }
   },
   "outputs": [],
   "source": [
    "#liga.to_csv(path_last+'\\SP1-J'+str(jornada)+'\\SP1_Modelo5_J'+str(jornada)+'.csv')"
   ]
  },
  {
   "cell_type": "code",
   "execution_count": 57,
   "metadata": {
    "ExecuteTime": {
     "end_time": "2021-04-15T18:29:27.253869Z",
     "start_time": "2021-04-15T18:29:27.247872Z"
    }
   },
   "outputs": [
    {
     "data": {
      "text/plain": [
       "(6010, 53)"
      ]
     },
     "execution_count": 57,
     "metadata": {},
     "output_type": "execute_result"
    }
   ],
   "source": [
    "liga.shape"
   ]
  },
  {
   "cell_type": "markdown",
   "metadata": {},
   "source": [
    "## Variable puntos"
   ]
  },
  {
   "cell_type": "code",
   "execution_count": 145,
   "metadata": {
    "ExecuteTime": {
     "end_time": "2021-04-15T18:21:42.391589Z",
     "start_time": "2021-04-15T18:21:42.294585Z"
    }
   },
   "outputs": [
    {
     "data": {
      "text/plain": [
       "(5630, 53)"
      ]
     },
     "execution_count": 145,
     "metadata": {},
     "output_type": "execute_result"
    }
   ],
   "source": [
    "liga=pd.read_csv(path_last+'\\SP1-J'+str(jornada)+'\\SP1_Modelo5_J'+str(jornada)+'.csv')\n",
    "liga.drop('Unnamed: 0',axis=1,inplace=True)\n",
    "# Ponemos el campo Date1 como fecha.\n",
    "liga['Date1']=pd.to_datetime(liga['Date1'], format='%Y-%m-%d')\n",
    "liga.shape"
   ]
  },
  {
   "cell_type": "code",
   "execution_count": 58,
   "metadata": {
    "ExecuteTime": {
     "end_time": "2021-04-15T18:29:41.467986Z",
     "start_time": "2021-04-15T18:29:39.768857Z"
    }
   },
   "outputs": [
    {
     "name": "stdout",
     "output_type": "stream",
     "text": [
      "Temporada: 2020-2021\n",
      "Actualizando liga para temporada:2020-2021\n",
      "Temporada: 2019-2020\n"
     ]
    },
    {
     "name": "stderr",
     "output_type": "stream",
     "text": [
      "<ipython-input-58-a129c4189f95>:23: SettingWithCopyWarning: \n",
      "A value is trying to be set on a copy of a slice from a DataFrame\n",
      "\n",
      "See the caveats in the documentation: https://pandas.pydata.org/pandas-docs/stable/user_guide/indexing.html#returning-a-view-versus-a-copy\n",
      "  _liga['PuntosHomeTeam'][x]=marcador[ _liga['HomeTeam'][x] ]\n",
      "<ipython-input-58-a129c4189f95>:24: SettingWithCopyWarning: \n",
      "A value is trying to be set on a copy of a slice from a DataFrame\n",
      "\n",
      "See the caveats in the documentation: https://pandas.pydata.org/pandas-docs/stable/user_guide/indexing.html#returning-a-view-versus-a-copy\n",
      "  _liga['PuntosAwayTeam'][x]=marcador[ _liga['AwayTeam'][x] ]\n"
     ]
    },
    {
     "name": "stdout",
     "output_type": "stream",
     "text": [
      "Actualizando liga para temporada:2019-2020\n",
      "Temporada: 2018-2019\n",
      "Actualizando liga para temporada:2018-2019\n",
      "Temporada: 2017-2018\n",
      "Actualizando liga para temporada:2017-2018\n",
      "Temporada: 2016-2017\n",
      "Actualizando liga para temporada:2016-2017\n",
      "Temporada: 2015-2016\n",
      "Actualizando liga para temporada:2015-2016\n",
      "Temporada: 2014-2015\n",
      "Actualizando liga para temporada:2014-2015\n",
      "Temporada: 2013-2014\n",
      "Actualizando liga para temporada:2013-2014\n",
      "Temporada: 2012-2013\n",
      "Actualizando liga para temporada:2012-2013\n",
      "Temporada: 2011-2012\n",
      "Actualizando liga para temporada:2011-2012\n",
      "Temporada: 2010-2011\n",
      "Actualizando liga para temporada:2010-2011\n",
      "Temporada: 2009-2010\n",
      "Actualizando liga para temporada:2009-2010\n",
      "Temporada: 2008-2009\n",
      "Actualizando liga para temporada:2008-2009\n",
      "Temporada: 2007-2008\n",
      "Actualizando liga para temporada:2007-2008\n",
      "Temporada: 2006-2007\n",
      "Actualizando liga para temporada:2006-2007\n",
      "Temporada: 2005-2006\n",
      "Actualizando liga para temporada:2005-2006\n"
     ]
    }
   ],
   "source": [
    "# Recorremos todas las temporadas\n",
    "for y in liga['Temporada'].unique():\n",
    "    print('Temporada: '+str(y))\n",
    "    # Definimos las variables auxiliares\n",
    "    marcador={}\n",
    "    _liga=liga[liga['Temporada']==y][['Date1','HomeTeam','AwayTeam','ResultadoFT','ResultadoHT']]\n",
    "    _liga['PuntosHomeTeam']=0\n",
    "    _liga['PuntosAwayTeam']=0\n",
    "    # Cargamos los equipos que juegan la liga esta temporada\n",
    "    for x in list(_liga['HomeTeam'].unique()):\n",
    "        marcador[x]=0\n",
    "    #Recorremos por el inidce y (fila a fila)\n",
    "    for x in range(max(_liga.index),min(_liga.index)-1,-1):\n",
    "        # Sumamos los puntos:\n",
    "        if (_liga['ResultadoFT'][x]==1):\n",
    "            marcador[ _liga['HomeTeam'][x] ]+= 3\n",
    "        elif  (_liga['ResultadoFT'][x]==2):   \n",
    "            marcador[ _liga['HomeTeam'][x] ]+= 1\n",
    "            marcador[ _liga['AwayTeam'][x] ]+= 1    \n",
    "        else:\n",
    "             marcador[ _liga['AwayTeam'][x] ]+=3\n",
    "        # Actualizamos los marcadores en el dataset auxiliar para esta temporada\n",
    "        _liga['PuntosHomeTeam'][x]=marcador[ _liga['HomeTeam'][x] ]\n",
    "        _liga['PuntosAwayTeam'][x]=marcador[ _liga['AwayTeam'][x] ]\n",
    "    print('Actualizando liga para temporada:'+str(y))\n",
    "    liga.loc[liga['Temporada']==y,'PuntosHomeTeam']=_liga['PuntosHomeTeam']\n",
    "    liga.loc[liga['Temporada']==y,'PuntosAwayTeam']=_liga['PuntosAwayTeam']    "
   ]
  },
  {
   "cell_type": "code",
   "execution_count": 59,
   "metadata": {
    "ExecuteTime": {
     "end_time": "2021-04-15T18:29:44.702849Z",
     "start_time": "2021-04-15T18:29:44.691847Z"
    }
   },
   "outputs": [
    {
     "data": {
      "text/plain": [
       "Div                       0\n",
       "Date                      0\n",
       "HomeTeam                  0\n",
       "AwayTeam                  0\n",
       "FTHG                     10\n",
       "FTAG                     10\n",
       "FTR                      10\n",
       "HTHG                     10\n",
       "HTAG                     10\n",
       "HTR                      10\n",
       "HS                       10\n",
       "AS                       10\n",
       "HST                      10\n",
       "AST                      10\n",
       "HF                       10\n",
       "AF                       10\n",
       "HC                       10\n",
       "AC                       10\n",
       "HY                       10\n",
       "AY                       10\n",
       "HR                       10\n",
       "AR                       10\n",
       "B365H                    10\n",
       "B365D                    10\n",
       "B365A                    10\n",
       "BWH                      10\n",
       "BWD                      10\n",
       "BWA                      10\n",
       "IWH                      10\n",
       "IWD                      10\n",
       "IWA                      10\n",
       "WHH                      10\n",
       "WHD                      10\n",
       "WHA                      10\n",
       "VCH                      10\n",
       "VCD                      10\n",
       "VCA                      10\n",
       "Date1                     0\n",
       "Temporada                 0\n",
       "HomeTeamCode              0\n",
       "AwayTeamCode              0\n",
       "ResultadoFT              10\n",
       "ResultadoHT              10\n",
       "Day                       0\n",
       "Month                     0\n",
       "Year                      0\n",
       "DayWeek                   0\n",
       "DayWeek_Code              0\n",
       "Temporada_Code            0\n",
       "deltaFTHG                10\n",
       "deltaFTAG                10\n",
       "resultadoGolesFT          0\n",
       "resultadoGolesFT_Code     0\n",
       "PuntosHomeTeam            0\n",
       "PuntosAwayTeam            0\n",
       "dtype: int64"
      ]
     },
     "execution_count": 59,
     "metadata": {},
     "output_type": "execute_result"
    }
   ],
   "source": [
    "liga.isnull().sum()"
   ]
  },
  {
   "cell_type": "code",
   "execution_count": 60,
   "metadata": {
    "ExecuteTime": {
     "end_time": "2021-04-15T18:29:48.289826Z",
     "start_time": "2021-04-15T18:29:48.284826Z"
    }
   },
   "outputs": [
    {
     "data": {
      "text/plain": [
       "(6010, 55)"
      ]
     },
     "execution_count": 60,
     "metadata": {},
     "output_type": "execute_result"
    }
   ],
   "source": [
    "liga.shape"
   ]
  },
  {
   "cell_type": "code",
   "execution_count": 61,
   "metadata": {
    "ExecuteTime": {
     "end_time": "2021-04-15T18:29:51.174997Z",
     "start_time": "2021-04-15T18:29:51.122996Z"
    }
   },
   "outputs": [
    {
     "data": {
      "text/html": [
       "<div>\n",
       "<style scoped>\n",
       "    .dataframe tbody tr th:only-of-type {\n",
       "        vertical-align: middle;\n",
       "    }\n",
       "\n",
       "    .dataframe tbody tr th {\n",
       "        vertical-align: top;\n",
       "    }\n",
       "\n",
       "    .dataframe thead th {\n",
       "        text-align: right;\n",
       "    }\n",
       "</style>\n",
       "<table border=\"1\" class=\"dataframe\">\n",
       "  <thead>\n",
       "    <tr style=\"text-align: right;\">\n",
       "      <th></th>\n",
       "      <th>Div</th>\n",
       "      <th>Date</th>\n",
       "      <th>HomeTeam</th>\n",
       "      <th>AwayTeam</th>\n",
       "      <th>FTHG</th>\n",
       "      <th>FTAG</th>\n",
       "      <th>FTR</th>\n",
       "      <th>HTHG</th>\n",
       "      <th>HTAG</th>\n",
       "      <th>HTR</th>\n",
       "      <th>...</th>\n",
       "      <th>Year</th>\n",
       "      <th>DayWeek</th>\n",
       "      <th>DayWeek_Code</th>\n",
       "      <th>Temporada_Code</th>\n",
       "      <th>deltaFTHG</th>\n",
       "      <th>deltaFTAG</th>\n",
       "      <th>resultadoGolesFT</th>\n",
       "      <th>resultadoGolesFT_Code</th>\n",
       "      <th>PuntosHomeTeam</th>\n",
       "      <th>PuntosAwayTeam</th>\n",
       "    </tr>\n",
       "  </thead>\n",
       "  <tbody>\n",
       "    <tr>\n",
       "      <th>310</th>\n",
       "      <td>SP1</td>\n",
       "      <td>19/07/2020</td>\n",
       "      <td>Sevilla</td>\n",
       "      <td>Valencia</td>\n",
       "      <td>1.0</td>\n",
       "      <td>0.0</td>\n",
       "      <td>H</td>\n",
       "      <td>0.0</td>\n",
       "      <td>0.0</td>\n",
       "      <td>D</td>\n",
       "      <td>...</td>\n",
       "      <td>2020</td>\n",
       "      <td>Sunday</td>\n",
       "      <td>0</td>\n",
       "      <td>14</td>\n",
       "      <td>1.0</td>\n",
       "      <td>-1.0</td>\n",
       "      <td>1.0-0.0</td>\n",
       "      <td>1</td>\n",
       "      <td>70.0</td>\n",
       "      <td>53.0</td>\n",
       "    </tr>\n",
       "    <tr>\n",
       "      <th>311</th>\n",
       "      <td>SP1</td>\n",
       "      <td>19/07/2020</td>\n",
       "      <td>Espanol</td>\n",
       "      <td>Celta</td>\n",
       "      <td>0.0</td>\n",
       "      <td>0.0</td>\n",
       "      <td>D</td>\n",
       "      <td>0.0</td>\n",
       "      <td>0.0</td>\n",
       "      <td>D</td>\n",
       "      <td>...</td>\n",
       "      <td>2020</td>\n",
       "      <td>Sunday</td>\n",
       "      <td>0</td>\n",
       "      <td>14</td>\n",
       "      <td>0.0</td>\n",
       "      <td>0.0</td>\n",
       "      <td>0.0-0.0</td>\n",
       "      <td>4</td>\n",
       "      <td>25.0</td>\n",
       "      <td>37.0</td>\n",
       "    </tr>\n",
       "    <tr>\n",
       "      <th>312</th>\n",
       "      <td>SP1</td>\n",
       "      <td>19/07/2020</td>\n",
       "      <td>Valladolid</td>\n",
       "      <td>Betis</td>\n",
       "      <td>2.0</td>\n",
       "      <td>0.0</td>\n",
       "      <td>H</td>\n",
       "      <td>1.0</td>\n",
       "      <td>0.0</td>\n",
       "      <td>H</td>\n",
       "      <td>...</td>\n",
       "      <td>2020</td>\n",
       "      <td>Sunday</td>\n",
       "      <td>0</td>\n",
       "      <td>14</td>\n",
       "      <td>2.0</td>\n",
       "      <td>-2.0</td>\n",
       "      <td>2.0-0.0</td>\n",
       "      <td>3</td>\n",
       "      <td>42.0</td>\n",
       "      <td>41.0</td>\n",
       "    </tr>\n",
       "    <tr>\n",
       "      <th>313</th>\n",
       "      <td>SP1</td>\n",
       "      <td>19/07/2020</td>\n",
       "      <td>Villarreal</td>\n",
       "      <td>Eibar</td>\n",
       "      <td>4.0</td>\n",
       "      <td>0.0</td>\n",
       "      <td>H</td>\n",
       "      <td>0.0</td>\n",
       "      <td>0.0</td>\n",
       "      <td>D</td>\n",
       "      <td>...</td>\n",
       "      <td>2020</td>\n",
       "      <td>Sunday</td>\n",
       "      <td>0</td>\n",
       "      <td>14</td>\n",
       "      <td>4.0</td>\n",
       "      <td>-4.0</td>\n",
       "      <td>4.0-0.0</td>\n",
       "      <td>13</td>\n",
       "      <td>60.0</td>\n",
       "      <td>42.0</td>\n",
       "    </tr>\n",
       "    <tr>\n",
       "      <th>314</th>\n",
       "      <td>SP1</td>\n",
       "      <td>19/07/2020</td>\n",
       "      <td>Ath Madrid</td>\n",
       "      <td>Sociedad</td>\n",
       "      <td>1.0</td>\n",
       "      <td>1.0</td>\n",
       "      <td>D</td>\n",
       "      <td>1.0</td>\n",
       "      <td>0.0</td>\n",
       "      <td>H</td>\n",
       "      <td>...</td>\n",
       "      <td>2020</td>\n",
       "      <td>Sunday</td>\n",
       "      <td>0</td>\n",
       "      <td>14</td>\n",
       "      <td>0.0</td>\n",
       "      <td>0.0</td>\n",
       "      <td>1.0-1.0</td>\n",
       "      <td>0</td>\n",
       "      <td>70.0</td>\n",
       "      <td>56.0</td>\n",
       "    </tr>\n",
       "    <tr>\n",
       "      <th>...</th>\n",
       "      <td>...</td>\n",
       "      <td>...</td>\n",
       "      <td>...</td>\n",
       "      <td>...</td>\n",
       "      <td>...</td>\n",
       "      <td>...</td>\n",
       "      <td>...</td>\n",
       "      <td>...</td>\n",
       "      <td>...</td>\n",
       "      <td>...</td>\n",
       "      <td>...</td>\n",
       "      <td>...</td>\n",
       "      <td>...</td>\n",
       "      <td>...</td>\n",
       "      <td>...</td>\n",
       "      <td>...</td>\n",
       "      <td>...</td>\n",
       "      <td>...</td>\n",
       "      <td>...</td>\n",
       "      <td>...</td>\n",
       "      <td>...</td>\n",
       "    </tr>\n",
       "    <tr>\n",
       "      <th>685</th>\n",
       "      <td>SP1</td>\n",
       "      <td>17/08/2019</td>\n",
       "      <td>Valencia</td>\n",
       "      <td>Sociedad</td>\n",
       "      <td>1.0</td>\n",
       "      <td>1.0</td>\n",
       "      <td>D</td>\n",
       "      <td>0.0</td>\n",
       "      <td>0.0</td>\n",
       "      <td>D</td>\n",
       "      <td>...</td>\n",
       "      <td>2019</td>\n",
       "      <td>Saturday</td>\n",
       "      <td>1</td>\n",
       "      <td>14</td>\n",
       "      <td>0.0</td>\n",
       "      <td>0.0</td>\n",
       "      <td>1.0-1.0</td>\n",
       "      <td>0</td>\n",
       "      <td>1.0</td>\n",
       "      <td>1.0</td>\n",
       "    </tr>\n",
       "    <tr>\n",
       "      <th>686</th>\n",
       "      <td>SP1</td>\n",
       "      <td>17/08/2019</td>\n",
       "      <td>Celta</td>\n",
       "      <td>Real Madrid</td>\n",
       "      <td>1.0</td>\n",
       "      <td>3.0</td>\n",
       "      <td>A</td>\n",
       "      <td>0.0</td>\n",
       "      <td>1.0</td>\n",
       "      <td>A</td>\n",
       "      <td>...</td>\n",
       "      <td>2019</td>\n",
       "      <td>Saturday</td>\n",
       "      <td>1</td>\n",
       "      <td>14</td>\n",
       "      <td>-2.0</td>\n",
       "      <td>2.0</td>\n",
       "      <td>1.0-3.0</td>\n",
       "      <td>12</td>\n",
       "      <td>0.0</td>\n",
       "      <td>3.0</td>\n",
       "    </tr>\n",
       "    <tr>\n",
       "      <th>687</th>\n",
       "      <td>SP1</td>\n",
       "      <td>17/08/2019</td>\n",
       "      <td>Leganes</td>\n",
       "      <td>Osasuna</td>\n",
       "      <td>0.0</td>\n",
       "      <td>1.0</td>\n",
       "      <td>A</td>\n",
       "      <td>0.0</td>\n",
       "      <td>0.0</td>\n",
       "      <td>D</td>\n",
       "      <td>...</td>\n",
       "      <td>2019</td>\n",
       "      <td>Saturday</td>\n",
       "      <td>1</td>\n",
       "      <td>14</td>\n",
       "      <td>-1.0</td>\n",
       "      <td>1.0</td>\n",
       "      <td>0.0-1.0</td>\n",
       "      <td>5</td>\n",
       "      <td>0.0</td>\n",
       "      <td>3.0</td>\n",
       "    </tr>\n",
       "    <tr>\n",
       "      <th>688</th>\n",
       "      <td>SP1</td>\n",
       "      <td>17/08/2019</td>\n",
       "      <td>Villarreal</td>\n",
       "      <td>Granada</td>\n",
       "      <td>4.0</td>\n",
       "      <td>4.0</td>\n",
       "      <td>D</td>\n",
       "      <td>1.0</td>\n",
       "      <td>1.0</td>\n",
       "      <td>D</td>\n",
       "      <td>...</td>\n",
       "      <td>2019</td>\n",
       "      <td>Saturday</td>\n",
       "      <td>1</td>\n",
       "      <td>14</td>\n",
       "      <td>0.0</td>\n",
       "      <td>0.0</td>\n",
       "      <td>4.0-4.0</td>\n",
       "      <td>20</td>\n",
       "      <td>1.0</td>\n",
       "      <td>1.0</td>\n",
       "    </tr>\n",
       "    <tr>\n",
       "      <th>689</th>\n",
       "      <td>SP1</td>\n",
       "      <td>16/08/2019</td>\n",
       "      <td>Ath Bilbao</td>\n",
       "      <td>Barcelona</td>\n",
       "      <td>1.0</td>\n",
       "      <td>0.0</td>\n",
       "      <td>H</td>\n",
       "      <td>0.0</td>\n",
       "      <td>0.0</td>\n",
       "      <td>D</td>\n",
       "      <td>...</td>\n",
       "      <td>2019</td>\n",
       "      <td>Friday</td>\n",
       "      <td>4</td>\n",
       "      <td>14</td>\n",
       "      <td>1.0</td>\n",
       "      <td>-1.0</td>\n",
       "      <td>1.0-0.0</td>\n",
       "      <td>1</td>\n",
       "      <td>3.0</td>\n",
       "      <td>0.0</td>\n",
       "    </tr>\n",
       "  </tbody>\n",
       "</table>\n",
       "<p>380 rows × 55 columns</p>\n",
       "</div>"
      ],
      "text/plain": [
       "     Div        Date    HomeTeam     AwayTeam  FTHG  FTAG FTR  HTHG  HTAG HTR  \\\n",
       "310  SP1  19/07/2020     Sevilla     Valencia   1.0   0.0   H   0.0   0.0   D   \n",
       "311  SP1  19/07/2020     Espanol        Celta   0.0   0.0   D   0.0   0.0   D   \n",
       "312  SP1  19/07/2020  Valladolid        Betis   2.0   0.0   H   1.0   0.0   H   \n",
       "313  SP1  19/07/2020  Villarreal        Eibar   4.0   0.0   H   0.0   0.0   D   \n",
       "314  SP1  19/07/2020  Ath Madrid     Sociedad   1.0   1.0   D   1.0   0.0   H   \n",
       "..   ...         ...         ...          ...   ...   ...  ..   ...   ...  ..   \n",
       "685  SP1  17/08/2019    Valencia     Sociedad   1.0   1.0   D   0.0   0.0   D   \n",
       "686  SP1  17/08/2019       Celta  Real Madrid   1.0   3.0   A   0.0   1.0   A   \n",
       "687  SP1  17/08/2019     Leganes      Osasuna   0.0   1.0   A   0.0   0.0   D   \n",
       "688  SP1  17/08/2019  Villarreal      Granada   4.0   4.0   D   1.0   1.0   D   \n",
       "689  SP1  16/08/2019  Ath Bilbao    Barcelona   1.0   0.0   H   0.0   0.0   D   \n",
       "\n",
       "     ...  Year   DayWeek  DayWeek_Code  Temporada_Code  deltaFTHG  deltaFTAG  \\\n",
       "310  ...  2020    Sunday             0              14        1.0       -1.0   \n",
       "311  ...  2020    Sunday             0              14        0.0        0.0   \n",
       "312  ...  2020    Sunday             0              14        2.0       -2.0   \n",
       "313  ...  2020    Sunday             0              14        4.0       -4.0   \n",
       "314  ...  2020    Sunday             0              14        0.0        0.0   \n",
       "..   ...   ...       ...           ...             ...        ...        ...   \n",
       "685  ...  2019  Saturday             1              14        0.0        0.0   \n",
       "686  ...  2019  Saturday             1              14       -2.0        2.0   \n",
       "687  ...  2019  Saturday             1              14       -1.0        1.0   \n",
       "688  ...  2019  Saturday             1              14        0.0        0.0   \n",
       "689  ...  2019    Friday             4              14        1.0       -1.0   \n",
       "\n",
       "     resultadoGolesFT  resultadoGolesFT_Code  PuntosHomeTeam  PuntosAwayTeam  \n",
       "310           1.0-0.0                      1            70.0            53.0  \n",
       "311           0.0-0.0                      4            25.0            37.0  \n",
       "312           2.0-0.0                      3            42.0            41.0  \n",
       "313           4.0-0.0                     13            60.0            42.0  \n",
       "314           1.0-1.0                      0            70.0            56.0  \n",
       "..                ...                    ...             ...             ...  \n",
       "685           1.0-1.0                      0             1.0             1.0  \n",
       "686           1.0-3.0                     12             0.0             3.0  \n",
       "687           0.0-1.0                      5             0.0             3.0  \n",
       "688           4.0-4.0                     20             1.0             1.0  \n",
       "689           1.0-0.0                      1             3.0             0.0  \n",
       "\n",
       "[380 rows x 55 columns]"
      ]
     },
     "execution_count": 61,
     "metadata": {},
     "output_type": "execute_result"
    }
   ],
   "source": [
    "liga[liga['Temporada']=='2019-2020']"
   ]
  },
  {
   "cell_type": "code",
   "execution_count": 62,
   "metadata": {
    "ExecuteTime": {
     "end_time": "2021-04-15T18:30:11.697854Z",
     "start_time": "2021-04-15T18:30:11.636853Z"
    }
   },
   "outputs": [
    {
     "data": {
      "text/html": [
       "<div>\n",
       "<style scoped>\n",
       "    .dataframe tbody tr th:only-of-type {\n",
       "        vertical-align: middle;\n",
       "    }\n",
       "\n",
       "    .dataframe tbody tr th {\n",
       "        vertical-align: top;\n",
       "    }\n",
       "\n",
       "    .dataframe thead th {\n",
       "        text-align: right;\n",
       "    }\n",
       "</style>\n",
       "<table border=\"1\" class=\"dataframe\">\n",
       "  <thead>\n",
       "    <tr style=\"text-align: right;\">\n",
       "      <th></th>\n",
       "      <th>Div</th>\n",
       "      <th>Date</th>\n",
       "      <th>HomeTeam</th>\n",
       "      <th>AwayTeam</th>\n",
       "      <th>FTHG</th>\n",
       "      <th>FTAG</th>\n",
       "      <th>FTR</th>\n",
       "      <th>HTHG</th>\n",
       "      <th>HTAG</th>\n",
       "      <th>HTR</th>\n",
       "      <th>...</th>\n",
       "      <th>Year</th>\n",
       "      <th>DayWeek</th>\n",
       "      <th>DayWeek_Code</th>\n",
       "      <th>Temporada_Code</th>\n",
       "      <th>deltaFTHG</th>\n",
       "      <th>deltaFTAG</th>\n",
       "      <th>resultadoGolesFT</th>\n",
       "      <th>resultadoGolesFT_Code</th>\n",
       "      <th>PuntosHomeTeam</th>\n",
       "      <th>PuntosAwayTeam</th>\n",
       "    </tr>\n",
       "  </thead>\n",
       "  <tbody>\n",
       "    <tr>\n",
       "      <th>1070</th>\n",
       "      <td>SP1</td>\n",
       "      <td>20/05/18</td>\n",
       "      <td>Valencia</td>\n",
       "      <td>La Coruna</td>\n",
       "      <td>2.0</td>\n",
       "      <td>1.0</td>\n",
       "      <td>H</td>\n",
       "      <td>1.0</td>\n",
       "      <td>0.0</td>\n",
       "      <td>H</td>\n",
       "      <td>...</td>\n",
       "      <td>2018</td>\n",
       "      <td>Sunday</td>\n",
       "      <td>0</td>\n",
       "      <td>12</td>\n",
       "      <td>1.0</td>\n",
       "      <td>-1.0</td>\n",
       "      <td>2.0-1.0</td>\n",
       "      <td>2</td>\n",
       "      <td>73.0</td>\n",
       "      <td>29.0</td>\n",
       "    </tr>\n",
       "    <tr>\n",
       "      <th>1071</th>\n",
       "      <td>SP1</td>\n",
       "      <td>20/05/18</td>\n",
       "      <td>Barcelona</td>\n",
       "      <td>Sociedad</td>\n",
       "      <td>1.0</td>\n",
       "      <td>0.0</td>\n",
       "      <td>H</td>\n",
       "      <td>0.0</td>\n",
       "      <td>0.0</td>\n",
       "      <td>D</td>\n",
       "      <td>...</td>\n",
       "      <td>2018</td>\n",
       "      <td>Sunday</td>\n",
       "      <td>0</td>\n",
       "      <td>12</td>\n",
       "      <td>1.0</td>\n",
       "      <td>-1.0</td>\n",
       "      <td>1.0-0.0</td>\n",
       "      <td>1</td>\n",
       "      <td>93.0</td>\n",
       "      <td>49.0</td>\n",
       "    </tr>\n",
       "    <tr>\n",
       "      <th>1072</th>\n",
       "      <td>SP1</td>\n",
       "      <td>20/05/18</td>\n",
       "      <td>Ath Madrid</td>\n",
       "      <td>Eibar</td>\n",
       "      <td>2.0</td>\n",
       "      <td>2.0</td>\n",
       "      <td>D</td>\n",
       "      <td>1.0</td>\n",
       "      <td>1.0</td>\n",
       "      <td>D</td>\n",
       "      <td>...</td>\n",
       "      <td>2018</td>\n",
       "      <td>Sunday</td>\n",
       "      <td>0</td>\n",
       "      <td>12</td>\n",
       "      <td>0.0</td>\n",
       "      <td>0.0</td>\n",
       "      <td>2.0-2.0</td>\n",
       "      <td>8</td>\n",
       "      <td>79.0</td>\n",
       "      <td>51.0</td>\n",
       "    </tr>\n",
       "    <tr>\n",
       "      <th>1073</th>\n",
       "      <td>SP1</td>\n",
       "      <td>20/05/18</td>\n",
       "      <td>Ath Bilbao</td>\n",
       "      <td>Espanol</td>\n",
       "      <td>0.0</td>\n",
       "      <td>1.0</td>\n",
       "      <td>A</td>\n",
       "      <td>0.0</td>\n",
       "      <td>1.0</td>\n",
       "      <td>A</td>\n",
       "      <td>...</td>\n",
       "      <td>2018</td>\n",
       "      <td>Sunday</td>\n",
       "      <td>0</td>\n",
       "      <td>12</td>\n",
       "      <td>-1.0</td>\n",
       "      <td>1.0</td>\n",
       "      <td>0.0-1.0</td>\n",
       "      <td>5</td>\n",
       "      <td>43.0</td>\n",
       "      <td>49.0</td>\n",
       "    </tr>\n",
       "    <tr>\n",
       "      <th>1074</th>\n",
       "      <td>SP1</td>\n",
       "      <td>19/05/18</td>\n",
       "      <td>Malaga</td>\n",
       "      <td>Getafe</td>\n",
       "      <td>0.0</td>\n",
       "      <td>1.0</td>\n",
       "      <td>A</td>\n",
       "      <td>0.0</td>\n",
       "      <td>0.0</td>\n",
       "      <td>D</td>\n",
       "      <td>...</td>\n",
       "      <td>2018</td>\n",
       "      <td>Saturday</td>\n",
       "      <td>1</td>\n",
       "      <td>12</td>\n",
       "      <td>-1.0</td>\n",
       "      <td>1.0</td>\n",
       "      <td>0.0-1.0</td>\n",
       "      <td>5</td>\n",
       "      <td>20.0</td>\n",
       "      <td>55.0</td>\n",
       "    </tr>\n",
       "    <tr>\n",
       "      <th>...</th>\n",
       "      <td>...</td>\n",
       "      <td>...</td>\n",
       "      <td>...</td>\n",
       "      <td>...</td>\n",
       "      <td>...</td>\n",
       "      <td>...</td>\n",
       "      <td>...</td>\n",
       "      <td>...</td>\n",
       "      <td>...</td>\n",
       "      <td>...</td>\n",
       "      <td>...</td>\n",
       "      <td>...</td>\n",
       "      <td>...</td>\n",
       "      <td>...</td>\n",
       "      <td>...</td>\n",
       "      <td>...</td>\n",
       "      <td>...</td>\n",
       "      <td>...</td>\n",
       "      <td>...</td>\n",
       "      <td>...</td>\n",
       "      <td>...</td>\n",
       "    </tr>\n",
       "    <tr>\n",
       "      <th>1445</th>\n",
       "      <td>SP1</td>\n",
       "      <td>19/08/17</td>\n",
       "      <td>Sevilla</td>\n",
       "      <td>Espanol</td>\n",
       "      <td>1.0</td>\n",
       "      <td>1.0</td>\n",
       "      <td>D</td>\n",
       "      <td>1.0</td>\n",
       "      <td>1.0</td>\n",
       "      <td>D</td>\n",
       "      <td>...</td>\n",
       "      <td>2017</td>\n",
       "      <td>Saturday</td>\n",
       "      <td>1</td>\n",
       "      <td>12</td>\n",
       "      <td>0.0</td>\n",
       "      <td>0.0</td>\n",
       "      <td>1.0-1.0</td>\n",
       "      <td>0</td>\n",
       "      <td>1.0</td>\n",
       "      <td>1.0</td>\n",
       "    </tr>\n",
       "    <tr>\n",
       "      <th>1446</th>\n",
       "      <td>SP1</td>\n",
       "      <td>19/08/17</td>\n",
       "      <td>Celta</td>\n",
       "      <td>Sociedad</td>\n",
       "      <td>2.0</td>\n",
       "      <td>3.0</td>\n",
       "      <td>A</td>\n",
       "      <td>1.0</td>\n",
       "      <td>1.0</td>\n",
       "      <td>D</td>\n",
       "      <td>...</td>\n",
       "      <td>2017</td>\n",
       "      <td>Saturday</td>\n",
       "      <td>1</td>\n",
       "      <td>12</td>\n",
       "      <td>-1.0</td>\n",
       "      <td>1.0</td>\n",
       "      <td>2.0-3.0</td>\n",
       "      <td>15</td>\n",
       "      <td>0.0</td>\n",
       "      <td>3.0</td>\n",
       "    </tr>\n",
       "    <tr>\n",
       "      <th>1447</th>\n",
       "      <td>SP1</td>\n",
       "      <td>19/08/17</td>\n",
       "      <td>Girona</td>\n",
       "      <td>Ath Madrid</td>\n",
       "      <td>2.0</td>\n",
       "      <td>2.0</td>\n",
       "      <td>D</td>\n",
       "      <td>2.0</td>\n",
       "      <td>0.0</td>\n",
       "      <td>H</td>\n",
       "      <td>...</td>\n",
       "      <td>2017</td>\n",
       "      <td>Saturday</td>\n",
       "      <td>1</td>\n",
       "      <td>12</td>\n",
       "      <td>0.0</td>\n",
       "      <td>0.0</td>\n",
       "      <td>2.0-2.0</td>\n",
       "      <td>8</td>\n",
       "      <td>1.0</td>\n",
       "      <td>1.0</td>\n",
       "    </tr>\n",
       "    <tr>\n",
       "      <th>1448</th>\n",
       "      <td>SP1</td>\n",
       "      <td>18/08/17</td>\n",
       "      <td>Valencia</td>\n",
       "      <td>Las Palmas</td>\n",
       "      <td>1.0</td>\n",
       "      <td>0.0</td>\n",
       "      <td>H</td>\n",
       "      <td>1.0</td>\n",
       "      <td>0.0</td>\n",
       "      <td>H</td>\n",
       "      <td>...</td>\n",
       "      <td>2017</td>\n",
       "      <td>Friday</td>\n",
       "      <td>4</td>\n",
       "      <td>12</td>\n",
       "      <td>1.0</td>\n",
       "      <td>-1.0</td>\n",
       "      <td>1.0-0.0</td>\n",
       "      <td>1</td>\n",
       "      <td>3.0</td>\n",
       "      <td>0.0</td>\n",
       "    </tr>\n",
       "    <tr>\n",
       "      <th>1449</th>\n",
       "      <td>SP1</td>\n",
       "      <td>18/08/17</td>\n",
       "      <td>Leganes</td>\n",
       "      <td>Alaves</td>\n",
       "      <td>1.0</td>\n",
       "      <td>0.0</td>\n",
       "      <td>H</td>\n",
       "      <td>1.0</td>\n",
       "      <td>0.0</td>\n",
       "      <td>H</td>\n",
       "      <td>...</td>\n",
       "      <td>2017</td>\n",
       "      <td>Friday</td>\n",
       "      <td>4</td>\n",
       "      <td>12</td>\n",
       "      <td>1.0</td>\n",
       "      <td>-1.0</td>\n",
       "      <td>1.0-0.0</td>\n",
       "      <td>1</td>\n",
       "      <td>3.0</td>\n",
       "      <td>0.0</td>\n",
       "    </tr>\n",
       "  </tbody>\n",
       "</table>\n",
       "<p>380 rows × 55 columns</p>\n",
       "</div>"
      ],
      "text/plain": [
       "      Div      Date    HomeTeam    AwayTeam  FTHG  FTAG FTR  HTHG  HTAG HTR  \\\n",
       "1070  SP1  20/05/18    Valencia   La Coruna   2.0   1.0   H   1.0   0.0   H   \n",
       "1071  SP1  20/05/18   Barcelona    Sociedad   1.0   0.0   H   0.0   0.0   D   \n",
       "1072  SP1  20/05/18  Ath Madrid       Eibar   2.0   2.0   D   1.0   1.0   D   \n",
       "1073  SP1  20/05/18  Ath Bilbao     Espanol   0.0   1.0   A   0.0   1.0   A   \n",
       "1074  SP1  19/05/18      Malaga      Getafe   0.0   1.0   A   0.0   0.0   D   \n",
       "...   ...       ...         ...         ...   ...   ...  ..   ...   ...  ..   \n",
       "1445  SP1  19/08/17     Sevilla     Espanol   1.0   1.0   D   1.0   1.0   D   \n",
       "1446  SP1  19/08/17       Celta    Sociedad   2.0   3.0   A   1.0   1.0   D   \n",
       "1447  SP1  19/08/17      Girona  Ath Madrid   2.0   2.0   D   2.0   0.0   H   \n",
       "1448  SP1  18/08/17    Valencia  Las Palmas   1.0   0.0   H   1.0   0.0   H   \n",
       "1449  SP1  18/08/17     Leganes      Alaves   1.0   0.0   H   1.0   0.0   H   \n",
       "\n",
       "      ...  Year   DayWeek  DayWeek_Code  Temporada_Code  deltaFTHG  deltaFTAG  \\\n",
       "1070  ...  2018    Sunday             0              12        1.0       -1.0   \n",
       "1071  ...  2018    Sunday             0              12        1.0       -1.0   \n",
       "1072  ...  2018    Sunday             0              12        0.0        0.0   \n",
       "1073  ...  2018    Sunday             0              12       -1.0        1.0   \n",
       "1074  ...  2018  Saturday             1              12       -1.0        1.0   \n",
       "...   ...   ...       ...           ...             ...        ...        ...   \n",
       "1445  ...  2017  Saturday             1              12        0.0        0.0   \n",
       "1446  ...  2017  Saturday             1              12       -1.0        1.0   \n",
       "1447  ...  2017  Saturday             1              12        0.0        0.0   \n",
       "1448  ...  2017    Friday             4              12        1.0       -1.0   \n",
       "1449  ...  2017    Friday             4              12        1.0       -1.0   \n",
       "\n",
       "      resultadoGolesFT  resultadoGolesFT_Code  PuntosHomeTeam  PuntosAwayTeam  \n",
       "1070           2.0-1.0                      2            73.0            29.0  \n",
       "1071           1.0-0.0                      1            93.0            49.0  \n",
       "1072           2.0-2.0                      8            79.0            51.0  \n",
       "1073           0.0-1.0                      5            43.0            49.0  \n",
       "1074           0.0-1.0                      5            20.0            55.0  \n",
       "...                ...                    ...             ...             ...  \n",
       "1445           1.0-1.0                      0             1.0             1.0  \n",
       "1446           2.0-3.0                     15             0.0             3.0  \n",
       "1447           2.0-2.0                      8             1.0             1.0  \n",
       "1448           1.0-0.0                      1             3.0             0.0  \n",
       "1449           1.0-0.0                      1             3.0             0.0  \n",
       "\n",
       "[380 rows x 55 columns]"
      ]
     },
     "execution_count": 62,
     "metadata": {},
     "output_type": "execute_result"
    }
   ],
   "source": [
    "liga[liga['Temporada']=='2017-2018']"
   ]
  },
  {
   "cell_type": "code",
   "execution_count": 152,
   "metadata": {
    "ExecuteTime": {
     "end_time": "2021-04-15T18:23:59.158031Z",
     "start_time": "2021-04-15T18:23:59.151032Z"
    }
   },
   "outputs": [
    {
     "data": {
      "text/plain": [
       "array(['2020-2021', '2019-2020', '2017-2018', '2016-2017', '2015-2016',\n",
       "       '2014-2015', '2013-2014', '2012-2013', '2011-2012', '2010-2011',\n",
       "       '2009-2010', '2008-2009', '2007-2008', '2006-2007', '2005-2006'],\n",
       "      dtype=object)"
      ]
     },
     "execution_count": 152,
     "metadata": {},
     "output_type": "execute_result"
    }
   ],
   "source": [
    "liga['Temporada'].unique()"
   ]
  },
  {
   "cell_type": "code",
   "execution_count": 64,
   "metadata": {
    "ExecuteTime": {
     "end_time": "2021-04-15T18:31:03.180770Z",
     "start_time": "2021-04-15T18:31:03.175770Z"
    }
   },
   "outputs": [
    {
     "data": {
      "text/plain": [
       "(6010, 55)"
      ]
     },
     "execution_count": 64,
     "metadata": {},
     "output_type": "execute_result"
    }
   ],
   "source": [
    "liga.shape"
   ]
  },
  {
   "cell_type": "markdown",
   "metadata": {},
   "source": [
    "## Variables dif puntos"
   ]
  },
  {
   "cell_type": "code",
   "execution_count": 3,
   "metadata": {
    "ExecuteTime": {
     "end_time": "2021-04-16T15:32:12.952572Z",
     "start_time": "2021-04-16T15:32:12.929571Z"
    }
   },
   "outputs": [
    {
     "data": {
      "text/html": [
       "<div>\n",
       "<style scoped>\n",
       "    .dataframe tbody tr th:only-of-type {\n",
       "        vertical-align: middle;\n",
       "    }\n",
       "\n",
       "    .dataframe tbody tr th {\n",
       "        vertical-align: top;\n",
       "    }\n",
       "\n",
       "    .dataframe thead th {\n",
       "        text-align: right;\n",
       "    }\n",
       "</style>\n",
       "<table border=\"1\" class=\"dataframe\">\n",
       "  <thead>\n",
       "    <tr style=\"text-align: right;\">\n",
       "      <th></th>\n",
       "      <th>Date</th>\n",
       "      <th>HomeTeam</th>\n",
       "      <th>AwayTeam</th>\n",
       "      <th>FTHG</th>\n",
       "      <th>FTAG</th>\n",
       "      <th>PuntosHomeTeam</th>\n",
       "      <th>PuntosAwayTeam</th>\n",
       "    </tr>\n",
       "  </thead>\n",
       "  <tbody>\n",
       "    <tr>\n",
       "      <th>0</th>\n",
       "      <td>22/04/2021</td>\n",
       "      <td>Ath Madrid</td>\n",
       "      <td>Huesca</td>\n",
       "      <td>NaN</td>\n",
       "      <td>NaN</td>\n",
       "      <td>67.0</td>\n",
       "      <td>30.0</td>\n",
       "    </tr>\n",
       "    <tr>\n",
       "      <th>1</th>\n",
       "      <td>22/04/2021</td>\n",
       "      <td>Granada</td>\n",
       "      <td>Eibar</td>\n",
       "      <td>NaN</td>\n",
       "      <td>NaN</td>\n",
       "      <td>39.0</td>\n",
       "      <td>26.0</td>\n",
       "    </tr>\n",
       "    <tr>\n",
       "      <th>2</th>\n",
       "      <td>22/04/2021</td>\n",
       "      <td>Sociedad</td>\n",
       "      <td>Celta</td>\n",
       "      <td>NaN</td>\n",
       "      <td>NaN</td>\n",
       "      <td>47.0</td>\n",
       "      <td>40.0</td>\n",
       "    </tr>\n",
       "    <tr>\n",
       "      <th>3</th>\n",
       "      <td>22/04/2021</td>\n",
       "      <td>Barcelona</td>\n",
       "      <td>Getafe</td>\n",
       "      <td>NaN</td>\n",
       "      <td>NaN</td>\n",
       "      <td>65.0</td>\n",
       "      <td>33.0</td>\n",
       "    </tr>\n",
       "    <tr>\n",
       "      <th>4</th>\n",
       "      <td>21/04/2021</td>\n",
       "      <td>Levante</td>\n",
       "      <td>Sevilla</td>\n",
       "      <td>NaN</td>\n",
       "      <td>NaN</td>\n",
       "      <td>38.0</td>\n",
       "      <td>64.0</td>\n",
       "    </tr>\n",
       "    <tr>\n",
       "      <th>...</th>\n",
       "      <td>...</td>\n",
       "      <td>...</td>\n",
       "      <td>...</td>\n",
       "      <td>...</td>\n",
       "      <td>...</td>\n",
       "      <td>...</td>\n",
       "      <td>...</td>\n",
       "    </tr>\n",
       "    <tr>\n",
       "      <th>6005</th>\n",
       "      <td>28/08/05</td>\n",
       "      <td>Osasuna</td>\n",
       "      <td>Villarreal</td>\n",
       "      <td>2.0</td>\n",
       "      <td>1.0</td>\n",
       "      <td>3.0</td>\n",
       "      <td>0.0</td>\n",
       "    </tr>\n",
       "    <tr>\n",
       "      <th>6006</th>\n",
       "      <td>28/08/05</td>\n",
       "      <td>Sevilla</td>\n",
       "      <td>Santander</td>\n",
       "      <td>1.0</td>\n",
       "      <td>0.0</td>\n",
       "      <td>3.0</td>\n",
       "      <td>0.0</td>\n",
       "    </tr>\n",
       "    <tr>\n",
       "      <th>6007</th>\n",
       "      <td>27/08/05</td>\n",
       "      <td>Valencia</td>\n",
       "      <td>Betis</td>\n",
       "      <td>1.0</td>\n",
       "      <td>0.0</td>\n",
       "      <td>3.0</td>\n",
       "      <td>0.0</td>\n",
       "    </tr>\n",
       "    <tr>\n",
       "      <th>6008</th>\n",
       "      <td>27/08/05</td>\n",
       "      <td>Ath Bilbao</td>\n",
       "      <td>Sociedad</td>\n",
       "      <td>3.0</td>\n",
       "      <td>0.0</td>\n",
       "      <td>3.0</td>\n",
       "      <td>0.0</td>\n",
       "    </tr>\n",
       "    <tr>\n",
       "      <th>6009</th>\n",
       "      <td>27/08/05</td>\n",
       "      <td>Alaves</td>\n",
       "      <td>Barcelona</td>\n",
       "      <td>0.0</td>\n",
       "      <td>0.0</td>\n",
       "      <td>1.0</td>\n",
       "      <td>1.0</td>\n",
       "    </tr>\n",
       "  </tbody>\n",
       "</table>\n",
       "<p>6010 rows × 7 columns</p>\n",
       "</div>"
      ],
      "text/plain": [
       "            Date    HomeTeam    AwayTeam  FTHG  FTAG  PuntosHomeTeam  \\\n",
       "0     22/04/2021  Ath Madrid      Huesca   NaN   NaN            67.0   \n",
       "1     22/04/2021     Granada       Eibar   NaN   NaN            39.0   \n",
       "2     22/04/2021    Sociedad       Celta   NaN   NaN            47.0   \n",
       "3     22/04/2021   Barcelona      Getafe   NaN   NaN            65.0   \n",
       "4     21/04/2021     Levante     Sevilla   NaN   NaN            38.0   \n",
       "...          ...         ...         ...   ...   ...             ...   \n",
       "6005    28/08/05     Osasuna  Villarreal   2.0   1.0             3.0   \n",
       "6006    28/08/05     Sevilla   Santander   1.0   0.0             3.0   \n",
       "6007    27/08/05    Valencia       Betis   1.0   0.0             3.0   \n",
       "6008    27/08/05  Ath Bilbao    Sociedad   3.0   0.0             3.0   \n",
       "6009    27/08/05      Alaves   Barcelona   0.0   0.0             1.0   \n",
       "\n",
       "      PuntosAwayTeam  \n",
       "0               30.0  \n",
       "1               26.0  \n",
       "2               40.0  \n",
       "3               33.0  \n",
       "4               64.0  \n",
       "...              ...  \n",
       "6005             0.0  \n",
       "6006             0.0  \n",
       "6007             0.0  \n",
       "6008             0.0  \n",
       "6009             1.0  \n",
       "\n",
       "[6010 rows x 7 columns]"
      ]
     },
     "execution_count": 3,
     "metadata": {},
     "output_type": "execute_result"
    }
   ],
   "source": [
    "liga[['Date','HomeTeam','AwayTeam','FTHG','FTAG','PuntosHomeTeam','PuntosAwayTeam']]"
   ]
  },
  {
   "cell_type": "code",
   "execution_count": 4,
   "metadata": {
    "ExecuteTime": {
     "end_time": "2021-04-16T15:32:41.990874Z",
     "start_time": "2021-04-16T15:32:41.967877Z"
    }
   },
   "outputs": [],
   "source": [
    "liga['deltaPuntosHomeTeam']=liga['PuntosHomeTeam']-liga['PuntosAwayTeam']\n",
    "liga['deltaPuntosAwayTeam']=liga['PuntosAwayTeam']-liga['PuntosHomeTeam']"
   ]
  },
  {
   "cell_type": "code",
   "execution_count": 5,
   "metadata": {
    "ExecuteTime": {
     "end_time": "2021-04-16T15:32:47.173350Z",
     "start_time": "2021-04-16T15:32:46.787998Z"
    }
   },
   "outputs": [],
   "source": [
    "liga.to_csv(path_last+'\\SP1-J'+str(jornada)+'\\SP1_Modelo5_J'+str(jornada)+'.csv')"
   ]
  },
  {
   "cell_type": "code",
   "execution_count": 6,
   "metadata": {
    "ExecuteTime": {
     "end_time": "2021-04-16T15:32:54.932904Z",
     "start_time": "2021-04-16T15:32:54.927904Z"
    }
   },
   "outputs": [
    {
     "data": {
      "text/plain": [
       "(6010, 57)"
      ]
     },
     "execution_count": 6,
     "metadata": {},
     "output_type": "execute_result"
    }
   ],
   "source": [
    "liga.shape"
   ]
  },
  {
   "cell_type": "markdown",
   "metadata": {
    "ExecuteTime": {
     "end_time": "2021-03-17T08:52:18.790863Z",
     "start_time": "2021-03-17T08:52:18.775861Z"
    }
   },
   "source": [
    "# Sacamos las lags variables"
   ]
  },
  {
   "cell_type": "code",
   "execution_count": 2,
   "metadata": {
    "ExecuteTime": {
     "end_time": "2021-04-16T15:31:31.974702Z",
     "start_time": "2021-04-16T15:31:31.910696Z"
    }
   },
   "outputs": [
    {
     "data": {
      "text/plain": [
       "(6010, 55)"
      ]
     },
     "execution_count": 2,
     "metadata": {},
     "output_type": "execute_result"
    }
   ],
   "source": [
    "liga=pd.read_csv(path_last+'\\SP1-J'+str(jornada)+'\\SP1_Modelo5_J'+str(jornada)+'.csv')\n",
    "liga.drop('Unnamed: 0',axis=1,inplace=True)\n",
    "# Ponemos el campo Date1 como fecha.\n",
    "liga['Date1']=pd.to_datetime(liga['Date1'], format='%Y-%m-%d')\n",
    "liga.shape"
   ]
  },
  {
   "cell_type": "code",
   "execution_count": 7,
   "metadata": {
    "ExecuteTime": {
     "end_time": "2021-04-16T15:33:00.035242Z",
     "start_time": "2021-04-16T15:33:00.019240Z"
    }
   },
   "outputs": [],
   "source": [
    "equipos_home=pd.read_csv(path_last+'/SP1-encoders/SP1_equipos_encoding.csv')\n",
    "equipos_home.set_index('index',inplace=True)"
   ]
  },
  {
   "cell_type": "code",
   "execution_count": 8,
   "metadata": {
    "ExecuteTime": {
     "end_time": "2021-04-16T15:33:00.654826Z",
     "start_time": "2021-04-16T15:33:00.649824Z"
    }
   },
   "outputs": [
    {
     "data": {
      "text/plain": [
       "(40, 1)"
      ]
     },
     "execution_count": 8,
     "metadata": {},
     "output_type": "execute_result"
    }
   ],
   "source": [
    "equipos_home.shape"
   ]
  },
  {
   "cell_type": "markdown",
   "metadata": {
    "ExecuteTime": {
     "end_time": "2021-03-17T09:05:03.301997Z",
     "start_time": "2021-03-17T09:05:03.235992Z"
    }
   },
   "source": [
    "## Ultimos 10 partidos del equipo de casa (H) en casa"
   ]
  },
  {
   "cell_type": "code",
   "execution_count": 9,
   "metadata": {
    "ExecuteTime": {
     "end_time": "2021-04-16T15:33:03.490414Z",
     "start_time": "2021-04-16T15:33:03.487415Z"
    }
   },
   "outputs": [],
   "source": [
    "lista_equipos=list(equipos_home.index)"
   ]
  },
  {
   "cell_type": "code",
   "execution_count": 10,
   "metadata": {
    "ExecuteTime": {
     "end_time": "2021-04-16T15:33:03.961457Z",
     "start_time": "2021-04-16T15:33:03.955457Z"
    }
   },
   "outputs": [
    {
     "data": {
      "text/plain": [
       "40"
      ]
     },
     "execution_count": 10,
     "metadata": {},
     "output_type": "execute_result"
    }
   ],
   "source": [
    "len(lista_equipos)"
   ]
  },
  {
   "cell_type": "code",
   "execution_count": 11,
   "metadata": {
    "ExecuteTime": {
     "end_time": "2021-04-16T15:33:23.924120Z",
     "start_time": "2021-04-16T15:33:23.918122Z"
    }
   },
   "outputs": [],
   "source": [
    "lag_variables=['ResultadoFT','ResultadoHT','FTHG',\n",
    "'FTAG',\n",
    "'HTHG',\n",
    "'HTAG',\n",
    "'HS',\n",
    "'AS',\n",
    "'HST',\n",
    "'AST',\n",
    "'HF',\n",
    "'AF',\n",
    "'HC',\n",
    "'AC',\n",
    "'HY',\n",
    "'AY',\n",
    "'HR',\n",
    "'AR',\n",
    " 'B365H',\n",
    " 'B365D',\n",
    " 'B365A',\n",
    " 'BWH',\n",
    " 'BWD',\n",
    " 'BWA',\n",
    " 'IWH',\n",
    " 'IWD',\n",
    " 'IWA',\n",
    " 'WHH',\n",
    " 'WHD',\n",
    " 'WHA',\n",
    " 'VCH',\n",
    " 'VCD',\n",
    " 'VCA',\n",
    "'AwayTeamCode',\n",
    "'Day',\n",
    "'Month',                \n",
    "'Year',\n",
    "'DayWeek_Code',\n",
    "'Temporada_Code',\n",
    "'deltaFTHG',\n",
    "'deltaFTAG',\n",
    "'resultadoGolesFT_Code',\n",
    "#'PuntosAwayTeam',               \n",
    "'PuntosHomeTeam',\n",
    "'deltaPuntosHomeTeam']"
   ]
  },
  {
   "cell_type": "code",
   "execution_count": 12,
   "metadata": {
    "ExecuteTime": {
     "end_time": "2021-04-16T15:33:59.540061Z",
     "start_time": "2021-04-16T15:33:26.609602Z"
    }
   },
   "outputs": [
    {
     "name": "stderr",
     "output_type": "stream",
     "text": [
      "<ipython-input-12-f2a271637608>:12: SettingWithCopyWarning: \n",
      "A value is trying to be set on a copy of a slice from a DataFrame.\n",
      "Try using .loc[row_indexer,col_indexer] = value instead\n",
      "\n",
      "See the caveats in the documentation: https://pandas.pydata.org/pandas-docs/stable/user_guide/indexing.html#returning-a-view-versus-a-copy\n",
      "  _liga_HTeam['HTM-'+str(y)+'-'+str(x)]=_liga_HTeam.groupby(['HomeTeam'])[y].shift(-1*x)\n"
     ]
    }
   ],
   "source": [
    "j=1\n",
    "for HTeam in lista_equipos:\n",
    "    #print('Equipo: '+str(HTeam))\n",
    "    # Particularizamos el dataset para el equipo local\n",
    "    _liga_HTeam=liga[liga['HomeTeam']==HTeam]\n",
    "    # Sacamos las lags variables\n",
    "    for y in lag_variables:\n",
    "        #print('Trabajamos sobre: '+str(y))\n",
    "        # Vamos a los 10 ultimos partidos \n",
    "        for x in [1,2,3,4,5,6,7,8,9,10]:\n",
    "            #print(x)\n",
    "            _liga_HTeam['HTM-'+str(y)+'-'+str(x)]=_liga_HTeam.groupby(['HomeTeam'])[y].shift(-1*x)\n",
    "    # Hacemos el concat de cada dataset particular de cada equipo.        \n",
    "    liga_HTeam=_liga_HTeam.copy(deep=True) if j==1 else pd.concat([_liga_HTeam,liga_HTeam], axis=0)\n",
    "    j+=1"
   ]
  },
  {
   "cell_type": "code",
   "execution_count": 13,
   "metadata": {
    "ExecuteTime": {
     "end_time": "2021-04-16T15:34:02.292918Z",
     "start_time": "2021-04-16T15:34:02.249917Z"
    }
   },
   "outputs": [],
   "source": [
    "liga_HTeam.fillna(-999, inplace=True)"
   ]
  },
  {
   "cell_type": "code",
   "execution_count": 14,
   "metadata": {
    "ExecuteTime": {
     "end_time": "2021-04-16T15:34:03.037514Z",
     "start_time": "2021-04-16T15:34:03.032516Z"
    }
   },
   "outputs": [
    {
     "data": {
      "text/plain": [
       "(6010, 497)"
      ]
     },
     "execution_count": 14,
     "metadata": {},
     "output_type": "execute_result"
    }
   ],
   "source": [
    "liga_HTeam.shape"
   ]
  },
  {
   "cell_type": "code",
   "execution_count": 15,
   "metadata": {
    "ExecuteTime": {
     "end_time": "2021-04-16T15:34:05.338461Z",
     "start_time": "2021-04-16T15:34:05.241951Z"
    }
   },
   "outputs": [
    {
     "name": "stdout",
     "output_type": "stream",
     "text": [
      "<class 'pandas.core.frame.DataFrame'>\n",
      "Int64Index: 6010 entries, 19 to 6003\n",
      "Data columns (total 497 columns):\n",
      " #   Column                        Dtype         \n",
      "---  ------                        -----         \n",
      " 0   Div                           object        \n",
      " 1   Date                          object        \n",
      " 2   HomeTeam                      object        \n",
      " 3   AwayTeam                      object        \n",
      " 4   FTHG                          float64       \n",
      " 5   FTAG                          float64       \n",
      " 6   FTR                           object        \n",
      " 7   HTHG                          float64       \n",
      " 8   HTAG                          float64       \n",
      " 9   HTR                           object        \n",
      " 10  HS                            float64       \n",
      " 11  AS                            float64       \n",
      " 12  HST                           float64       \n",
      " 13  AST                           float64       \n",
      " 14  HF                            float64       \n",
      " 15  AF                            float64       \n",
      " 16  HC                            float64       \n",
      " 17  AC                            float64       \n",
      " 18  HY                            float64       \n",
      " 19  AY                            float64       \n",
      " 20  HR                            float64       \n",
      " 21  AR                            float64       \n",
      " 22  B365H                         float64       \n",
      " 23  B365D                         float64       \n",
      " 24  B365A                         float64       \n",
      " 25  BWH                           float64       \n",
      " 26  BWD                           float64       \n",
      " 27  BWA                           float64       \n",
      " 28  IWH                           float64       \n",
      " 29  IWD                           float64       \n",
      " 30  IWA                           float64       \n",
      " 31  WHH                           float64       \n",
      " 32  WHD                           float64       \n",
      " 33  WHA                           float64       \n",
      " 34  VCH                           float64       \n",
      " 35  VCD                           float64       \n",
      " 36  VCA                           float64       \n",
      " 37  Date1                         datetime64[ns]\n",
      " 38  Temporada                     object        \n",
      " 39  HomeTeamCode                  int64         \n",
      " 40  AwayTeamCode                  int64         \n",
      " 41  ResultadoFT                   float64       \n",
      " 42  ResultadoHT                   float64       \n",
      " 43  Day                           int64         \n",
      " 44  Month                         int64         \n",
      " 45  Year                          int64         \n",
      " 46  DayWeek                       object        \n",
      " 47  DayWeek_Code                  int64         \n",
      " 48  Temporada_Code                int64         \n",
      " 49  deltaFTHG                     float64       \n",
      " 50  deltaFTAG                     float64       \n",
      " 51  resultadoGolesFT              object        \n",
      " 52  resultadoGolesFT_Code         int64         \n",
      " 53  PuntosHomeTeam                float64       \n",
      " 54  PuntosAwayTeam                float64       \n",
      " 55  deltaPuntosHomeTeam           float64       \n",
      " 56  deltaPuntosAwayTeam           float64       \n",
      " 57  HTM-ResultadoFT-1             float64       \n",
      " 58  HTM-ResultadoFT-2             float64       \n",
      " 59  HTM-ResultadoFT-3             float64       \n",
      " 60  HTM-ResultadoFT-4             float64       \n",
      " 61  HTM-ResultadoFT-5             float64       \n",
      " 62  HTM-ResultadoFT-6             float64       \n",
      " 63  HTM-ResultadoFT-7             float64       \n",
      " 64  HTM-ResultadoFT-8             float64       \n",
      " 65  HTM-ResultadoFT-9             float64       \n",
      " 66  HTM-ResultadoFT-10            float64       \n",
      " 67  HTM-ResultadoHT-1             float64       \n",
      " 68  HTM-ResultadoHT-2             float64       \n",
      " 69  HTM-ResultadoHT-3             float64       \n",
      " 70  HTM-ResultadoHT-4             float64       \n",
      " 71  HTM-ResultadoHT-5             float64       \n",
      " 72  HTM-ResultadoHT-6             float64       \n",
      " 73  HTM-ResultadoHT-7             float64       \n",
      " 74  HTM-ResultadoHT-8             float64       \n",
      " 75  HTM-ResultadoHT-9             float64       \n",
      " 76  HTM-ResultadoHT-10            float64       \n",
      " 77  HTM-FTHG-1                    float64       \n",
      " 78  HTM-FTHG-2                    float64       \n",
      " 79  HTM-FTHG-3                    float64       \n",
      " 80  HTM-FTHG-4                    float64       \n",
      " 81  HTM-FTHG-5                    float64       \n",
      " 82  HTM-FTHG-6                    float64       \n",
      " 83  HTM-FTHG-7                    float64       \n",
      " 84  HTM-FTHG-8                    float64       \n",
      " 85  HTM-FTHG-9                    float64       \n",
      " 86  HTM-FTHG-10                   float64       \n",
      " 87  HTM-FTAG-1                    float64       \n",
      " 88  HTM-FTAG-2                    float64       \n",
      " 89  HTM-FTAG-3                    float64       \n",
      " 90  HTM-FTAG-4                    float64       \n",
      " 91  HTM-FTAG-5                    float64       \n",
      " 92  HTM-FTAG-6                    float64       \n",
      " 93  HTM-FTAG-7                    float64       \n",
      " 94  HTM-FTAG-8                    float64       \n",
      " 95  HTM-FTAG-9                    float64       \n",
      " 96  HTM-FTAG-10                   float64       \n",
      " 97  HTM-HTHG-1                    float64       \n",
      " 98  HTM-HTHG-2                    float64       \n",
      " 99  HTM-HTHG-3                    float64       \n",
      " 100 HTM-HTHG-4                    float64       \n",
      " 101 HTM-HTHG-5                    float64       \n",
      " 102 HTM-HTHG-6                    float64       \n",
      " 103 HTM-HTHG-7                    float64       \n",
      " 104 HTM-HTHG-8                    float64       \n",
      " 105 HTM-HTHG-9                    float64       \n",
      " 106 HTM-HTHG-10                   float64       \n",
      " 107 HTM-HTAG-1                    float64       \n",
      " 108 HTM-HTAG-2                    float64       \n",
      " 109 HTM-HTAG-3                    float64       \n",
      " 110 HTM-HTAG-4                    float64       \n",
      " 111 HTM-HTAG-5                    float64       \n",
      " 112 HTM-HTAG-6                    float64       \n",
      " 113 HTM-HTAG-7                    float64       \n",
      " 114 HTM-HTAG-8                    float64       \n",
      " 115 HTM-HTAG-9                    float64       \n",
      " 116 HTM-HTAG-10                   float64       \n",
      " 117 HTM-HS-1                      float64       \n",
      " 118 HTM-HS-2                      float64       \n",
      " 119 HTM-HS-3                      float64       \n",
      " 120 HTM-HS-4                      float64       \n",
      " 121 HTM-HS-5                      float64       \n",
      " 122 HTM-HS-6                      float64       \n",
      " 123 HTM-HS-7                      float64       \n",
      " 124 HTM-HS-8                      float64       \n",
      " 125 HTM-HS-9                      float64       \n",
      " 126 HTM-HS-10                     float64       \n",
      " 127 HTM-AS-1                      float64       \n",
      " 128 HTM-AS-2                      float64       \n",
      " 129 HTM-AS-3                      float64       \n",
      " 130 HTM-AS-4                      float64       \n",
      " 131 HTM-AS-5                      float64       \n",
      " 132 HTM-AS-6                      float64       \n",
      " 133 HTM-AS-7                      float64       \n",
      " 134 HTM-AS-8                      float64       \n",
      " 135 HTM-AS-9                      float64       \n",
      " 136 HTM-AS-10                     float64       \n",
      " 137 HTM-HST-1                     float64       \n",
      " 138 HTM-HST-2                     float64       \n",
      " 139 HTM-HST-3                     float64       \n",
      " 140 HTM-HST-4                     float64       \n",
      " 141 HTM-HST-5                     float64       \n",
      " 142 HTM-HST-6                     float64       \n",
      " 143 HTM-HST-7                     float64       \n",
      " 144 HTM-HST-8                     float64       \n",
      " 145 HTM-HST-9                     float64       \n",
      " 146 HTM-HST-10                    float64       \n",
      " 147 HTM-AST-1                     float64       \n",
      " 148 HTM-AST-2                     float64       \n",
      " 149 HTM-AST-3                     float64       \n",
      " 150 HTM-AST-4                     float64       \n",
      " 151 HTM-AST-5                     float64       \n",
      " 152 HTM-AST-6                     float64       \n",
      " 153 HTM-AST-7                     float64       \n",
      " 154 HTM-AST-8                     float64       \n",
      " 155 HTM-AST-9                     float64       \n",
      " 156 HTM-AST-10                    float64       \n",
      " 157 HTM-HF-1                      float64       \n",
      " 158 HTM-HF-2                      float64       \n",
      " 159 HTM-HF-3                      float64       \n",
      " 160 HTM-HF-4                      float64       \n",
      " 161 HTM-HF-5                      float64       \n",
      " 162 HTM-HF-6                      float64       \n",
      " 163 HTM-HF-7                      float64       \n",
      " 164 HTM-HF-8                      float64       \n",
      " 165 HTM-HF-9                      float64       \n",
      " 166 HTM-HF-10                     float64       \n",
      " 167 HTM-AF-1                      float64       \n",
      " 168 HTM-AF-2                      float64       \n",
      " 169 HTM-AF-3                      float64       \n",
      " 170 HTM-AF-4                      float64       \n",
      " 171 HTM-AF-5                      float64       \n",
      " 172 HTM-AF-6                      float64       \n",
      " 173 HTM-AF-7                      float64       \n",
      " 174 HTM-AF-8                      float64       \n",
      " 175 HTM-AF-9                      float64       \n",
      " 176 HTM-AF-10                     float64       \n",
      " 177 HTM-HC-1                      float64       \n",
      " 178 HTM-HC-2                      float64       \n",
      " 179 HTM-HC-3                      float64       \n",
      " 180 HTM-HC-4                      float64       \n",
      " 181 HTM-HC-5                      float64       \n",
      " 182 HTM-HC-6                      float64       \n",
      " 183 HTM-HC-7                      float64       \n",
      " 184 HTM-HC-8                      float64       \n",
      " 185 HTM-HC-9                      float64       \n",
      " 186 HTM-HC-10                     float64       \n",
      " 187 HTM-AC-1                      float64       \n",
      " 188 HTM-AC-2                      float64       \n",
      " 189 HTM-AC-3                      float64       \n",
      " 190 HTM-AC-4                      float64       \n",
      " 191 HTM-AC-5                      float64       \n",
      " 192 HTM-AC-6                      float64       \n",
      " 193 HTM-AC-7                      float64       \n",
      " 194 HTM-AC-8                      float64       \n",
      " 195 HTM-AC-9                      float64       \n",
      " 196 HTM-AC-10                     float64       \n",
      " 197 HTM-HY-1                      float64       \n",
      " 198 HTM-HY-2                      float64       \n",
      " 199 HTM-HY-3                      float64       \n",
      " 200 HTM-HY-4                      float64       \n",
      " 201 HTM-HY-5                      float64       \n",
      " 202 HTM-HY-6                      float64       \n",
      " 203 HTM-HY-7                      float64       \n",
      " 204 HTM-HY-8                      float64       \n",
      " 205 HTM-HY-9                      float64       \n",
      " 206 HTM-HY-10                     float64       \n",
      " 207 HTM-AY-1                      float64       \n",
      " 208 HTM-AY-2                      float64       \n",
      " 209 HTM-AY-3                      float64       \n",
      " 210 HTM-AY-4                      float64       \n",
      " 211 HTM-AY-5                      float64       \n",
      " 212 HTM-AY-6                      float64       \n",
      " 213 HTM-AY-7                      float64       \n",
      " 214 HTM-AY-8                      float64       \n",
      " 215 HTM-AY-9                      float64       \n",
      " 216 HTM-AY-10                     float64       \n",
      " 217 HTM-HR-1                      float64       \n",
      " 218 HTM-HR-2                      float64       \n",
      " 219 HTM-HR-3                      float64       \n",
      " 220 HTM-HR-4                      float64       \n",
      " 221 HTM-HR-5                      float64       \n",
      " 222 HTM-HR-6                      float64       \n",
      " 223 HTM-HR-7                      float64       \n",
      " 224 HTM-HR-8                      float64       \n",
      " 225 HTM-HR-9                      float64       \n",
      " 226 HTM-HR-10                     float64       \n",
      " 227 HTM-AR-1                      float64       \n",
      " 228 HTM-AR-2                      float64       \n",
      " 229 HTM-AR-3                      float64       \n",
      " 230 HTM-AR-4                      float64       \n",
      " 231 HTM-AR-5                      float64       \n",
      " 232 HTM-AR-6                      float64       \n",
      " 233 HTM-AR-7                      float64       \n",
      " 234 HTM-AR-8                      float64       \n",
      " 235 HTM-AR-9                      float64       \n",
      " 236 HTM-AR-10                     float64       \n",
      " 237 HTM-B365H-1                   float64       \n",
      " 238 HTM-B365H-2                   float64       \n",
      " 239 HTM-B365H-3                   float64       \n",
      " 240 HTM-B365H-4                   float64       \n",
      " 241 HTM-B365H-5                   float64       \n",
      " 242 HTM-B365H-6                   float64       \n",
      " 243 HTM-B365H-7                   float64       \n",
      " 244 HTM-B365H-8                   float64       \n",
      " 245 HTM-B365H-9                   float64       \n",
      " 246 HTM-B365H-10                  float64       \n",
      " 247 HTM-B365D-1                   float64       \n",
      " 248 HTM-B365D-2                   float64       \n",
      " 249 HTM-B365D-3                   float64       \n",
      " 250 HTM-B365D-4                   float64       \n",
      " 251 HTM-B365D-5                   float64       \n",
      " 252 HTM-B365D-6                   float64       \n",
      " 253 HTM-B365D-7                   float64       \n",
      " 254 HTM-B365D-8                   float64       \n",
      " 255 HTM-B365D-9                   float64       \n",
      " 256 HTM-B365D-10                  float64       \n",
      " 257 HTM-B365A-1                   float64       \n",
      " 258 HTM-B365A-2                   float64       \n",
      " 259 HTM-B365A-3                   float64       \n",
      " 260 HTM-B365A-4                   float64       \n",
      " 261 HTM-B365A-5                   float64       \n",
      " 262 HTM-B365A-6                   float64       \n",
      " 263 HTM-B365A-7                   float64       \n",
      " 264 HTM-B365A-8                   float64       \n",
      " 265 HTM-B365A-9                   float64       \n",
      " 266 HTM-B365A-10                  float64       \n",
      " 267 HTM-BWH-1                     float64       \n",
      " 268 HTM-BWH-2                     float64       \n",
      " 269 HTM-BWH-3                     float64       \n",
      " 270 HTM-BWH-4                     float64       \n",
      " 271 HTM-BWH-5                     float64       \n",
      " 272 HTM-BWH-6                     float64       \n",
      " 273 HTM-BWH-7                     float64       \n",
      " 274 HTM-BWH-8                     float64       \n",
      " 275 HTM-BWH-9                     float64       \n",
      " 276 HTM-BWH-10                    float64       \n",
      " 277 HTM-BWD-1                     float64       \n",
      " 278 HTM-BWD-2                     float64       \n",
      " 279 HTM-BWD-3                     float64       \n",
      " 280 HTM-BWD-4                     float64       \n",
      " 281 HTM-BWD-5                     float64       \n",
      " 282 HTM-BWD-6                     float64       \n",
      " 283 HTM-BWD-7                     float64       \n",
      " 284 HTM-BWD-8                     float64       \n",
      " 285 HTM-BWD-9                     float64       \n",
      " 286 HTM-BWD-10                    float64       \n",
      " 287 HTM-BWA-1                     float64       \n",
      " 288 HTM-BWA-2                     float64       \n",
      " 289 HTM-BWA-3                     float64       \n",
      " 290 HTM-BWA-4                     float64       \n",
      " 291 HTM-BWA-5                     float64       \n",
      " 292 HTM-BWA-6                     float64       \n",
      " 293 HTM-BWA-7                     float64       \n",
      " 294 HTM-BWA-8                     float64       \n",
      " 295 HTM-BWA-9                     float64       \n",
      " 296 HTM-BWA-10                    float64       \n",
      " 297 HTM-IWH-1                     float64       \n",
      " 298 HTM-IWH-2                     float64       \n",
      " 299 HTM-IWH-3                     float64       \n",
      " 300 HTM-IWH-4                     float64       \n",
      " 301 HTM-IWH-5                     float64       \n",
      " 302 HTM-IWH-6                     float64       \n",
      " 303 HTM-IWH-7                     float64       \n",
      " 304 HTM-IWH-8                     float64       \n",
      " 305 HTM-IWH-9                     float64       \n",
      " 306 HTM-IWH-10                    float64       \n",
      " 307 HTM-IWD-1                     float64       \n",
      " 308 HTM-IWD-2                     float64       \n",
      " 309 HTM-IWD-3                     float64       \n",
      " 310 HTM-IWD-4                     float64       \n",
      " 311 HTM-IWD-5                     float64       \n",
      " 312 HTM-IWD-6                     float64       \n",
      " 313 HTM-IWD-7                     float64       \n",
      " 314 HTM-IWD-8                     float64       \n",
      " 315 HTM-IWD-9                     float64       \n",
      " 316 HTM-IWD-10                    float64       \n",
      " 317 HTM-IWA-1                     float64       \n",
      " 318 HTM-IWA-2                     float64       \n",
      " 319 HTM-IWA-3                     float64       \n",
      " 320 HTM-IWA-4                     float64       \n",
      " 321 HTM-IWA-5                     float64       \n",
      " 322 HTM-IWA-6                     float64       \n",
      " 323 HTM-IWA-7                     float64       \n",
      " 324 HTM-IWA-8                     float64       \n",
      " 325 HTM-IWA-9                     float64       \n",
      " 326 HTM-IWA-10                    float64       \n",
      " 327 HTM-WHH-1                     float64       \n",
      " 328 HTM-WHH-2                     float64       \n",
      " 329 HTM-WHH-3                     float64       \n",
      " 330 HTM-WHH-4                     float64       \n",
      " 331 HTM-WHH-5                     float64       \n",
      " 332 HTM-WHH-6                     float64       \n",
      " 333 HTM-WHH-7                     float64       \n",
      " 334 HTM-WHH-8                     float64       \n",
      " 335 HTM-WHH-9                     float64       \n",
      " 336 HTM-WHH-10                    float64       \n",
      " 337 HTM-WHD-1                     float64       \n",
      " 338 HTM-WHD-2                     float64       \n",
      " 339 HTM-WHD-3                     float64       \n",
      " 340 HTM-WHD-4                     float64       \n",
      " 341 HTM-WHD-5                     float64       \n",
      " 342 HTM-WHD-6                     float64       \n",
      " 343 HTM-WHD-7                     float64       \n",
      " 344 HTM-WHD-8                     float64       \n",
      " 345 HTM-WHD-9                     float64       \n",
      " 346 HTM-WHD-10                    float64       \n",
      " 347 HTM-WHA-1                     float64       \n",
      " 348 HTM-WHA-2                     float64       \n",
      " 349 HTM-WHA-3                     float64       \n",
      " 350 HTM-WHA-4                     float64       \n",
      " 351 HTM-WHA-5                     float64       \n",
      " 352 HTM-WHA-6                     float64       \n",
      " 353 HTM-WHA-7                     float64       \n",
      " 354 HTM-WHA-8                     float64       \n",
      " 355 HTM-WHA-9                     float64       \n",
      " 356 HTM-WHA-10                    float64       \n",
      " 357 HTM-VCH-1                     float64       \n",
      " 358 HTM-VCH-2                     float64       \n",
      " 359 HTM-VCH-3                     float64       \n",
      " 360 HTM-VCH-4                     float64       \n",
      " 361 HTM-VCH-5                     float64       \n",
      " 362 HTM-VCH-6                     float64       \n",
      " 363 HTM-VCH-7                     float64       \n",
      " 364 HTM-VCH-8                     float64       \n",
      " 365 HTM-VCH-9                     float64       \n",
      " 366 HTM-VCH-10                    float64       \n",
      " 367 HTM-VCD-1                     float64       \n",
      " 368 HTM-VCD-2                     float64       \n",
      " 369 HTM-VCD-3                     float64       \n",
      " 370 HTM-VCD-4                     float64       \n",
      " 371 HTM-VCD-5                     float64       \n",
      " 372 HTM-VCD-6                     float64       \n",
      " 373 HTM-VCD-7                     float64       \n",
      " 374 HTM-VCD-8                     float64       \n",
      " 375 HTM-VCD-9                     float64       \n",
      " 376 HTM-VCD-10                    float64       \n",
      " 377 HTM-VCA-1                     float64       \n",
      " 378 HTM-VCA-2                     float64       \n",
      " 379 HTM-VCA-3                     float64       \n",
      " 380 HTM-VCA-4                     float64       \n",
      " 381 HTM-VCA-5                     float64       \n",
      " 382 HTM-VCA-6                     float64       \n",
      " 383 HTM-VCA-7                     float64       \n",
      " 384 HTM-VCA-8                     float64       \n",
      " 385 HTM-VCA-9                     float64       \n",
      " 386 HTM-VCA-10                    float64       \n",
      " 387 HTM-AwayTeamCode-1            float64       \n",
      " 388 HTM-AwayTeamCode-2            float64       \n",
      " 389 HTM-AwayTeamCode-3            float64       \n",
      " 390 HTM-AwayTeamCode-4            float64       \n",
      " 391 HTM-AwayTeamCode-5            float64       \n",
      " 392 HTM-AwayTeamCode-6            float64       \n",
      " 393 HTM-AwayTeamCode-7            float64       \n",
      " 394 HTM-AwayTeamCode-8            float64       \n",
      " 395 HTM-AwayTeamCode-9            float64       \n",
      " 396 HTM-AwayTeamCode-10           float64       \n",
      " 397 HTM-Day-1                     float64       \n",
      " 398 HTM-Day-2                     float64       \n",
      " 399 HTM-Day-3                     float64       \n",
      " 400 HTM-Day-4                     float64       \n",
      " 401 HTM-Day-5                     float64       \n",
      " 402 HTM-Day-6                     float64       \n",
      " 403 HTM-Day-7                     float64       \n",
      " 404 HTM-Day-8                     float64       \n",
      " 405 HTM-Day-9                     float64       \n",
      " 406 HTM-Day-10                    float64       \n",
      " 407 HTM-Month-1                   float64       \n",
      " 408 HTM-Month-2                   float64       \n",
      " 409 HTM-Month-3                   float64       \n",
      " 410 HTM-Month-4                   float64       \n",
      " 411 HTM-Month-5                   float64       \n",
      " 412 HTM-Month-6                   float64       \n",
      " 413 HTM-Month-7                   float64       \n",
      " 414 HTM-Month-8                   float64       \n",
      " 415 HTM-Month-9                   float64       \n",
      " 416 HTM-Month-10                  float64       \n",
      " 417 HTM-Year-1                    float64       \n",
      " 418 HTM-Year-2                    float64       \n",
      " 419 HTM-Year-3                    float64       \n",
      " 420 HTM-Year-4                    float64       \n",
      " 421 HTM-Year-5                    float64       \n",
      " 422 HTM-Year-6                    float64       \n",
      " 423 HTM-Year-7                    float64       \n",
      " 424 HTM-Year-8                    float64       \n",
      " 425 HTM-Year-9                    float64       \n",
      " 426 HTM-Year-10                   float64       \n",
      " 427 HTM-DayWeek_Code-1            float64       \n",
      " 428 HTM-DayWeek_Code-2            float64       \n",
      " 429 HTM-DayWeek_Code-3            float64       \n",
      " 430 HTM-DayWeek_Code-4            float64       \n",
      " 431 HTM-DayWeek_Code-5            float64       \n",
      " 432 HTM-DayWeek_Code-6            float64       \n",
      " 433 HTM-DayWeek_Code-7            float64       \n",
      " 434 HTM-DayWeek_Code-8            float64       \n",
      " 435 HTM-DayWeek_Code-9            float64       \n",
      " 436 HTM-DayWeek_Code-10           float64       \n",
      " 437 HTM-Temporada_Code-1          float64       \n",
      " 438 HTM-Temporada_Code-2          float64       \n",
      " 439 HTM-Temporada_Code-3          float64       \n",
      " 440 HTM-Temporada_Code-4          float64       \n",
      " 441 HTM-Temporada_Code-5          float64       \n",
      " 442 HTM-Temporada_Code-6          float64       \n",
      " 443 HTM-Temporada_Code-7          float64       \n",
      " 444 HTM-Temporada_Code-8          float64       \n",
      " 445 HTM-Temporada_Code-9          float64       \n",
      " 446 HTM-Temporada_Code-10         float64       \n",
      " 447 HTM-deltaFTHG-1               float64       \n",
      " 448 HTM-deltaFTHG-2               float64       \n",
      " 449 HTM-deltaFTHG-3               float64       \n",
      " 450 HTM-deltaFTHG-4               float64       \n",
      " 451 HTM-deltaFTHG-5               float64       \n",
      " 452 HTM-deltaFTHG-6               float64       \n",
      " 453 HTM-deltaFTHG-7               float64       \n",
      " 454 HTM-deltaFTHG-8               float64       \n",
      " 455 HTM-deltaFTHG-9               float64       \n",
      " 456 HTM-deltaFTHG-10              float64       \n",
      " 457 HTM-deltaFTAG-1               float64       \n",
      " 458 HTM-deltaFTAG-2               float64       \n",
      " 459 HTM-deltaFTAG-3               float64       \n",
      " 460 HTM-deltaFTAG-4               float64       \n",
      " 461 HTM-deltaFTAG-5               float64       \n",
      " 462 HTM-deltaFTAG-6               float64       \n",
      " 463 HTM-deltaFTAG-7               float64       \n",
      " 464 HTM-deltaFTAG-8               float64       \n",
      " 465 HTM-deltaFTAG-9               float64       \n",
      " 466 HTM-deltaFTAG-10              float64       \n",
      " 467 HTM-resultadoGolesFT_Code-1   float64       \n",
      " 468 HTM-resultadoGolesFT_Code-2   float64       \n",
      " 469 HTM-resultadoGolesFT_Code-3   float64       \n",
      " 470 HTM-resultadoGolesFT_Code-4   float64       \n",
      " 471 HTM-resultadoGolesFT_Code-5   float64       \n",
      " 472 HTM-resultadoGolesFT_Code-6   float64       \n",
      " 473 HTM-resultadoGolesFT_Code-7   float64       \n",
      " 474 HTM-resultadoGolesFT_Code-8   float64       \n",
      " 475 HTM-resultadoGolesFT_Code-9   float64       \n",
      " 476 HTM-resultadoGolesFT_Code-10  float64       \n",
      " 477 HTM-PuntosHomeTeam-1          float64       \n",
      " 478 HTM-PuntosHomeTeam-2          float64       \n",
      " 479 HTM-PuntosHomeTeam-3          float64       \n",
      " 480 HTM-PuntosHomeTeam-4          float64       \n",
      " 481 HTM-PuntosHomeTeam-5          float64       \n",
      " 482 HTM-PuntosHomeTeam-6          float64       \n",
      " 483 HTM-PuntosHomeTeam-7          float64       \n",
      " 484 HTM-PuntosHomeTeam-8          float64       \n",
      " 485 HTM-PuntosHomeTeam-9          float64       \n",
      " 486 HTM-PuntosHomeTeam-10         float64       \n",
      " 487 HTM-deltaPuntosHomeTeam-1     float64       \n",
      " 488 HTM-deltaPuntosHomeTeam-2     float64       \n",
      " 489 HTM-deltaPuntosHomeTeam-3     float64       \n",
      " 490 HTM-deltaPuntosHomeTeam-4     float64       \n",
      " 491 HTM-deltaPuntosHomeTeam-5     float64       \n",
      " 492 HTM-deltaPuntosHomeTeam-6     float64       \n",
      " 493 HTM-deltaPuntosHomeTeam-7     float64       \n",
      " 494 HTM-deltaPuntosHomeTeam-8     float64       \n",
      " 495 HTM-deltaPuntosHomeTeam-9     float64       \n",
      " 496 HTM-deltaPuntosHomeTeam-10    float64       \n",
      "dtypes: datetime64[ns](1), float64(479), int64(8), object(9)\n",
      "memory usage: 22.8+ MB\n"
     ]
    }
   ],
   "source": [
    "liga_HTeam.info(verbose=True)"
   ]
  },
  {
   "cell_type": "markdown",
   "metadata": {},
   "source": [
    "## Ultimos 10 partidos del equipo visitante (A) Como visitante"
   ]
  },
  {
   "cell_type": "code",
   "execution_count": 16,
   "metadata": {
    "ExecuteTime": {
     "end_time": "2021-04-16T15:34:42.512430Z",
     "start_time": "2021-04-16T15:34:42.507433Z"
    }
   },
   "outputs": [],
   "source": [
    "lag_variables=['ResultadoFT','ResultadoHT','FTHG',\n",
    "'FTAG',\n",
    "'HTHG',\n",
    "'HTAG',\n",
    "'HS',\n",
    "'AS',\n",
    "'HST',\n",
    "'AST',\n",
    "'HF',\n",
    "'AF',\n",
    "'HC',\n",
    "'AC',\n",
    "'HY',\n",
    "'AY',\n",
    "'HR',\n",
    "'AR',\n",
    " 'B365H',\n",
    " 'B365D',\n",
    " 'B365A',\n",
    " 'BWH',\n",
    " 'BWD',\n",
    " 'BWA',\n",
    " 'IWH',\n",
    " 'IWD',\n",
    " 'IWA',\n",
    " 'WHH',\n",
    " 'WHD',\n",
    " 'WHA',\n",
    " 'VCH',\n",
    " 'VCD',\n",
    " 'VCA',\n",
    "'HomeTeamCode',\n",
    "'Day',\n",
    "'Month',                \n",
    "'Year',\n",
    "'DayWeek_Code',\n",
    "'Temporada_Code',\n",
    "'deltaFTHG',\n",
    "'deltaFTAG',\n",
    "'resultadoGolesFT_Code',\n",
    "'PuntosAwayTeam',           \n",
    "#'PuntosHomeTeam']\n",
    "'deltaPuntosAwayTeam']"
   ]
  },
  {
   "cell_type": "code",
   "execution_count": 17,
   "metadata": {
    "ExecuteTime": {
     "end_time": "2021-04-16T15:35:16.928125Z",
     "start_time": "2021-04-16T15:34:44.807090Z"
    }
   },
   "outputs": [
    {
     "name": "stderr",
     "output_type": "stream",
     "text": [
      "<ipython-input-17-555337b72eb9>:13: SettingWithCopyWarning: \n",
      "A value is trying to be set on a copy of a slice from a DataFrame.\n",
      "Try using .loc[row_indexer,col_indexer] = value instead\n",
      "\n",
      "See the caveats in the documentation: https://pandas.pydata.org/pandas-docs/stable/user_guide/indexing.html#returning-a-view-versus-a-copy\n",
      "  _liga_ATeam['ATM-'+str(y)+'-'+str(x)]=_liga_ATeam.groupby(['AwayTeam'])[y].shift(-1*x)\n"
     ]
    }
   ],
   "source": [
    "# Hacemos lo mismo que antes, pero para el visitante\n",
    "j=1\n",
    "for ATeam in lista_equipos:\n",
    "    #print('Equipo: '+str(ATeam))\n",
    "    # Particularizamos el dataset para el equipo local\n",
    "    _liga_ATeam=liga[liga['AwayTeam']==ATeam]\n",
    "    # Sacamos las lags variables\n",
    "    for y in lag_variables:\n",
    "        #print('Trabajamos sobre: '+str(y))\n",
    "        # Vamos a los 6 ultimos partidos \n",
    "        for x in [1,2,3,4,5,6,7,8,9,10]:\n",
    "            #print(x)\n",
    "            _liga_ATeam['ATM-'+str(y)+'-'+str(x)]=_liga_ATeam.groupby(['AwayTeam'])[y].shift(-1*x) \n",
    "    # Hacemos el concat de cada dataset particular de cada equipo.        \n",
    "    liga_ATeam=_liga_ATeam.copy(deep=True) if j==1 else pd.concat([_liga_ATeam,liga_ATeam], axis=0)\n",
    "    j+=1"
   ]
  },
  {
   "cell_type": "code",
   "execution_count": 18,
   "metadata": {
    "ExecuteTime": {
     "end_time": "2021-04-16T15:35:23.514342Z",
     "start_time": "2021-04-16T15:35:23.473340Z"
    }
   },
   "outputs": [],
   "source": [
    "liga_ATeam.fillna(-1000,inplace=True)"
   ]
  },
  {
   "cell_type": "code",
   "execution_count": 19,
   "metadata": {
    "ExecuteTime": {
     "end_time": "2021-04-16T15:35:24.214880Z",
     "start_time": "2021-04-16T15:35:24.209880Z"
    }
   },
   "outputs": [
    {
     "data": {
      "text/plain": [
       "(6010, 497)"
      ]
     },
     "execution_count": 19,
     "metadata": {},
     "output_type": "execute_result"
    }
   ],
   "source": [
    "liga_ATeam.shape"
   ]
  },
  {
   "cell_type": "code",
   "execution_count": 20,
   "metadata": {
    "ExecuteTime": {
     "end_time": "2021-04-16T15:35:26.564612Z",
     "start_time": "2021-04-16T15:35:26.465600Z"
    }
   },
   "outputs": [
    {
     "name": "stdout",
     "output_type": "stream",
     "text": [
      "<class 'pandas.core.frame.DataFrame'>\n",
      "Int64Index: 6010 entries, 0 to 5998\n",
      "Data columns (total 497 columns):\n",
      " #   Column                        Dtype         \n",
      "---  ------                        -----         \n",
      " 0   Div                           object        \n",
      " 1   Date                          object        \n",
      " 2   HomeTeam                      object        \n",
      " 3   AwayTeam                      object        \n",
      " 4   FTHG                          float64       \n",
      " 5   FTAG                          float64       \n",
      " 6   FTR                           object        \n",
      " 7   HTHG                          float64       \n",
      " 8   HTAG                          float64       \n",
      " 9   HTR                           object        \n",
      " 10  HS                            float64       \n",
      " 11  AS                            float64       \n",
      " 12  HST                           float64       \n",
      " 13  AST                           float64       \n",
      " 14  HF                            float64       \n",
      " 15  AF                            float64       \n",
      " 16  HC                            float64       \n",
      " 17  AC                            float64       \n",
      " 18  HY                            float64       \n",
      " 19  AY                            float64       \n",
      " 20  HR                            float64       \n",
      " 21  AR                            float64       \n",
      " 22  B365H                         float64       \n",
      " 23  B365D                         float64       \n",
      " 24  B365A                         float64       \n",
      " 25  BWH                           float64       \n",
      " 26  BWD                           float64       \n",
      " 27  BWA                           float64       \n",
      " 28  IWH                           float64       \n",
      " 29  IWD                           float64       \n",
      " 30  IWA                           float64       \n",
      " 31  WHH                           float64       \n",
      " 32  WHD                           float64       \n",
      " 33  WHA                           float64       \n",
      " 34  VCH                           float64       \n",
      " 35  VCD                           float64       \n",
      " 36  VCA                           float64       \n",
      " 37  Date1                         datetime64[ns]\n",
      " 38  Temporada                     object        \n",
      " 39  HomeTeamCode                  int64         \n",
      " 40  AwayTeamCode                  int64         \n",
      " 41  ResultadoFT                   float64       \n",
      " 42  ResultadoHT                   float64       \n",
      " 43  Day                           int64         \n",
      " 44  Month                         int64         \n",
      " 45  Year                          int64         \n",
      " 46  DayWeek                       object        \n",
      " 47  DayWeek_Code                  int64         \n",
      " 48  Temporada_Code                int64         \n",
      " 49  deltaFTHG                     float64       \n",
      " 50  deltaFTAG                     float64       \n",
      " 51  resultadoGolesFT              object        \n",
      " 52  resultadoGolesFT_Code         int64         \n",
      " 53  PuntosHomeTeam                float64       \n",
      " 54  PuntosAwayTeam                float64       \n",
      " 55  deltaPuntosHomeTeam           float64       \n",
      " 56  deltaPuntosAwayTeam           float64       \n",
      " 57  ATM-ResultadoFT-1             float64       \n",
      " 58  ATM-ResultadoFT-2             float64       \n",
      " 59  ATM-ResultadoFT-3             float64       \n",
      " 60  ATM-ResultadoFT-4             float64       \n",
      " 61  ATM-ResultadoFT-5             float64       \n",
      " 62  ATM-ResultadoFT-6             float64       \n",
      " 63  ATM-ResultadoFT-7             float64       \n",
      " 64  ATM-ResultadoFT-8             float64       \n",
      " 65  ATM-ResultadoFT-9             float64       \n",
      " 66  ATM-ResultadoFT-10            float64       \n",
      " 67  ATM-ResultadoHT-1             float64       \n",
      " 68  ATM-ResultadoHT-2             float64       \n",
      " 69  ATM-ResultadoHT-3             float64       \n",
      " 70  ATM-ResultadoHT-4             float64       \n",
      " 71  ATM-ResultadoHT-5             float64       \n",
      " 72  ATM-ResultadoHT-6             float64       \n",
      " 73  ATM-ResultadoHT-7             float64       \n",
      " 74  ATM-ResultadoHT-8             float64       \n",
      " 75  ATM-ResultadoHT-9             float64       \n",
      " 76  ATM-ResultadoHT-10            float64       \n",
      " 77  ATM-FTHG-1                    float64       \n",
      " 78  ATM-FTHG-2                    float64       \n",
      " 79  ATM-FTHG-3                    float64       \n",
      " 80  ATM-FTHG-4                    float64       \n",
      " 81  ATM-FTHG-5                    float64       \n",
      " 82  ATM-FTHG-6                    float64       \n",
      " 83  ATM-FTHG-7                    float64       \n",
      " 84  ATM-FTHG-8                    float64       \n",
      " 85  ATM-FTHG-9                    float64       \n",
      " 86  ATM-FTHG-10                   float64       \n",
      " 87  ATM-FTAG-1                    float64       \n",
      " 88  ATM-FTAG-2                    float64       \n",
      " 89  ATM-FTAG-3                    float64       \n",
      " 90  ATM-FTAG-4                    float64       \n",
      " 91  ATM-FTAG-5                    float64       \n",
      " 92  ATM-FTAG-6                    float64       \n",
      " 93  ATM-FTAG-7                    float64       \n",
      " 94  ATM-FTAG-8                    float64       \n",
      " 95  ATM-FTAG-9                    float64       \n",
      " 96  ATM-FTAG-10                   float64       \n",
      " 97  ATM-HTHG-1                    float64       \n",
      " 98  ATM-HTHG-2                    float64       \n",
      " 99  ATM-HTHG-3                    float64       \n",
      " 100 ATM-HTHG-4                    float64       \n",
      " 101 ATM-HTHG-5                    float64       \n",
      " 102 ATM-HTHG-6                    float64       \n",
      " 103 ATM-HTHG-7                    float64       \n",
      " 104 ATM-HTHG-8                    float64       \n",
      " 105 ATM-HTHG-9                    float64       \n",
      " 106 ATM-HTHG-10                   float64       \n",
      " 107 ATM-HTAG-1                    float64       \n",
      " 108 ATM-HTAG-2                    float64       \n",
      " 109 ATM-HTAG-3                    float64       \n",
      " 110 ATM-HTAG-4                    float64       \n",
      " 111 ATM-HTAG-5                    float64       \n",
      " 112 ATM-HTAG-6                    float64       \n",
      " 113 ATM-HTAG-7                    float64       \n",
      " 114 ATM-HTAG-8                    float64       \n",
      " 115 ATM-HTAG-9                    float64       \n",
      " 116 ATM-HTAG-10                   float64       \n",
      " 117 ATM-HS-1                      float64       \n",
      " 118 ATM-HS-2                      float64       \n",
      " 119 ATM-HS-3                      float64       \n",
      " 120 ATM-HS-4                      float64       \n",
      " 121 ATM-HS-5                      float64       \n",
      " 122 ATM-HS-6                      float64       \n",
      " 123 ATM-HS-7                      float64       \n",
      " 124 ATM-HS-8                      float64       \n",
      " 125 ATM-HS-9                      float64       \n",
      " 126 ATM-HS-10                     float64       \n",
      " 127 ATM-AS-1                      float64       \n",
      " 128 ATM-AS-2                      float64       \n",
      " 129 ATM-AS-3                      float64       \n",
      " 130 ATM-AS-4                      float64       \n",
      " 131 ATM-AS-5                      float64       \n",
      " 132 ATM-AS-6                      float64       \n",
      " 133 ATM-AS-7                      float64       \n",
      " 134 ATM-AS-8                      float64       \n",
      " 135 ATM-AS-9                      float64       \n",
      " 136 ATM-AS-10                     float64       \n",
      " 137 ATM-HST-1                     float64       \n",
      " 138 ATM-HST-2                     float64       \n",
      " 139 ATM-HST-3                     float64       \n",
      " 140 ATM-HST-4                     float64       \n",
      " 141 ATM-HST-5                     float64       \n",
      " 142 ATM-HST-6                     float64       \n",
      " 143 ATM-HST-7                     float64       \n",
      " 144 ATM-HST-8                     float64       \n",
      " 145 ATM-HST-9                     float64       \n",
      " 146 ATM-HST-10                    float64       \n",
      " 147 ATM-AST-1                     float64       \n",
      " 148 ATM-AST-2                     float64       \n",
      " 149 ATM-AST-3                     float64       \n",
      " 150 ATM-AST-4                     float64       \n",
      " 151 ATM-AST-5                     float64       \n",
      " 152 ATM-AST-6                     float64       \n",
      " 153 ATM-AST-7                     float64       \n",
      " 154 ATM-AST-8                     float64       \n",
      " 155 ATM-AST-9                     float64       \n",
      " 156 ATM-AST-10                    float64       \n",
      " 157 ATM-HF-1                      float64       \n",
      " 158 ATM-HF-2                      float64       \n",
      " 159 ATM-HF-3                      float64       \n",
      " 160 ATM-HF-4                      float64       \n",
      " 161 ATM-HF-5                      float64       \n",
      " 162 ATM-HF-6                      float64       \n",
      " 163 ATM-HF-7                      float64       \n",
      " 164 ATM-HF-8                      float64       \n",
      " 165 ATM-HF-9                      float64       \n",
      " 166 ATM-HF-10                     float64       \n",
      " 167 ATM-AF-1                      float64       \n",
      " 168 ATM-AF-2                      float64       \n",
      " 169 ATM-AF-3                      float64       \n",
      " 170 ATM-AF-4                      float64       \n",
      " 171 ATM-AF-5                      float64       \n",
      " 172 ATM-AF-6                      float64       \n",
      " 173 ATM-AF-7                      float64       \n",
      " 174 ATM-AF-8                      float64       \n",
      " 175 ATM-AF-9                      float64       \n",
      " 176 ATM-AF-10                     float64       \n",
      " 177 ATM-HC-1                      float64       \n",
      " 178 ATM-HC-2                      float64       \n",
      " 179 ATM-HC-3                      float64       \n",
      " 180 ATM-HC-4                      float64       \n",
      " 181 ATM-HC-5                      float64       \n",
      " 182 ATM-HC-6                      float64       \n",
      " 183 ATM-HC-7                      float64       \n",
      " 184 ATM-HC-8                      float64       \n",
      " 185 ATM-HC-9                      float64       \n",
      " 186 ATM-HC-10                     float64       \n",
      " 187 ATM-AC-1                      float64       \n",
      " 188 ATM-AC-2                      float64       \n",
      " 189 ATM-AC-3                      float64       \n",
      " 190 ATM-AC-4                      float64       \n",
      " 191 ATM-AC-5                      float64       \n",
      " 192 ATM-AC-6                      float64       \n",
      " 193 ATM-AC-7                      float64       \n",
      " 194 ATM-AC-8                      float64       \n",
      " 195 ATM-AC-9                      float64       \n",
      " 196 ATM-AC-10                     float64       \n",
      " 197 ATM-HY-1                      float64       \n",
      " 198 ATM-HY-2                      float64       \n",
      " 199 ATM-HY-3                      float64       \n",
      " 200 ATM-HY-4                      float64       \n",
      " 201 ATM-HY-5                      float64       \n",
      " 202 ATM-HY-6                      float64       \n",
      " 203 ATM-HY-7                      float64       \n",
      " 204 ATM-HY-8                      float64       \n",
      " 205 ATM-HY-9                      float64       \n",
      " 206 ATM-HY-10                     float64       \n",
      " 207 ATM-AY-1                      float64       \n",
      " 208 ATM-AY-2                      float64       \n",
      " 209 ATM-AY-3                      float64       \n",
      " 210 ATM-AY-4                      float64       \n",
      " 211 ATM-AY-5                      float64       \n",
      " 212 ATM-AY-6                      float64       \n",
      " 213 ATM-AY-7                      float64       \n",
      " 214 ATM-AY-8                      float64       \n",
      " 215 ATM-AY-9                      float64       \n",
      " 216 ATM-AY-10                     float64       \n",
      " 217 ATM-HR-1                      float64       \n",
      " 218 ATM-HR-2                      float64       \n",
      " 219 ATM-HR-3                      float64       \n",
      " 220 ATM-HR-4                      float64       \n",
      " 221 ATM-HR-5                      float64       \n",
      " 222 ATM-HR-6                      float64       \n",
      " 223 ATM-HR-7                      float64       \n",
      " 224 ATM-HR-8                      float64       \n",
      " 225 ATM-HR-9                      float64       \n",
      " 226 ATM-HR-10                     float64       \n",
      " 227 ATM-AR-1                      float64       \n",
      " 228 ATM-AR-2                      float64       \n",
      " 229 ATM-AR-3                      float64       \n",
      " 230 ATM-AR-4                      float64       \n",
      " 231 ATM-AR-5                      float64       \n",
      " 232 ATM-AR-6                      float64       \n",
      " 233 ATM-AR-7                      float64       \n",
      " 234 ATM-AR-8                      float64       \n",
      " 235 ATM-AR-9                      float64       \n",
      " 236 ATM-AR-10                     float64       \n",
      " 237 ATM-B365H-1                   float64       \n",
      " 238 ATM-B365H-2                   float64       \n",
      " 239 ATM-B365H-3                   float64       \n",
      " 240 ATM-B365H-4                   float64       \n",
      " 241 ATM-B365H-5                   float64       \n",
      " 242 ATM-B365H-6                   float64       \n",
      " 243 ATM-B365H-7                   float64       \n",
      " 244 ATM-B365H-8                   float64       \n",
      " 245 ATM-B365H-9                   float64       \n",
      " 246 ATM-B365H-10                  float64       \n",
      " 247 ATM-B365D-1                   float64       \n",
      " 248 ATM-B365D-2                   float64       \n",
      " 249 ATM-B365D-3                   float64       \n",
      " 250 ATM-B365D-4                   float64       \n",
      " 251 ATM-B365D-5                   float64       \n",
      " 252 ATM-B365D-6                   float64       \n",
      " 253 ATM-B365D-7                   float64       \n",
      " 254 ATM-B365D-8                   float64       \n",
      " 255 ATM-B365D-9                   float64       \n",
      " 256 ATM-B365D-10                  float64       \n",
      " 257 ATM-B365A-1                   float64       \n",
      " 258 ATM-B365A-2                   float64       \n",
      " 259 ATM-B365A-3                   float64       \n",
      " 260 ATM-B365A-4                   float64       \n",
      " 261 ATM-B365A-5                   float64       \n",
      " 262 ATM-B365A-6                   float64       \n",
      " 263 ATM-B365A-7                   float64       \n",
      " 264 ATM-B365A-8                   float64       \n",
      " 265 ATM-B365A-9                   float64       \n",
      " 266 ATM-B365A-10                  float64       \n",
      " 267 ATM-BWH-1                     float64       \n",
      " 268 ATM-BWH-2                     float64       \n",
      " 269 ATM-BWH-3                     float64       \n",
      " 270 ATM-BWH-4                     float64       \n",
      " 271 ATM-BWH-5                     float64       \n",
      " 272 ATM-BWH-6                     float64       \n",
      " 273 ATM-BWH-7                     float64       \n",
      " 274 ATM-BWH-8                     float64       \n",
      " 275 ATM-BWH-9                     float64       \n",
      " 276 ATM-BWH-10                    float64       \n",
      " 277 ATM-BWD-1                     float64       \n",
      " 278 ATM-BWD-2                     float64       \n",
      " 279 ATM-BWD-3                     float64       \n",
      " 280 ATM-BWD-4                     float64       \n",
      " 281 ATM-BWD-5                     float64       \n",
      " 282 ATM-BWD-6                     float64       \n",
      " 283 ATM-BWD-7                     float64       \n",
      " 284 ATM-BWD-8                     float64       \n",
      " 285 ATM-BWD-9                     float64       \n",
      " 286 ATM-BWD-10                    float64       \n",
      " 287 ATM-BWA-1                     float64       \n",
      " 288 ATM-BWA-2                     float64       \n",
      " 289 ATM-BWA-3                     float64       \n",
      " 290 ATM-BWA-4                     float64       \n",
      " 291 ATM-BWA-5                     float64       \n",
      " 292 ATM-BWA-6                     float64       \n",
      " 293 ATM-BWA-7                     float64       \n",
      " 294 ATM-BWA-8                     float64       \n",
      " 295 ATM-BWA-9                     float64       \n",
      " 296 ATM-BWA-10                    float64       \n",
      " 297 ATM-IWH-1                     float64       \n",
      " 298 ATM-IWH-2                     float64       \n",
      " 299 ATM-IWH-3                     float64       \n",
      " 300 ATM-IWH-4                     float64       \n",
      " 301 ATM-IWH-5                     float64       \n",
      " 302 ATM-IWH-6                     float64       \n",
      " 303 ATM-IWH-7                     float64       \n",
      " 304 ATM-IWH-8                     float64       \n",
      " 305 ATM-IWH-9                     float64       \n",
      " 306 ATM-IWH-10                    float64       \n",
      " 307 ATM-IWD-1                     float64       \n",
      " 308 ATM-IWD-2                     float64       \n",
      " 309 ATM-IWD-3                     float64       \n",
      " 310 ATM-IWD-4                     float64       \n",
      " 311 ATM-IWD-5                     float64       \n",
      " 312 ATM-IWD-6                     float64       \n",
      " 313 ATM-IWD-7                     float64       \n",
      " 314 ATM-IWD-8                     float64       \n",
      " 315 ATM-IWD-9                     float64       \n",
      " 316 ATM-IWD-10                    float64       \n",
      " 317 ATM-IWA-1                     float64       \n",
      " 318 ATM-IWA-2                     float64       \n",
      " 319 ATM-IWA-3                     float64       \n",
      " 320 ATM-IWA-4                     float64       \n",
      " 321 ATM-IWA-5                     float64       \n",
      " 322 ATM-IWA-6                     float64       \n",
      " 323 ATM-IWA-7                     float64       \n",
      " 324 ATM-IWA-8                     float64       \n",
      " 325 ATM-IWA-9                     float64       \n",
      " 326 ATM-IWA-10                    float64       \n",
      " 327 ATM-WHH-1                     float64       \n",
      " 328 ATM-WHH-2                     float64       \n",
      " 329 ATM-WHH-3                     float64       \n",
      " 330 ATM-WHH-4                     float64       \n",
      " 331 ATM-WHH-5                     float64       \n",
      " 332 ATM-WHH-6                     float64       \n",
      " 333 ATM-WHH-7                     float64       \n",
      " 334 ATM-WHH-8                     float64       \n",
      " 335 ATM-WHH-9                     float64       \n",
      " 336 ATM-WHH-10                    float64       \n",
      " 337 ATM-WHD-1                     float64       \n",
      " 338 ATM-WHD-2                     float64       \n",
      " 339 ATM-WHD-3                     float64       \n",
      " 340 ATM-WHD-4                     float64       \n",
      " 341 ATM-WHD-5                     float64       \n",
      " 342 ATM-WHD-6                     float64       \n",
      " 343 ATM-WHD-7                     float64       \n",
      " 344 ATM-WHD-8                     float64       \n",
      " 345 ATM-WHD-9                     float64       \n",
      " 346 ATM-WHD-10                    float64       \n",
      " 347 ATM-WHA-1                     float64       \n",
      " 348 ATM-WHA-2                     float64       \n",
      " 349 ATM-WHA-3                     float64       \n",
      " 350 ATM-WHA-4                     float64       \n",
      " 351 ATM-WHA-5                     float64       \n",
      " 352 ATM-WHA-6                     float64       \n",
      " 353 ATM-WHA-7                     float64       \n",
      " 354 ATM-WHA-8                     float64       \n",
      " 355 ATM-WHA-9                     float64       \n",
      " 356 ATM-WHA-10                    float64       \n",
      " 357 ATM-VCH-1                     float64       \n",
      " 358 ATM-VCH-2                     float64       \n",
      " 359 ATM-VCH-3                     float64       \n",
      " 360 ATM-VCH-4                     float64       \n",
      " 361 ATM-VCH-5                     float64       \n",
      " 362 ATM-VCH-6                     float64       \n",
      " 363 ATM-VCH-7                     float64       \n",
      " 364 ATM-VCH-8                     float64       \n",
      " 365 ATM-VCH-9                     float64       \n",
      " 366 ATM-VCH-10                    float64       \n",
      " 367 ATM-VCD-1                     float64       \n",
      " 368 ATM-VCD-2                     float64       \n",
      " 369 ATM-VCD-3                     float64       \n",
      " 370 ATM-VCD-4                     float64       \n",
      " 371 ATM-VCD-5                     float64       \n",
      " 372 ATM-VCD-6                     float64       \n",
      " 373 ATM-VCD-7                     float64       \n",
      " 374 ATM-VCD-8                     float64       \n",
      " 375 ATM-VCD-9                     float64       \n",
      " 376 ATM-VCD-10                    float64       \n",
      " 377 ATM-VCA-1                     float64       \n",
      " 378 ATM-VCA-2                     float64       \n",
      " 379 ATM-VCA-3                     float64       \n",
      " 380 ATM-VCA-4                     float64       \n",
      " 381 ATM-VCA-5                     float64       \n",
      " 382 ATM-VCA-6                     float64       \n",
      " 383 ATM-VCA-7                     float64       \n",
      " 384 ATM-VCA-8                     float64       \n",
      " 385 ATM-VCA-9                     float64       \n",
      " 386 ATM-VCA-10                    float64       \n",
      " 387 ATM-HomeTeamCode-1            float64       \n",
      " 388 ATM-HomeTeamCode-2            float64       \n",
      " 389 ATM-HomeTeamCode-3            float64       \n",
      " 390 ATM-HomeTeamCode-4            float64       \n",
      " 391 ATM-HomeTeamCode-5            float64       \n",
      " 392 ATM-HomeTeamCode-6            float64       \n",
      " 393 ATM-HomeTeamCode-7            float64       \n",
      " 394 ATM-HomeTeamCode-8            float64       \n",
      " 395 ATM-HomeTeamCode-9            float64       \n",
      " 396 ATM-HomeTeamCode-10           float64       \n",
      " 397 ATM-Day-1                     float64       \n",
      " 398 ATM-Day-2                     float64       \n",
      " 399 ATM-Day-3                     float64       \n",
      " 400 ATM-Day-4                     float64       \n",
      " 401 ATM-Day-5                     float64       \n",
      " 402 ATM-Day-6                     float64       \n",
      " 403 ATM-Day-7                     float64       \n",
      " 404 ATM-Day-8                     float64       \n",
      " 405 ATM-Day-9                     float64       \n",
      " 406 ATM-Day-10                    float64       \n",
      " 407 ATM-Month-1                   float64       \n",
      " 408 ATM-Month-2                   float64       \n",
      " 409 ATM-Month-3                   float64       \n",
      " 410 ATM-Month-4                   float64       \n",
      " 411 ATM-Month-5                   float64       \n",
      " 412 ATM-Month-6                   float64       \n",
      " 413 ATM-Month-7                   float64       \n",
      " 414 ATM-Month-8                   float64       \n",
      " 415 ATM-Month-9                   float64       \n",
      " 416 ATM-Month-10                  float64       \n",
      " 417 ATM-Year-1                    float64       \n",
      " 418 ATM-Year-2                    float64       \n",
      " 419 ATM-Year-3                    float64       \n",
      " 420 ATM-Year-4                    float64       \n",
      " 421 ATM-Year-5                    float64       \n",
      " 422 ATM-Year-6                    float64       \n",
      " 423 ATM-Year-7                    float64       \n",
      " 424 ATM-Year-8                    float64       \n",
      " 425 ATM-Year-9                    float64       \n",
      " 426 ATM-Year-10                   float64       \n",
      " 427 ATM-DayWeek_Code-1            float64       \n",
      " 428 ATM-DayWeek_Code-2            float64       \n",
      " 429 ATM-DayWeek_Code-3            float64       \n",
      " 430 ATM-DayWeek_Code-4            float64       \n",
      " 431 ATM-DayWeek_Code-5            float64       \n",
      " 432 ATM-DayWeek_Code-6            float64       \n",
      " 433 ATM-DayWeek_Code-7            float64       \n",
      " 434 ATM-DayWeek_Code-8            float64       \n",
      " 435 ATM-DayWeek_Code-9            float64       \n",
      " 436 ATM-DayWeek_Code-10           float64       \n",
      " 437 ATM-Temporada_Code-1          float64       \n",
      " 438 ATM-Temporada_Code-2          float64       \n",
      " 439 ATM-Temporada_Code-3          float64       \n",
      " 440 ATM-Temporada_Code-4          float64       \n",
      " 441 ATM-Temporada_Code-5          float64       \n",
      " 442 ATM-Temporada_Code-6          float64       \n",
      " 443 ATM-Temporada_Code-7          float64       \n",
      " 444 ATM-Temporada_Code-8          float64       \n",
      " 445 ATM-Temporada_Code-9          float64       \n",
      " 446 ATM-Temporada_Code-10         float64       \n",
      " 447 ATM-deltaFTHG-1               float64       \n",
      " 448 ATM-deltaFTHG-2               float64       \n",
      " 449 ATM-deltaFTHG-3               float64       \n",
      " 450 ATM-deltaFTHG-4               float64       \n",
      " 451 ATM-deltaFTHG-5               float64       \n",
      " 452 ATM-deltaFTHG-6               float64       \n",
      " 453 ATM-deltaFTHG-7               float64       \n",
      " 454 ATM-deltaFTHG-8               float64       \n",
      " 455 ATM-deltaFTHG-9               float64       \n",
      " 456 ATM-deltaFTHG-10              float64       \n",
      " 457 ATM-deltaFTAG-1               float64       \n",
      " 458 ATM-deltaFTAG-2               float64       \n",
      " 459 ATM-deltaFTAG-3               float64       \n",
      " 460 ATM-deltaFTAG-4               float64       \n",
      " 461 ATM-deltaFTAG-5               float64       \n",
      " 462 ATM-deltaFTAG-6               float64       \n",
      " 463 ATM-deltaFTAG-7               float64       \n",
      " 464 ATM-deltaFTAG-8               float64       \n",
      " 465 ATM-deltaFTAG-9               float64       \n",
      " 466 ATM-deltaFTAG-10              float64       \n",
      " 467 ATM-resultadoGolesFT_Code-1   float64       \n",
      " 468 ATM-resultadoGolesFT_Code-2   float64       \n",
      " 469 ATM-resultadoGolesFT_Code-3   float64       \n",
      " 470 ATM-resultadoGolesFT_Code-4   float64       \n",
      " 471 ATM-resultadoGolesFT_Code-5   float64       \n",
      " 472 ATM-resultadoGolesFT_Code-6   float64       \n",
      " 473 ATM-resultadoGolesFT_Code-7   float64       \n",
      " 474 ATM-resultadoGolesFT_Code-8   float64       \n",
      " 475 ATM-resultadoGolesFT_Code-9   float64       \n",
      " 476 ATM-resultadoGolesFT_Code-10  float64       \n",
      " 477 ATM-PuntosAwayTeam-1          float64       \n",
      " 478 ATM-PuntosAwayTeam-2          float64       \n",
      " 479 ATM-PuntosAwayTeam-3          float64       \n",
      " 480 ATM-PuntosAwayTeam-4          float64       \n",
      " 481 ATM-PuntosAwayTeam-5          float64       \n",
      " 482 ATM-PuntosAwayTeam-6          float64       \n",
      " 483 ATM-PuntosAwayTeam-7          float64       \n",
      " 484 ATM-PuntosAwayTeam-8          float64       \n",
      " 485 ATM-PuntosAwayTeam-9          float64       \n",
      " 486 ATM-PuntosAwayTeam-10         float64       \n",
      " 487 ATM-deltaPuntosAwayTeam-1     float64       \n",
      " 488 ATM-deltaPuntosAwayTeam-2     float64       \n",
      " 489 ATM-deltaPuntosAwayTeam-3     float64       \n",
      " 490 ATM-deltaPuntosAwayTeam-4     float64       \n",
      " 491 ATM-deltaPuntosAwayTeam-5     float64       \n",
      " 492 ATM-deltaPuntosAwayTeam-6     float64       \n",
      " 493 ATM-deltaPuntosAwayTeam-7     float64       \n",
      " 494 ATM-deltaPuntosAwayTeam-8     float64       \n",
      " 495 ATM-deltaPuntosAwayTeam-9     float64       \n",
      " 496 ATM-deltaPuntosAwayTeam-10    float64       \n",
      "dtypes: datetime64[ns](1), float64(479), int64(8), object(9)\n",
      "memory usage: 22.8+ MB\n"
     ]
    }
   ],
   "source": [
    "liga_ATeam.info(verbose=True)"
   ]
  },
  {
   "cell_type": "markdown",
   "metadata": {},
   "source": [
    "## Ultimos 6 enfrentamientos del Home con el Away en casa del Home"
   ]
  },
  {
   "cell_type": "code",
   "execution_count": 21,
   "metadata": {
    "ExecuteTime": {
     "end_time": "2021-04-16T15:35:54.606394Z",
     "start_time": "2021-04-16T15:35:54.598395Z"
    }
   },
   "outputs": [],
   "source": [
    "lag_variables=['ResultadoFT','ResultadoHT','FTHG',\n",
    "'FTAG',\n",
    "'HTHG',\n",
    "'HTAG',\n",
    "'HS',\n",
    "'AS',\n",
    "'HST',\n",
    "'AST',\n",
    "'HF',\n",
    "'AF',\n",
    "'HC',\n",
    "'AC',\n",
    "'HY',\n",
    "'AY',\n",
    "'HR',\n",
    "'AR',\n",
    " 'B365H',\n",
    " 'B365D',\n",
    " 'B365A',\n",
    " 'BWH',\n",
    " 'BWD',\n",
    " 'BWA',\n",
    " 'IWH',\n",
    " 'IWD',\n",
    " 'IWA',\n",
    " 'WHH',\n",
    " 'WHD',\n",
    " 'WHA',\n",
    " 'VCH',\n",
    " 'VCD',\n",
    " 'VCA',\n",
    "'Day',\n",
    "'Month',                \n",
    "'Year',\n",
    "'DayWeek_Code',\n",
    "'Temporada_Code',\n",
    "'deltaFTHG',\n",
    "'deltaFTAG',\n",
    "'resultadoGolesFT_Code',\n",
    "'PuntosAwayTeam',               \n",
    "'PuntosHomeTeam',\n",
    "'deltaPuntosHomeTeam',\n",
    "'deltaPuntosAwayTeam']"
   ]
  },
  {
   "cell_type": "code",
   "execution_count": 22,
   "metadata": {
    "ExecuteTime": {
     "end_time": "2021-04-16T15:47:35.043256Z",
     "start_time": "2021-04-16T15:35:58.699009Z"
    }
   },
   "outputs": [
    {
     "name": "stderr",
     "output_type": "stream",
     "text": [
      "<ipython-input-22-e8bcffec7be3>:12: SettingWithCopyWarning: \n",
      "A value is trying to be set on a copy of a slice from a DataFrame.\n",
      "Try using .loc[row_indexer,col_indexer] = value instead\n",
      "\n",
      "See the caveats in the documentation: https://pandas.pydata.org/pandas-docs/stable/user_guide/indexing.html#returning-a-view-versus-a-copy\n",
      "  ligaF2F['F2F-H-'+str(y)+'-'+str(x)]=ligaF2F.groupby(['HomeTeam'])[y].shift(-1*x)\n"
     ]
    }
   ],
   "source": [
    "# 6 ultimos encuentros F2F cdel Home on el equipo visitante en casa del Home:\n",
    "j=1\n",
    "for a in lista_equipos:\n",
    "    for b in lista_equipos:\n",
    "            # Reducimos el dataset solo a los partidos especificos entre los dos equipos a,b\n",
    "            ligaF2F=liga[ (liga['HomeTeam']==a) &(liga['AwayTeam']==b) ]\n",
    "            for y in lag_variables:\n",
    "                #print('Trabajamos sobre: '+str(y))\n",
    "                # Vamos a los 6 ultimos partidos entre estos dos equipos\n",
    "                for x in [1,2,3,4,5,6]:\n",
    "                    #print(x)\n",
    "                    ligaF2F['F2F-H-'+str(y)+'-'+str(x)]=ligaF2F.groupby(['HomeTeam'])[y].shift(-1*x)\n",
    "            # Hacemos el concat de cada dataset particular de cada equipo.        \n",
    "            liga_F2F=ligaF2F.copy(deep=True) if j==1 else pd.concat([liga_F2F,ligaF2F], axis=0)\n",
    "            j+=1"
   ]
  },
  {
   "cell_type": "code",
   "execution_count": 23,
   "metadata": {
    "ExecuteTime": {
     "end_time": "2021-04-16T15:50:09.604080Z",
     "start_time": "2021-04-16T15:50:09.569076Z"
    }
   },
   "outputs": [],
   "source": [
    "liga_F2F.fillna(-1001,inplace=True)"
   ]
  },
  {
   "cell_type": "code",
   "execution_count": 24,
   "metadata": {
    "ExecuteTime": {
     "end_time": "2021-04-16T15:50:10.262207Z",
     "start_time": "2021-04-16T15:50:10.252212Z"
    }
   },
   "outputs": [],
   "source": [
    "liga_F2F_H=liga_F2F.copy(deep=True)"
   ]
  },
  {
   "cell_type": "code",
   "execution_count": 25,
   "metadata": {
    "ExecuteTime": {
     "end_time": "2021-04-16T15:50:11.026967Z",
     "start_time": "2021-04-16T15:50:11.020967Z"
    }
   },
   "outputs": [
    {
     "data": {
      "text/plain": [
       "(6010, 327)"
      ]
     },
     "execution_count": 25,
     "metadata": {},
     "output_type": "execute_result"
    }
   ],
   "source": [
    "liga_F2F_H.shape"
   ]
  },
  {
   "cell_type": "markdown",
   "metadata": {},
   "source": [
    "## Ultimos 6 enfrentamientos del Home con el Away en casa del Away"
   ]
  },
  {
   "cell_type": "code",
   "execution_count": null,
   "metadata": {},
   "outputs": [],
   "source": [
    "lag_variables=['ResultadoFT','ResultadoHT','FTHG',\n",
    "'FTAG',\n",
    "'HTHG',\n",
    "'HTAG',\n",
    "'HS',\n",
    "'AS',\n",
    "'HST',\n",
    "'AST',\n",
    "'HF',\n",
    "'AF',\n",
    "'HC',\n",
    "'AC',\n",
    "'HY',\n",
    "'AY',\n",
    "'HR',\n",
    "'AR',\n",
    "'Day',\n",
    "'Month',                \n",
    "'Year',\n",
    "'DayWeek_Code',\n",
    "'Temporada_Code']"
   ]
  },
  {
   "cell_type": "code",
   "execution_count": 79,
   "metadata": {
    "ExecuteTime": {
     "end_time": "2021-03-17T10:01:55.253437Z",
     "start_time": "2021-03-17T10:01:55.244416Z"
    }
   },
   "outputs": [
    {
     "data": {
      "text/plain": [
       "\"\\n# 5 ultimos encuentros F2F del equipo visitante con el Home:\\nj=1\\nfor a in lista_equipos:\\n    for b in lista_equipos:\\n            # Reducimos el dataset solo a los partidos especificos entre los dos equipos a,b\\n            ligaF2F=liga[ (liga['AwayTeam']==a) &(liga['HomeTeam']==b) ]\\n            for y in lag_variables:\\n                print('Trabajamos sobre: '+str(y))\\n                # Vamos a los 6 ultimos partidos entre estos dos equipos\\n                for x in [1,2,3,4,5,6,7]:\\n                    print(x)\\n                    ligaF2F['F2F-A-'+str(y)+'-'+str(x)]=ligaF2F.groupby(['HomeTeam'])[y].shift(-1*x)\\n            # Hacemos el concat de cada dataset particular de cada equipo.        \\n            liga_F2F=ligaF2F.copy(deep=True) if j==1 else pd.concat([liga_F2F,ligaF2F], axis=0)\\n            j+=1\\n\""
      ]
     },
     "execution_count": 79,
     "metadata": {},
     "output_type": "execute_result"
    }
   ],
   "source": [
    "'''\n",
    "# 5 ultimos encuentros F2F del equipo visitante con el Home:\n",
    "j=1\n",
    "for a in lista_equipos:\n",
    "    for b in lista_equipos:\n",
    "            # Reducimos el dataset solo a los partidos especificos entre los dos equipos a,b\n",
    "            ligaF2F=liga[ (liga['AwayTeam']==a) &(liga['HomeTeam']==b) ]\n",
    "            for y in lag_variables:\n",
    "                print('Trabajamos sobre: '+str(y))\n",
    "                # Vamos a los 6 ultimos partidos entre estos dos equipos\n",
    "                for x in [1,2,3,4,5,6,7]:\n",
    "                    print(x)\n",
    "                    ligaF2F['F2F-A-'+str(y)+'-'+str(x)]=ligaF2F.groupby(['HomeTeam'])[y].shift(-1*x)\n",
    "            # Hacemos el concat de cada dataset particular de cada equipo.        \n",
    "            liga_F2F=ligaF2F.copy(deep=True) if j==1 else pd.concat([liga_F2F,ligaF2F], axis=0)\n",
    "            j+=1\n",
    "'''"
   ]
  },
  {
   "cell_type": "code",
   "execution_count": null,
   "metadata": {},
   "outputs": [],
   "source": [
    "#liga_F2F.isnull().sum()"
   ]
  },
  {
   "cell_type": "code",
   "execution_count": null,
   "metadata": {},
   "outputs": [],
   "source": [
    "#liga_F2F.fillna(-1002,inplace=True)"
   ]
  },
  {
   "cell_type": "code",
   "execution_count": null,
   "metadata": {},
   "outputs": [],
   "source": [
    "#liga_F2F_A=liga_F2F.copy(deep=True)"
   ]
  },
  {
   "cell_type": "markdown",
   "metadata": {},
   "source": [
    "# Hacemos los merges"
   ]
  },
  {
   "cell_type": "markdown",
   "metadata": {},
   "source": [
    "## Merge con 10 partidos ultimos del local"
   ]
  },
  {
   "cell_type": "code",
   "execution_count": 26,
   "metadata": {
    "ExecuteTime": {
     "end_time": "2021-04-16T15:50:45.783992Z",
     "start_time": "2021-04-16T15:50:45.775990Z"
    }
   },
   "outputs": [],
   "source": [
    "# Vamos a borrar todas estas variables por ser redundantes y no necesarias en el Merge\n",
    "variables_borrar=['Div','AwayTeam','Date',\n",
    "'FTHG',\n",
    "'FTAG',\n",
    "'FTR',\n",
    "'HTHG',\n",
    "'HTAG',\n",
    "'HTR',\n",
    "'HS',\n",
    "'AS',\n",
    "'HST',\n",
    "'AST',\n",
    "'HF',\n",
    "'AF',\n",
    "'HC',\n",
    "'AC',\n",
    "'HY',\n",
    "'AY',\n",
    "'HR',\n",
    "'AR', \n",
    " 'B365H',\n",
    " 'B365D',\n",
    " 'B365A',\n",
    " 'BWH',\n",
    " 'BWD',\n",
    " 'BWA',\n",
    " 'IWH',\n",
    " 'IWD',\n",
    " 'IWA',\n",
    " 'WHH',\n",
    " 'WHD',\n",
    " 'WHA',\n",
    " 'VCH',\n",
    " 'VCD',\n",
    " 'VCA',                 \n",
    "'Temporada',\n",
    "'HomeTeamCode',\n",
    "'AwayTeamCode',\n",
    "'ResultadoFT',\n",
    "'ResultadoHT',\n",
    "'Day',      \n",
    "'Month',          \n",
    "'Year',          \n",
    "'DayWeek',       \n",
    "'DayWeek_Code',\n",
    "'Temporada_Code',\n",
    "'deltaFTHG',\n",
    "'deltaFTAG',\n",
    "'resultadoGolesFT',\n",
    "'resultadoGolesFT_Code',\n",
    "'PuntosHomeTeam',\n",
    "'PuntosAwayTeam',\n",
    "'deltaPuntosHomeTeam',\n",
    "'deltaPuntosAwayTeam']"
   ]
  },
  {
   "cell_type": "code",
   "execution_count": 27,
   "metadata": {
    "ExecuteTime": {
     "end_time": "2021-04-16T15:50:53.416571Z",
     "start_time": "2021-04-16T15:50:53.397569Z"
    }
   },
   "outputs": [],
   "source": [
    "liga_HTeam.drop(variables_borrar,axis=1,inplace=True)"
   ]
  },
  {
   "cell_type": "code",
   "execution_count": 28,
   "metadata": {
    "ExecuteTime": {
     "end_time": "2021-04-16T15:50:54.285042Z",
     "start_time": "2021-04-16T15:50:54.215038Z"
    }
   },
   "outputs": [],
   "source": [
    "# Hjacemos el Merge\n",
    "liga=pd.merge(liga,liga_HTeam, how='inner', on=['HomeTeam','Date1'])"
   ]
  },
  {
   "cell_type": "code",
   "execution_count": 29,
   "metadata": {
    "ExecuteTime": {
     "end_time": "2021-04-16T15:50:55.137345Z",
     "start_time": "2021-04-16T15:50:55.010821Z"
    }
   },
   "outputs": [
    {
     "name": "stdout",
     "output_type": "stream",
     "text": [
      "<class 'pandas.core.frame.DataFrame'>\n",
      "Int64Index: 6010 entries, 0 to 6009\n",
      "Data columns (total 497 columns):\n",
      " #   Column                        Dtype         \n",
      "---  ------                        -----         \n",
      " 0   Div                           object        \n",
      " 1   Date                          object        \n",
      " 2   HomeTeam                      object        \n",
      " 3   AwayTeam                      object        \n",
      " 4   FTHG                          float64       \n",
      " 5   FTAG                          float64       \n",
      " 6   FTR                           object        \n",
      " 7   HTHG                          float64       \n",
      " 8   HTAG                          float64       \n",
      " 9   HTR                           object        \n",
      " 10  HS                            float64       \n",
      " 11  AS                            float64       \n",
      " 12  HST                           float64       \n",
      " 13  AST                           float64       \n",
      " 14  HF                            float64       \n",
      " 15  AF                            float64       \n",
      " 16  HC                            float64       \n",
      " 17  AC                            float64       \n",
      " 18  HY                            float64       \n",
      " 19  AY                            float64       \n",
      " 20  HR                            float64       \n",
      " 21  AR                            float64       \n",
      " 22  B365H                         float64       \n",
      " 23  B365D                         float64       \n",
      " 24  B365A                         float64       \n",
      " 25  BWH                           float64       \n",
      " 26  BWD                           float64       \n",
      " 27  BWA                           float64       \n",
      " 28  IWH                           float64       \n",
      " 29  IWD                           float64       \n",
      " 30  IWA                           float64       \n",
      " 31  WHH                           float64       \n",
      " 32  WHD                           float64       \n",
      " 33  WHA                           float64       \n",
      " 34  VCH                           float64       \n",
      " 35  VCD                           float64       \n",
      " 36  VCA                           float64       \n",
      " 37  Date1                         datetime64[ns]\n",
      " 38  Temporada                     object        \n",
      " 39  HomeTeamCode                  int64         \n",
      " 40  AwayTeamCode                  int64         \n",
      " 41  ResultadoFT                   float64       \n",
      " 42  ResultadoHT                   float64       \n",
      " 43  Day                           int64         \n",
      " 44  Month                         int64         \n",
      " 45  Year                          int64         \n",
      " 46  DayWeek                       object        \n",
      " 47  DayWeek_Code                  int64         \n",
      " 48  Temporada_Code                int64         \n",
      " 49  deltaFTHG                     float64       \n",
      " 50  deltaFTAG                     float64       \n",
      " 51  resultadoGolesFT              object        \n",
      " 52  resultadoGolesFT_Code         int64         \n",
      " 53  PuntosHomeTeam                float64       \n",
      " 54  PuntosAwayTeam                float64       \n",
      " 55  deltaPuntosHomeTeam           float64       \n",
      " 56  deltaPuntosAwayTeam           float64       \n",
      " 57  HTM-ResultadoFT-1             float64       \n",
      " 58  HTM-ResultadoFT-2             float64       \n",
      " 59  HTM-ResultadoFT-3             float64       \n",
      " 60  HTM-ResultadoFT-4             float64       \n",
      " 61  HTM-ResultadoFT-5             float64       \n",
      " 62  HTM-ResultadoFT-6             float64       \n",
      " 63  HTM-ResultadoFT-7             float64       \n",
      " 64  HTM-ResultadoFT-8             float64       \n",
      " 65  HTM-ResultadoFT-9             float64       \n",
      " 66  HTM-ResultadoFT-10            float64       \n",
      " 67  HTM-ResultadoHT-1             float64       \n",
      " 68  HTM-ResultadoHT-2             float64       \n",
      " 69  HTM-ResultadoHT-3             float64       \n",
      " 70  HTM-ResultadoHT-4             float64       \n",
      " 71  HTM-ResultadoHT-5             float64       \n",
      " 72  HTM-ResultadoHT-6             float64       \n",
      " 73  HTM-ResultadoHT-7             float64       \n",
      " 74  HTM-ResultadoHT-8             float64       \n",
      " 75  HTM-ResultadoHT-9             float64       \n",
      " 76  HTM-ResultadoHT-10            float64       \n",
      " 77  HTM-FTHG-1                    float64       \n",
      " 78  HTM-FTHG-2                    float64       \n",
      " 79  HTM-FTHG-3                    float64       \n",
      " 80  HTM-FTHG-4                    float64       \n",
      " 81  HTM-FTHG-5                    float64       \n",
      " 82  HTM-FTHG-6                    float64       \n",
      " 83  HTM-FTHG-7                    float64       \n",
      " 84  HTM-FTHG-8                    float64       \n",
      " 85  HTM-FTHG-9                    float64       \n",
      " 86  HTM-FTHG-10                   float64       \n",
      " 87  HTM-FTAG-1                    float64       \n",
      " 88  HTM-FTAG-2                    float64       \n",
      " 89  HTM-FTAG-3                    float64       \n",
      " 90  HTM-FTAG-4                    float64       \n",
      " 91  HTM-FTAG-5                    float64       \n",
      " 92  HTM-FTAG-6                    float64       \n",
      " 93  HTM-FTAG-7                    float64       \n",
      " 94  HTM-FTAG-8                    float64       \n",
      " 95  HTM-FTAG-9                    float64       \n",
      " 96  HTM-FTAG-10                   float64       \n",
      " 97  HTM-HTHG-1                    float64       \n",
      " 98  HTM-HTHG-2                    float64       \n",
      " 99  HTM-HTHG-3                    float64       \n",
      " 100 HTM-HTHG-4                    float64       \n",
      " 101 HTM-HTHG-5                    float64       \n",
      " 102 HTM-HTHG-6                    float64       \n",
      " 103 HTM-HTHG-7                    float64       \n",
      " 104 HTM-HTHG-8                    float64       \n",
      " 105 HTM-HTHG-9                    float64       \n",
      " 106 HTM-HTHG-10                   float64       \n",
      " 107 HTM-HTAG-1                    float64       \n",
      " 108 HTM-HTAG-2                    float64       \n",
      " 109 HTM-HTAG-3                    float64       \n",
      " 110 HTM-HTAG-4                    float64       \n",
      " 111 HTM-HTAG-5                    float64       \n",
      " 112 HTM-HTAG-6                    float64       \n",
      " 113 HTM-HTAG-7                    float64       \n",
      " 114 HTM-HTAG-8                    float64       \n",
      " 115 HTM-HTAG-9                    float64       \n",
      " 116 HTM-HTAG-10                   float64       \n",
      " 117 HTM-HS-1                      float64       \n",
      " 118 HTM-HS-2                      float64       \n",
      " 119 HTM-HS-3                      float64       \n",
      " 120 HTM-HS-4                      float64       \n",
      " 121 HTM-HS-5                      float64       \n",
      " 122 HTM-HS-6                      float64       \n",
      " 123 HTM-HS-7                      float64       \n",
      " 124 HTM-HS-8                      float64       \n",
      " 125 HTM-HS-9                      float64       \n",
      " 126 HTM-HS-10                     float64       \n",
      " 127 HTM-AS-1                      float64       \n",
      " 128 HTM-AS-2                      float64       \n",
      " 129 HTM-AS-3                      float64       \n",
      " 130 HTM-AS-4                      float64       \n",
      " 131 HTM-AS-5                      float64       \n",
      " 132 HTM-AS-6                      float64       \n",
      " 133 HTM-AS-7                      float64       \n",
      " 134 HTM-AS-8                      float64       \n",
      " 135 HTM-AS-9                      float64       \n",
      " 136 HTM-AS-10                     float64       \n",
      " 137 HTM-HST-1                     float64       \n",
      " 138 HTM-HST-2                     float64       \n",
      " 139 HTM-HST-3                     float64       \n",
      " 140 HTM-HST-4                     float64       \n",
      " 141 HTM-HST-5                     float64       \n",
      " 142 HTM-HST-6                     float64       \n",
      " 143 HTM-HST-7                     float64       \n",
      " 144 HTM-HST-8                     float64       \n",
      " 145 HTM-HST-9                     float64       \n",
      " 146 HTM-HST-10                    float64       \n",
      " 147 HTM-AST-1                     float64       \n",
      " 148 HTM-AST-2                     float64       \n",
      " 149 HTM-AST-3                     float64       \n",
      " 150 HTM-AST-4                     float64       \n",
      " 151 HTM-AST-5                     float64       \n",
      " 152 HTM-AST-6                     float64       \n",
      " 153 HTM-AST-7                     float64       \n",
      " 154 HTM-AST-8                     float64       \n",
      " 155 HTM-AST-9                     float64       \n",
      " 156 HTM-AST-10                    float64       \n",
      " 157 HTM-HF-1                      float64       \n",
      " 158 HTM-HF-2                      float64       \n",
      " 159 HTM-HF-3                      float64       \n",
      " 160 HTM-HF-4                      float64       \n",
      " 161 HTM-HF-5                      float64       \n",
      " 162 HTM-HF-6                      float64       \n",
      " 163 HTM-HF-7                      float64       \n",
      " 164 HTM-HF-8                      float64       \n",
      " 165 HTM-HF-9                      float64       \n",
      " 166 HTM-HF-10                     float64       \n",
      " 167 HTM-AF-1                      float64       \n",
      " 168 HTM-AF-2                      float64       \n",
      " 169 HTM-AF-3                      float64       \n",
      " 170 HTM-AF-4                      float64       \n",
      " 171 HTM-AF-5                      float64       \n",
      " 172 HTM-AF-6                      float64       \n",
      " 173 HTM-AF-7                      float64       \n",
      " 174 HTM-AF-8                      float64       \n",
      " 175 HTM-AF-9                      float64       \n",
      " 176 HTM-AF-10                     float64       \n",
      " 177 HTM-HC-1                      float64       \n",
      " 178 HTM-HC-2                      float64       \n",
      " 179 HTM-HC-3                      float64       \n",
      " 180 HTM-HC-4                      float64       \n",
      " 181 HTM-HC-5                      float64       \n",
      " 182 HTM-HC-6                      float64       \n",
      " 183 HTM-HC-7                      float64       \n",
      " 184 HTM-HC-8                      float64       \n",
      " 185 HTM-HC-9                      float64       \n",
      " 186 HTM-HC-10                     float64       \n",
      " 187 HTM-AC-1                      float64       \n",
      " 188 HTM-AC-2                      float64       \n",
      " 189 HTM-AC-3                      float64       \n",
      " 190 HTM-AC-4                      float64       \n",
      " 191 HTM-AC-5                      float64       \n",
      " 192 HTM-AC-6                      float64       \n",
      " 193 HTM-AC-7                      float64       \n",
      " 194 HTM-AC-8                      float64       \n",
      " 195 HTM-AC-9                      float64       \n",
      " 196 HTM-AC-10                     float64       \n",
      " 197 HTM-HY-1                      float64       \n",
      " 198 HTM-HY-2                      float64       \n",
      " 199 HTM-HY-3                      float64       \n",
      " 200 HTM-HY-4                      float64       \n",
      " 201 HTM-HY-5                      float64       \n",
      " 202 HTM-HY-6                      float64       \n",
      " 203 HTM-HY-7                      float64       \n",
      " 204 HTM-HY-8                      float64       \n",
      " 205 HTM-HY-9                      float64       \n",
      " 206 HTM-HY-10                     float64       \n",
      " 207 HTM-AY-1                      float64       \n",
      " 208 HTM-AY-2                      float64       \n",
      " 209 HTM-AY-3                      float64       \n",
      " 210 HTM-AY-4                      float64       \n",
      " 211 HTM-AY-5                      float64       \n",
      " 212 HTM-AY-6                      float64       \n",
      " 213 HTM-AY-7                      float64       \n",
      " 214 HTM-AY-8                      float64       \n",
      " 215 HTM-AY-9                      float64       \n",
      " 216 HTM-AY-10                     float64       \n",
      " 217 HTM-HR-1                      float64       \n",
      " 218 HTM-HR-2                      float64       \n",
      " 219 HTM-HR-3                      float64       \n",
      " 220 HTM-HR-4                      float64       \n",
      " 221 HTM-HR-5                      float64       \n",
      " 222 HTM-HR-6                      float64       \n",
      " 223 HTM-HR-7                      float64       \n",
      " 224 HTM-HR-8                      float64       \n",
      " 225 HTM-HR-9                      float64       \n",
      " 226 HTM-HR-10                     float64       \n",
      " 227 HTM-AR-1                      float64       \n",
      " 228 HTM-AR-2                      float64       \n",
      " 229 HTM-AR-3                      float64       \n",
      " 230 HTM-AR-4                      float64       \n",
      " 231 HTM-AR-5                      float64       \n",
      " 232 HTM-AR-6                      float64       \n",
      " 233 HTM-AR-7                      float64       \n",
      " 234 HTM-AR-8                      float64       \n",
      " 235 HTM-AR-9                      float64       \n",
      " 236 HTM-AR-10                     float64       \n",
      " 237 HTM-B365H-1                   float64       \n",
      " 238 HTM-B365H-2                   float64       \n",
      " 239 HTM-B365H-3                   float64       \n",
      " 240 HTM-B365H-4                   float64       \n",
      " 241 HTM-B365H-5                   float64       \n",
      " 242 HTM-B365H-6                   float64       \n",
      " 243 HTM-B365H-7                   float64       \n",
      " 244 HTM-B365H-8                   float64       \n",
      " 245 HTM-B365H-9                   float64       \n",
      " 246 HTM-B365H-10                  float64       \n",
      " 247 HTM-B365D-1                   float64       \n",
      " 248 HTM-B365D-2                   float64       \n",
      " 249 HTM-B365D-3                   float64       \n",
      " 250 HTM-B365D-4                   float64       \n",
      " 251 HTM-B365D-5                   float64       \n",
      " 252 HTM-B365D-6                   float64       \n",
      " 253 HTM-B365D-7                   float64       \n",
      " 254 HTM-B365D-8                   float64       \n",
      " 255 HTM-B365D-9                   float64       \n",
      " 256 HTM-B365D-10                  float64       \n",
      " 257 HTM-B365A-1                   float64       \n",
      " 258 HTM-B365A-2                   float64       \n",
      " 259 HTM-B365A-3                   float64       \n",
      " 260 HTM-B365A-4                   float64       \n",
      " 261 HTM-B365A-5                   float64       \n",
      " 262 HTM-B365A-6                   float64       \n",
      " 263 HTM-B365A-7                   float64       \n",
      " 264 HTM-B365A-8                   float64       \n",
      " 265 HTM-B365A-9                   float64       \n",
      " 266 HTM-B365A-10                  float64       \n",
      " 267 HTM-BWH-1                     float64       \n",
      " 268 HTM-BWH-2                     float64       \n",
      " 269 HTM-BWH-3                     float64       \n",
      " 270 HTM-BWH-4                     float64       \n",
      " 271 HTM-BWH-5                     float64       \n",
      " 272 HTM-BWH-6                     float64       \n",
      " 273 HTM-BWH-7                     float64       \n",
      " 274 HTM-BWH-8                     float64       \n",
      " 275 HTM-BWH-9                     float64       \n",
      " 276 HTM-BWH-10                    float64       \n",
      " 277 HTM-BWD-1                     float64       \n",
      " 278 HTM-BWD-2                     float64       \n",
      " 279 HTM-BWD-3                     float64       \n",
      " 280 HTM-BWD-4                     float64       \n",
      " 281 HTM-BWD-5                     float64       \n",
      " 282 HTM-BWD-6                     float64       \n",
      " 283 HTM-BWD-7                     float64       \n",
      " 284 HTM-BWD-8                     float64       \n",
      " 285 HTM-BWD-9                     float64       \n",
      " 286 HTM-BWD-10                    float64       \n",
      " 287 HTM-BWA-1                     float64       \n",
      " 288 HTM-BWA-2                     float64       \n",
      " 289 HTM-BWA-3                     float64       \n",
      " 290 HTM-BWA-4                     float64       \n",
      " 291 HTM-BWA-5                     float64       \n",
      " 292 HTM-BWA-6                     float64       \n",
      " 293 HTM-BWA-7                     float64       \n",
      " 294 HTM-BWA-8                     float64       \n",
      " 295 HTM-BWA-9                     float64       \n",
      " 296 HTM-BWA-10                    float64       \n",
      " 297 HTM-IWH-1                     float64       \n",
      " 298 HTM-IWH-2                     float64       \n",
      " 299 HTM-IWH-3                     float64       \n",
      " 300 HTM-IWH-4                     float64       \n",
      " 301 HTM-IWH-5                     float64       \n",
      " 302 HTM-IWH-6                     float64       \n",
      " 303 HTM-IWH-7                     float64       \n",
      " 304 HTM-IWH-8                     float64       \n",
      " 305 HTM-IWH-9                     float64       \n",
      " 306 HTM-IWH-10                    float64       \n",
      " 307 HTM-IWD-1                     float64       \n",
      " 308 HTM-IWD-2                     float64       \n",
      " 309 HTM-IWD-3                     float64       \n",
      " 310 HTM-IWD-4                     float64       \n",
      " 311 HTM-IWD-5                     float64       \n",
      " 312 HTM-IWD-6                     float64       \n",
      " 313 HTM-IWD-7                     float64       \n",
      " 314 HTM-IWD-8                     float64       \n",
      " 315 HTM-IWD-9                     float64       \n",
      " 316 HTM-IWD-10                    float64       \n",
      " 317 HTM-IWA-1                     float64       \n",
      " 318 HTM-IWA-2                     float64       \n",
      " 319 HTM-IWA-3                     float64       \n",
      " 320 HTM-IWA-4                     float64       \n",
      " 321 HTM-IWA-5                     float64       \n",
      " 322 HTM-IWA-6                     float64       \n",
      " 323 HTM-IWA-7                     float64       \n",
      " 324 HTM-IWA-8                     float64       \n",
      " 325 HTM-IWA-9                     float64       \n",
      " 326 HTM-IWA-10                    float64       \n",
      " 327 HTM-WHH-1                     float64       \n",
      " 328 HTM-WHH-2                     float64       \n",
      " 329 HTM-WHH-3                     float64       \n",
      " 330 HTM-WHH-4                     float64       \n",
      " 331 HTM-WHH-5                     float64       \n",
      " 332 HTM-WHH-6                     float64       \n",
      " 333 HTM-WHH-7                     float64       \n",
      " 334 HTM-WHH-8                     float64       \n",
      " 335 HTM-WHH-9                     float64       \n",
      " 336 HTM-WHH-10                    float64       \n",
      " 337 HTM-WHD-1                     float64       \n",
      " 338 HTM-WHD-2                     float64       \n",
      " 339 HTM-WHD-3                     float64       \n",
      " 340 HTM-WHD-4                     float64       \n",
      " 341 HTM-WHD-5                     float64       \n",
      " 342 HTM-WHD-6                     float64       \n",
      " 343 HTM-WHD-7                     float64       \n",
      " 344 HTM-WHD-8                     float64       \n",
      " 345 HTM-WHD-9                     float64       \n",
      " 346 HTM-WHD-10                    float64       \n",
      " 347 HTM-WHA-1                     float64       \n",
      " 348 HTM-WHA-2                     float64       \n",
      " 349 HTM-WHA-3                     float64       \n",
      " 350 HTM-WHA-4                     float64       \n",
      " 351 HTM-WHA-5                     float64       \n",
      " 352 HTM-WHA-6                     float64       \n",
      " 353 HTM-WHA-7                     float64       \n",
      " 354 HTM-WHA-8                     float64       \n",
      " 355 HTM-WHA-9                     float64       \n",
      " 356 HTM-WHA-10                    float64       \n",
      " 357 HTM-VCH-1                     float64       \n",
      " 358 HTM-VCH-2                     float64       \n",
      " 359 HTM-VCH-3                     float64       \n",
      " 360 HTM-VCH-4                     float64       \n",
      " 361 HTM-VCH-5                     float64       \n",
      " 362 HTM-VCH-6                     float64       \n",
      " 363 HTM-VCH-7                     float64       \n",
      " 364 HTM-VCH-8                     float64       \n",
      " 365 HTM-VCH-9                     float64       \n",
      " 366 HTM-VCH-10                    float64       \n",
      " 367 HTM-VCD-1                     float64       \n",
      " 368 HTM-VCD-2                     float64       \n",
      " 369 HTM-VCD-3                     float64       \n",
      " 370 HTM-VCD-4                     float64       \n",
      " 371 HTM-VCD-5                     float64       \n",
      " 372 HTM-VCD-6                     float64       \n",
      " 373 HTM-VCD-7                     float64       \n",
      " 374 HTM-VCD-8                     float64       \n",
      " 375 HTM-VCD-9                     float64       \n",
      " 376 HTM-VCD-10                    float64       \n",
      " 377 HTM-VCA-1                     float64       \n",
      " 378 HTM-VCA-2                     float64       \n",
      " 379 HTM-VCA-3                     float64       \n",
      " 380 HTM-VCA-4                     float64       \n",
      " 381 HTM-VCA-5                     float64       \n",
      " 382 HTM-VCA-6                     float64       \n",
      " 383 HTM-VCA-7                     float64       \n",
      " 384 HTM-VCA-8                     float64       \n",
      " 385 HTM-VCA-9                     float64       \n",
      " 386 HTM-VCA-10                    float64       \n",
      " 387 HTM-AwayTeamCode-1            float64       \n",
      " 388 HTM-AwayTeamCode-2            float64       \n",
      " 389 HTM-AwayTeamCode-3            float64       \n",
      " 390 HTM-AwayTeamCode-4            float64       \n",
      " 391 HTM-AwayTeamCode-5            float64       \n",
      " 392 HTM-AwayTeamCode-6            float64       \n",
      " 393 HTM-AwayTeamCode-7            float64       \n",
      " 394 HTM-AwayTeamCode-8            float64       \n",
      " 395 HTM-AwayTeamCode-9            float64       \n",
      " 396 HTM-AwayTeamCode-10           float64       \n",
      " 397 HTM-Day-1                     float64       \n",
      " 398 HTM-Day-2                     float64       \n",
      " 399 HTM-Day-3                     float64       \n",
      " 400 HTM-Day-4                     float64       \n",
      " 401 HTM-Day-5                     float64       \n",
      " 402 HTM-Day-6                     float64       \n",
      " 403 HTM-Day-7                     float64       \n",
      " 404 HTM-Day-8                     float64       \n",
      " 405 HTM-Day-9                     float64       \n",
      " 406 HTM-Day-10                    float64       \n",
      " 407 HTM-Month-1                   float64       \n",
      " 408 HTM-Month-2                   float64       \n",
      " 409 HTM-Month-3                   float64       \n",
      " 410 HTM-Month-4                   float64       \n",
      " 411 HTM-Month-5                   float64       \n",
      " 412 HTM-Month-6                   float64       \n",
      " 413 HTM-Month-7                   float64       \n",
      " 414 HTM-Month-8                   float64       \n",
      " 415 HTM-Month-9                   float64       \n",
      " 416 HTM-Month-10                  float64       \n",
      " 417 HTM-Year-1                    float64       \n",
      " 418 HTM-Year-2                    float64       \n",
      " 419 HTM-Year-3                    float64       \n",
      " 420 HTM-Year-4                    float64       \n",
      " 421 HTM-Year-5                    float64       \n",
      " 422 HTM-Year-6                    float64       \n",
      " 423 HTM-Year-7                    float64       \n",
      " 424 HTM-Year-8                    float64       \n",
      " 425 HTM-Year-9                    float64       \n",
      " 426 HTM-Year-10                   float64       \n",
      " 427 HTM-DayWeek_Code-1            float64       \n",
      " 428 HTM-DayWeek_Code-2            float64       \n",
      " 429 HTM-DayWeek_Code-3            float64       \n",
      " 430 HTM-DayWeek_Code-4            float64       \n",
      " 431 HTM-DayWeek_Code-5            float64       \n",
      " 432 HTM-DayWeek_Code-6            float64       \n",
      " 433 HTM-DayWeek_Code-7            float64       \n",
      " 434 HTM-DayWeek_Code-8            float64       \n",
      " 435 HTM-DayWeek_Code-9            float64       \n",
      " 436 HTM-DayWeek_Code-10           float64       \n",
      " 437 HTM-Temporada_Code-1          float64       \n",
      " 438 HTM-Temporada_Code-2          float64       \n",
      " 439 HTM-Temporada_Code-3          float64       \n",
      " 440 HTM-Temporada_Code-4          float64       \n",
      " 441 HTM-Temporada_Code-5          float64       \n",
      " 442 HTM-Temporada_Code-6          float64       \n",
      " 443 HTM-Temporada_Code-7          float64       \n",
      " 444 HTM-Temporada_Code-8          float64       \n",
      " 445 HTM-Temporada_Code-9          float64       \n",
      " 446 HTM-Temporada_Code-10         float64       \n",
      " 447 HTM-deltaFTHG-1               float64       \n",
      " 448 HTM-deltaFTHG-2               float64       \n",
      " 449 HTM-deltaFTHG-3               float64       \n",
      " 450 HTM-deltaFTHG-4               float64       \n",
      " 451 HTM-deltaFTHG-5               float64       \n",
      " 452 HTM-deltaFTHG-6               float64       \n",
      " 453 HTM-deltaFTHG-7               float64       \n",
      " 454 HTM-deltaFTHG-8               float64       \n",
      " 455 HTM-deltaFTHG-9               float64       \n",
      " 456 HTM-deltaFTHG-10              float64       \n",
      " 457 HTM-deltaFTAG-1               float64       \n",
      " 458 HTM-deltaFTAG-2               float64       \n",
      " 459 HTM-deltaFTAG-3               float64       \n",
      " 460 HTM-deltaFTAG-4               float64       \n",
      " 461 HTM-deltaFTAG-5               float64       \n",
      " 462 HTM-deltaFTAG-6               float64       \n",
      " 463 HTM-deltaFTAG-7               float64       \n",
      " 464 HTM-deltaFTAG-8               float64       \n",
      " 465 HTM-deltaFTAG-9               float64       \n",
      " 466 HTM-deltaFTAG-10              float64       \n",
      " 467 HTM-resultadoGolesFT_Code-1   float64       \n",
      " 468 HTM-resultadoGolesFT_Code-2   float64       \n",
      " 469 HTM-resultadoGolesFT_Code-3   float64       \n",
      " 470 HTM-resultadoGolesFT_Code-4   float64       \n",
      " 471 HTM-resultadoGolesFT_Code-5   float64       \n",
      " 472 HTM-resultadoGolesFT_Code-6   float64       \n",
      " 473 HTM-resultadoGolesFT_Code-7   float64       \n",
      " 474 HTM-resultadoGolesFT_Code-8   float64       \n",
      " 475 HTM-resultadoGolesFT_Code-9   float64       \n",
      " 476 HTM-resultadoGolesFT_Code-10  float64       \n",
      " 477 HTM-PuntosHomeTeam-1          float64       \n",
      " 478 HTM-PuntosHomeTeam-2          float64       \n",
      " 479 HTM-PuntosHomeTeam-3          float64       \n",
      " 480 HTM-PuntosHomeTeam-4          float64       \n",
      " 481 HTM-PuntosHomeTeam-5          float64       \n",
      " 482 HTM-PuntosHomeTeam-6          float64       \n",
      " 483 HTM-PuntosHomeTeam-7          float64       \n",
      " 484 HTM-PuntosHomeTeam-8          float64       \n",
      " 485 HTM-PuntosHomeTeam-9          float64       \n",
      " 486 HTM-PuntosHomeTeam-10         float64       \n",
      " 487 HTM-deltaPuntosHomeTeam-1     float64       \n",
      " 488 HTM-deltaPuntosHomeTeam-2     float64       \n",
      " 489 HTM-deltaPuntosHomeTeam-3     float64       \n",
      " 490 HTM-deltaPuntosHomeTeam-4     float64       \n",
      " 491 HTM-deltaPuntosHomeTeam-5     float64       \n",
      " 492 HTM-deltaPuntosHomeTeam-6     float64       \n",
      " 493 HTM-deltaPuntosHomeTeam-7     float64       \n",
      " 494 HTM-deltaPuntosHomeTeam-8     float64       \n",
      " 495 HTM-deltaPuntosHomeTeam-9     float64       \n",
      " 496 HTM-deltaPuntosHomeTeam-10    float64       \n",
      "dtypes: datetime64[ns](1), float64(479), int64(8), object(9)\n",
      "memory usage: 22.8+ MB\n"
     ]
    }
   ],
   "source": [
    "liga.info(verbose=True)"
   ]
  },
  {
   "cell_type": "markdown",
   "metadata": {},
   "source": [
    "## Merge con 10 partidos ultimos del Visitante"
   ]
  },
  {
   "cell_type": "code",
   "execution_count": 30,
   "metadata": {
    "ExecuteTime": {
     "end_time": "2021-04-16T15:51:11.389807Z",
     "start_time": "2021-04-16T15:51:11.382809Z"
    }
   },
   "outputs": [],
   "source": [
    "# Vamos a borrar todas estas variables por ser redundantes y no necesarias en el Merge\n",
    "variables_borrar=['Div','HomeTeam','Date',\n",
    "'FTHG',\n",
    "'FTAG',\n",
    "'FTR',\n",
    "'HTHG',\n",
    "'HTAG',\n",
    "'HTR',\n",
    "'HS',\n",
    "'AS',\n",
    "'HST',\n",
    "'AST',\n",
    "'HF',\n",
    "'AF',\n",
    "'HC',\n",
    "'AC',\n",
    "'HY',\n",
    "'AY',\n",
    "'HR',\n",
    "'AR', \n",
    " 'B365H',\n",
    " 'B365D',\n",
    " 'B365A',\n",
    " 'BWH',\n",
    " 'BWD',\n",
    " 'BWA',\n",
    " 'IWH',\n",
    " 'IWD',\n",
    " 'IWA',\n",
    " 'WHH',\n",
    " 'WHD',\n",
    " 'WHA',\n",
    " 'VCH',\n",
    " 'VCD',\n",
    " 'VCA', \n",
    "'Temporada',\n",
    "'HomeTeamCode',\n",
    "'AwayTeamCode',\n",
    "'ResultadoFT',\n",
    "'ResultadoHT',\n",
    "'Day',      \n",
    "'Month',          \n",
    "'Year',          \n",
    "'DayWeek',       \n",
    "'DayWeek_Code',\n",
    "'Temporada_Code',\n",
    "'deltaFTHG',\n",
    "'deltaFTAG',\n",
    "'resultadoGolesFT',\n",
    "'resultadoGolesFT_Code',\n",
    "'PuntosHomeTeam',\n",
    "'PuntosAwayTeam',\n",
    "'deltaPuntosHomeTeam',\n",
    "'deltaPuntosAwayTeam']"
   ]
  },
  {
   "cell_type": "code",
   "execution_count": 31,
   "metadata": {
    "ExecuteTime": {
     "end_time": "2021-04-16T15:51:13.681596Z",
     "start_time": "2021-04-16T15:51:13.659596Z"
    }
   },
   "outputs": [],
   "source": [
    "liga_ATeam.drop(variables_borrar,axis=1,inplace=True)"
   ]
  },
  {
   "cell_type": "code",
   "execution_count": 32,
   "metadata": {
    "ExecuteTime": {
     "end_time": "2021-04-16T15:51:14.416155Z",
     "start_time": "2021-04-16T15:51:14.243325Z"
    }
   },
   "outputs": [],
   "source": [
    "# Hjacemos el Merge\n",
    "liga=pd.merge(liga,liga_ATeam, how='inner', on=['AwayTeam','Date1'])"
   ]
  },
  {
   "cell_type": "code",
   "execution_count": 33,
   "metadata": {
    "ExecuteTime": {
     "end_time": "2021-04-16T15:51:15.263090Z",
     "start_time": "2021-04-16T15:51:15.037412Z"
    }
   },
   "outputs": [
    {
     "name": "stdout",
     "output_type": "stream",
     "text": [
      "<class 'pandas.core.frame.DataFrame'>\n",
      "Int64Index: 6010 entries, 0 to 6009\n",
      "Data columns (total 937 columns):\n",
      " #   Column                        Dtype         \n",
      "---  ------                        -----         \n",
      " 0   Div                           object        \n",
      " 1   Date                          object        \n",
      " 2   HomeTeam                      object        \n",
      " 3   AwayTeam                      object        \n",
      " 4   FTHG                          float64       \n",
      " 5   FTAG                          float64       \n",
      " 6   FTR                           object        \n",
      " 7   HTHG                          float64       \n",
      " 8   HTAG                          float64       \n",
      " 9   HTR                           object        \n",
      " 10  HS                            float64       \n",
      " 11  AS                            float64       \n",
      " 12  HST                           float64       \n",
      " 13  AST                           float64       \n",
      " 14  HF                            float64       \n",
      " 15  AF                            float64       \n",
      " 16  HC                            float64       \n",
      " 17  AC                            float64       \n",
      " 18  HY                            float64       \n",
      " 19  AY                            float64       \n",
      " 20  HR                            float64       \n",
      " 21  AR                            float64       \n",
      " 22  B365H                         float64       \n",
      " 23  B365D                         float64       \n",
      " 24  B365A                         float64       \n",
      " 25  BWH                           float64       \n",
      " 26  BWD                           float64       \n",
      " 27  BWA                           float64       \n",
      " 28  IWH                           float64       \n",
      " 29  IWD                           float64       \n",
      " 30  IWA                           float64       \n",
      " 31  WHH                           float64       \n",
      " 32  WHD                           float64       \n",
      " 33  WHA                           float64       \n",
      " 34  VCH                           float64       \n",
      " 35  VCD                           float64       \n",
      " 36  VCA                           float64       \n",
      " 37  Date1                         datetime64[ns]\n",
      " 38  Temporada                     object        \n",
      " 39  HomeTeamCode                  int64         \n",
      " 40  AwayTeamCode                  int64         \n",
      " 41  ResultadoFT                   float64       \n",
      " 42  ResultadoHT                   float64       \n",
      " 43  Day                           int64         \n",
      " 44  Month                         int64         \n",
      " 45  Year                          int64         \n",
      " 46  DayWeek                       object        \n",
      " 47  DayWeek_Code                  int64         \n",
      " 48  Temporada_Code                int64         \n",
      " 49  deltaFTHG                     float64       \n",
      " 50  deltaFTAG                     float64       \n",
      " 51  resultadoGolesFT              object        \n",
      " 52  resultadoGolesFT_Code         int64         \n",
      " 53  PuntosHomeTeam                float64       \n",
      " 54  PuntosAwayTeam                float64       \n",
      " 55  deltaPuntosHomeTeam           float64       \n",
      " 56  deltaPuntosAwayTeam           float64       \n",
      " 57  HTM-ResultadoFT-1             float64       \n",
      " 58  HTM-ResultadoFT-2             float64       \n",
      " 59  HTM-ResultadoFT-3             float64       \n",
      " 60  HTM-ResultadoFT-4             float64       \n",
      " 61  HTM-ResultadoFT-5             float64       \n",
      " 62  HTM-ResultadoFT-6             float64       \n",
      " 63  HTM-ResultadoFT-7             float64       \n",
      " 64  HTM-ResultadoFT-8             float64       \n",
      " 65  HTM-ResultadoFT-9             float64       \n",
      " 66  HTM-ResultadoFT-10            float64       \n",
      " 67  HTM-ResultadoHT-1             float64       \n",
      " 68  HTM-ResultadoHT-2             float64       \n",
      " 69  HTM-ResultadoHT-3             float64       \n",
      " 70  HTM-ResultadoHT-4             float64       \n",
      " 71  HTM-ResultadoHT-5             float64       \n",
      " 72  HTM-ResultadoHT-6             float64       \n",
      " 73  HTM-ResultadoHT-7             float64       \n",
      " 74  HTM-ResultadoHT-8             float64       \n",
      " 75  HTM-ResultadoHT-9             float64       \n",
      " 76  HTM-ResultadoHT-10            float64       \n",
      " 77  HTM-FTHG-1                    float64       \n",
      " 78  HTM-FTHG-2                    float64       \n",
      " 79  HTM-FTHG-3                    float64       \n",
      " 80  HTM-FTHG-4                    float64       \n",
      " 81  HTM-FTHG-5                    float64       \n",
      " 82  HTM-FTHG-6                    float64       \n",
      " 83  HTM-FTHG-7                    float64       \n",
      " 84  HTM-FTHG-8                    float64       \n",
      " 85  HTM-FTHG-9                    float64       \n",
      " 86  HTM-FTHG-10                   float64       \n",
      " 87  HTM-FTAG-1                    float64       \n",
      " 88  HTM-FTAG-2                    float64       \n",
      " 89  HTM-FTAG-3                    float64       \n",
      " 90  HTM-FTAG-4                    float64       \n",
      " 91  HTM-FTAG-5                    float64       \n",
      " 92  HTM-FTAG-6                    float64       \n",
      " 93  HTM-FTAG-7                    float64       \n",
      " 94  HTM-FTAG-8                    float64       \n",
      " 95  HTM-FTAG-9                    float64       \n",
      " 96  HTM-FTAG-10                   float64       \n",
      " 97  HTM-HTHG-1                    float64       \n",
      " 98  HTM-HTHG-2                    float64       \n",
      " 99  HTM-HTHG-3                    float64       \n",
      " 100 HTM-HTHG-4                    float64       \n",
      " 101 HTM-HTHG-5                    float64       \n",
      " 102 HTM-HTHG-6                    float64       \n",
      " 103 HTM-HTHG-7                    float64       \n",
      " 104 HTM-HTHG-8                    float64       \n",
      " 105 HTM-HTHG-9                    float64       \n",
      " 106 HTM-HTHG-10                   float64       \n",
      " 107 HTM-HTAG-1                    float64       \n",
      " 108 HTM-HTAG-2                    float64       \n",
      " 109 HTM-HTAG-3                    float64       \n",
      " 110 HTM-HTAG-4                    float64       \n",
      " 111 HTM-HTAG-5                    float64       \n",
      " 112 HTM-HTAG-6                    float64       \n",
      " 113 HTM-HTAG-7                    float64       \n",
      " 114 HTM-HTAG-8                    float64       \n",
      " 115 HTM-HTAG-9                    float64       \n",
      " 116 HTM-HTAG-10                   float64       \n",
      " 117 HTM-HS-1                      float64       \n",
      " 118 HTM-HS-2                      float64       \n",
      " 119 HTM-HS-3                      float64       \n",
      " 120 HTM-HS-4                      float64       \n",
      " 121 HTM-HS-5                      float64       \n",
      " 122 HTM-HS-6                      float64       \n",
      " 123 HTM-HS-7                      float64       \n",
      " 124 HTM-HS-8                      float64       \n",
      " 125 HTM-HS-9                      float64       \n",
      " 126 HTM-HS-10                     float64       \n",
      " 127 HTM-AS-1                      float64       \n",
      " 128 HTM-AS-2                      float64       \n",
      " 129 HTM-AS-3                      float64       \n",
      " 130 HTM-AS-4                      float64       \n",
      " 131 HTM-AS-5                      float64       \n",
      " 132 HTM-AS-6                      float64       \n",
      " 133 HTM-AS-7                      float64       \n",
      " 134 HTM-AS-8                      float64       \n",
      " 135 HTM-AS-9                      float64       \n",
      " 136 HTM-AS-10                     float64       \n",
      " 137 HTM-HST-1                     float64       \n",
      " 138 HTM-HST-2                     float64       \n",
      " 139 HTM-HST-3                     float64       \n",
      " 140 HTM-HST-4                     float64       \n",
      " 141 HTM-HST-5                     float64       \n",
      " 142 HTM-HST-6                     float64       \n",
      " 143 HTM-HST-7                     float64       \n",
      " 144 HTM-HST-8                     float64       \n",
      " 145 HTM-HST-9                     float64       \n",
      " 146 HTM-HST-10                    float64       \n",
      " 147 HTM-AST-1                     float64       \n",
      " 148 HTM-AST-2                     float64       \n",
      " 149 HTM-AST-3                     float64       \n",
      " 150 HTM-AST-4                     float64       \n",
      " 151 HTM-AST-5                     float64       \n",
      " 152 HTM-AST-6                     float64       \n",
      " 153 HTM-AST-7                     float64       \n",
      " 154 HTM-AST-8                     float64       \n",
      " 155 HTM-AST-9                     float64       \n",
      " 156 HTM-AST-10                    float64       \n",
      " 157 HTM-HF-1                      float64       \n",
      " 158 HTM-HF-2                      float64       \n",
      " 159 HTM-HF-3                      float64       \n",
      " 160 HTM-HF-4                      float64       \n",
      " 161 HTM-HF-5                      float64       \n",
      " 162 HTM-HF-6                      float64       \n",
      " 163 HTM-HF-7                      float64       \n",
      " 164 HTM-HF-8                      float64       \n",
      " 165 HTM-HF-9                      float64       \n",
      " 166 HTM-HF-10                     float64       \n",
      " 167 HTM-AF-1                      float64       \n",
      " 168 HTM-AF-2                      float64       \n",
      " 169 HTM-AF-3                      float64       \n",
      " 170 HTM-AF-4                      float64       \n",
      " 171 HTM-AF-5                      float64       \n",
      " 172 HTM-AF-6                      float64       \n",
      " 173 HTM-AF-7                      float64       \n",
      " 174 HTM-AF-8                      float64       \n",
      " 175 HTM-AF-9                      float64       \n",
      " 176 HTM-AF-10                     float64       \n",
      " 177 HTM-HC-1                      float64       \n",
      " 178 HTM-HC-2                      float64       \n",
      " 179 HTM-HC-3                      float64       \n",
      " 180 HTM-HC-4                      float64       \n",
      " 181 HTM-HC-5                      float64       \n",
      " 182 HTM-HC-6                      float64       \n",
      " 183 HTM-HC-7                      float64       \n",
      " 184 HTM-HC-8                      float64       \n",
      " 185 HTM-HC-9                      float64       \n",
      " 186 HTM-HC-10                     float64       \n",
      " 187 HTM-AC-1                      float64       \n",
      " 188 HTM-AC-2                      float64       \n",
      " 189 HTM-AC-3                      float64       \n",
      " 190 HTM-AC-4                      float64       \n",
      " 191 HTM-AC-5                      float64       \n",
      " 192 HTM-AC-6                      float64       \n",
      " 193 HTM-AC-7                      float64       \n",
      " 194 HTM-AC-8                      float64       \n",
      " 195 HTM-AC-9                      float64       \n",
      " 196 HTM-AC-10                     float64       \n",
      " 197 HTM-HY-1                      float64       \n",
      " 198 HTM-HY-2                      float64       \n",
      " 199 HTM-HY-3                      float64       \n",
      " 200 HTM-HY-4                      float64       \n",
      " 201 HTM-HY-5                      float64       \n",
      " 202 HTM-HY-6                      float64       \n",
      " 203 HTM-HY-7                      float64       \n",
      " 204 HTM-HY-8                      float64       \n",
      " 205 HTM-HY-9                      float64       \n",
      " 206 HTM-HY-10                     float64       \n",
      " 207 HTM-AY-1                      float64       \n",
      " 208 HTM-AY-2                      float64       \n",
      " 209 HTM-AY-3                      float64       \n",
      " 210 HTM-AY-4                      float64       \n",
      " 211 HTM-AY-5                      float64       \n",
      " 212 HTM-AY-6                      float64       \n",
      " 213 HTM-AY-7                      float64       \n",
      " 214 HTM-AY-8                      float64       \n",
      " 215 HTM-AY-9                      float64       \n",
      " 216 HTM-AY-10                     float64       \n",
      " 217 HTM-HR-1                      float64       \n",
      " 218 HTM-HR-2                      float64       \n",
      " 219 HTM-HR-3                      float64       \n",
      " 220 HTM-HR-4                      float64       \n",
      " 221 HTM-HR-5                      float64       \n",
      " 222 HTM-HR-6                      float64       \n",
      " 223 HTM-HR-7                      float64       \n",
      " 224 HTM-HR-8                      float64       \n",
      " 225 HTM-HR-9                      float64       \n",
      " 226 HTM-HR-10                     float64       \n",
      " 227 HTM-AR-1                      float64       \n",
      " 228 HTM-AR-2                      float64       \n",
      " 229 HTM-AR-3                      float64       \n",
      " 230 HTM-AR-4                      float64       \n",
      " 231 HTM-AR-5                      float64       \n",
      " 232 HTM-AR-6                      float64       \n",
      " 233 HTM-AR-7                      float64       \n",
      " 234 HTM-AR-8                      float64       \n",
      " 235 HTM-AR-9                      float64       \n",
      " 236 HTM-AR-10                     float64       \n",
      " 237 HTM-B365H-1                   float64       \n",
      " 238 HTM-B365H-2                   float64       \n",
      " 239 HTM-B365H-3                   float64       \n",
      " 240 HTM-B365H-4                   float64       \n",
      " 241 HTM-B365H-5                   float64       \n",
      " 242 HTM-B365H-6                   float64       \n",
      " 243 HTM-B365H-7                   float64       \n",
      " 244 HTM-B365H-8                   float64       \n",
      " 245 HTM-B365H-9                   float64       \n",
      " 246 HTM-B365H-10                  float64       \n",
      " 247 HTM-B365D-1                   float64       \n",
      " 248 HTM-B365D-2                   float64       \n",
      " 249 HTM-B365D-3                   float64       \n",
      " 250 HTM-B365D-4                   float64       \n",
      " 251 HTM-B365D-5                   float64       \n",
      " 252 HTM-B365D-6                   float64       \n",
      " 253 HTM-B365D-7                   float64       \n",
      " 254 HTM-B365D-8                   float64       \n",
      " 255 HTM-B365D-9                   float64       \n",
      " 256 HTM-B365D-10                  float64       \n",
      " 257 HTM-B365A-1                   float64       \n",
      " 258 HTM-B365A-2                   float64       \n",
      " 259 HTM-B365A-3                   float64       \n",
      " 260 HTM-B365A-4                   float64       \n",
      " 261 HTM-B365A-5                   float64       \n",
      " 262 HTM-B365A-6                   float64       \n",
      " 263 HTM-B365A-7                   float64       \n",
      " 264 HTM-B365A-8                   float64       \n",
      " 265 HTM-B365A-9                   float64       \n",
      " 266 HTM-B365A-10                  float64       \n",
      " 267 HTM-BWH-1                     float64       \n",
      " 268 HTM-BWH-2                     float64       \n",
      " 269 HTM-BWH-3                     float64       \n",
      " 270 HTM-BWH-4                     float64       \n",
      " 271 HTM-BWH-5                     float64       \n",
      " 272 HTM-BWH-6                     float64       \n",
      " 273 HTM-BWH-7                     float64       \n",
      " 274 HTM-BWH-8                     float64       \n",
      " 275 HTM-BWH-9                     float64       \n",
      " 276 HTM-BWH-10                    float64       \n",
      " 277 HTM-BWD-1                     float64       \n",
      " 278 HTM-BWD-2                     float64       \n",
      " 279 HTM-BWD-3                     float64       \n",
      " 280 HTM-BWD-4                     float64       \n",
      " 281 HTM-BWD-5                     float64       \n",
      " 282 HTM-BWD-6                     float64       \n",
      " 283 HTM-BWD-7                     float64       \n",
      " 284 HTM-BWD-8                     float64       \n",
      " 285 HTM-BWD-9                     float64       \n",
      " 286 HTM-BWD-10                    float64       \n",
      " 287 HTM-BWA-1                     float64       \n",
      " 288 HTM-BWA-2                     float64       \n",
      " 289 HTM-BWA-3                     float64       \n",
      " 290 HTM-BWA-4                     float64       \n",
      " 291 HTM-BWA-5                     float64       \n",
      " 292 HTM-BWA-6                     float64       \n",
      " 293 HTM-BWA-7                     float64       \n",
      " 294 HTM-BWA-8                     float64       \n",
      " 295 HTM-BWA-9                     float64       \n",
      " 296 HTM-BWA-10                    float64       \n",
      " 297 HTM-IWH-1                     float64       \n",
      " 298 HTM-IWH-2                     float64       \n",
      " 299 HTM-IWH-3                     float64       \n",
      " 300 HTM-IWH-4                     float64       \n",
      " 301 HTM-IWH-5                     float64       \n",
      " 302 HTM-IWH-6                     float64       \n",
      " 303 HTM-IWH-7                     float64       \n",
      " 304 HTM-IWH-8                     float64       \n",
      " 305 HTM-IWH-9                     float64       \n",
      " 306 HTM-IWH-10                    float64       \n",
      " 307 HTM-IWD-1                     float64       \n",
      " 308 HTM-IWD-2                     float64       \n",
      " 309 HTM-IWD-3                     float64       \n",
      " 310 HTM-IWD-4                     float64       \n",
      " 311 HTM-IWD-5                     float64       \n",
      " 312 HTM-IWD-6                     float64       \n",
      " 313 HTM-IWD-7                     float64       \n",
      " 314 HTM-IWD-8                     float64       \n",
      " 315 HTM-IWD-9                     float64       \n",
      " 316 HTM-IWD-10                    float64       \n",
      " 317 HTM-IWA-1                     float64       \n",
      " 318 HTM-IWA-2                     float64       \n",
      " 319 HTM-IWA-3                     float64       \n",
      " 320 HTM-IWA-4                     float64       \n",
      " 321 HTM-IWA-5                     float64       \n",
      " 322 HTM-IWA-6                     float64       \n",
      " 323 HTM-IWA-7                     float64       \n",
      " 324 HTM-IWA-8                     float64       \n",
      " 325 HTM-IWA-9                     float64       \n",
      " 326 HTM-IWA-10                    float64       \n",
      " 327 HTM-WHH-1                     float64       \n",
      " 328 HTM-WHH-2                     float64       \n",
      " 329 HTM-WHH-3                     float64       \n",
      " 330 HTM-WHH-4                     float64       \n",
      " 331 HTM-WHH-5                     float64       \n",
      " 332 HTM-WHH-6                     float64       \n",
      " 333 HTM-WHH-7                     float64       \n",
      " 334 HTM-WHH-8                     float64       \n",
      " 335 HTM-WHH-9                     float64       \n",
      " 336 HTM-WHH-10                    float64       \n",
      " 337 HTM-WHD-1                     float64       \n",
      " 338 HTM-WHD-2                     float64       \n",
      " 339 HTM-WHD-3                     float64       \n",
      " 340 HTM-WHD-4                     float64       \n",
      " 341 HTM-WHD-5                     float64       \n",
      " 342 HTM-WHD-6                     float64       \n",
      " 343 HTM-WHD-7                     float64       \n",
      " 344 HTM-WHD-8                     float64       \n",
      " 345 HTM-WHD-9                     float64       \n",
      " 346 HTM-WHD-10                    float64       \n",
      " 347 HTM-WHA-1                     float64       \n",
      " 348 HTM-WHA-2                     float64       \n",
      " 349 HTM-WHA-3                     float64       \n",
      " 350 HTM-WHA-4                     float64       \n",
      " 351 HTM-WHA-5                     float64       \n",
      " 352 HTM-WHA-6                     float64       \n",
      " 353 HTM-WHA-7                     float64       \n",
      " 354 HTM-WHA-8                     float64       \n",
      " 355 HTM-WHA-9                     float64       \n",
      " 356 HTM-WHA-10                    float64       \n",
      " 357 HTM-VCH-1                     float64       \n",
      " 358 HTM-VCH-2                     float64       \n",
      " 359 HTM-VCH-3                     float64       \n",
      " 360 HTM-VCH-4                     float64       \n",
      " 361 HTM-VCH-5                     float64       \n",
      " 362 HTM-VCH-6                     float64       \n",
      " 363 HTM-VCH-7                     float64       \n",
      " 364 HTM-VCH-8                     float64       \n",
      " 365 HTM-VCH-9                     float64       \n",
      " 366 HTM-VCH-10                    float64       \n",
      " 367 HTM-VCD-1                     float64       \n",
      " 368 HTM-VCD-2                     float64       \n",
      " 369 HTM-VCD-3                     float64       \n",
      " 370 HTM-VCD-4                     float64       \n",
      " 371 HTM-VCD-5                     float64       \n",
      " 372 HTM-VCD-6                     float64       \n",
      " 373 HTM-VCD-7                     float64       \n",
      " 374 HTM-VCD-8                     float64       \n",
      " 375 HTM-VCD-9                     float64       \n",
      " 376 HTM-VCD-10                    float64       \n",
      " 377 HTM-VCA-1                     float64       \n",
      " 378 HTM-VCA-2                     float64       \n",
      " 379 HTM-VCA-3                     float64       \n",
      " 380 HTM-VCA-4                     float64       \n",
      " 381 HTM-VCA-5                     float64       \n",
      " 382 HTM-VCA-6                     float64       \n",
      " 383 HTM-VCA-7                     float64       \n",
      " 384 HTM-VCA-8                     float64       \n",
      " 385 HTM-VCA-9                     float64       \n",
      " 386 HTM-VCA-10                    float64       \n",
      " 387 HTM-AwayTeamCode-1            float64       \n",
      " 388 HTM-AwayTeamCode-2            float64       \n",
      " 389 HTM-AwayTeamCode-3            float64       \n",
      " 390 HTM-AwayTeamCode-4            float64       \n",
      " 391 HTM-AwayTeamCode-5            float64       \n",
      " 392 HTM-AwayTeamCode-6            float64       \n",
      " 393 HTM-AwayTeamCode-7            float64       \n",
      " 394 HTM-AwayTeamCode-8            float64       \n",
      " 395 HTM-AwayTeamCode-9            float64       \n",
      " 396 HTM-AwayTeamCode-10           float64       \n",
      " 397 HTM-Day-1                     float64       \n",
      " 398 HTM-Day-2                     float64       \n",
      " 399 HTM-Day-3                     float64       \n",
      " 400 HTM-Day-4                     float64       \n",
      " 401 HTM-Day-5                     float64       \n",
      " 402 HTM-Day-6                     float64       \n",
      " 403 HTM-Day-7                     float64       \n",
      " 404 HTM-Day-8                     float64       \n",
      " 405 HTM-Day-9                     float64       \n",
      " 406 HTM-Day-10                    float64       \n",
      " 407 HTM-Month-1                   float64       \n",
      " 408 HTM-Month-2                   float64       \n",
      " 409 HTM-Month-3                   float64       \n",
      " 410 HTM-Month-4                   float64       \n",
      " 411 HTM-Month-5                   float64       \n",
      " 412 HTM-Month-6                   float64       \n",
      " 413 HTM-Month-7                   float64       \n",
      " 414 HTM-Month-8                   float64       \n",
      " 415 HTM-Month-9                   float64       \n",
      " 416 HTM-Month-10                  float64       \n",
      " 417 HTM-Year-1                    float64       \n",
      " 418 HTM-Year-2                    float64       \n",
      " 419 HTM-Year-3                    float64       \n",
      " 420 HTM-Year-4                    float64       \n",
      " 421 HTM-Year-5                    float64       \n",
      " 422 HTM-Year-6                    float64       \n",
      " 423 HTM-Year-7                    float64       \n",
      " 424 HTM-Year-8                    float64       \n",
      " 425 HTM-Year-9                    float64       \n",
      " 426 HTM-Year-10                   float64       \n",
      " 427 HTM-DayWeek_Code-1            float64       \n",
      " 428 HTM-DayWeek_Code-2            float64       \n",
      " 429 HTM-DayWeek_Code-3            float64       \n",
      " 430 HTM-DayWeek_Code-4            float64       \n",
      " 431 HTM-DayWeek_Code-5            float64       \n",
      " 432 HTM-DayWeek_Code-6            float64       \n",
      " 433 HTM-DayWeek_Code-7            float64       \n",
      " 434 HTM-DayWeek_Code-8            float64       \n",
      " 435 HTM-DayWeek_Code-9            float64       \n",
      " 436 HTM-DayWeek_Code-10           float64       \n",
      " 437 HTM-Temporada_Code-1          float64       \n",
      " 438 HTM-Temporada_Code-2          float64       \n",
      " 439 HTM-Temporada_Code-3          float64       \n",
      " 440 HTM-Temporada_Code-4          float64       \n",
      " 441 HTM-Temporada_Code-5          float64       \n",
      " 442 HTM-Temporada_Code-6          float64       \n",
      " 443 HTM-Temporada_Code-7          float64       \n",
      " 444 HTM-Temporada_Code-8          float64       \n",
      " 445 HTM-Temporada_Code-9          float64       \n",
      " 446 HTM-Temporada_Code-10         float64       \n",
      " 447 HTM-deltaFTHG-1               float64       \n",
      " 448 HTM-deltaFTHG-2               float64       \n",
      " 449 HTM-deltaFTHG-3               float64       \n",
      " 450 HTM-deltaFTHG-4               float64       \n",
      " 451 HTM-deltaFTHG-5               float64       \n",
      " 452 HTM-deltaFTHG-6               float64       \n",
      " 453 HTM-deltaFTHG-7               float64       \n",
      " 454 HTM-deltaFTHG-8               float64       \n",
      " 455 HTM-deltaFTHG-9               float64       \n",
      " 456 HTM-deltaFTHG-10              float64       \n",
      " 457 HTM-deltaFTAG-1               float64       \n",
      " 458 HTM-deltaFTAG-2               float64       \n",
      " 459 HTM-deltaFTAG-3               float64       \n",
      " 460 HTM-deltaFTAG-4               float64       \n",
      " 461 HTM-deltaFTAG-5               float64       \n",
      " 462 HTM-deltaFTAG-6               float64       \n",
      " 463 HTM-deltaFTAG-7               float64       \n",
      " 464 HTM-deltaFTAG-8               float64       \n",
      " 465 HTM-deltaFTAG-9               float64       \n",
      " 466 HTM-deltaFTAG-10              float64       \n",
      " 467 HTM-resultadoGolesFT_Code-1   float64       \n",
      " 468 HTM-resultadoGolesFT_Code-2   float64       \n",
      " 469 HTM-resultadoGolesFT_Code-3   float64       \n",
      " 470 HTM-resultadoGolesFT_Code-4   float64       \n",
      " 471 HTM-resultadoGolesFT_Code-5   float64       \n",
      " 472 HTM-resultadoGolesFT_Code-6   float64       \n",
      " 473 HTM-resultadoGolesFT_Code-7   float64       \n",
      " 474 HTM-resultadoGolesFT_Code-8   float64       \n",
      " 475 HTM-resultadoGolesFT_Code-9   float64       \n",
      " 476 HTM-resultadoGolesFT_Code-10  float64       \n",
      " 477 HTM-PuntosHomeTeam-1          float64       \n",
      " 478 HTM-PuntosHomeTeam-2          float64       \n",
      " 479 HTM-PuntosHomeTeam-3          float64       \n",
      " 480 HTM-PuntosHomeTeam-4          float64       \n",
      " 481 HTM-PuntosHomeTeam-5          float64       \n",
      " 482 HTM-PuntosHomeTeam-6          float64       \n",
      " 483 HTM-PuntosHomeTeam-7          float64       \n",
      " 484 HTM-PuntosHomeTeam-8          float64       \n",
      " 485 HTM-PuntosHomeTeam-9          float64       \n",
      " 486 HTM-PuntosHomeTeam-10         float64       \n",
      " 487 HTM-deltaPuntosHomeTeam-1     float64       \n",
      " 488 HTM-deltaPuntosHomeTeam-2     float64       \n",
      " 489 HTM-deltaPuntosHomeTeam-3     float64       \n",
      " 490 HTM-deltaPuntosHomeTeam-4     float64       \n",
      " 491 HTM-deltaPuntosHomeTeam-5     float64       \n",
      " 492 HTM-deltaPuntosHomeTeam-6     float64       \n",
      " 493 HTM-deltaPuntosHomeTeam-7     float64       \n",
      " 494 HTM-deltaPuntosHomeTeam-8     float64       \n",
      " 495 HTM-deltaPuntosHomeTeam-9     float64       \n",
      " 496 HTM-deltaPuntosHomeTeam-10    float64       \n",
      " 497 ATM-ResultadoFT-1             float64       \n",
      " 498 ATM-ResultadoFT-2             float64       \n",
      " 499 ATM-ResultadoFT-3             float64       \n",
      " 500 ATM-ResultadoFT-4             float64       \n",
      " 501 ATM-ResultadoFT-5             float64       \n",
      " 502 ATM-ResultadoFT-6             float64       \n",
      " 503 ATM-ResultadoFT-7             float64       \n",
      " 504 ATM-ResultadoFT-8             float64       \n",
      " 505 ATM-ResultadoFT-9             float64       \n",
      " 506 ATM-ResultadoFT-10            float64       \n",
      " 507 ATM-ResultadoHT-1             float64       \n",
      " 508 ATM-ResultadoHT-2             float64       \n",
      " 509 ATM-ResultadoHT-3             float64       \n",
      " 510 ATM-ResultadoHT-4             float64       \n",
      " 511 ATM-ResultadoHT-5             float64       \n",
      " 512 ATM-ResultadoHT-6             float64       \n",
      " 513 ATM-ResultadoHT-7             float64       \n",
      " 514 ATM-ResultadoHT-8             float64       \n",
      " 515 ATM-ResultadoHT-9             float64       \n",
      " 516 ATM-ResultadoHT-10            float64       \n",
      " 517 ATM-FTHG-1                    float64       \n",
      " 518 ATM-FTHG-2                    float64       \n",
      " 519 ATM-FTHG-3                    float64       \n",
      " 520 ATM-FTHG-4                    float64       \n",
      " 521 ATM-FTHG-5                    float64       \n",
      " 522 ATM-FTHG-6                    float64       \n",
      " 523 ATM-FTHG-7                    float64       \n",
      " 524 ATM-FTHG-8                    float64       \n",
      " 525 ATM-FTHG-9                    float64       \n",
      " 526 ATM-FTHG-10                   float64       \n",
      " 527 ATM-FTAG-1                    float64       \n",
      " 528 ATM-FTAG-2                    float64       \n",
      " 529 ATM-FTAG-3                    float64       \n",
      " 530 ATM-FTAG-4                    float64       \n",
      " 531 ATM-FTAG-5                    float64       \n",
      " 532 ATM-FTAG-6                    float64       \n",
      " 533 ATM-FTAG-7                    float64       \n",
      " 534 ATM-FTAG-8                    float64       \n",
      " 535 ATM-FTAG-9                    float64       \n",
      " 536 ATM-FTAG-10                   float64       \n",
      " 537 ATM-HTHG-1                    float64       \n",
      " 538 ATM-HTHG-2                    float64       \n",
      " 539 ATM-HTHG-3                    float64       \n",
      " 540 ATM-HTHG-4                    float64       \n",
      " 541 ATM-HTHG-5                    float64       \n",
      " 542 ATM-HTHG-6                    float64       \n",
      " 543 ATM-HTHG-7                    float64       \n",
      " 544 ATM-HTHG-8                    float64       \n",
      " 545 ATM-HTHG-9                    float64       \n",
      " 546 ATM-HTHG-10                   float64       \n",
      " 547 ATM-HTAG-1                    float64       \n",
      " 548 ATM-HTAG-2                    float64       \n",
      " 549 ATM-HTAG-3                    float64       \n",
      " 550 ATM-HTAG-4                    float64       \n",
      " 551 ATM-HTAG-5                    float64       \n",
      " 552 ATM-HTAG-6                    float64       \n",
      " 553 ATM-HTAG-7                    float64       \n",
      " 554 ATM-HTAG-8                    float64       \n",
      " 555 ATM-HTAG-9                    float64       \n",
      " 556 ATM-HTAG-10                   float64       \n",
      " 557 ATM-HS-1                      float64       \n",
      " 558 ATM-HS-2                      float64       \n",
      " 559 ATM-HS-3                      float64       \n",
      " 560 ATM-HS-4                      float64       \n",
      " 561 ATM-HS-5                      float64       \n",
      " 562 ATM-HS-6                      float64       \n",
      " 563 ATM-HS-7                      float64       \n",
      " 564 ATM-HS-8                      float64       \n",
      " 565 ATM-HS-9                      float64       \n",
      " 566 ATM-HS-10                     float64       \n",
      " 567 ATM-AS-1                      float64       \n",
      " 568 ATM-AS-2                      float64       \n",
      " 569 ATM-AS-3                      float64       \n",
      " 570 ATM-AS-4                      float64       \n",
      " 571 ATM-AS-5                      float64       \n",
      " 572 ATM-AS-6                      float64       \n",
      " 573 ATM-AS-7                      float64       \n",
      " 574 ATM-AS-8                      float64       \n",
      " 575 ATM-AS-9                      float64       \n",
      " 576 ATM-AS-10                     float64       \n",
      " 577 ATM-HST-1                     float64       \n",
      " 578 ATM-HST-2                     float64       \n",
      " 579 ATM-HST-3                     float64       \n",
      " 580 ATM-HST-4                     float64       \n",
      " 581 ATM-HST-5                     float64       \n",
      " 582 ATM-HST-6                     float64       \n",
      " 583 ATM-HST-7                     float64       \n",
      " 584 ATM-HST-8                     float64       \n",
      " 585 ATM-HST-9                     float64       \n",
      " 586 ATM-HST-10                    float64       \n",
      " 587 ATM-AST-1                     float64       \n",
      " 588 ATM-AST-2                     float64       \n",
      " 589 ATM-AST-3                     float64       \n",
      " 590 ATM-AST-4                     float64       \n",
      " 591 ATM-AST-5                     float64       \n",
      " 592 ATM-AST-6                     float64       \n",
      " 593 ATM-AST-7                     float64       \n",
      " 594 ATM-AST-8                     float64       \n",
      " 595 ATM-AST-9                     float64       \n",
      " 596 ATM-AST-10                    float64       \n",
      " 597 ATM-HF-1                      float64       \n",
      " 598 ATM-HF-2                      float64       \n",
      " 599 ATM-HF-3                      float64       \n",
      " 600 ATM-HF-4                      float64       \n",
      " 601 ATM-HF-5                      float64       \n",
      " 602 ATM-HF-6                      float64       \n",
      " 603 ATM-HF-7                      float64       \n",
      " 604 ATM-HF-8                      float64       \n",
      " 605 ATM-HF-9                      float64       \n",
      " 606 ATM-HF-10                     float64       \n",
      " 607 ATM-AF-1                      float64       \n",
      " 608 ATM-AF-2                      float64       \n",
      " 609 ATM-AF-3                      float64       \n",
      " 610 ATM-AF-4                      float64       \n",
      " 611 ATM-AF-5                      float64       \n",
      " 612 ATM-AF-6                      float64       \n",
      " 613 ATM-AF-7                      float64       \n",
      " 614 ATM-AF-8                      float64       \n",
      " 615 ATM-AF-9                      float64       \n",
      " 616 ATM-AF-10                     float64       \n",
      " 617 ATM-HC-1                      float64       \n",
      " 618 ATM-HC-2                      float64       \n",
      " 619 ATM-HC-3                      float64       \n",
      " 620 ATM-HC-4                      float64       \n",
      " 621 ATM-HC-5                      float64       \n",
      " 622 ATM-HC-6                      float64       \n",
      " 623 ATM-HC-7                      float64       \n",
      " 624 ATM-HC-8                      float64       \n",
      " 625 ATM-HC-9                      float64       \n",
      " 626 ATM-HC-10                     float64       \n",
      " 627 ATM-AC-1                      float64       \n",
      " 628 ATM-AC-2                      float64       \n",
      " 629 ATM-AC-3                      float64       \n",
      " 630 ATM-AC-4                      float64       \n",
      " 631 ATM-AC-5                      float64       \n",
      " 632 ATM-AC-6                      float64       \n",
      " 633 ATM-AC-7                      float64       \n",
      " 634 ATM-AC-8                      float64       \n",
      " 635 ATM-AC-9                      float64       \n",
      " 636 ATM-AC-10                     float64       \n",
      " 637 ATM-HY-1                      float64       \n",
      " 638 ATM-HY-2                      float64       \n",
      " 639 ATM-HY-3                      float64       \n",
      " 640 ATM-HY-4                      float64       \n",
      " 641 ATM-HY-5                      float64       \n",
      " 642 ATM-HY-6                      float64       \n",
      " 643 ATM-HY-7                      float64       \n",
      " 644 ATM-HY-8                      float64       \n",
      " 645 ATM-HY-9                      float64       \n",
      " 646 ATM-HY-10                     float64       \n",
      " 647 ATM-AY-1                      float64       \n",
      " 648 ATM-AY-2                      float64       \n",
      " 649 ATM-AY-3                      float64       \n",
      " 650 ATM-AY-4                      float64       \n",
      " 651 ATM-AY-5                      float64       \n",
      " 652 ATM-AY-6                      float64       \n",
      " 653 ATM-AY-7                      float64       \n",
      " 654 ATM-AY-8                      float64       \n",
      " 655 ATM-AY-9                      float64       \n",
      " 656 ATM-AY-10                     float64       \n",
      " 657 ATM-HR-1                      float64       \n",
      " 658 ATM-HR-2                      float64       \n",
      " 659 ATM-HR-3                      float64       \n",
      " 660 ATM-HR-4                      float64       \n",
      " 661 ATM-HR-5                      float64       \n",
      " 662 ATM-HR-6                      float64       \n",
      " 663 ATM-HR-7                      float64       \n",
      " 664 ATM-HR-8                      float64       \n",
      " 665 ATM-HR-9                      float64       \n",
      " 666 ATM-HR-10                     float64       \n",
      " 667 ATM-AR-1                      float64       \n",
      " 668 ATM-AR-2                      float64       \n",
      " 669 ATM-AR-3                      float64       \n",
      " 670 ATM-AR-4                      float64       \n",
      " 671 ATM-AR-5                      float64       \n",
      " 672 ATM-AR-6                      float64       \n",
      " 673 ATM-AR-7                      float64       \n",
      " 674 ATM-AR-8                      float64       \n",
      " 675 ATM-AR-9                      float64       \n",
      " 676 ATM-AR-10                     float64       \n",
      " 677 ATM-B365H-1                   float64       \n",
      " 678 ATM-B365H-2                   float64       \n",
      " 679 ATM-B365H-3                   float64       \n",
      " 680 ATM-B365H-4                   float64       \n",
      " 681 ATM-B365H-5                   float64       \n",
      " 682 ATM-B365H-6                   float64       \n",
      " 683 ATM-B365H-7                   float64       \n",
      " 684 ATM-B365H-8                   float64       \n",
      " 685 ATM-B365H-9                   float64       \n",
      " 686 ATM-B365H-10                  float64       \n",
      " 687 ATM-B365D-1                   float64       \n",
      " 688 ATM-B365D-2                   float64       \n",
      " 689 ATM-B365D-3                   float64       \n",
      " 690 ATM-B365D-4                   float64       \n",
      " 691 ATM-B365D-5                   float64       \n",
      " 692 ATM-B365D-6                   float64       \n",
      " 693 ATM-B365D-7                   float64       \n",
      " 694 ATM-B365D-8                   float64       \n",
      " 695 ATM-B365D-9                   float64       \n",
      " 696 ATM-B365D-10                  float64       \n",
      " 697 ATM-B365A-1                   float64       \n",
      " 698 ATM-B365A-2                   float64       \n",
      " 699 ATM-B365A-3                   float64       \n",
      " 700 ATM-B365A-4                   float64       \n",
      " 701 ATM-B365A-5                   float64       \n",
      " 702 ATM-B365A-6                   float64       \n",
      " 703 ATM-B365A-7                   float64       \n",
      " 704 ATM-B365A-8                   float64       \n",
      " 705 ATM-B365A-9                   float64       \n",
      " 706 ATM-B365A-10                  float64       \n",
      " 707 ATM-BWH-1                     float64       \n",
      " 708 ATM-BWH-2                     float64       \n",
      " 709 ATM-BWH-3                     float64       \n",
      " 710 ATM-BWH-4                     float64       \n",
      " 711 ATM-BWH-5                     float64       \n",
      " 712 ATM-BWH-6                     float64       \n",
      " 713 ATM-BWH-7                     float64       \n",
      " 714 ATM-BWH-8                     float64       \n",
      " 715 ATM-BWH-9                     float64       \n",
      " 716 ATM-BWH-10                    float64       \n",
      " 717 ATM-BWD-1                     float64       \n",
      " 718 ATM-BWD-2                     float64       \n",
      " 719 ATM-BWD-3                     float64       \n",
      " 720 ATM-BWD-4                     float64       \n",
      " 721 ATM-BWD-5                     float64       \n",
      " 722 ATM-BWD-6                     float64       \n",
      " 723 ATM-BWD-7                     float64       \n",
      " 724 ATM-BWD-8                     float64       \n",
      " 725 ATM-BWD-9                     float64       \n",
      " 726 ATM-BWD-10                    float64       \n",
      " 727 ATM-BWA-1                     float64       \n",
      " 728 ATM-BWA-2                     float64       \n",
      " 729 ATM-BWA-3                     float64       \n",
      " 730 ATM-BWA-4                     float64       \n",
      " 731 ATM-BWA-5                     float64       \n",
      " 732 ATM-BWA-6                     float64       \n",
      " 733 ATM-BWA-7                     float64       \n",
      " 734 ATM-BWA-8                     float64       \n",
      " 735 ATM-BWA-9                     float64       \n",
      " 736 ATM-BWA-10                    float64       \n",
      " 737 ATM-IWH-1                     float64       \n",
      " 738 ATM-IWH-2                     float64       \n",
      " 739 ATM-IWH-3                     float64       \n",
      " 740 ATM-IWH-4                     float64       \n",
      " 741 ATM-IWH-5                     float64       \n",
      " 742 ATM-IWH-6                     float64       \n",
      " 743 ATM-IWH-7                     float64       \n",
      " 744 ATM-IWH-8                     float64       \n",
      " 745 ATM-IWH-9                     float64       \n",
      " 746 ATM-IWH-10                    float64       \n",
      " 747 ATM-IWD-1                     float64       \n",
      " 748 ATM-IWD-2                     float64       \n",
      " 749 ATM-IWD-3                     float64       \n",
      " 750 ATM-IWD-4                     float64       \n",
      " 751 ATM-IWD-5                     float64       \n",
      " 752 ATM-IWD-6                     float64       \n",
      " 753 ATM-IWD-7                     float64       \n",
      " 754 ATM-IWD-8                     float64       \n",
      " 755 ATM-IWD-9                     float64       \n",
      " 756 ATM-IWD-10                    float64       \n",
      " 757 ATM-IWA-1                     float64       \n",
      " 758 ATM-IWA-2                     float64       \n",
      " 759 ATM-IWA-3                     float64       \n",
      " 760 ATM-IWA-4                     float64       \n",
      " 761 ATM-IWA-5                     float64       \n",
      " 762 ATM-IWA-6                     float64       \n",
      " 763 ATM-IWA-7                     float64       \n",
      " 764 ATM-IWA-8                     float64       \n",
      " 765 ATM-IWA-9                     float64       \n",
      " 766 ATM-IWA-10                    float64       \n",
      " 767 ATM-WHH-1                     float64       \n",
      " 768 ATM-WHH-2                     float64       \n",
      " 769 ATM-WHH-3                     float64       \n",
      " 770 ATM-WHH-4                     float64       \n",
      " 771 ATM-WHH-5                     float64       \n",
      " 772 ATM-WHH-6                     float64       \n",
      " 773 ATM-WHH-7                     float64       \n",
      " 774 ATM-WHH-8                     float64       \n",
      " 775 ATM-WHH-9                     float64       \n",
      " 776 ATM-WHH-10                    float64       \n",
      " 777 ATM-WHD-1                     float64       \n",
      " 778 ATM-WHD-2                     float64       \n",
      " 779 ATM-WHD-3                     float64       \n",
      " 780 ATM-WHD-4                     float64       \n",
      " 781 ATM-WHD-5                     float64       \n",
      " 782 ATM-WHD-6                     float64       \n",
      " 783 ATM-WHD-7                     float64       \n",
      " 784 ATM-WHD-8                     float64       \n",
      " 785 ATM-WHD-9                     float64       \n",
      " 786 ATM-WHD-10                    float64       \n",
      " 787 ATM-WHA-1                     float64       \n",
      " 788 ATM-WHA-2                     float64       \n",
      " 789 ATM-WHA-3                     float64       \n",
      " 790 ATM-WHA-4                     float64       \n",
      " 791 ATM-WHA-5                     float64       \n",
      " 792 ATM-WHA-6                     float64       \n",
      " 793 ATM-WHA-7                     float64       \n",
      " 794 ATM-WHA-8                     float64       \n",
      " 795 ATM-WHA-9                     float64       \n",
      " 796 ATM-WHA-10                    float64       \n",
      " 797 ATM-VCH-1                     float64       \n",
      " 798 ATM-VCH-2                     float64       \n",
      " 799 ATM-VCH-3                     float64       \n",
      " 800 ATM-VCH-4                     float64       \n",
      " 801 ATM-VCH-5                     float64       \n",
      " 802 ATM-VCH-6                     float64       \n",
      " 803 ATM-VCH-7                     float64       \n",
      " 804 ATM-VCH-8                     float64       \n",
      " 805 ATM-VCH-9                     float64       \n",
      " 806 ATM-VCH-10                    float64       \n",
      " 807 ATM-VCD-1                     float64       \n",
      " 808 ATM-VCD-2                     float64       \n",
      " 809 ATM-VCD-3                     float64       \n",
      " 810 ATM-VCD-4                     float64       \n",
      " 811 ATM-VCD-5                     float64       \n",
      " 812 ATM-VCD-6                     float64       \n",
      " 813 ATM-VCD-7                     float64       \n",
      " 814 ATM-VCD-8                     float64       \n",
      " 815 ATM-VCD-9                     float64       \n",
      " 816 ATM-VCD-10                    float64       \n",
      " 817 ATM-VCA-1                     float64       \n",
      " 818 ATM-VCA-2                     float64       \n",
      " 819 ATM-VCA-3                     float64       \n",
      " 820 ATM-VCA-4                     float64       \n",
      " 821 ATM-VCA-5                     float64       \n",
      " 822 ATM-VCA-6                     float64       \n",
      " 823 ATM-VCA-7                     float64       \n",
      " 824 ATM-VCA-8                     float64       \n",
      " 825 ATM-VCA-9                     float64       \n",
      " 826 ATM-VCA-10                    float64       \n",
      " 827 ATM-HomeTeamCode-1            float64       \n",
      " 828 ATM-HomeTeamCode-2            float64       \n",
      " 829 ATM-HomeTeamCode-3            float64       \n",
      " 830 ATM-HomeTeamCode-4            float64       \n",
      " 831 ATM-HomeTeamCode-5            float64       \n",
      " 832 ATM-HomeTeamCode-6            float64       \n",
      " 833 ATM-HomeTeamCode-7            float64       \n",
      " 834 ATM-HomeTeamCode-8            float64       \n",
      " 835 ATM-HomeTeamCode-9            float64       \n",
      " 836 ATM-HomeTeamCode-10           float64       \n",
      " 837 ATM-Day-1                     float64       \n",
      " 838 ATM-Day-2                     float64       \n",
      " 839 ATM-Day-3                     float64       \n",
      " 840 ATM-Day-4                     float64       \n",
      " 841 ATM-Day-5                     float64       \n",
      " 842 ATM-Day-6                     float64       \n",
      " 843 ATM-Day-7                     float64       \n",
      " 844 ATM-Day-8                     float64       \n",
      " 845 ATM-Day-9                     float64       \n",
      " 846 ATM-Day-10                    float64       \n",
      " 847 ATM-Month-1                   float64       \n",
      " 848 ATM-Month-2                   float64       \n",
      " 849 ATM-Month-3                   float64       \n",
      " 850 ATM-Month-4                   float64       \n",
      " 851 ATM-Month-5                   float64       \n",
      " 852 ATM-Month-6                   float64       \n",
      " 853 ATM-Month-7                   float64       \n",
      " 854 ATM-Month-8                   float64       \n",
      " 855 ATM-Month-9                   float64       \n",
      " 856 ATM-Month-10                  float64       \n",
      " 857 ATM-Year-1                    float64       \n",
      " 858 ATM-Year-2                    float64       \n",
      " 859 ATM-Year-3                    float64       \n",
      " 860 ATM-Year-4                    float64       \n",
      " 861 ATM-Year-5                    float64       \n",
      " 862 ATM-Year-6                    float64       \n",
      " 863 ATM-Year-7                    float64       \n",
      " 864 ATM-Year-8                    float64       \n",
      " 865 ATM-Year-9                    float64       \n",
      " 866 ATM-Year-10                   float64       \n",
      " 867 ATM-DayWeek_Code-1            float64       \n",
      " 868 ATM-DayWeek_Code-2            float64       \n",
      " 869 ATM-DayWeek_Code-3            float64       \n",
      " 870 ATM-DayWeek_Code-4            float64       \n",
      " 871 ATM-DayWeek_Code-5            float64       \n",
      " 872 ATM-DayWeek_Code-6            float64       \n",
      " 873 ATM-DayWeek_Code-7            float64       \n",
      " 874 ATM-DayWeek_Code-8            float64       \n",
      " 875 ATM-DayWeek_Code-9            float64       \n",
      " 876 ATM-DayWeek_Code-10           float64       \n",
      " 877 ATM-Temporada_Code-1          float64       \n",
      " 878 ATM-Temporada_Code-2          float64       \n",
      " 879 ATM-Temporada_Code-3          float64       \n",
      " 880 ATM-Temporada_Code-4          float64       \n",
      " 881 ATM-Temporada_Code-5          float64       \n",
      " 882 ATM-Temporada_Code-6          float64       \n",
      " 883 ATM-Temporada_Code-7          float64       \n",
      " 884 ATM-Temporada_Code-8          float64       \n",
      " 885 ATM-Temporada_Code-9          float64       \n",
      " 886 ATM-Temporada_Code-10         float64       \n",
      " 887 ATM-deltaFTHG-1               float64       \n",
      " 888 ATM-deltaFTHG-2               float64       \n",
      " 889 ATM-deltaFTHG-3               float64       \n",
      " 890 ATM-deltaFTHG-4               float64       \n",
      " 891 ATM-deltaFTHG-5               float64       \n",
      " 892 ATM-deltaFTHG-6               float64       \n",
      " 893 ATM-deltaFTHG-7               float64       \n",
      " 894 ATM-deltaFTHG-8               float64       \n",
      " 895 ATM-deltaFTHG-9               float64       \n",
      " 896 ATM-deltaFTHG-10              float64       \n",
      " 897 ATM-deltaFTAG-1               float64       \n",
      " 898 ATM-deltaFTAG-2               float64       \n",
      " 899 ATM-deltaFTAG-3               float64       \n",
      " 900 ATM-deltaFTAG-4               float64       \n",
      " 901 ATM-deltaFTAG-5               float64       \n",
      " 902 ATM-deltaFTAG-6               float64       \n",
      " 903 ATM-deltaFTAG-7               float64       \n",
      " 904 ATM-deltaFTAG-8               float64       \n",
      " 905 ATM-deltaFTAG-9               float64       \n",
      " 906 ATM-deltaFTAG-10              float64       \n",
      " 907 ATM-resultadoGolesFT_Code-1   float64       \n",
      " 908 ATM-resultadoGolesFT_Code-2   float64       \n",
      " 909 ATM-resultadoGolesFT_Code-3   float64       \n",
      " 910 ATM-resultadoGolesFT_Code-4   float64       \n",
      " 911 ATM-resultadoGolesFT_Code-5   float64       \n",
      " 912 ATM-resultadoGolesFT_Code-6   float64       \n",
      " 913 ATM-resultadoGolesFT_Code-7   float64       \n",
      " 914 ATM-resultadoGolesFT_Code-8   float64       \n",
      " 915 ATM-resultadoGolesFT_Code-9   float64       \n",
      " 916 ATM-resultadoGolesFT_Code-10  float64       \n",
      " 917 ATM-PuntosAwayTeam-1          float64       \n",
      " 918 ATM-PuntosAwayTeam-2          float64       \n",
      " 919 ATM-PuntosAwayTeam-3          float64       \n",
      " 920 ATM-PuntosAwayTeam-4          float64       \n",
      " 921 ATM-PuntosAwayTeam-5          float64       \n",
      " 922 ATM-PuntosAwayTeam-6          float64       \n",
      " 923 ATM-PuntosAwayTeam-7          float64       \n",
      " 924 ATM-PuntosAwayTeam-8          float64       \n",
      " 925 ATM-PuntosAwayTeam-9          float64       \n",
      " 926 ATM-PuntosAwayTeam-10         float64       \n",
      " 927 ATM-deltaPuntosAwayTeam-1     float64       \n",
      " 928 ATM-deltaPuntosAwayTeam-2     float64       \n",
      " 929 ATM-deltaPuntosAwayTeam-3     float64       \n",
      " 930 ATM-deltaPuntosAwayTeam-4     float64       \n",
      " 931 ATM-deltaPuntosAwayTeam-5     float64       \n",
      " 932 ATM-deltaPuntosAwayTeam-6     float64       \n",
      " 933 ATM-deltaPuntosAwayTeam-7     float64       \n",
      " 934 ATM-deltaPuntosAwayTeam-8     float64       \n",
      " 935 ATM-deltaPuntosAwayTeam-9     float64       \n",
      " 936 ATM-deltaPuntosAwayTeam-10    float64       \n",
      "dtypes: datetime64[ns](1), float64(919), int64(8), object(9)\n",
      "memory usage: 43.0+ MB\n"
     ]
    }
   ],
   "source": [
    "liga.info(verbose=True)"
   ]
  },
  {
   "cell_type": "markdown",
   "metadata": {},
   "source": [
    "## Hacemos el Merge de los ultimos 6 partidos Face2Face"
   ]
  },
  {
   "cell_type": "code",
   "execution_count": 34,
   "metadata": {
    "ExecuteTime": {
     "end_time": "2021-04-16T15:51:31.722591Z",
     "start_time": "2021-04-16T15:51:31.715588Z"
    }
   },
   "outputs": [],
   "source": [
    "# Vamos a borrar todas estas variables por ser redundantes y no necesarias en el Merge\n",
    "variables_borrar=['Div','Date',\n",
    "'FTHG',\n",
    "'FTAG',\n",
    "'FTR',\n",
    "'HTHG',\n",
    "'HTAG',\n",
    "'HTR',\n",
    "'HS',\n",
    "'AS',\n",
    "'HST',\n",
    "'AST',\n",
    "'HF',\n",
    "'AF',\n",
    "'HC',\n",
    "'AC',\n",
    "'HY',\n",
    "'AY',\n",
    "'HR',\n",
    "'AR', \n",
    " 'B365H',\n",
    " 'B365D',\n",
    " 'B365A',\n",
    " 'BWH',\n",
    " 'BWD',\n",
    " 'BWA',\n",
    " 'IWH',\n",
    " 'IWD',\n",
    " 'IWA',\n",
    " 'WHH',\n",
    " 'WHD',\n",
    " 'WHA',\n",
    " 'VCH',\n",
    " 'VCD',\n",
    " 'VCA', \n",
    "'Temporada',\n",
    "'HomeTeamCode',\n",
    "'AwayTeamCode',\n",
    "'ResultadoFT',\n",
    "'ResultadoHT',\n",
    "'Day',      \n",
    "'Month',          \n",
    "'Year',          \n",
    "'DayWeek',       \n",
    "'DayWeek_Code',\n",
    "'Temporada_Code',\n",
    "'deltaFTHG',\n",
    "'deltaFTAG',\n",
    "'resultadoGolesFT',\n",
    "'resultadoGolesFT_Code',\n",
    "'PuntosHomeTeam',\n",
    "'PuntosAwayTeam',\n",
    "'deltaPuntosHomeTeam',\n",
    "'deltaPuntosAwayTeam']"
   ]
  },
  {
   "cell_type": "code",
   "execution_count": 35,
   "metadata": {
    "ExecuteTime": {
     "end_time": "2021-04-16T15:51:32.468204Z",
     "start_time": "2021-04-16T15:51:32.454204Z"
    }
   },
   "outputs": [],
   "source": [
    "liga_F2F_H.drop(variables_borrar,axis=1,inplace=True)"
   ]
  },
  {
   "cell_type": "code",
   "execution_count": 36,
   "metadata": {
    "ExecuteTime": {
     "end_time": "2021-04-16T15:51:33.286278Z",
     "start_time": "2021-04-16T15:51:33.022258Z"
    }
   },
   "outputs": [],
   "source": [
    "liga=pd.merge(liga,liga_F2F_H, how='inner', on=['HomeTeam', 'AwayTeam','Date1'])"
   ]
  },
  {
   "cell_type": "code",
   "execution_count": 37,
   "metadata": {
    "ExecuteTime": {
     "end_time": "2021-04-16T15:51:43.683496Z",
     "start_time": "2021-04-16T15:51:36.443843Z"
    }
   },
   "outputs": [],
   "source": [
    "liga.to_csv(path_last+'\\SP1-J'+str(jornada)+'\\SP1_Modelo5_J'+str(jornada)+'-con-FE.csv')"
   ]
  },
  {
   "cell_type": "code",
   "execution_count": 38,
   "metadata": {
    "ExecuteTime": {
     "end_time": "2021-04-16T15:51:43.967069Z",
     "start_time": "2021-04-16T15:51:43.928066Z"
    }
   },
   "outputs": [
    {
     "data": {
      "text/html": [
       "<div>\n",
       "<style scoped>\n",
       "    .dataframe tbody tr th:only-of-type {\n",
       "        vertical-align: middle;\n",
       "    }\n",
       "\n",
       "    .dataframe tbody tr th {\n",
       "        vertical-align: top;\n",
       "    }\n",
       "\n",
       "    .dataframe thead th {\n",
       "        text-align: right;\n",
       "    }\n",
       "</style>\n",
       "<table border=\"1\" class=\"dataframe\">\n",
       "  <thead>\n",
       "    <tr style=\"text-align: right;\">\n",
       "      <th></th>\n",
       "      <th>Div</th>\n",
       "      <th>Date</th>\n",
       "      <th>HomeTeam</th>\n",
       "      <th>AwayTeam</th>\n",
       "      <th>FTHG</th>\n",
       "      <th>FTAG</th>\n",
       "      <th>FTR</th>\n",
       "      <th>HTHG</th>\n",
       "      <th>HTAG</th>\n",
       "      <th>HTR</th>\n",
       "      <th>...</th>\n",
       "      <th>F2F-H-deltaPuntosHomeTeam-3</th>\n",
       "      <th>F2F-H-deltaPuntosHomeTeam-4</th>\n",
       "      <th>F2F-H-deltaPuntosHomeTeam-5</th>\n",
       "      <th>F2F-H-deltaPuntosHomeTeam-6</th>\n",
       "      <th>F2F-H-deltaPuntosAwayTeam-1</th>\n",
       "      <th>F2F-H-deltaPuntosAwayTeam-2</th>\n",
       "      <th>F2F-H-deltaPuntosAwayTeam-3</th>\n",
       "      <th>F2F-H-deltaPuntosAwayTeam-4</th>\n",
       "      <th>F2F-H-deltaPuntosAwayTeam-5</th>\n",
       "      <th>F2F-H-deltaPuntosAwayTeam-6</th>\n",
       "    </tr>\n",
       "  </thead>\n",
       "  <tbody>\n",
       "    <tr>\n",
       "      <th>0</th>\n",
       "      <td>SP1</td>\n",
       "      <td>22/04/2021</td>\n",
       "      <td>Ath Madrid</td>\n",
       "      <td>Huesca</td>\n",
       "      <td>NaN</td>\n",
       "      <td>NaN</td>\n",
       "      <td>NaN</td>\n",
       "      <td>NaN</td>\n",
       "      <td>NaN</td>\n",
       "      <td>NaN</td>\n",
       "      <td>...</td>\n",
       "      <td>-1001.0</td>\n",
       "      <td>-1001.0</td>\n",
       "      <td>-1001.0</td>\n",
       "      <td>-1001.0</td>\n",
       "      <td>-7.0</td>\n",
       "      <td>-1001.0</td>\n",
       "      <td>-1001.0</td>\n",
       "      <td>-1001.0</td>\n",
       "      <td>-1001.0</td>\n",
       "      <td>-1001.0</td>\n",
       "    </tr>\n",
       "    <tr>\n",
       "      <th>1</th>\n",
       "      <td>SP1</td>\n",
       "      <td>22/04/2021</td>\n",
       "      <td>Granada</td>\n",
       "      <td>Eibar</td>\n",
       "      <td>NaN</td>\n",
       "      <td>NaN</td>\n",
       "      <td>NaN</td>\n",
       "      <td>NaN</td>\n",
       "      <td>NaN</td>\n",
       "      <td>NaN</td>\n",
       "      <td>...</td>\n",
       "      <td>-3.0</td>\n",
       "      <td>-5.0</td>\n",
       "      <td>-1001.0</td>\n",
       "      <td>-1001.0</td>\n",
       "      <td>-8.0</td>\n",
       "      <td>5.0</td>\n",
       "      <td>3.0</td>\n",
       "      <td>5.0</td>\n",
       "      <td>-1001.0</td>\n",
       "      <td>-1001.0</td>\n",
       "    </tr>\n",
       "    <tr>\n",
       "      <th>2</th>\n",
       "      <td>SP1</td>\n",
       "      <td>22/04/2021</td>\n",
       "      <td>Sociedad</td>\n",
       "      <td>Celta</td>\n",
       "      <td>NaN</td>\n",
       "      <td>NaN</td>\n",
       "      <td>NaN</td>\n",
       "      <td>NaN</td>\n",
       "      <td>NaN</td>\n",
       "      <td>NaN</td>\n",
       "      <td>...</td>\n",
       "      <td>-5.0</td>\n",
       "      <td>8.0</td>\n",
       "      <td>-12.0</td>\n",
       "      <td>-2.0</td>\n",
       "      <td>-14.0</td>\n",
       "      <td>-5.0</td>\n",
       "      <td>5.0</td>\n",
       "      <td>-8.0</td>\n",
       "      <td>12.0</td>\n",
       "      <td>2.0</td>\n",
       "    </tr>\n",
       "    <tr>\n",
       "      <th>3</th>\n",
       "      <td>SP1</td>\n",
       "      <td>22/04/2021</td>\n",
       "      <td>Barcelona</td>\n",
       "      <td>Getafe</td>\n",
       "      <td>NaN</td>\n",
       "      <td>NaN</td>\n",
       "      <td>NaN</td>\n",
       "      <td>NaN</td>\n",
       "      <td>NaN</td>\n",
       "      <td>NaN</td>\n",
       "      <td>...</td>\n",
       "      <td>29.0</td>\n",
       "      <td>48.0</td>\n",
       "      <td>48.0</td>\n",
       "      <td>49.0</td>\n",
       "      <td>-10.0</td>\n",
       "      <td>-28.0</td>\n",
       "      <td>-29.0</td>\n",
       "      <td>-48.0</td>\n",
       "      <td>-48.0</td>\n",
       "      <td>-49.0</td>\n",
       "    </tr>\n",
       "    <tr>\n",
       "      <th>4</th>\n",
       "      <td>SP1</td>\n",
       "      <td>21/04/2021</td>\n",
       "      <td>Levante</td>\n",
       "      <td>Sevilla</td>\n",
       "      <td>NaN</td>\n",
       "      <td>NaN</td>\n",
       "      <td>NaN</td>\n",
       "      <td>NaN</td>\n",
       "      <td>NaN</td>\n",
       "      <td>NaN</td>\n",
       "      <td>...</td>\n",
       "      <td>-8.0</td>\n",
       "      <td>0.0</td>\n",
       "      <td>-33.0</td>\n",
       "      <td>0.0</td>\n",
       "      <td>16.0</td>\n",
       "      <td>3.0</td>\n",
       "      <td>8.0</td>\n",
       "      <td>0.0</td>\n",
       "      <td>33.0</td>\n",
       "      <td>0.0</td>\n",
       "    </tr>\n",
       "    <tr>\n",
       "      <th>5</th>\n",
       "      <td>SP1</td>\n",
       "      <td>21/04/2021</td>\n",
       "      <td>Osasuna</td>\n",
       "      <td>Valencia</td>\n",
       "      <td>NaN</td>\n",
       "      <td>NaN</td>\n",
       "      <td>NaN</td>\n",
       "      <td>NaN</td>\n",
       "      <td>NaN</td>\n",
       "      <td>NaN</td>\n",
       "      <td>...</td>\n",
       "      <td>-10.0</td>\n",
       "      <td>-8.0</td>\n",
       "      <td>-8.0</td>\n",
       "      <td>-25.0</td>\n",
       "      <td>-1.0</td>\n",
       "      <td>5.0</td>\n",
       "      <td>10.0</td>\n",
       "      <td>8.0</td>\n",
       "      <td>8.0</td>\n",
       "      <td>25.0</td>\n",
       "    </tr>\n",
       "    <tr>\n",
       "      <th>6</th>\n",
       "      <td>SP1</td>\n",
       "      <td>21/04/2021</td>\n",
       "      <td>Betis</td>\n",
       "      <td>Ath Bilbao</td>\n",
       "      <td>NaN</td>\n",
       "      <td>NaN</td>\n",
       "      <td>NaN</td>\n",
       "      <td>NaN</td>\n",
       "      <td>NaN</td>\n",
       "      <td>NaN</td>\n",
       "      <td>...</td>\n",
       "      <td>0.0</td>\n",
       "      <td>-5.0</td>\n",
       "      <td>-2.0</td>\n",
       "      <td>-33.0</td>\n",
       "      <td>4.0</td>\n",
       "      <td>0.0</td>\n",
       "      <td>0.0</td>\n",
       "      <td>5.0</td>\n",
       "      <td>2.0</td>\n",
       "      <td>33.0</td>\n",
       "    </tr>\n",
       "    <tr>\n",
       "      <th>7</th>\n",
       "      <td>SP1</td>\n",
       "      <td>21/04/2021</td>\n",
       "      <td>Alaves</td>\n",
       "      <td>Villarreal</td>\n",
       "      <td>NaN</td>\n",
       "      <td>NaN</td>\n",
       "      <td>NaN</td>\n",
       "      <td>NaN</td>\n",
       "      <td>NaN</td>\n",
       "      <td>NaN</td>\n",
       "      <td>...</td>\n",
       "      <td>-6.0</td>\n",
       "      <td>-11.0</td>\n",
       "      <td>-3.0</td>\n",
       "      <td>-1001.0</td>\n",
       "      <td>8.0</td>\n",
       "      <td>-11.0</td>\n",
       "      <td>6.0</td>\n",
       "      <td>11.0</td>\n",
       "      <td>3.0</td>\n",
       "      <td>-1001.0</td>\n",
       "    </tr>\n",
       "    <tr>\n",
       "      <th>8</th>\n",
       "      <td>SP1</td>\n",
       "      <td>21/04/2021</td>\n",
       "      <td>Elche</td>\n",
       "      <td>Valladolid</td>\n",
       "      <td>NaN</td>\n",
       "      <td>NaN</td>\n",
       "      <td>NaN</td>\n",
       "      <td>NaN</td>\n",
       "      <td>NaN</td>\n",
       "      <td>NaN</td>\n",
       "      <td>...</td>\n",
       "      <td>-1001.0</td>\n",
       "      <td>-1001.0</td>\n",
       "      <td>-1001.0</td>\n",
       "      <td>-1001.0</td>\n",
       "      <td>1.0</td>\n",
       "      <td>-1001.0</td>\n",
       "      <td>-1001.0</td>\n",
       "      <td>-1001.0</td>\n",
       "      <td>-1001.0</td>\n",
       "      <td>-1001.0</td>\n",
       "    </tr>\n",
       "    <tr>\n",
       "      <th>9</th>\n",
       "      <td>SP1</td>\n",
       "      <td>21/04/2021</td>\n",
       "      <td>Cadiz</td>\n",
       "      <td>Real Madrid</td>\n",
       "      <td>NaN</td>\n",
       "      <td>NaN</td>\n",
       "      <td>NaN</td>\n",
       "      <td>NaN</td>\n",
       "      <td>NaN</td>\n",
       "      <td>NaN</td>\n",
       "      <td>...</td>\n",
       "      <td>-1001.0</td>\n",
       "      <td>-1001.0</td>\n",
       "      <td>-1001.0</td>\n",
       "      <td>-1001.0</td>\n",
       "      <td>3.0</td>\n",
       "      <td>-1001.0</td>\n",
       "      <td>-1001.0</td>\n",
       "      <td>-1001.0</td>\n",
       "      <td>-1001.0</td>\n",
       "      <td>-1001.0</td>\n",
       "    </tr>\n",
       "    <tr>\n",
       "      <th>10</th>\n",
       "      <td>SP1</td>\n",
       "      <td>12/04/2021</td>\n",
       "      <td>Celta</td>\n",
       "      <td>Sevilla</td>\n",
       "      <td>3.0</td>\n",
       "      <td>4.0</td>\n",
       "      <td>A</td>\n",
       "      <td>3.0</td>\n",
       "      <td>2.0</td>\n",
       "      <td>H</td>\n",
       "      <td>...</td>\n",
       "      <td>-3.0</td>\n",
       "      <td>-9.0</td>\n",
       "      <td>-2.0</td>\n",
       "      <td>-23.0</td>\n",
       "      <td>19.0</td>\n",
       "      <td>12.0</td>\n",
       "      <td>3.0</td>\n",
       "      <td>9.0</td>\n",
       "      <td>2.0</td>\n",
       "      <td>23.0</td>\n",
       "    </tr>\n",
       "  </tbody>\n",
       "</table>\n",
       "<p>11 rows × 1207 columns</p>\n",
       "</div>"
      ],
      "text/plain": [
       "    Div        Date    HomeTeam     AwayTeam  FTHG  FTAG  FTR  HTHG  HTAG  \\\n",
       "0   SP1  22/04/2021  Ath Madrid       Huesca   NaN   NaN  NaN   NaN   NaN   \n",
       "1   SP1  22/04/2021     Granada        Eibar   NaN   NaN  NaN   NaN   NaN   \n",
       "2   SP1  22/04/2021    Sociedad        Celta   NaN   NaN  NaN   NaN   NaN   \n",
       "3   SP1  22/04/2021   Barcelona       Getafe   NaN   NaN  NaN   NaN   NaN   \n",
       "4   SP1  21/04/2021     Levante      Sevilla   NaN   NaN  NaN   NaN   NaN   \n",
       "5   SP1  21/04/2021     Osasuna     Valencia   NaN   NaN  NaN   NaN   NaN   \n",
       "6   SP1  21/04/2021       Betis   Ath Bilbao   NaN   NaN  NaN   NaN   NaN   \n",
       "7   SP1  21/04/2021      Alaves   Villarreal   NaN   NaN  NaN   NaN   NaN   \n",
       "8   SP1  21/04/2021       Elche   Valladolid   NaN   NaN  NaN   NaN   NaN   \n",
       "9   SP1  21/04/2021       Cadiz  Real Madrid   NaN   NaN  NaN   NaN   NaN   \n",
       "10  SP1  12/04/2021       Celta      Sevilla   3.0   4.0    A   3.0   2.0   \n",
       "\n",
       "    HTR  ...  F2F-H-deltaPuntosHomeTeam-3  F2F-H-deltaPuntosHomeTeam-4  \\\n",
       "0   NaN  ...                      -1001.0                      -1001.0   \n",
       "1   NaN  ...                         -3.0                         -5.0   \n",
       "2   NaN  ...                         -5.0                          8.0   \n",
       "3   NaN  ...                         29.0                         48.0   \n",
       "4   NaN  ...                         -8.0                          0.0   \n",
       "5   NaN  ...                        -10.0                         -8.0   \n",
       "6   NaN  ...                          0.0                         -5.0   \n",
       "7   NaN  ...                         -6.0                        -11.0   \n",
       "8   NaN  ...                      -1001.0                      -1001.0   \n",
       "9   NaN  ...                      -1001.0                      -1001.0   \n",
       "10    H  ...                         -3.0                         -9.0   \n",
       "\n",
       "    F2F-H-deltaPuntosHomeTeam-5  F2F-H-deltaPuntosHomeTeam-6  \\\n",
       "0                       -1001.0                      -1001.0   \n",
       "1                       -1001.0                      -1001.0   \n",
       "2                         -12.0                         -2.0   \n",
       "3                          48.0                         49.0   \n",
       "4                         -33.0                          0.0   \n",
       "5                          -8.0                        -25.0   \n",
       "6                          -2.0                        -33.0   \n",
       "7                          -3.0                      -1001.0   \n",
       "8                       -1001.0                      -1001.0   \n",
       "9                       -1001.0                      -1001.0   \n",
       "10                         -2.0                        -23.0   \n",
       "\n",
       "    F2F-H-deltaPuntosAwayTeam-1  F2F-H-deltaPuntosAwayTeam-2  \\\n",
       "0                          -7.0                      -1001.0   \n",
       "1                          -8.0                          5.0   \n",
       "2                         -14.0                         -5.0   \n",
       "3                         -10.0                        -28.0   \n",
       "4                          16.0                          3.0   \n",
       "5                          -1.0                          5.0   \n",
       "6                           4.0                          0.0   \n",
       "7                           8.0                        -11.0   \n",
       "8                           1.0                      -1001.0   \n",
       "9                           3.0                      -1001.0   \n",
       "10                         19.0                         12.0   \n",
       "\n",
       "    F2F-H-deltaPuntosAwayTeam-3  F2F-H-deltaPuntosAwayTeam-4  \\\n",
       "0                       -1001.0                      -1001.0   \n",
       "1                           3.0                          5.0   \n",
       "2                           5.0                         -8.0   \n",
       "3                         -29.0                        -48.0   \n",
       "4                           8.0                          0.0   \n",
       "5                          10.0                          8.0   \n",
       "6                           0.0                          5.0   \n",
       "7                           6.0                         11.0   \n",
       "8                       -1001.0                      -1001.0   \n",
       "9                       -1001.0                      -1001.0   \n",
       "10                          3.0                          9.0   \n",
       "\n",
       "    F2F-H-deltaPuntosAwayTeam-5  F2F-H-deltaPuntosAwayTeam-6  \n",
       "0                       -1001.0                      -1001.0  \n",
       "1                       -1001.0                      -1001.0  \n",
       "2                          12.0                          2.0  \n",
       "3                         -48.0                        -49.0  \n",
       "4                          33.0                          0.0  \n",
       "5                           8.0                         25.0  \n",
       "6                           2.0                         33.0  \n",
       "7                           3.0                      -1001.0  \n",
       "8                       -1001.0                      -1001.0  \n",
       "9                       -1001.0                      -1001.0  \n",
       "10                          2.0                         23.0  \n",
       "\n",
       "[11 rows x 1207 columns]"
      ]
     },
     "execution_count": 38,
     "metadata": {},
     "output_type": "execute_result"
    }
   ],
   "source": [
    "liga.head(11)"
   ]
  },
  {
   "cell_type": "code",
   "execution_count": 102,
   "metadata": {
    "ExecuteTime": {
     "end_time": "2021-04-15T18:58:00.442868Z",
     "start_time": "2021-04-15T18:58:00.433865Z"
    }
   },
   "outputs": [
    {
     "data": {
      "text/plain": [
       "(6010, 1173)"
      ]
     },
     "execution_count": 102,
     "metadata": {},
     "output_type": "execute_result"
    }
   ],
   "source": [
    "liga.shape"
   ]
  },
  {
   "cell_type": "markdown",
   "metadata": {},
   "source": [
    "# Comprobaciones datos"
   ]
  },
  {
   "cell_type": "code",
   "execution_count": 2,
   "metadata": {
    "ExecuteTime": {
     "end_time": "2021-04-08T13:14:48.644071Z",
     "start_time": "2021-04-08T13:14:47.881011Z"
    }
   },
   "outputs": [],
   "source": [
    "liga=pd.read_csv(path_last+'\\SP1-J'+str(jornada)+'\\SP1_Modelo5_J'+str(jornada)+'-con-FE-condeltas.csv')"
   ]
  },
  {
   "cell_type": "code",
   "execution_count": 39,
   "metadata": {
    "ExecuteTime": {
     "end_time": "2021-04-16T15:51:49.646941Z",
     "start_time": "2021-04-16T15:51:49.641939Z"
    }
   },
   "outputs": [
    {
     "data": {
      "text/plain": [
       "(6010, 1207)"
      ]
     },
     "execution_count": 39,
     "metadata": {},
     "output_type": "execute_result"
    }
   ],
   "source": [
    "liga.shape"
   ]
  },
  {
   "cell_type": "code",
   "execution_count": 104,
   "metadata": {
    "ExecuteTime": {
     "end_time": "2021-04-15T18:59:29.245519Z",
     "start_time": "2021-04-15T18:59:29.237519Z"
    }
   },
   "outputs": [],
   "source": [
    "lista_HTM=['Date','HomeTeam','AwayTeam','PuntosHomeTeam','HTM-PuntosHomeTeam-1',\n",
    " 'HTM-PuntosHomeTeam-2',\n",
    " 'HTM-PuntosHomeTeam-3',\n",
    " 'HTM-PuntosHomeTeam-4',\n",
    " 'HTM-PuntosHomeTeam-5',\n",
    " 'HTM-PuntosHomeTeam-6',\n",
    " 'HTM-PuntosHomeTeam-7',\n",
    " 'HTM-PuntosHomeTeam-8',\n",
    " 'HTM-PuntosHomeTeam-9',\n",
    " 'HTM-PuntosHomeTeam-10']"
   ]
  },
  {
   "cell_type": "code",
   "execution_count": 105,
   "metadata": {
    "ExecuteTime": {
     "end_time": "2021-04-15T18:59:38.532017Z",
     "start_time": "2021-04-15T18:59:38.399927Z"
    }
   },
   "outputs": [
    {
     "data": {
      "text/html": [
       "<div>\n",
       "<style scoped>\n",
       "    .dataframe tbody tr th:only-of-type {\n",
       "        vertical-align: middle;\n",
       "    }\n",
       "\n",
       "    .dataframe tbody tr th {\n",
       "        vertical-align: top;\n",
       "    }\n",
       "\n",
       "    .dataframe thead th {\n",
       "        text-align: right;\n",
       "    }\n",
       "</style>\n",
       "<table border=\"1\" class=\"dataframe\">\n",
       "  <thead>\n",
       "    <tr style=\"text-align: right;\">\n",
       "      <th></th>\n",
       "      <th>Date</th>\n",
       "      <th>HomeTeam</th>\n",
       "      <th>AwayTeam</th>\n",
       "      <th>PuntosHomeTeam</th>\n",
       "      <th>HTM-PuntosHomeTeam-1</th>\n",
       "      <th>HTM-PuntosHomeTeam-2</th>\n",
       "      <th>HTM-PuntosHomeTeam-3</th>\n",
       "      <th>HTM-PuntosHomeTeam-4</th>\n",
       "      <th>HTM-PuntosHomeTeam-5</th>\n",
       "      <th>HTM-PuntosHomeTeam-6</th>\n",
       "      <th>HTM-PuntosHomeTeam-7</th>\n",
       "      <th>HTM-PuntosHomeTeam-8</th>\n",
       "      <th>HTM-PuntosHomeTeam-9</th>\n",
       "      <th>HTM-PuntosHomeTeam-10</th>\n",
       "    </tr>\n",
       "  </thead>\n",
       "  <tbody>\n",
       "    <tr>\n",
       "      <th>3</th>\n",
       "      <td>22/04/2021</td>\n",
       "      <td>Barcelona</td>\n",
       "      <td>Getafe</td>\n",
       "      <td>65.0</td>\n",
       "      <td>65.0</td>\n",
       "      <td>59.0</td>\n",
       "      <td>50.0</td>\n",
       "      <td>47.0</td>\n",
       "      <td>46.0</td>\n",
       "      <td>40.0</td>\n",
       "      <td>25.0</td>\n",
       "      <td>21.0</td>\n",
       "      <td>20.0</td>\n",
       "      <td>17.0</td>\n",
       "    </tr>\n",
       "    <tr>\n",
       "      <th>21</th>\n",
       "      <td>05/04/2021</td>\n",
       "      <td>Barcelona</td>\n",
       "      <td>Valladolid</td>\n",
       "      <td>65.0</td>\n",
       "      <td>59.0</td>\n",
       "      <td>50.0</td>\n",
       "      <td>47.0</td>\n",
       "      <td>46.0</td>\n",
       "      <td>40.0</td>\n",
       "      <td>25.0</td>\n",
       "      <td>21.0</td>\n",
       "      <td>20.0</td>\n",
       "      <td>17.0</td>\n",
       "      <td>14.0</td>\n",
       "    </tr>\n",
       "    <tr>\n",
       "      <th>41</th>\n",
       "      <td>15/03/2021</td>\n",
       "      <td>Barcelona</td>\n",
       "      <td>Huesca</td>\n",
       "      <td>59.0</td>\n",
       "      <td>50.0</td>\n",
       "      <td>47.0</td>\n",
       "      <td>46.0</td>\n",
       "      <td>40.0</td>\n",
       "      <td>25.0</td>\n",
       "      <td>21.0</td>\n",
       "      <td>20.0</td>\n",
       "      <td>17.0</td>\n",
       "      <td>14.0</td>\n",
       "      <td>11.0</td>\n",
       "    </tr>\n",
       "    <tr>\n",
       "      <th>72</th>\n",
       "      <td>24/02/2021</td>\n",
       "      <td>Barcelona</td>\n",
       "      <td>Elche</td>\n",
       "      <td>50.0</td>\n",
       "      <td>47.0</td>\n",
       "      <td>46.0</td>\n",
       "      <td>40.0</td>\n",
       "      <td>25.0</td>\n",
       "      <td>21.0</td>\n",
       "      <td>20.0</td>\n",
       "      <td>17.0</td>\n",
       "      <td>14.0</td>\n",
       "      <td>11.0</td>\n",
       "      <td>7.0</td>\n",
       "    </tr>\n",
       "    <tr>\n",
       "      <th>77</th>\n",
       "      <td>21/02/2021</td>\n",
       "      <td>Barcelona</td>\n",
       "      <td>Cadiz</td>\n",
       "      <td>47.0</td>\n",
       "      <td>46.0</td>\n",
       "      <td>40.0</td>\n",
       "      <td>25.0</td>\n",
       "      <td>21.0</td>\n",
       "      <td>20.0</td>\n",
       "      <td>17.0</td>\n",
       "      <td>14.0</td>\n",
       "      <td>11.0</td>\n",
       "      <td>7.0</td>\n",
       "      <td>7.0</td>\n",
       "    </tr>\n",
       "    <tr>\n",
       "      <th>92</th>\n",
       "      <td>13/02/2021</td>\n",
       "      <td>Barcelona</td>\n",
       "      <td>Alaves</td>\n",
       "      <td>46.0</td>\n",
       "      <td>40.0</td>\n",
       "      <td>25.0</td>\n",
       "      <td>21.0</td>\n",
       "      <td>20.0</td>\n",
       "      <td>17.0</td>\n",
       "      <td>14.0</td>\n",
       "      <td>11.0</td>\n",
       "      <td>7.0</td>\n",
       "      <td>7.0</td>\n",
       "      <td>3.0</td>\n",
       "    </tr>\n",
       "    <tr>\n",
       "      <th>106</th>\n",
       "      <td>31/01/2021</td>\n",
       "      <td>Barcelona</td>\n",
       "      <td>Ath Bilbao</td>\n",
       "      <td>40.0</td>\n",
       "      <td>25.0</td>\n",
       "      <td>21.0</td>\n",
       "      <td>20.0</td>\n",
       "      <td>17.0</td>\n",
       "      <td>14.0</td>\n",
       "      <td>11.0</td>\n",
       "      <td>7.0</td>\n",
       "      <td>7.0</td>\n",
       "      <td>3.0</td>\n",
       "      <td>79.0</td>\n",
       "    </tr>\n",
       "    <tr>\n",
       "      <th>163</th>\n",
       "      <td>29/12/2020</td>\n",
       "      <td>Barcelona</td>\n",
       "      <td>Eibar</td>\n",
       "      <td>25.0</td>\n",
       "      <td>21.0</td>\n",
       "      <td>20.0</td>\n",
       "      <td>17.0</td>\n",
       "      <td>14.0</td>\n",
       "      <td>11.0</td>\n",
       "      <td>7.0</td>\n",
       "      <td>7.0</td>\n",
       "      <td>3.0</td>\n",
       "      <td>79.0</td>\n",
       "      <td>76.0</td>\n",
       "    </tr>\n",
       "    <tr>\n",
       "      <th>182</th>\n",
       "      <td>19/12/2020</td>\n",
       "      <td>Barcelona</td>\n",
       "      <td>Valencia</td>\n",
       "      <td>21.0</td>\n",
       "      <td>20.0</td>\n",
       "      <td>17.0</td>\n",
       "      <td>14.0</td>\n",
       "      <td>11.0</td>\n",
       "      <td>7.0</td>\n",
       "      <td>7.0</td>\n",
       "      <td>3.0</td>\n",
       "      <td>79.0</td>\n",
       "      <td>76.0</td>\n",
       "      <td>70.0</td>\n",
       "    </tr>\n",
       "    <tr>\n",
       "      <th>185</th>\n",
       "      <td>16/12/2020</td>\n",
       "      <td>Barcelona</td>\n",
       "      <td>Sociedad</td>\n",
       "      <td>20.0</td>\n",
       "      <td>17.0</td>\n",
       "      <td>14.0</td>\n",
       "      <td>11.0</td>\n",
       "      <td>7.0</td>\n",
       "      <td>7.0</td>\n",
       "      <td>3.0</td>\n",
       "      <td>79.0</td>\n",
       "      <td>76.0</td>\n",
       "      <td>70.0</td>\n",
       "      <td>68.0</td>\n",
       "    </tr>\n",
       "    <tr>\n",
       "      <th>188</th>\n",
       "      <td>13/12/2020</td>\n",
       "      <td>Barcelona</td>\n",
       "      <td>Levante</td>\n",
       "      <td>17.0</td>\n",
       "      <td>14.0</td>\n",
       "      <td>11.0</td>\n",
       "      <td>7.0</td>\n",
       "      <td>7.0</td>\n",
       "      <td>3.0</td>\n",
       "      <td>79.0</td>\n",
       "      <td>76.0</td>\n",
       "      <td>70.0</td>\n",
       "      <td>68.0</td>\n",
       "      <td>64.0</td>\n",
       "    </tr>\n",
       "  </tbody>\n",
       "</table>\n",
       "</div>"
      ],
      "text/plain": [
       "           Date   HomeTeam    AwayTeam  PuntosHomeTeam  HTM-PuntosHomeTeam-1  \\\n",
       "3    22/04/2021  Barcelona      Getafe            65.0                  65.0   \n",
       "21   05/04/2021  Barcelona  Valladolid            65.0                  59.0   \n",
       "41   15/03/2021  Barcelona      Huesca            59.0                  50.0   \n",
       "72   24/02/2021  Barcelona       Elche            50.0                  47.0   \n",
       "77   21/02/2021  Barcelona       Cadiz            47.0                  46.0   \n",
       "92   13/02/2021  Barcelona      Alaves            46.0                  40.0   \n",
       "106  31/01/2021  Barcelona  Ath Bilbao            40.0                  25.0   \n",
       "163  29/12/2020  Barcelona       Eibar            25.0                  21.0   \n",
       "182  19/12/2020  Barcelona    Valencia            21.0                  20.0   \n",
       "185  16/12/2020  Barcelona    Sociedad            20.0                  17.0   \n",
       "188  13/12/2020  Barcelona     Levante            17.0                  14.0   \n",
       "\n",
       "     HTM-PuntosHomeTeam-2  HTM-PuntosHomeTeam-3  HTM-PuntosHomeTeam-4  \\\n",
       "3                    59.0                  50.0                  47.0   \n",
       "21                   50.0                  47.0                  46.0   \n",
       "41                   47.0                  46.0                  40.0   \n",
       "72                   46.0                  40.0                  25.0   \n",
       "77                   40.0                  25.0                  21.0   \n",
       "92                   25.0                  21.0                  20.0   \n",
       "106                  21.0                  20.0                  17.0   \n",
       "163                  20.0                  17.0                  14.0   \n",
       "182                  17.0                  14.0                  11.0   \n",
       "185                  14.0                  11.0                   7.0   \n",
       "188                  11.0                   7.0                   7.0   \n",
       "\n",
       "     HTM-PuntosHomeTeam-5  HTM-PuntosHomeTeam-6  HTM-PuntosHomeTeam-7  \\\n",
       "3                    46.0                  40.0                  25.0   \n",
       "21                   40.0                  25.0                  21.0   \n",
       "41                   25.0                  21.0                  20.0   \n",
       "72                   21.0                  20.0                  17.0   \n",
       "77                   20.0                  17.0                  14.0   \n",
       "92                   17.0                  14.0                  11.0   \n",
       "106                  14.0                  11.0                   7.0   \n",
       "163                  11.0                   7.0                   7.0   \n",
       "182                   7.0                   7.0                   3.0   \n",
       "185                   7.0                   3.0                  79.0   \n",
       "188                   3.0                  79.0                  76.0   \n",
       "\n",
       "     HTM-PuntosHomeTeam-8  HTM-PuntosHomeTeam-9  HTM-PuntosHomeTeam-10  \n",
       "3                    21.0                  20.0                   17.0  \n",
       "21                   20.0                  17.0                   14.0  \n",
       "41                   17.0                  14.0                   11.0  \n",
       "72                   14.0                  11.0                    7.0  \n",
       "77                   11.0                   7.0                    7.0  \n",
       "92                    7.0                   7.0                    3.0  \n",
       "106                   7.0                   3.0                   79.0  \n",
       "163                   3.0                  79.0                   76.0  \n",
       "182                  79.0                  76.0                   70.0  \n",
       "185                  76.0                  70.0                   68.0  \n",
       "188                  70.0                  68.0                   64.0  "
      ]
     },
     "execution_count": 105,
     "metadata": {},
     "output_type": "execute_result"
    }
   ],
   "source": [
    "liga[liga['HomeTeam']=='Barcelona'][lista_HTM].head(11)"
   ]
  },
  {
   "cell_type": "code",
   "execution_count": 119,
   "metadata": {
    "ExecuteTime": {
     "end_time": "2021-04-15T15:19:05.032133Z",
     "start_time": "2021-04-15T15:19:05.027133Z"
    }
   },
   "outputs": [],
   "source": [
    "lista_HTM=['Date','HomeTeam','AwayTeam','resultadoGolesFT','resultadoGolesFT_Code','HTM-resultadoGolesFT_Code-1',\n",
    " 'HTM-resultadoGolesFT_Code-2',\n",
    " 'HTM-resultadoGolesFT_Code-3',\n",
    " 'HTM-resultadoGolesFT_Code-4',\n",
    " 'HTM-resultadoGolesFT_Code-5',\n",
    " 'HTM-resultadoGolesFT_Code-6',\n",
    " 'HTM-resultadoGolesFT_Code-7',\n",
    " 'HTM-resultadoGolesFT_Code-8',\n",
    " 'HTM-resultadoGolesFT_Code-9',\n",
    " 'HTM-resultadoGolesFT_Code-10']"
   ]
  },
  {
   "cell_type": "code",
   "execution_count": 120,
   "metadata": {
    "ExecuteTime": {
     "end_time": "2021-04-15T15:19:05.701642Z",
     "start_time": "2021-04-15T15:19:05.609633Z"
    }
   },
   "outputs": [
    {
     "data": {
      "text/html": [
       "<div>\n",
       "<style scoped>\n",
       "    .dataframe tbody tr th:only-of-type {\n",
       "        vertical-align: middle;\n",
       "    }\n",
       "\n",
       "    .dataframe tbody tr th {\n",
       "        vertical-align: top;\n",
       "    }\n",
       "\n",
       "    .dataframe thead th {\n",
       "        text-align: right;\n",
       "    }\n",
       "</style>\n",
       "<table border=\"1\" class=\"dataframe\">\n",
       "  <thead>\n",
       "    <tr style=\"text-align: right;\">\n",
       "      <th></th>\n",
       "      <th>Date</th>\n",
       "      <th>HomeTeam</th>\n",
       "      <th>AwayTeam</th>\n",
       "      <th>resultadoGolesFT</th>\n",
       "      <th>resultadoGolesFT_Code</th>\n",
       "      <th>HTM-resultadoGolesFT_Code-1</th>\n",
       "      <th>HTM-resultadoGolesFT_Code-2</th>\n",
       "      <th>HTM-resultadoGolesFT_Code-3</th>\n",
       "      <th>HTM-resultadoGolesFT_Code-4</th>\n",
       "      <th>HTM-resultadoGolesFT_Code-5</th>\n",
       "      <th>HTM-resultadoGolesFT_Code-6</th>\n",
       "      <th>HTM-resultadoGolesFT_Code-7</th>\n",
       "      <th>HTM-resultadoGolesFT_Code-8</th>\n",
       "      <th>HTM-resultadoGolesFT_Code-9</th>\n",
       "      <th>HTM-resultadoGolesFT_Code-10</th>\n",
       "    </tr>\n",
       "  </thead>\n",
       "  <tbody>\n",
       "    <tr>\n",
       "      <th>3</th>\n",
       "      <td>22/04/2021</td>\n",
       "      <td>Barcelona</td>\n",
       "      <td>Getafe</td>\n",
       "      <td>nan-nan</td>\n",
       "      <td>20</td>\n",
       "      <td>1.0</td>\n",
       "      <td>15.0</td>\n",
       "      <td>8.0</td>\n",
       "      <td>0.0</td>\n",
       "      <td>20.0</td>\n",
       "      <td>2.0</td>\n",
       "      <td>0.0</td>\n",
       "      <td>10.0</td>\n",
       "      <td>2.0</td>\n",
       "      <td>1.0</td>\n",
       "    </tr>\n",
       "    <tr>\n",
       "      <th>21</th>\n",
       "      <td>05/04/2021</td>\n",
       "      <td>Barcelona</td>\n",
       "      <td>Valladolid</td>\n",
       "      <td>1.0-0.0</td>\n",
       "      <td>1</td>\n",
       "      <td>15.0</td>\n",
       "      <td>8.0</td>\n",
       "      <td>0.0</td>\n",
       "      <td>20.0</td>\n",
       "      <td>2.0</td>\n",
       "      <td>0.0</td>\n",
       "      <td>10.0</td>\n",
       "      <td>2.0</td>\n",
       "      <td>1.0</td>\n",
       "      <td>13.0</td>\n",
       "    </tr>\n",
       "    <tr>\n",
       "      <th>41</th>\n",
       "      <td>15/03/2021</td>\n",
       "      <td>Barcelona</td>\n",
       "      <td>Huesca</td>\n",
       "      <td>4.0-1.0</td>\n",
       "      <td>15</td>\n",
       "      <td>8.0</td>\n",
       "      <td>0.0</td>\n",
       "      <td>20.0</td>\n",
       "      <td>2.0</td>\n",
       "      <td>0.0</td>\n",
       "      <td>10.0</td>\n",
       "      <td>2.0</td>\n",
       "      <td>1.0</td>\n",
       "      <td>13.0</td>\n",
       "      <td>20.0</td>\n",
       "    </tr>\n",
       "    <tr>\n",
       "      <th>72</th>\n",
       "      <td>24/02/2021</td>\n",
       "      <td>Barcelona</td>\n",
       "      <td>Elche</td>\n",
       "      <td>3.0-0.0</td>\n",
       "      <td>8</td>\n",
       "      <td>0.0</td>\n",
       "      <td>20.0</td>\n",
       "      <td>2.0</td>\n",
       "      <td>0.0</td>\n",
       "      <td>10.0</td>\n",
       "      <td>2.0</td>\n",
       "      <td>1.0</td>\n",
       "      <td>13.0</td>\n",
       "      <td>20.0</td>\n",
       "      <td>12.0</td>\n",
       "    </tr>\n",
       "    <tr>\n",
       "      <th>77</th>\n",
       "      <td>21/02/2021</td>\n",
       "      <td>Barcelona</td>\n",
       "      <td>Cadiz</td>\n",
       "      <td>1.0-1.0</td>\n",
       "      <td>0</td>\n",
       "      <td>20.0</td>\n",
       "      <td>2.0</td>\n",
       "      <td>0.0</td>\n",
       "      <td>10.0</td>\n",
       "      <td>2.0</td>\n",
       "      <td>1.0</td>\n",
       "      <td>13.0</td>\n",
       "      <td>20.0</td>\n",
       "      <td>12.0</td>\n",
       "      <td>0.0</td>\n",
       "    </tr>\n",
       "    <tr>\n",
       "      <th>92</th>\n",
       "      <td>13/02/2021</td>\n",
       "      <td>Barcelona</td>\n",
       "      <td>Alaves</td>\n",
       "      <td>5.0-1.0</td>\n",
       "      <td>20</td>\n",
       "      <td>2.0</td>\n",
       "      <td>0.0</td>\n",
       "      <td>10.0</td>\n",
       "      <td>2.0</td>\n",
       "      <td>1.0</td>\n",
       "      <td>13.0</td>\n",
       "      <td>20.0</td>\n",
       "      <td>12.0</td>\n",
       "      <td>0.0</td>\n",
       "      <td>13.0</td>\n",
       "    </tr>\n",
       "    <tr>\n",
       "      <th>106</th>\n",
       "      <td>31/01/2021</td>\n",
       "      <td>Barcelona</td>\n",
       "      <td>Ath Bilbao</td>\n",
       "      <td>2.0-1.0</td>\n",
       "      <td>2</td>\n",
       "      <td>0.0</td>\n",
       "      <td>10.0</td>\n",
       "      <td>2.0</td>\n",
       "      <td>1.0</td>\n",
       "      <td>13.0</td>\n",
       "      <td>20.0</td>\n",
       "      <td>12.0</td>\n",
       "      <td>0.0</td>\n",
       "      <td>13.0</td>\n",
       "      <td>6.0</td>\n",
       "    </tr>\n",
       "    <tr>\n",
       "      <th>163</th>\n",
       "      <td>29/12/2020</td>\n",
       "      <td>Barcelona</td>\n",
       "      <td>Eibar</td>\n",
       "      <td>1.0-1.0</td>\n",
       "      <td>0</td>\n",
       "      <td>10.0</td>\n",
       "      <td>2.0</td>\n",
       "      <td>1.0</td>\n",
       "      <td>13.0</td>\n",
       "      <td>20.0</td>\n",
       "      <td>12.0</td>\n",
       "      <td>0.0</td>\n",
       "      <td>13.0</td>\n",
       "      <td>6.0</td>\n",
       "      <td>1.0</td>\n",
       "    </tr>\n",
       "    <tr>\n",
       "      <th>182</th>\n",
       "      <td>19/12/2020</td>\n",
       "      <td>Barcelona</td>\n",
       "      <td>Valencia</td>\n",
       "      <td>2.0-2.0</td>\n",
       "      <td>10</td>\n",
       "      <td>2.0</td>\n",
       "      <td>1.0</td>\n",
       "      <td>13.0</td>\n",
       "      <td>20.0</td>\n",
       "      <td>12.0</td>\n",
       "      <td>0.0</td>\n",
       "      <td>13.0</td>\n",
       "      <td>6.0</td>\n",
       "      <td>1.0</td>\n",
       "      <td>10.0</td>\n",
       "    </tr>\n",
       "    <tr>\n",
       "      <th>185</th>\n",
       "      <td>16/12/2020</td>\n",
       "      <td>Barcelona</td>\n",
       "      <td>Sociedad</td>\n",
       "      <td>2.0-1.0</td>\n",
       "      <td>2</td>\n",
       "      <td>1.0</td>\n",
       "      <td>13.0</td>\n",
       "      <td>20.0</td>\n",
       "      <td>12.0</td>\n",
       "      <td>0.0</td>\n",
       "      <td>13.0</td>\n",
       "      <td>6.0</td>\n",
       "      <td>1.0</td>\n",
       "      <td>10.0</td>\n",
       "      <td>1.0</td>\n",
       "    </tr>\n",
       "    <tr>\n",
       "      <th>188</th>\n",
       "      <td>13/12/2020</td>\n",
       "      <td>Barcelona</td>\n",
       "      <td>Levante</td>\n",
       "      <td>1.0-0.0</td>\n",
       "      <td>1</td>\n",
       "      <td>13.0</td>\n",
       "      <td>20.0</td>\n",
       "      <td>12.0</td>\n",
       "      <td>0.0</td>\n",
       "      <td>13.0</td>\n",
       "      <td>6.0</td>\n",
       "      <td>1.0</td>\n",
       "      <td>10.0</td>\n",
       "      <td>1.0</td>\n",
       "      <td>3.0</td>\n",
       "    </tr>\n",
       "  </tbody>\n",
       "</table>\n",
       "</div>"
      ],
      "text/plain": [
       "           Date   HomeTeam    AwayTeam resultadoGolesFT  \\\n",
       "3    22/04/2021  Barcelona      Getafe          nan-nan   \n",
       "21   05/04/2021  Barcelona  Valladolid          1.0-0.0   \n",
       "41   15/03/2021  Barcelona      Huesca          4.0-1.0   \n",
       "72   24/02/2021  Barcelona       Elche          3.0-0.0   \n",
       "77   21/02/2021  Barcelona       Cadiz          1.0-1.0   \n",
       "92   13/02/2021  Barcelona      Alaves          5.0-1.0   \n",
       "106  31/01/2021  Barcelona  Ath Bilbao          2.0-1.0   \n",
       "163  29/12/2020  Barcelona       Eibar          1.0-1.0   \n",
       "182  19/12/2020  Barcelona    Valencia          2.0-2.0   \n",
       "185  16/12/2020  Barcelona    Sociedad          2.0-1.0   \n",
       "188  13/12/2020  Barcelona     Levante          1.0-0.0   \n",
       "\n",
       "     resultadoGolesFT_Code  HTM-resultadoGolesFT_Code-1  \\\n",
       "3                       20                          1.0   \n",
       "21                       1                         15.0   \n",
       "41                      15                          8.0   \n",
       "72                       8                          0.0   \n",
       "77                       0                         20.0   \n",
       "92                      20                          2.0   \n",
       "106                      2                          0.0   \n",
       "163                      0                         10.0   \n",
       "182                     10                          2.0   \n",
       "185                      2                          1.0   \n",
       "188                      1                         13.0   \n",
       "\n",
       "     HTM-resultadoGolesFT_Code-2  HTM-resultadoGolesFT_Code-3  \\\n",
       "3                           15.0                          8.0   \n",
       "21                           8.0                          0.0   \n",
       "41                           0.0                         20.0   \n",
       "72                          20.0                          2.0   \n",
       "77                           2.0                          0.0   \n",
       "92                           0.0                         10.0   \n",
       "106                         10.0                          2.0   \n",
       "163                          2.0                          1.0   \n",
       "182                          1.0                         13.0   \n",
       "185                         13.0                         20.0   \n",
       "188                         20.0                         12.0   \n",
       "\n",
       "     HTM-resultadoGolesFT_Code-4  HTM-resultadoGolesFT_Code-5  \\\n",
       "3                            0.0                         20.0   \n",
       "21                          20.0                          2.0   \n",
       "41                           2.0                          0.0   \n",
       "72                           0.0                         10.0   \n",
       "77                          10.0                          2.0   \n",
       "92                           2.0                          1.0   \n",
       "106                          1.0                         13.0   \n",
       "163                         13.0                         20.0   \n",
       "182                         20.0                         12.0   \n",
       "185                         12.0                          0.0   \n",
       "188                          0.0                         13.0   \n",
       "\n",
       "     HTM-resultadoGolesFT_Code-6  HTM-resultadoGolesFT_Code-7  \\\n",
       "3                            2.0                          0.0   \n",
       "21                           0.0                         10.0   \n",
       "41                          10.0                          2.0   \n",
       "72                           2.0                          1.0   \n",
       "77                           1.0                         13.0   \n",
       "92                          13.0                         20.0   \n",
       "106                         20.0                         12.0   \n",
       "163                         12.0                          0.0   \n",
       "182                          0.0                         13.0   \n",
       "185                         13.0                          6.0   \n",
       "188                          6.0                          1.0   \n",
       "\n",
       "     HTM-resultadoGolesFT_Code-8  HTM-resultadoGolesFT_Code-9  \\\n",
       "3                           10.0                          2.0   \n",
       "21                           2.0                          1.0   \n",
       "41                           1.0                         13.0   \n",
       "72                          13.0                         20.0   \n",
       "77                          20.0                         12.0   \n",
       "92                          12.0                          0.0   \n",
       "106                          0.0                         13.0   \n",
       "163                         13.0                          6.0   \n",
       "182                          6.0                          1.0   \n",
       "185                          1.0                         10.0   \n",
       "188                         10.0                          1.0   \n",
       "\n",
       "     HTM-resultadoGolesFT_Code-10  \n",
       "3                             1.0  \n",
       "21                           13.0  \n",
       "41                           20.0  \n",
       "72                           12.0  \n",
       "77                            0.0  \n",
       "92                           13.0  \n",
       "106                           6.0  \n",
       "163                           1.0  \n",
       "182                          10.0  \n",
       "185                           1.0  \n",
       "188                           3.0  "
      ]
     },
     "execution_count": 120,
     "metadata": {},
     "output_type": "execute_result"
    }
   ],
   "source": [
    "liga[liga['HomeTeam']=='Barcelona'][lista_HTM].head(11)"
   ]
  },
  {
   "cell_type": "code",
   "execution_count": 121,
   "metadata": {
    "ExecuteTime": {
     "end_time": "2021-04-15T15:19:10.734509Z",
     "start_time": "2021-04-15T15:19:10.731508Z"
    }
   },
   "outputs": [],
   "source": [
    "lista_HTM=['Date','HomeTeam','AwayTeam','deltaFTHG','HTM-deltaFTHG-1','HTM-deltaFTHG-2','HTM-deltaFTHG-3','HTM-deltaFTHG-4','HTM-deltaFTHG-5',\n",
    " 'HTM-deltaFTHG-6',\n",
    " 'HTM-deltaFTHG-7',\n",
    " 'HTM-deltaFTHG-8',\n",
    " 'HTM-deltaFTHG-9',\n",
    " 'HTM-deltaFTHG-10']"
   ]
  },
  {
   "cell_type": "code",
   "execution_count": 122,
   "metadata": {
    "ExecuteTime": {
     "end_time": "2021-04-15T15:19:11.237439Z",
     "start_time": "2021-04-15T15:19:11.204436Z"
    }
   },
   "outputs": [
    {
     "data": {
      "text/html": [
       "<div>\n",
       "<style scoped>\n",
       "    .dataframe tbody tr th:only-of-type {\n",
       "        vertical-align: middle;\n",
       "    }\n",
       "\n",
       "    .dataframe tbody tr th {\n",
       "        vertical-align: top;\n",
       "    }\n",
       "\n",
       "    .dataframe thead th {\n",
       "        text-align: right;\n",
       "    }\n",
       "</style>\n",
       "<table border=\"1\" class=\"dataframe\">\n",
       "  <thead>\n",
       "    <tr style=\"text-align: right;\">\n",
       "      <th></th>\n",
       "      <th>Date</th>\n",
       "      <th>HomeTeam</th>\n",
       "      <th>AwayTeam</th>\n",
       "      <th>deltaFTHG</th>\n",
       "      <th>HTM-deltaFTHG-1</th>\n",
       "      <th>HTM-deltaFTHG-2</th>\n",
       "      <th>HTM-deltaFTHG-3</th>\n",
       "      <th>HTM-deltaFTHG-4</th>\n",
       "      <th>HTM-deltaFTHG-5</th>\n",
       "      <th>HTM-deltaFTHG-6</th>\n",
       "      <th>HTM-deltaFTHG-7</th>\n",
       "      <th>HTM-deltaFTHG-8</th>\n",
       "      <th>HTM-deltaFTHG-9</th>\n",
       "      <th>HTM-deltaFTHG-10</th>\n",
       "    </tr>\n",
       "  </thead>\n",
       "  <tbody>\n",
       "    <tr>\n",
       "      <th>3</th>\n",
       "      <td>22/04/2021</td>\n",
       "      <td>Barcelona</td>\n",
       "      <td>Getafe</td>\n",
       "      <td>NaN</td>\n",
       "      <td>1.0</td>\n",
       "      <td>3.0</td>\n",
       "      <td>3.0</td>\n",
       "      <td>0.0</td>\n",
       "      <td>4.0</td>\n",
       "      <td>1.0</td>\n",
       "      <td>0.0</td>\n",
       "      <td>0.0</td>\n",
       "      <td>1.0</td>\n",
       "      <td>1.0</td>\n",
       "    </tr>\n",
       "    <tr>\n",
       "      <th>21</th>\n",
       "      <td>05/04/2021</td>\n",
       "      <td>Barcelona</td>\n",
       "      <td>Valladolid</td>\n",
       "      <td>1.0</td>\n",
       "      <td>3.0</td>\n",
       "      <td>3.0</td>\n",
       "      <td>0.0</td>\n",
       "      <td>4.0</td>\n",
       "      <td>1.0</td>\n",
       "      <td>0.0</td>\n",
       "      <td>0.0</td>\n",
       "      <td>1.0</td>\n",
       "      <td>1.0</td>\n",
       "      <td>4.0</td>\n",
       "    </tr>\n",
       "    <tr>\n",
       "      <th>41</th>\n",
       "      <td>15/03/2021</td>\n",
       "      <td>Barcelona</td>\n",
       "      <td>Huesca</td>\n",
       "      <td>3.0</td>\n",
       "      <td>3.0</td>\n",
       "      <td>0.0</td>\n",
       "      <td>4.0</td>\n",
       "      <td>1.0</td>\n",
       "      <td>0.0</td>\n",
       "      <td>0.0</td>\n",
       "      <td>1.0</td>\n",
       "      <td>1.0</td>\n",
       "      <td>4.0</td>\n",
       "      <td>3.0</td>\n",
       "    </tr>\n",
       "    <tr>\n",
       "      <th>72</th>\n",
       "      <td>24/02/2021</td>\n",
       "      <td>Barcelona</td>\n",
       "      <td>Elche</td>\n",
       "      <td>3.0</td>\n",
       "      <td>0.0</td>\n",
       "      <td>4.0</td>\n",
       "      <td>1.0</td>\n",
       "      <td>0.0</td>\n",
       "      <td>0.0</td>\n",
       "      <td>1.0</td>\n",
       "      <td>1.0</td>\n",
       "      <td>4.0</td>\n",
       "      <td>3.0</td>\n",
       "      <td>-2.0</td>\n",
       "    </tr>\n",
       "    <tr>\n",
       "      <th>77</th>\n",
       "      <td>21/02/2021</td>\n",
       "      <td>Barcelona</td>\n",
       "      <td>Cadiz</td>\n",
       "      <td>0.0</td>\n",
       "      <td>4.0</td>\n",
       "      <td>1.0</td>\n",
       "      <td>0.0</td>\n",
       "      <td>0.0</td>\n",
       "      <td>1.0</td>\n",
       "      <td>1.0</td>\n",
       "      <td>4.0</td>\n",
       "      <td>3.0</td>\n",
       "      <td>-2.0</td>\n",
       "      <td>0.0</td>\n",
       "    </tr>\n",
       "    <tr>\n",
       "      <th>92</th>\n",
       "      <td>13/02/2021</td>\n",
       "      <td>Barcelona</td>\n",
       "      <td>Alaves</td>\n",
       "      <td>4.0</td>\n",
       "      <td>1.0</td>\n",
       "      <td>0.0</td>\n",
       "      <td>0.0</td>\n",
       "      <td>1.0</td>\n",
       "      <td>1.0</td>\n",
       "      <td>4.0</td>\n",
       "      <td>3.0</td>\n",
       "      <td>-2.0</td>\n",
       "      <td>0.0</td>\n",
       "      <td>4.0</td>\n",
       "    </tr>\n",
       "    <tr>\n",
       "      <th>106</th>\n",
       "      <td>31/01/2021</td>\n",
       "      <td>Barcelona</td>\n",
       "      <td>Ath Bilbao</td>\n",
       "      <td>1.0</td>\n",
       "      <td>0.0</td>\n",
       "      <td>0.0</td>\n",
       "      <td>1.0</td>\n",
       "      <td>1.0</td>\n",
       "      <td>4.0</td>\n",
       "      <td>3.0</td>\n",
       "      <td>-2.0</td>\n",
       "      <td>0.0</td>\n",
       "      <td>4.0</td>\n",
       "      <td>-1.0</td>\n",
       "    </tr>\n",
       "    <tr>\n",
       "      <th>163</th>\n",
       "      <td>29/12/2020</td>\n",
       "      <td>Barcelona</td>\n",
       "      <td>Eibar</td>\n",
       "      <td>0.0</td>\n",
       "      <td>0.0</td>\n",
       "      <td>1.0</td>\n",
       "      <td>1.0</td>\n",
       "      <td>4.0</td>\n",
       "      <td>3.0</td>\n",
       "      <td>-2.0</td>\n",
       "      <td>0.0</td>\n",
       "      <td>4.0</td>\n",
       "      <td>-1.0</td>\n",
       "      <td>1.0</td>\n",
       "    </tr>\n",
       "    <tr>\n",
       "      <th>182</th>\n",
       "      <td>19/12/2020</td>\n",
       "      <td>Barcelona</td>\n",
       "      <td>Valencia</td>\n",
       "      <td>0.0</td>\n",
       "      <td>1.0</td>\n",
       "      <td>1.0</td>\n",
       "      <td>4.0</td>\n",
       "      <td>3.0</td>\n",
       "      <td>-2.0</td>\n",
       "      <td>0.0</td>\n",
       "      <td>4.0</td>\n",
       "      <td>-1.0</td>\n",
       "      <td>1.0</td>\n",
       "      <td>0.0</td>\n",
       "    </tr>\n",
       "    <tr>\n",
       "      <th>185</th>\n",
       "      <td>16/12/2020</td>\n",
       "      <td>Barcelona</td>\n",
       "      <td>Sociedad</td>\n",
       "      <td>1.0</td>\n",
       "      <td>1.0</td>\n",
       "      <td>4.0</td>\n",
       "      <td>3.0</td>\n",
       "      <td>-2.0</td>\n",
       "      <td>0.0</td>\n",
       "      <td>4.0</td>\n",
       "      <td>-1.0</td>\n",
       "      <td>1.0</td>\n",
       "      <td>0.0</td>\n",
       "      <td>1.0</td>\n",
       "    </tr>\n",
       "    <tr>\n",
       "      <th>188</th>\n",
       "      <td>13/12/2020</td>\n",
       "      <td>Barcelona</td>\n",
       "      <td>Levante</td>\n",
       "      <td>1.0</td>\n",
       "      <td>4.0</td>\n",
       "      <td>3.0</td>\n",
       "      <td>-2.0</td>\n",
       "      <td>0.0</td>\n",
       "      <td>4.0</td>\n",
       "      <td>-1.0</td>\n",
       "      <td>1.0</td>\n",
       "      <td>0.0</td>\n",
       "      <td>1.0</td>\n",
       "      <td>2.0</td>\n",
       "    </tr>\n",
       "  </tbody>\n",
       "</table>\n",
       "</div>"
      ],
      "text/plain": [
       "           Date   HomeTeam    AwayTeam  deltaFTHG  HTM-deltaFTHG-1  \\\n",
       "3    22/04/2021  Barcelona      Getafe        NaN              1.0   \n",
       "21   05/04/2021  Barcelona  Valladolid        1.0              3.0   \n",
       "41   15/03/2021  Barcelona      Huesca        3.0              3.0   \n",
       "72   24/02/2021  Barcelona       Elche        3.0              0.0   \n",
       "77   21/02/2021  Barcelona       Cadiz        0.0              4.0   \n",
       "92   13/02/2021  Barcelona      Alaves        4.0              1.0   \n",
       "106  31/01/2021  Barcelona  Ath Bilbao        1.0              0.0   \n",
       "163  29/12/2020  Barcelona       Eibar        0.0              0.0   \n",
       "182  19/12/2020  Barcelona    Valencia        0.0              1.0   \n",
       "185  16/12/2020  Barcelona    Sociedad        1.0              1.0   \n",
       "188  13/12/2020  Barcelona     Levante        1.0              4.0   \n",
       "\n",
       "     HTM-deltaFTHG-2  HTM-deltaFTHG-3  HTM-deltaFTHG-4  HTM-deltaFTHG-5  \\\n",
       "3                3.0              3.0              0.0              4.0   \n",
       "21               3.0              0.0              4.0              1.0   \n",
       "41               0.0              4.0              1.0              0.0   \n",
       "72               4.0              1.0              0.0              0.0   \n",
       "77               1.0              0.0              0.0              1.0   \n",
       "92               0.0              0.0              1.0              1.0   \n",
       "106              0.0              1.0              1.0              4.0   \n",
       "163              1.0              1.0              4.0              3.0   \n",
       "182              1.0              4.0              3.0             -2.0   \n",
       "185              4.0              3.0             -2.0              0.0   \n",
       "188              3.0             -2.0              0.0              4.0   \n",
       "\n",
       "     HTM-deltaFTHG-6  HTM-deltaFTHG-7  HTM-deltaFTHG-8  HTM-deltaFTHG-9  \\\n",
       "3                1.0              0.0              0.0              1.0   \n",
       "21               0.0              0.0              1.0              1.0   \n",
       "41               0.0              1.0              1.0              4.0   \n",
       "72               1.0              1.0              4.0              3.0   \n",
       "77               1.0              4.0              3.0             -2.0   \n",
       "92               4.0              3.0             -2.0              0.0   \n",
       "106              3.0             -2.0              0.0              4.0   \n",
       "163             -2.0              0.0              4.0             -1.0   \n",
       "182              0.0              4.0             -1.0              1.0   \n",
       "185              4.0             -1.0              1.0              0.0   \n",
       "188             -1.0              1.0              0.0              1.0   \n",
       "\n",
       "     HTM-deltaFTHG-10  \n",
       "3                 1.0  \n",
       "21                4.0  \n",
       "41                3.0  \n",
       "72               -2.0  \n",
       "77                0.0  \n",
       "92                4.0  \n",
       "106              -1.0  \n",
       "163               1.0  \n",
       "182               0.0  \n",
       "185               1.0  \n",
       "188               2.0  "
      ]
     },
     "execution_count": 122,
     "metadata": {},
     "output_type": "execute_result"
    }
   ],
   "source": [
    "liga[liga['HomeTeam']=='Barcelona'][lista_HTM].head(11)"
   ]
  },
  {
   "cell_type": "code",
   "execution_count": 123,
   "metadata": {
    "ExecuteTime": {
     "end_time": "2021-04-15T15:19:31.342060Z",
     "start_time": "2021-04-15T15:19:31.336061Z"
    }
   },
   "outputs": [],
   "source": [
    "lista_ATM=['Date','HomeTeam','AwayTeam','ResultadoFT','ATM-ResultadoFT-1','ATM-ResultadoFT-2','ATM-ResultadoFT-3','ATM-ResultadoFT-4','ATM-ResultadoFT-5',\n",
    " 'ATM-ResultadoFT-6',\n",
    " 'ATM-ResultadoFT-7',\n",
    " 'ATM-ResultadoFT-8',\n",
    " 'ATM-ResultadoFT-9',\n",
    " 'ATM-ResultadoFT-10',]"
   ]
  },
  {
   "cell_type": "code",
   "execution_count": 124,
   "metadata": {
    "ExecuteTime": {
     "end_time": "2021-04-15T15:19:32.058090Z",
     "start_time": "2021-04-15T15:19:32.024091Z"
    }
   },
   "outputs": [
    {
     "data": {
      "text/html": [
       "<div>\n",
       "<style scoped>\n",
       "    .dataframe tbody tr th:only-of-type {\n",
       "        vertical-align: middle;\n",
       "    }\n",
       "\n",
       "    .dataframe tbody tr th {\n",
       "        vertical-align: top;\n",
       "    }\n",
       "\n",
       "    .dataframe thead th {\n",
       "        text-align: right;\n",
       "    }\n",
       "</style>\n",
       "<table border=\"1\" class=\"dataframe\">\n",
       "  <thead>\n",
       "    <tr style=\"text-align: right;\">\n",
       "      <th></th>\n",
       "      <th>Date</th>\n",
       "      <th>HomeTeam</th>\n",
       "      <th>AwayTeam</th>\n",
       "      <th>ResultadoFT</th>\n",
       "      <th>ATM-ResultadoFT-1</th>\n",
       "      <th>ATM-ResultadoFT-2</th>\n",
       "      <th>ATM-ResultadoFT-3</th>\n",
       "      <th>ATM-ResultadoFT-4</th>\n",
       "      <th>ATM-ResultadoFT-5</th>\n",
       "      <th>ATM-ResultadoFT-6</th>\n",
       "      <th>ATM-ResultadoFT-7</th>\n",
       "      <th>ATM-ResultadoFT-8</th>\n",
       "      <th>ATM-ResultadoFT-9</th>\n",
       "      <th>ATM-ResultadoFT-10</th>\n",
       "    </tr>\n",
       "  </thead>\n",
       "  <tbody>\n",
       "    <tr>\n",
       "      <th>18</th>\n",
       "      <td>10/04/2021</td>\n",
       "      <td>Real Madrid</td>\n",
       "      <td>Barcelona</td>\n",
       "      <td>1.0</td>\n",
       "      <td>3.0</td>\n",
       "      <td>3.0</td>\n",
       "      <td>3.0</td>\n",
       "      <td>3.0</td>\n",
       "      <td>3.0</td>\n",
       "      <td>3.0</td>\n",
       "      <td>3.0</td>\n",
       "      <td>3.0</td>\n",
       "      <td>3.0</td>\n",
       "      <td>1.0</td>\n",
       "    </tr>\n",
       "    <tr>\n",
       "      <th>30</th>\n",
       "      <td>21/03/2021</td>\n",
       "      <td>Sociedad</td>\n",
       "      <td>Barcelona</td>\n",
       "      <td>3.0</td>\n",
       "      <td>3.0</td>\n",
       "      <td>3.0</td>\n",
       "      <td>3.0</td>\n",
       "      <td>3.0</td>\n",
       "      <td>3.0</td>\n",
       "      <td>3.0</td>\n",
       "      <td>3.0</td>\n",
       "      <td>3.0</td>\n",
       "      <td>1.0</td>\n",
       "      <td>1.0</td>\n",
       "    </tr>\n",
       "    <tr>\n",
       "      <th>57</th>\n",
       "      <td>06/03/2021</td>\n",
       "      <td>Osasuna</td>\n",
       "      <td>Barcelona</td>\n",
       "      <td>3.0</td>\n",
       "      <td>3.0</td>\n",
       "      <td>3.0</td>\n",
       "      <td>3.0</td>\n",
       "      <td>3.0</td>\n",
       "      <td>3.0</td>\n",
       "      <td>3.0</td>\n",
       "      <td>3.0</td>\n",
       "      <td>1.0</td>\n",
       "      <td>1.0</td>\n",
       "      <td>2.0</td>\n",
       "    </tr>\n",
       "    <tr>\n",
       "      <th>69</th>\n",
       "      <td>27/02/2021</td>\n",
       "      <td>Sevilla</td>\n",
       "      <td>Barcelona</td>\n",
       "      <td>3.0</td>\n",
       "      <td>3.0</td>\n",
       "      <td>3.0</td>\n",
       "      <td>3.0</td>\n",
       "      <td>3.0</td>\n",
       "      <td>3.0</td>\n",
       "      <td>3.0</td>\n",
       "      <td>1.0</td>\n",
       "      <td>1.0</td>\n",
       "      <td>2.0</td>\n",
       "      <td>1.0</td>\n",
       "    </tr>\n",
       "    <tr>\n",
       "      <th>96</th>\n",
       "      <td>07/02/2021</td>\n",
       "      <td>Betis</td>\n",
       "      <td>Barcelona</td>\n",
       "      <td>3.0</td>\n",
       "      <td>3.0</td>\n",
       "      <td>3.0</td>\n",
       "      <td>3.0</td>\n",
       "      <td>3.0</td>\n",
       "      <td>3.0</td>\n",
       "      <td>1.0</td>\n",
       "      <td>1.0</td>\n",
       "      <td>2.0</td>\n",
       "      <td>1.0</td>\n",
       "      <td>3.0</td>\n",
       "    </tr>\n",
       "    <tr>\n",
       "      <th>117</th>\n",
       "      <td>24/01/2021</td>\n",
       "      <td>Elche</td>\n",
       "      <td>Barcelona</td>\n",
       "      <td>3.0</td>\n",
       "      <td>3.0</td>\n",
       "      <td>3.0</td>\n",
       "      <td>3.0</td>\n",
       "      <td>3.0</td>\n",
       "      <td>1.0</td>\n",
       "      <td>1.0</td>\n",
       "      <td>2.0</td>\n",
       "      <td>1.0</td>\n",
       "      <td>3.0</td>\n",
       "      <td>3.0</td>\n",
       "    </tr>\n",
       "    <tr>\n",
       "      <th>141</th>\n",
       "      <td>09/01/2021</td>\n",
       "      <td>Granada</td>\n",
       "      <td>Barcelona</td>\n",
       "      <td>3.0</td>\n",
       "      <td>3.0</td>\n",
       "      <td>3.0</td>\n",
       "      <td>3.0</td>\n",
       "      <td>1.0</td>\n",
       "      <td>1.0</td>\n",
       "      <td>2.0</td>\n",
       "      <td>1.0</td>\n",
       "      <td>3.0</td>\n",
       "      <td>3.0</td>\n",
       "      <td>3.0</td>\n",
       "    </tr>\n",
       "    <tr>\n",
       "      <th>144</th>\n",
       "      <td>06/01/2021</td>\n",
       "      <td>Ath Bilbao</td>\n",
       "      <td>Barcelona</td>\n",
       "      <td>3.0</td>\n",
       "      <td>3.0</td>\n",
       "      <td>3.0</td>\n",
       "      <td>1.0</td>\n",
       "      <td>1.0</td>\n",
       "      <td>2.0</td>\n",
       "      <td>1.0</td>\n",
       "      <td>3.0</td>\n",
       "      <td>3.0</td>\n",
       "      <td>3.0</td>\n",
       "      <td>3.0</td>\n",
       "    </tr>\n",
       "    <tr>\n",
       "      <th>150</th>\n",
       "      <td>03/01/2021</td>\n",
       "      <td>Huesca</td>\n",
       "      <td>Barcelona</td>\n",
       "      <td>3.0</td>\n",
       "      <td>3.0</td>\n",
       "      <td>1.0</td>\n",
       "      <td>1.0</td>\n",
       "      <td>2.0</td>\n",
       "      <td>1.0</td>\n",
       "      <td>3.0</td>\n",
       "      <td>3.0</td>\n",
       "      <td>3.0</td>\n",
       "      <td>3.0</td>\n",
       "      <td>2.0</td>\n",
       "    </tr>\n",
       "    <tr>\n",
       "      <th>171</th>\n",
       "      <td>22/12/2020</td>\n",
       "      <td>Valladolid</td>\n",
       "      <td>Barcelona</td>\n",
       "      <td>3.0</td>\n",
       "      <td>1.0</td>\n",
       "      <td>1.0</td>\n",
       "      <td>2.0</td>\n",
       "      <td>1.0</td>\n",
       "      <td>3.0</td>\n",
       "      <td>3.0</td>\n",
       "      <td>3.0</td>\n",
       "      <td>3.0</td>\n",
       "      <td>2.0</td>\n",
       "      <td>2.0</td>\n",
       "    </tr>\n",
       "    <tr>\n",
       "      <th>205</th>\n",
       "      <td>05/12/2020</td>\n",
       "      <td>Cadiz</td>\n",
       "      <td>Barcelona</td>\n",
       "      <td>1.0</td>\n",
       "      <td>1.0</td>\n",
       "      <td>2.0</td>\n",
       "      <td>1.0</td>\n",
       "      <td>3.0</td>\n",
       "      <td>3.0</td>\n",
       "      <td>3.0</td>\n",
       "      <td>3.0</td>\n",
       "      <td>2.0</td>\n",
       "      <td>2.0</td>\n",
       "      <td>3.0</td>\n",
       "    </tr>\n",
       "  </tbody>\n",
       "</table>\n",
       "</div>"
      ],
      "text/plain": [
       "           Date     HomeTeam   AwayTeam  ResultadoFT  ATM-ResultadoFT-1  \\\n",
       "18   10/04/2021  Real Madrid  Barcelona          1.0                3.0   \n",
       "30   21/03/2021     Sociedad  Barcelona          3.0                3.0   \n",
       "57   06/03/2021      Osasuna  Barcelona          3.0                3.0   \n",
       "69   27/02/2021      Sevilla  Barcelona          3.0                3.0   \n",
       "96   07/02/2021        Betis  Barcelona          3.0                3.0   \n",
       "117  24/01/2021        Elche  Barcelona          3.0                3.0   \n",
       "141  09/01/2021      Granada  Barcelona          3.0                3.0   \n",
       "144  06/01/2021   Ath Bilbao  Barcelona          3.0                3.0   \n",
       "150  03/01/2021       Huesca  Barcelona          3.0                3.0   \n",
       "171  22/12/2020   Valladolid  Barcelona          3.0                1.0   \n",
       "205  05/12/2020        Cadiz  Barcelona          1.0                1.0   \n",
       "\n",
       "     ATM-ResultadoFT-2  ATM-ResultadoFT-3  ATM-ResultadoFT-4  \\\n",
       "18                 3.0                3.0                3.0   \n",
       "30                 3.0                3.0                3.0   \n",
       "57                 3.0                3.0                3.0   \n",
       "69                 3.0                3.0                3.0   \n",
       "96                 3.0                3.0                3.0   \n",
       "117                3.0                3.0                3.0   \n",
       "141                3.0                3.0                1.0   \n",
       "144                3.0                1.0                1.0   \n",
       "150                1.0                1.0                2.0   \n",
       "171                1.0                2.0                1.0   \n",
       "205                2.0                1.0                3.0   \n",
       "\n",
       "     ATM-ResultadoFT-5  ATM-ResultadoFT-6  ATM-ResultadoFT-7  \\\n",
       "18                 3.0                3.0                3.0   \n",
       "30                 3.0                3.0                3.0   \n",
       "57                 3.0                3.0                3.0   \n",
       "69                 3.0                3.0                1.0   \n",
       "96                 3.0                1.0                1.0   \n",
       "117                1.0                1.0                2.0   \n",
       "141                1.0                2.0                1.0   \n",
       "144                2.0                1.0                3.0   \n",
       "150                1.0                3.0                3.0   \n",
       "171                3.0                3.0                3.0   \n",
       "205                3.0                3.0                3.0   \n",
       "\n",
       "     ATM-ResultadoFT-8  ATM-ResultadoFT-9  ATM-ResultadoFT-10  \n",
       "18                 3.0                3.0                 1.0  \n",
       "30                 3.0                1.0                 1.0  \n",
       "57                 1.0                1.0                 2.0  \n",
       "69                 1.0                2.0                 1.0  \n",
       "96                 2.0                1.0                 3.0  \n",
       "117                1.0                3.0                 3.0  \n",
       "141                3.0                3.0                 3.0  \n",
       "144                3.0                3.0                 3.0  \n",
       "150                3.0                3.0                 2.0  \n",
       "171                3.0                2.0                 2.0  \n",
       "205                2.0                2.0                 3.0  "
      ]
     },
     "execution_count": 124,
     "metadata": {},
     "output_type": "execute_result"
    }
   ],
   "source": [
    "liga[liga['AwayTeam']=='Barcelona'][lista_ATM].head(11)"
   ]
  },
  {
   "cell_type": "code",
   "execution_count": 125,
   "metadata": {
    "ExecuteTime": {
     "end_time": "2021-04-15T15:20:05.017550Z",
     "start_time": "2021-04-15T15:20:05.013552Z"
    }
   },
   "outputs": [],
   "source": [
    "lista_F2F=['Date','HomeTeam','AwayTeam','ResultadoFT',\n",
    "'F2F-H-ResultadoFT-1',\n",
    " 'F2F-H-ResultadoFT-2',\n",
    " 'F2F-H-ResultadoFT-3',\n",
    " 'F2F-H-ResultadoFT-4',\n",
    " 'F2F-H-ResultadoFT-5',\n",
    " 'F2F-H-ResultadoFT-6']"
   ]
  },
  {
   "cell_type": "code",
   "execution_count": 126,
   "metadata": {
    "ExecuteTime": {
     "end_time": "2021-04-15T15:20:05.780209Z",
     "start_time": "2021-04-15T15:20:05.753697Z"
    }
   },
   "outputs": [
    {
     "data": {
      "text/html": [
       "<div>\n",
       "<style scoped>\n",
       "    .dataframe tbody tr th:only-of-type {\n",
       "        vertical-align: middle;\n",
       "    }\n",
       "\n",
       "    .dataframe tbody tr th {\n",
       "        vertical-align: top;\n",
       "    }\n",
       "\n",
       "    .dataframe thead th {\n",
       "        text-align: right;\n",
       "    }\n",
       "</style>\n",
       "<table border=\"1\" class=\"dataframe\">\n",
       "  <thead>\n",
       "    <tr style=\"text-align: right;\">\n",
       "      <th></th>\n",
       "      <th>Date</th>\n",
       "      <th>HomeTeam</th>\n",
       "      <th>AwayTeam</th>\n",
       "      <th>ResultadoFT</th>\n",
       "      <th>F2F-H-ResultadoFT-1</th>\n",
       "      <th>F2F-H-ResultadoFT-2</th>\n",
       "      <th>F2F-H-ResultadoFT-3</th>\n",
       "      <th>F2F-H-ResultadoFT-4</th>\n",
       "      <th>F2F-H-ResultadoFT-5</th>\n",
       "      <th>F2F-H-ResultadoFT-6</th>\n",
       "    </tr>\n",
       "  </thead>\n",
       "  <tbody>\n",
       "    <tr>\n",
       "      <th>222</th>\n",
       "      <td>21/11/2020</td>\n",
       "      <td>Ath Madrid</td>\n",
       "      <td>Barcelona</td>\n",
       "      <td>1.0</td>\n",
       "      <td>3.0</td>\n",
       "      <td>2.0</td>\n",
       "      <td>3.0</td>\n",
       "      <td>3.0</td>\n",
       "      <td>3.0</td>\n",
       "      <td>2.0</td>\n",
       "    </tr>\n",
       "    <tr>\n",
       "      <th>542</th>\n",
       "      <td>01/12/2019</td>\n",
       "      <td>Ath Madrid</td>\n",
       "      <td>Barcelona</td>\n",
       "      <td>3.0</td>\n",
       "      <td>2.0</td>\n",
       "      <td>3.0</td>\n",
       "      <td>3.0</td>\n",
       "      <td>3.0</td>\n",
       "      <td>2.0</td>\n",
       "      <td>3.0</td>\n",
       "    </tr>\n",
       "    <tr>\n",
       "      <th>995</th>\n",
       "      <td>14/10/17</td>\n",
       "      <td>Ath Madrid</td>\n",
       "      <td>Barcelona</td>\n",
       "      <td>2.0</td>\n",
       "      <td>3.0</td>\n",
       "      <td>3.0</td>\n",
       "      <td>3.0</td>\n",
       "      <td>2.0</td>\n",
       "      <td>3.0</td>\n",
       "      <td>3.0</td>\n",
       "    </tr>\n",
       "    <tr>\n",
       "      <th>1215</th>\n",
       "      <td>26/02/17</td>\n",
       "      <td>Ath Madrid</td>\n",
       "      <td>Barcelona</td>\n",
       "      <td>3.0</td>\n",
       "      <td>3.0</td>\n",
       "      <td>3.0</td>\n",
       "      <td>2.0</td>\n",
       "      <td>3.0</td>\n",
       "      <td>3.0</td>\n",
       "      <td>3.0</td>\n",
       "    </tr>\n",
       "    <tr>\n",
       "      <th>1806</th>\n",
       "      <td>12/09/15</td>\n",
       "      <td>Ath Madrid</td>\n",
       "      <td>Barcelona</td>\n",
       "      <td>3.0</td>\n",
       "      <td>3.0</td>\n",
       "      <td>2.0</td>\n",
       "      <td>3.0</td>\n",
       "      <td>3.0</td>\n",
       "      <td>3.0</td>\n",
       "      <td>1.0</td>\n",
       "    </tr>\n",
       "    <tr>\n",
       "      <th>1841</th>\n",
       "      <td>17/05/15</td>\n",
       "      <td>Ath Madrid</td>\n",
       "      <td>Barcelona</td>\n",
       "      <td>3.0</td>\n",
       "      <td>2.0</td>\n",
       "      <td>3.0</td>\n",
       "      <td>3.0</td>\n",
       "      <td>3.0</td>\n",
       "      <td>1.0</td>\n",
       "      <td>1.0</td>\n",
       "    </tr>\n",
       "    <tr>\n",
       "      <th>2407</th>\n",
       "      <td>11/01/14</td>\n",
       "      <td>Ath Madrid</td>\n",
       "      <td>Barcelona</td>\n",
       "      <td>2.0</td>\n",
       "      <td>3.0</td>\n",
       "      <td>3.0</td>\n",
       "      <td>3.0</td>\n",
       "      <td>1.0</td>\n",
       "      <td>1.0</td>\n",
       "      <td>1.0</td>\n",
       "    </tr>\n",
       "    <tr>\n",
       "      <th>2622</th>\n",
       "      <td>12/05/13</td>\n",
       "      <td>Ath Madrid</td>\n",
       "      <td>Barcelona</td>\n",
       "      <td>3.0</td>\n",
       "      <td>3.0</td>\n",
       "      <td>3.0</td>\n",
       "      <td>1.0</td>\n",
       "      <td>1.0</td>\n",
       "      <td>1.0</td>\n",
       "      <td>3.0</td>\n",
       "    </tr>\n",
       "    <tr>\n",
       "      <th>3110</th>\n",
       "      <td>26/02/12</td>\n",
       "      <td>Ath Madrid</td>\n",
       "      <td>Barcelona</td>\n",
       "      <td>3.0</td>\n",
       "      <td>3.0</td>\n",
       "      <td>1.0</td>\n",
       "      <td>1.0</td>\n",
       "      <td>1.0</td>\n",
       "      <td>3.0</td>\n",
       "      <td>1.0</td>\n",
       "    </tr>\n",
       "    <tr>\n",
       "      <th>3701</th>\n",
       "      <td>19/09/10</td>\n",
       "      <td>Ath Madrid</td>\n",
       "      <td>Barcelona</td>\n",
       "      <td>3.0</td>\n",
       "      <td>1.0</td>\n",
       "      <td>1.0</td>\n",
       "      <td>1.0</td>\n",
       "      <td>3.0</td>\n",
       "      <td>1.0</td>\n",
       "      <td>-1001.0</td>\n",
       "    </tr>\n",
       "    <tr>\n",
       "      <th>3892</th>\n",
       "      <td>14/02/10</td>\n",
       "      <td>Ath Madrid</td>\n",
       "      <td>Barcelona</td>\n",
       "      <td>1.0</td>\n",
       "      <td>1.0</td>\n",
       "      <td>1.0</td>\n",
       "      <td>3.0</td>\n",
       "      <td>1.0</td>\n",
       "      <td>-1001.0</td>\n",
       "      <td>-1001.0</td>\n",
       "    </tr>\n",
       "  </tbody>\n",
       "</table>\n",
       "</div>"
      ],
      "text/plain": [
       "            Date    HomeTeam   AwayTeam  ResultadoFT  F2F-H-ResultadoFT-1  \\\n",
       "222   21/11/2020  Ath Madrid  Barcelona          1.0                  3.0   \n",
       "542   01/12/2019  Ath Madrid  Barcelona          3.0                  2.0   \n",
       "995     14/10/17  Ath Madrid  Barcelona          2.0                  3.0   \n",
       "1215    26/02/17  Ath Madrid  Barcelona          3.0                  3.0   \n",
       "1806    12/09/15  Ath Madrid  Barcelona          3.0                  3.0   \n",
       "1841    17/05/15  Ath Madrid  Barcelona          3.0                  2.0   \n",
       "2407    11/01/14  Ath Madrid  Barcelona          2.0                  3.0   \n",
       "2622    12/05/13  Ath Madrid  Barcelona          3.0                  3.0   \n",
       "3110    26/02/12  Ath Madrid  Barcelona          3.0                  3.0   \n",
       "3701    19/09/10  Ath Madrid  Barcelona          3.0                  1.0   \n",
       "3892    14/02/10  Ath Madrid  Barcelona          1.0                  1.0   \n",
       "\n",
       "      F2F-H-ResultadoFT-2  F2F-H-ResultadoFT-3  F2F-H-ResultadoFT-4  \\\n",
       "222                   2.0                  3.0                  3.0   \n",
       "542                   3.0                  3.0                  3.0   \n",
       "995                   3.0                  3.0                  2.0   \n",
       "1215                  3.0                  2.0                  3.0   \n",
       "1806                  2.0                  3.0                  3.0   \n",
       "1841                  3.0                  3.0                  3.0   \n",
       "2407                  3.0                  3.0                  1.0   \n",
       "2622                  3.0                  1.0                  1.0   \n",
       "3110                  1.0                  1.0                  1.0   \n",
       "3701                  1.0                  1.0                  3.0   \n",
       "3892                  1.0                  3.0                  1.0   \n",
       "\n",
       "      F2F-H-ResultadoFT-5  F2F-H-ResultadoFT-6  \n",
       "222                   3.0                  2.0  \n",
       "542                   2.0                  3.0  \n",
       "995                   3.0                  3.0  \n",
       "1215                  3.0                  3.0  \n",
       "1806                  3.0                  1.0  \n",
       "1841                  1.0                  1.0  \n",
       "2407                  1.0                  1.0  \n",
       "2622                  1.0                  3.0  \n",
       "3110                  3.0                  1.0  \n",
       "3701                  1.0              -1001.0  \n",
       "3892              -1001.0              -1001.0  "
      ]
     },
     "execution_count": 126,
     "metadata": {},
     "output_type": "execute_result"
    }
   ],
   "source": [
    "liga[(liga['HomeTeam']=='Ath Madrid') & (liga['AwayTeam']=='Barcelona')][lista_F2F].head(11)"
   ]
  },
  {
   "cell_type": "markdown",
   "metadata": {},
   "source": [
    "# Tunning hiperparametros para resultado\n",
    "\n"
   ]
  },
  {
   "cell_type": "code",
   "execution_count": 240,
   "metadata": {
    "ExecuteTime": {
     "end_time": "2021-04-16T16:48:10.313417Z",
     "start_time": "2021-04-16T16:48:09.281296Z"
    }
   },
   "outputs": [],
   "source": [
    "liga=pd.read_csv(path_last+'\\SP1-J'+str(jornada)+'\\SP1_Modelo5_J'+str(jornada)+'-con-FE.csv')\n",
    "liga.drop('Unnamed: 0',axis=1,inplace=True)\n",
    "liga['Date1']=pd.to_datetime(liga['Date1'], format='%Y-%m-%d')"
   ]
  },
  {
   "cell_type": "code",
   "execution_count": 241,
   "metadata": {
    "ExecuteTime": {
     "end_time": "2021-04-16T16:48:10.771455Z",
     "start_time": "2021-04-16T16:48:10.765454Z"
    }
   },
   "outputs": [
    {
     "data": {
      "text/plain": [
       "(6010, 1207)"
      ]
     },
     "execution_count": 241,
     "metadata": {},
     "output_type": "execute_result"
    }
   ],
   "source": [
    "liga.shape"
   ]
  },
  {
   "cell_type": "code",
   "execution_count": 232,
   "metadata": {
    "ExecuteTime": {
     "end_time": "2021-04-16T16:46:25.161356Z",
     "start_time": "2021-04-16T16:46:25.151357Z"
    }
   },
   "outputs": [],
   "source": [
    "jornadas={#31:['2021-04-21','2021-04-22'],\n",
    "          30:['2021-04-09','2021-04-10','2021-04-11','2021-04-12'],\n",
    "          29:['2021-04-02','2021-04-03','2021-04-04','2021-04-05','2021-04-07'],\n",
    "          28:['2021-03-19','2021-03-20','2021-03-21'],\n",
    "          27:['2021-03-12','2021-03-13','2021-03-14','2021-03-15'],\n",
    "          26:['2021-03-05','2021-03-06','2021-03-07','2021-03-08'],\n",
    "          25:['2021-02-26','2021-02-27','2021-02-28','2021-03-01'],\n",
    "          24:['2021-02-19','2021-02-20','2021-02-21','2021-02-22'],\n",
    "          23:['2021-02-12','2021-02-13','2021-02-14','2021-02-15'],\n",
    "          22:['2021-02-05','2021-02-06','2021-02-07','2021-02-08'],\n",
    "          21:['2021-01-29','2021-01-30','2021-01-31','2021-02-01'],\n",
    "          20:['2021-01-22','2021-01-23','2021-01-24','2021-01-25'],\n",
    "          19:['2020-12-15','2020-12-16','2021-01-19','2021-01-20','2021-01-21'],\n",
    "          18:['2020-12-15','2020-12-16','2021-01-19','2021-01-20','2021-01-21']}"
   ]
  },
  {
   "cell_type": "code",
   "execution_count": 95,
   "metadata": {
    "ExecuteTime": {
     "end_time": "2021-04-16T16:03:46.310443Z",
     "start_time": "2021-04-16T16:03:46.302445Z"
    }
   },
   "outputs": [],
   "source": [
    "# No borramos Day, Month,Year, DayWeek_Code, Tempoarda_code xq los sabemos en lso partidos a predecir\n",
    "variables_borrar=['HomeTeam',\n",
    "'AwayTeam',\n",
    "'ResultadoFT',\n",
    "'ResultadoHT',\n",
    "'Date',\n",
    "'Date1',\n",
    "'Div',\n",
    "'Temporada',\n",
    "'FTR',\n",
    "'HTR',\n",
    "'FTHG',\n",
    "'FTAG',\n",
    "'FTR',\n",
    "'HTHG',\n",
    "'HTAG',\n",
    "'HTR',\n",
    "'HS',\n",
    "'AS',\n",
    "'HST',\n",
    "'AST',\n",
    "'HF',\n",
    "'AF',\n",
    "'HC',\n",
    "'AC',\n",
    "'HY',\n",
    "'AY',\n",
    "'HR',\n",
    "'AR',  \n",
    " 'B365H',\n",
    " 'B365D',\n",
    " 'B365A',\n",
    " 'BWH',\n",
    " 'BWD',\n",
    " 'BWA',\n",
    " 'IWH',\n",
    " 'IWD',\n",
    " 'IWA',\n",
    " 'WHH',\n",
    " 'WHD',\n",
    " 'WHA',\n",
    " 'VCH',\n",
    " 'VCD',\n",
    " 'VCA',                   \n",
    "'DayWeek',\n",
    "'deltaFTHG',\n",
    "'deltaFTAG',\n",
    "'resultadoGolesFT',\n",
    "'resultadoGolesFT_Code',\n",
    "'PuntosAwayTeam',               \n",
    "'PuntosHomeTeam',\n",
    "'deltaPuntosHomeTeam',\n",
    "'deltaPuntosAwayTeam']                "
   ]
  },
  {
   "cell_type": "markdown",
   "metadata": {},
   "source": [
    "## Resanpling del dataset"
   ]
  },
  {
   "cell_type": "code",
   "execution_count": 253,
   "metadata": {
    "ExecuteTime": {
     "end_time": "2021-04-16T16:55:12.797416Z",
     "start_time": "2021-04-16T16:55:12.781416Z"
    }
   },
   "outputs": [
    {
     "data": {
      "text/html": [
       "<div>\n",
       "<style scoped>\n",
       "    .dataframe tbody tr th:only-of-type {\n",
       "        vertical-align: middle;\n",
       "    }\n",
       "\n",
       "    .dataframe tbody tr th {\n",
       "        vertical-align: top;\n",
       "    }\n",
       "\n",
       "    .dataframe thead th {\n",
       "        text-align: right;\n",
       "    }\n",
       "</style>\n",
       "<table border=\"1\" class=\"dataframe\">\n",
       "  <thead>\n",
       "    <tr style=\"text-align: right;\">\n",
       "      <th></th>\n",
       "      <th>FTR</th>\n",
       "    </tr>\n",
       "    <tr>\n",
       "      <th>FTR</th>\n",
       "      <th></th>\n",
       "    </tr>\n",
       "  </thead>\n",
       "  <tbody>\n",
       "    <tr>\n",
       "      <th>A</th>\n",
       "      <td>1702</td>\n",
       "    </tr>\n",
       "    <tr>\n",
       "      <th>D</th>\n",
       "      <td>1474</td>\n",
       "    </tr>\n",
       "    <tr>\n",
       "      <th>H</th>\n",
       "      <td>2824</td>\n",
       "    </tr>\n",
       "  </tbody>\n",
       "</table>\n",
       "</div>"
      ],
      "text/plain": [
       "      FTR\n",
       "FTR      \n",
       "A    1702\n",
       "D    1474\n",
       "H    2824"
      ]
     },
     "execution_count": 253,
     "metadata": {},
     "output_type": "execute_result"
    }
   ],
   "source": [
    "liga.groupby(['FTR']).agg({'FTR':len})"
   ]
  },
  {
   "cell_type": "code",
   "execution_count": 234,
   "metadata": {
    "ExecuteTime": {
     "end_time": "2021-04-16T16:46:45.352517Z",
     "start_time": "2021-04-16T16:46:45.255515Z"
    }
   },
   "outputs": [],
   "source": [
    "# Borramos mil victorias del equipo de casa\n",
    "liga.reset_index(drop=True,inplace=True)\n",
    "liga.drop( liga[ (liga['FTR']=='H') & (liga['Temporada']!='2020-2021')].sample(970, random_state=RANDOM_STATE).index ,\n",
    "            axis=0,inplace=True )"
   ]
  },
  {
   "cell_type": "code",
   "execution_count": 180,
   "metadata": {
    "ExecuteTime": {
     "end_time": "2021-04-16T16:36:39.923224Z",
     "start_time": "2021-04-16T16:36:39.861221Z"
    }
   },
   "outputs": [],
   "source": [
    "# Borramos mil victorias del equipo de casa\n",
    "liga.reset_index(drop=True,inplace=True)\n",
    "liga.drop( liga[ (liga['FTR']=='D') & (liga['Temporada']!='2020-2021')].sample(100, random_state=RANDOM_STATE).index ,\n",
    "            axis=0,inplace=True )"
   ]
  },
  {
   "cell_type": "code",
   "execution_count": 255,
   "metadata": {
    "ExecuteTime": {
     "end_time": "2021-04-16T16:55:26.448941Z",
     "start_time": "2021-04-16T16:55:25.722981Z"
    }
   },
   "outputs": [
    {
     "name": "stdout",
     "output_type": "stream",
     "text": [
      "Borando 66 filas en temporada 2019-2020 \n",
      "Borando 66 filas en temporada 2018-2019 \n",
      "Borando 66 filas en temporada 2017-2018 \n",
      "Borando 66 filas en temporada 2016-2017 \n",
      "Borando 66 filas en temporada 2015-2016 \n",
      "Borando 66 filas en temporada 2014-2015 \n",
      "Borando 66 filas en temporada 2013-2014 \n",
      "Borando 66 filas en temporada 2012-2013 \n",
      "Borando 66 filas en temporada 2011-2012 \n",
      "Borando 66 filas en temporada 2010-2011 \n",
      "Borando 66 filas en temporada 2009-2010 \n",
      "Borando 66 filas en temporada 2008-2009 \n",
      "Borando 66 filas en temporada 2007-2008 \n",
      "Borando 66 filas en temporada 2006-2007 \n",
      "Borando 66 filas en temporada 2005-2006 \n"
     ]
    }
   ],
   "source": [
    "borrar=1000\n",
    "borrarTemp=int(1000/(len(liga['Temporada'].unique()) -1))\n",
    "liga.reset_index(drop=True,inplace=True)\n",
    "for x in list(liga['Temporada'].unique()):\n",
    "    if x != '2020-2021':\n",
    "        print('Borando {} filas en temporada {} '.format(borrarTemp, x))\n",
    "        liga.drop( liga[ (liga['FTR']=='H') & (liga['Temporada']==x)].sample(borrarTemp, random_state=RANDOM_STATE).index ,\n",
    "            axis=0,inplace=True )"
   ]
  },
  {
   "cell_type": "code",
   "execution_count": 257,
   "metadata": {
    "ExecuteTime": {
     "end_time": "2021-04-16T16:55:46.904369Z",
     "start_time": "2021-04-16T16:55:46.889370Z"
    }
   },
   "outputs": [
    {
     "data": {
      "text/html": [
       "<div>\n",
       "<style scoped>\n",
       "    .dataframe tbody tr th:only-of-type {\n",
       "        vertical-align: middle;\n",
       "    }\n",
       "\n",
       "    .dataframe tbody tr th {\n",
       "        vertical-align: top;\n",
       "    }\n",
       "\n",
       "    .dataframe thead th {\n",
       "        text-align: right;\n",
       "    }\n",
       "</style>\n",
       "<table border=\"1\" class=\"dataframe\">\n",
       "  <thead>\n",
       "    <tr style=\"text-align: right;\">\n",
       "      <th></th>\n",
       "      <th>FTR</th>\n",
       "    </tr>\n",
       "    <tr>\n",
       "      <th>FTR</th>\n",
       "      <th></th>\n",
       "    </tr>\n",
       "  </thead>\n",
       "  <tbody>\n",
       "    <tr>\n",
       "      <th>A</th>\n",
       "      <td>1702</td>\n",
       "    </tr>\n",
       "    <tr>\n",
       "      <th>D</th>\n",
       "      <td>1474</td>\n",
       "    </tr>\n",
       "    <tr>\n",
       "      <th>H</th>\n",
       "      <td>1834</td>\n",
       "    </tr>\n",
       "  </tbody>\n",
       "</table>\n",
       "</div>"
      ],
      "text/plain": [
       "      FTR\n",
       "FTR      \n",
       "A    1702\n",
       "D    1474\n",
       "H    1834"
      ]
     },
     "execution_count": 257,
     "metadata": {},
     "output_type": "execute_result"
    }
   ],
   "source": [
    "liga.groupby(['FTR']).agg({'FTR':len})"
   ]
  },
  {
   "cell_type": "code",
   "execution_count": 258,
   "metadata": {
    "ExecuteTime": {
     "end_time": "2021-04-16T16:55:50.416373Z",
     "start_time": "2021-04-16T16:55:50.393375Z"
    }
   },
   "outputs": [
    {
     "data": {
      "text/html": [
       "<div>\n",
       "<style scoped>\n",
       "    .dataframe tbody tr th:only-of-type {\n",
       "        vertical-align: middle;\n",
       "    }\n",
       "\n",
       "    .dataframe tbody tr th {\n",
       "        vertical-align: top;\n",
       "    }\n",
       "\n",
       "    .dataframe thead th {\n",
       "        text-align: right;\n",
       "    }\n",
       "</style>\n",
       "<table border=\"1\" class=\"dataframe\">\n",
       "  <thead>\n",
       "    <tr style=\"text-align: right;\">\n",
       "      <th></th>\n",
       "      <th>FTR</th>\n",
       "    </tr>\n",
       "    <tr>\n",
       "      <th>FTR</th>\n",
       "      <th></th>\n",
       "    </tr>\n",
       "  </thead>\n",
       "  <tbody>\n",
       "    <tr>\n",
       "      <th>A</th>\n",
       "      <td>89</td>\n",
       "    </tr>\n",
       "    <tr>\n",
       "      <th>D</th>\n",
       "      <td>90</td>\n",
       "    </tr>\n",
       "    <tr>\n",
       "      <th>H</th>\n",
       "      <td>121</td>\n",
       "    </tr>\n",
       "  </tbody>\n",
       "</table>\n",
       "</div>"
      ],
      "text/plain": [
       "     FTR\n",
       "FTR     \n",
       "A     89\n",
       "D     90\n",
       "H    121"
      ]
     },
     "execution_count": 258,
     "metadata": {},
     "output_type": "execute_result"
    }
   ],
   "source": [
    "a='2020-09-12'\n",
    "liga[liga[\"Date1\"] >= a ].groupby(['FTR']).agg({'FTR':len})"
   ]
  },
  {
   "cell_type": "markdown",
   "metadata": {},
   "source": [
    "## Entrenamos con todo excepto esta ultima temporada"
   ]
  },
  {
   "cell_type": "code",
   "execution_count": 259,
   "metadata": {
    "ExecuteTime": {
     "end_time": "2021-04-16T16:55:53.677356Z",
     "start_time": "2021-04-16T16:55:53.550346Z"
    }
   },
   "outputs": [],
   "source": [
    "# Vamos a predecir para toda la temporada 2020-2021\n",
    "a='2020-09-12'\n",
    "\n",
    "X_test = liga[liga[\"Date1\"] >= a ].drop(variables_borrar, axis = 1)\n",
    "X_train = liga[liga['Date1']< a].drop(variables_borrar, axis = 1)\n",
    "\n",
    "Y_test = liga[liga[\"Date1\"]>= a ]['ResultadoFT']\n",
    "Y_train = liga[liga['Date1']< a]['ResultadoFT']\n",
    "\n",
    "X_test_head = liga[['HomeTeam','AwayTeam','Date']][liga[\"Date1\"]>= a]\n",
    "\n",
    "#X_train=X_train[:4000]\n",
    "#Y_train=Y_train[:4000]\n",
    "\n",
    "#Quitamos la ultima jornada ya que no tenemos llos resultados y no nos sirve para testear\n",
    "Y_test=Y_test[10:]\n",
    "X_test=X_test[10:]\n",
    "X_test_head=X_test_head[10:]"
   ]
  },
  {
   "cell_type": "code",
   "execution_count": 260,
   "metadata": {
    "ExecuteTime": {
     "end_time": "2021-04-16T16:56:06.026921Z",
     "start_time": "2021-04-16T16:55:54.760164Z"
    }
   },
   "outputs": [
    {
     "name": "stdout",
     "output_type": "stream",
     "text": [
      "Jornada: 2020-09-12\n",
      "Resultados para: depth: 1 - Train: 0.4337579617834395 - Test 0.45666666666666667\n",
      "Resultados para: depth: 2 - Train: 0.4337579617834395 - Test 0.45666666666666667\n",
      "Resultados para: depth: 3 - Train: 0.4524416135881104 - Test 0.4633333333333333\n",
      "Resultados para: depth: 4 - Train: 0.47367303609341826 - Test 0.4633333333333333\n",
      "Resultados para: depth: 5 - Train: 0.49469214437367304 - Test 0.4533333333333333\n",
      "Resultados para: depth: 6 - Train: 0.5142250530785563 - Test 0.44\n",
      "Resultados para: depth: 7 - Train: 0.5386411889596603 - Test 0.4766666666666667\n",
      "Resultados para: depth: 8 - Train: 0.5564755838641189 - Test 0.48333333333333334\n",
      "Resultados para: depth: 9 - Train: 0.5857749469214437 - Test 0.43666666666666665\n",
      "Resultados para: depth: 10 - Train: 0.610828025477707 - Test 0.42\n"
     ]
    }
   ],
   "source": [
    "lista_a=[]\n",
    "lista_x=[]\n",
    "lista_strain=[]\n",
    "lista_stest=[]\n",
    "resultados=[]\n",
    "print('Jornada: '+str(a))\n",
    "for x in list(range(1,11)):\n",
    "    dt = DecisionTreeClassifier(max_depth=x, random_state=RANDOM_STATE,min_samples_leaf=5 ,min_samples_split=20)\n",
    "    #dt = DecisionTreeClassifier(max_depth=x, random_state=RANDOM_STATE)\n",
    "    dt.fit(X_train,Y_train)\n",
    "    score_train=dt.score(X_train, Y_train)\n",
    "    score_test=dt.score(X_test, Y_test)\n",
    "    print('Resultados para: depth: {} - Train: {} - Test {}'.format(x,score_train,score_test))\n",
    "    lista_a.append(a)\n",
    "    lista_x.append(x)\n",
    "    lista_strain.append(score_train)\n",
    "    lista_stest.append(score_test)\n",
    "\n",
    "    # Predecimos resultado final:\n",
    "    y_test_pred=pd.DataFrame(dt.predict(X_test), index=Y_test.index, columns=['Pred-ResultadoFT-'+str(x)])\n",
    "    X_test_head = pd.concat([X_test_head, y_test_pred], axis=1)\n",
    "    # Añadimos el resultado real para calcular aciertos\n",
    "    #X_test_head['Success']=(results_df['Pred-ResultadoFT-'+str(x)]==results_df['ResultadoFT']).astype(int)\n",
    "    #resultados.append(results_df)\n",
    "X_test_head = pd.concat([ X_test_head, Y_test], axis=1)\n",
    "for x in list(range(1,11)):\n",
    "    X_test_head['Success-'+str(x)]=(X_test_head['Pred-ResultadoFT-'+str(x)]==X_test_head['ResultadoFT']).astype(int)"
   ]
  },
  {
   "cell_type": "code",
   "execution_count": 261,
   "metadata": {
    "ExecuteTime": {
     "end_time": "2021-04-16T16:56:12.596301Z",
     "start_time": "2021-04-16T16:56:12.569306Z"
    }
   },
   "outputs": [
    {
     "data": {
      "application/vnd.plotly.v1+json": {
       "config": {
        "plotlyServerURL": "https://plot.ly"
       },
       "data": [
        {
         "mode": "lines+markers",
         "name": "Score_train",
         "type": "scatter",
         "x": [
          1,
          2,
          3,
          4,
          5,
          6,
          7,
          8,
          9,
          10
         ],
         "y": [
          0.4337579617834395,
          0.4337579617834395,
          0.4524416135881104,
          0.47367303609341826,
          0.49469214437367304,
          0.5142250530785563,
          0.5386411889596603,
          0.5564755838641189,
          0.5857749469214437,
          0.610828025477707
         ]
        },
        {
         "mode": "lines+markers",
         "name": "Score_test",
         "type": "scatter",
         "x": [
          1,
          2,
          3,
          4,
          5,
          6,
          7,
          8,
          9,
          10
         ],
         "y": [
          0.45666666666666667,
          0.45666666666666667,
          0.4633333333333333,
          0.4633333333333333,
          0.4533333333333333,
          0.44,
          0.4766666666666667,
          0.48333333333333334,
          0.43666666666666665,
          0.42
         ]
        }
       ],
       "layout": {
        "template": {
         "data": {
          "bar": [
           {
            "error_x": {
             "color": "#2a3f5f"
            },
            "error_y": {
             "color": "#2a3f5f"
            },
            "marker": {
             "line": {
              "color": "#E5ECF6",
              "width": 0.5
             }
            },
            "type": "bar"
           }
          ],
          "barpolar": [
           {
            "marker": {
             "line": {
              "color": "#E5ECF6",
              "width": 0.5
             }
            },
            "type": "barpolar"
           }
          ],
          "carpet": [
           {
            "aaxis": {
             "endlinecolor": "#2a3f5f",
             "gridcolor": "white",
             "linecolor": "white",
             "minorgridcolor": "white",
             "startlinecolor": "#2a3f5f"
            },
            "baxis": {
             "endlinecolor": "#2a3f5f",
             "gridcolor": "white",
             "linecolor": "white",
             "minorgridcolor": "white",
             "startlinecolor": "#2a3f5f"
            },
            "type": "carpet"
           }
          ],
          "choropleth": [
           {
            "colorbar": {
             "outlinewidth": 0,
             "ticks": ""
            },
            "type": "choropleth"
           }
          ],
          "contour": [
           {
            "colorbar": {
             "outlinewidth": 0,
             "ticks": ""
            },
            "colorscale": [
             [
              0,
              "#0d0887"
             ],
             [
              0.1111111111111111,
              "#46039f"
             ],
             [
              0.2222222222222222,
              "#7201a8"
             ],
             [
              0.3333333333333333,
              "#9c179e"
             ],
             [
              0.4444444444444444,
              "#bd3786"
             ],
             [
              0.5555555555555556,
              "#d8576b"
             ],
             [
              0.6666666666666666,
              "#ed7953"
             ],
             [
              0.7777777777777778,
              "#fb9f3a"
             ],
             [
              0.8888888888888888,
              "#fdca26"
             ],
             [
              1,
              "#f0f921"
             ]
            ],
            "type": "contour"
           }
          ],
          "contourcarpet": [
           {
            "colorbar": {
             "outlinewidth": 0,
             "ticks": ""
            },
            "type": "contourcarpet"
           }
          ],
          "heatmap": [
           {
            "colorbar": {
             "outlinewidth": 0,
             "ticks": ""
            },
            "colorscale": [
             [
              0,
              "#0d0887"
             ],
             [
              0.1111111111111111,
              "#46039f"
             ],
             [
              0.2222222222222222,
              "#7201a8"
             ],
             [
              0.3333333333333333,
              "#9c179e"
             ],
             [
              0.4444444444444444,
              "#bd3786"
             ],
             [
              0.5555555555555556,
              "#d8576b"
             ],
             [
              0.6666666666666666,
              "#ed7953"
             ],
             [
              0.7777777777777778,
              "#fb9f3a"
             ],
             [
              0.8888888888888888,
              "#fdca26"
             ],
             [
              1,
              "#f0f921"
             ]
            ],
            "type": "heatmap"
           }
          ],
          "heatmapgl": [
           {
            "colorbar": {
             "outlinewidth": 0,
             "ticks": ""
            },
            "colorscale": [
             [
              0,
              "#0d0887"
             ],
             [
              0.1111111111111111,
              "#46039f"
             ],
             [
              0.2222222222222222,
              "#7201a8"
             ],
             [
              0.3333333333333333,
              "#9c179e"
             ],
             [
              0.4444444444444444,
              "#bd3786"
             ],
             [
              0.5555555555555556,
              "#d8576b"
             ],
             [
              0.6666666666666666,
              "#ed7953"
             ],
             [
              0.7777777777777778,
              "#fb9f3a"
             ],
             [
              0.8888888888888888,
              "#fdca26"
             ],
             [
              1,
              "#f0f921"
             ]
            ],
            "type": "heatmapgl"
           }
          ],
          "histogram": [
           {
            "marker": {
             "colorbar": {
              "outlinewidth": 0,
              "ticks": ""
             }
            },
            "type": "histogram"
           }
          ],
          "histogram2d": [
           {
            "colorbar": {
             "outlinewidth": 0,
             "ticks": ""
            },
            "colorscale": [
             [
              0,
              "#0d0887"
             ],
             [
              0.1111111111111111,
              "#46039f"
             ],
             [
              0.2222222222222222,
              "#7201a8"
             ],
             [
              0.3333333333333333,
              "#9c179e"
             ],
             [
              0.4444444444444444,
              "#bd3786"
             ],
             [
              0.5555555555555556,
              "#d8576b"
             ],
             [
              0.6666666666666666,
              "#ed7953"
             ],
             [
              0.7777777777777778,
              "#fb9f3a"
             ],
             [
              0.8888888888888888,
              "#fdca26"
             ],
             [
              1,
              "#f0f921"
             ]
            ],
            "type": "histogram2d"
           }
          ],
          "histogram2dcontour": [
           {
            "colorbar": {
             "outlinewidth": 0,
             "ticks": ""
            },
            "colorscale": [
             [
              0,
              "#0d0887"
             ],
             [
              0.1111111111111111,
              "#46039f"
             ],
             [
              0.2222222222222222,
              "#7201a8"
             ],
             [
              0.3333333333333333,
              "#9c179e"
             ],
             [
              0.4444444444444444,
              "#bd3786"
             ],
             [
              0.5555555555555556,
              "#d8576b"
             ],
             [
              0.6666666666666666,
              "#ed7953"
             ],
             [
              0.7777777777777778,
              "#fb9f3a"
             ],
             [
              0.8888888888888888,
              "#fdca26"
             ],
             [
              1,
              "#f0f921"
             ]
            ],
            "type": "histogram2dcontour"
           }
          ],
          "mesh3d": [
           {
            "colorbar": {
             "outlinewidth": 0,
             "ticks": ""
            },
            "type": "mesh3d"
           }
          ],
          "parcoords": [
           {
            "line": {
             "colorbar": {
              "outlinewidth": 0,
              "ticks": ""
             }
            },
            "type": "parcoords"
           }
          ],
          "pie": [
           {
            "automargin": true,
            "type": "pie"
           }
          ],
          "scatter": [
           {
            "marker": {
             "colorbar": {
              "outlinewidth": 0,
              "ticks": ""
             }
            },
            "type": "scatter"
           }
          ],
          "scatter3d": [
           {
            "line": {
             "colorbar": {
              "outlinewidth": 0,
              "ticks": ""
             }
            },
            "marker": {
             "colorbar": {
              "outlinewidth": 0,
              "ticks": ""
             }
            },
            "type": "scatter3d"
           }
          ],
          "scattercarpet": [
           {
            "marker": {
             "colorbar": {
              "outlinewidth": 0,
              "ticks": ""
             }
            },
            "type": "scattercarpet"
           }
          ],
          "scattergeo": [
           {
            "marker": {
             "colorbar": {
              "outlinewidth": 0,
              "ticks": ""
             }
            },
            "type": "scattergeo"
           }
          ],
          "scattergl": [
           {
            "marker": {
             "colorbar": {
              "outlinewidth": 0,
              "ticks": ""
             }
            },
            "type": "scattergl"
           }
          ],
          "scattermapbox": [
           {
            "marker": {
             "colorbar": {
              "outlinewidth": 0,
              "ticks": ""
             }
            },
            "type": "scattermapbox"
           }
          ],
          "scatterpolar": [
           {
            "marker": {
             "colorbar": {
              "outlinewidth": 0,
              "ticks": ""
             }
            },
            "type": "scatterpolar"
           }
          ],
          "scatterpolargl": [
           {
            "marker": {
             "colorbar": {
              "outlinewidth": 0,
              "ticks": ""
             }
            },
            "type": "scatterpolargl"
           }
          ],
          "scatterternary": [
           {
            "marker": {
             "colorbar": {
              "outlinewidth": 0,
              "ticks": ""
             }
            },
            "type": "scatterternary"
           }
          ],
          "surface": [
           {
            "colorbar": {
             "outlinewidth": 0,
             "ticks": ""
            },
            "colorscale": [
             [
              0,
              "#0d0887"
             ],
             [
              0.1111111111111111,
              "#46039f"
             ],
             [
              0.2222222222222222,
              "#7201a8"
             ],
             [
              0.3333333333333333,
              "#9c179e"
             ],
             [
              0.4444444444444444,
              "#bd3786"
             ],
             [
              0.5555555555555556,
              "#d8576b"
             ],
             [
              0.6666666666666666,
              "#ed7953"
             ],
             [
              0.7777777777777778,
              "#fb9f3a"
             ],
             [
              0.8888888888888888,
              "#fdca26"
             ],
             [
              1,
              "#f0f921"
             ]
            ],
            "type": "surface"
           }
          ],
          "table": [
           {
            "cells": {
             "fill": {
              "color": "#EBF0F8"
             },
             "line": {
              "color": "white"
             }
            },
            "header": {
             "fill": {
              "color": "#C8D4E3"
             },
             "line": {
              "color": "white"
             }
            },
            "type": "table"
           }
          ]
         },
         "layout": {
          "annotationdefaults": {
           "arrowcolor": "#2a3f5f",
           "arrowhead": 0,
           "arrowwidth": 1
          },
          "coloraxis": {
           "colorbar": {
            "outlinewidth": 0,
            "ticks": ""
           }
          },
          "colorscale": {
           "diverging": [
            [
             0,
             "#8e0152"
            ],
            [
             0.1,
             "#c51b7d"
            ],
            [
             0.2,
             "#de77ae"
            ],
            [
             0.3,
             "#f1b6da"
            ],
            [
             0.4,
             "#fde0ef"
            ],
            [
             0.5,
             "#f7f7f7"
            ],
            [
             0.6,
             "#e6f5d0"
            ],
            [
             0.7,
             "#b8e186"
            ],
            [
             0.8,
             "#7fbc41"
            ],
            [
             0.9,
             "#4d9221"
            ],
            [
             1,
             "#276419"
            ]
           ],
           "sequential": [
            [
             0,
             "#0d0887"
            ],
            [
             0.1111111111111111,
             "#46039f"
            ],
            [
             0.2222222222222222,
             "#7201a8"
            ],
            [
             0.3333333333333333,
             "#9c179e"
            ],
            [
             0.4444444444444444,
             "#bd3786"
            ],
            [
             0.5555555555555556,
             "#d8576b"
            ],
            [
             0.6666666666666666,
             "#ed7953"
            ],
            [
             0.7777777777777778,
             "#fb9f3a"
            ],
            [
             0.8888888888888888,
             "#fdca26"
            ],
            [
             1,
             "#f0f921"
            ]
           ],
           "sequentialminus": [
            [
             0,
             "#0d0887"
            ],
            [
             0.1111111111111111,
             "#46039f"
            ],
            [
             0.2222222222222222,
             "#7201a8"
            ],
            [
             0.3333333333333333,
             "#9c179e"
            ],
            [
             0.4444444444444444,
             "#bd3786"
            ],
            [
             0.5555555555555556,
             "#d8576b"
            ],
            [
             0.6666666666666666,
             "#ed7953"
            ],
            [
             0.7777777777777778,
             "#fb9f3a"
            ],
            [
             0.8888888888888888,
             "#fdca26"
            ],
            [
             1,
             "#f0f921"
            ]
           ]
          },
          "colorway": [
           "#636efa",
           "#EF553B",
           "#00cc96",
           "#ab63fa",
           "#FFA15A",
           "#19d3f3",
           "#FF6692",
           "#B6E880",
           "#FF97FF",
           "#FECB52"
          ],
          "font": {
           "color": "#2a3f5f"
          },
          "geo": {
           "bgcolor": "white",
           "lakecolor": "white",
           "landcolor": "#E5ECF6",
           "showlakes": true,
           "showland": true,
           "subunitcolor": "white"
          },
          "hoverlabel": {
           "align": "left"
          },
          "hovermode": "closest",
          "mapbox": {
           "style": "light"
          },
          "paper_bgcolor": "white",
          "plot_bgcolor": "#E5ECF6",
          "polar": {
           "angularaxis": {
            "gridcolor": "white",
            "linecolor": "white",
            "ticks": ""
           },
           "bgcolor": "#E5ECF6",
           "radialaxis": {
            "gridcolor": "white",
            "linecolor": "white",
            "ticks": ""
           }
          },
          "scene": {
           "xaxis": {
            "backgroundcolor": "#E5ECF6",
            "gridcolor": "white",
            "gridwidth": 2,
            "linecolor": "white",
            "showbackground": true,
            "ticks": "",
            "zerolinecolor": "white"
           },
           "yaxis": {
            "backgroundcolor": "#E5ECF6",
            "gridcolor": "white",
            "gridwidth": 2,
            "linecolor": "white",
            "showbackground": true,
            "ticks": "",
            "zerolinecolor": "white"
           },
           "zaxis": {
            "backgroundcolor": "#E5ECF6",
            "gridcolor": "white",
            "gridwidth": 2,
            "linecolor": "white",
            "showbackground": true,
            "ticks": "",
            "zerolinecolor": "white"
           }
          },
          "shapedefaults": {
           "line": {
            "color": "#2a3f5f"
           }
          },
          "ternary": {
           "aaxis": {
            "gridcolor": "white",
            "linecolor": "white",
            "ticks": ""
           },
           "baxis": {
            "gridcolor": "white",
            "linecolor": "white",
            "ticks": ""
           },
           "bgcolor": "#E5ECF6",
           "caxis": {
            "gridcolor": "white",
            "linecolor": "white",
            "ticks": ""
           }
          },
          "title": {
           "x": 0.05
          },
          "xaxis": {
           "automargin": true,
           "gridcolor": "white",
           "linecolor": "white",
           "ticks": "",
           "title": {
            "standoff": 15
           },
           "zerolinecolor": "white",
           "zerolinewidth": 2
          },
          "yaxis": {
           "automargin": true,
           "gridcolor": "white",
           "linecolor": "white",
           "ticks": "",
           "title": {
            "standoff": 15
           },
           "zerolinecolor": "white",
           "zerolinewidth": 2
          }
         }
        }
       }
      },
      "text/html": [
       "<div>                            <div id=\"e5729170-5148-4f22-aff1-696132a6edb1\" class=\"plotly-graph-div\" style=\"height:525px; width:100%;\"></div>            <script type=\"text/javascript\">                require([\"plotly\"], function(Plotly) {                    window.PLOTLYENV=window.PLOTLYENV || {};                                    if (document.getElementById(\"e5729170-5148-4f22-aff1-696132a6edb1\")) {                    Plotly.newPlot(                        \"e5729170-5148-4f22-aff1-696132a6edb1\",                        [{\"mode\": \"lines+markers\", \"name\": \"Score_train\", \"type\": \"scatter\", \"x\": [1, 2, 3, 4, 5, 6, 7, 8, 9, 10], \"y\": [0.4337579617834395, 0.4337579617834395, 0.4524416135881104, 0.47367303609341826, 0.49469214437367304, 0.5142250530785563, 0.5386411889596603, 0.5564755838641189, 0.5857749469214437, 0.610828025477707]}, {\"mode\": \"lines+markers\", \"name\": \"Score_test\", \"type\": \"scatter\", \"x\": [1, 2, 3, 4, 5, 6, 7, 8, 9, 10], \"y\": [0.45666666666666667, 0.45666666666666667, 0.4633333333333333, 0.4633333333333333, 0.4533333333333333, 0.44, 0.4766666666666667, 0.48333333333333334, 0.43666666666666665, 0.42]}],                        {\"template\": {\"data\": {\"bar\": [{\"error_x\": {\"color\": \"#2a3f5f\"}, \"error_y\": {\"color\": \"#2a3f5f\"}, \"marker\": {\"line\": {\"color\": \"#E5ECF6\", \"width\": 0.5}}, \"type\": \"bar\"}], \"barpolar\": [{\"marker\": {\"line\": {\"color\": \"#E5ECF6\", \"width\": 0.5}}, \"type\": \"barpolar\"}], \"carpet\": [{\"aaxis\": {\"endlinecolor\": \"#2a3f5f\", \"gridcolor\": \"white\", \"linecolor\": \"white\", \"minorgridcolor\": \"white\", \"startlinecolor\": \"#2a3f5f\"}, \"baxis\": {\"endlinecolor\": \"#2a3f5f\", \"gridcolor\": \"white\", \"linecolor\": \"white\", \"minorgridcolor\": \"white\", \"startlinecolor\": \"#2a3f5f\"}, \"type\": \"carpet\"}], \"choropleth\": [{\"colorbar\": {\"outlinewidth\": 0, \"ticks\": \"\"}, \"type\": \"choropleth\"}], \"contour\": [{\"colorbar\": {\"outlinewidth\": 0, \"ticks\": \"\"}, \"colorscale\": [[0.0, \"#0d0887\"], [0.1111111111111111, \"#46039f\"], [0.2222222222222222, \"#7201a8\"], [0.3333333333333333, \"#9c179e\"], [0.4444444444444444, \"#bd3786\"], [0.5555555555555556, \"#d8576b\"], [0.6666666666666666, \"#ed7953\"], [0.7777777777777778, \"#fb9f3a\"], [0.8888888888888888, \"#fdca26\"], [1.0, \"#f0f921\"]], \"type\": \"contour\"}], \"contourcarpet\": [{\"colorbar\": {\"outlinewidth\": 0, \"ticks\": \"\"}, \"type\": \"contourcarpet\"}], \"heatmap\": [{\"colorbar\": {\"outlinewidth\": 0, \"ticks\": \"\"}, \"colorscale\": [[0.0, \"#0d0887\"], [0.1111111111111111, \"#46039f\"], [0.2222222222222222, \"#7201a8\"], [0.3333333333333333, \"#9c179e\"], [0.4444444444444444, \"#bd3786\"], [0.5555555555555556, \"#d8576b\"], [0.6666666666666666, \"#ed7953\"], [0.7777777777777778, \"#fb9f3a\"], [0.8888888888888888, \"#fdca26\"], [1.0, \"#f0f921\"]], \"type\": \"heatmap\"}], \"heatmapgl\": [{\"colorbar\": {\"outlinewidth\": 0, \"ticks\": \"\"}, \"colorscale\": [[0.0, \"#0d0887\"], [0.1111111111111111, \"#46039f\"], [0.2222222222222222, \"#7201a8\"], [0.3333333333333333, \"#9c179e\"], [0.4444444444444444, \"#bd3786\"], [0.5555555555555556, \"#d8576b\"], [0.6666666666666666, \"#ed7953\"], [0.7777777777777778, \"#fb9f3a\"], [0.8888888888888888, \"#fdca26\"], [1.0, \"#f0f921\"]], \"type\": \"heatmapgl\"}], \"histogram\": [{\"marker\": {\"colorbar\": {\"outlinewidth\": 0, \"ticks\": \"\"}}, \"type\": \"histogram\"}], \"histogram2d\": [{\"colorbar\": {\"outlinewidth\": 0, \"ticks\": \"\"}, \"colorscale\": [[0.0, \"#0d0887\"], [0.1111111111111111, \"#46039f\"], [0.2222222222222222, \"#7201a8\"], [0.3333333333333333, \"#9c179e\"], [0.4444444444444444, \"#bd3786\"], [0.5555555555555556, \"#d8576b\"], [0.6666666666666666, \"#ed7953\"], [0.7777777777777778, \"#fb9f3a\"], [0.8888888888888888, \"#fdca26\"], [1.0, \"#f0f921\"]], \"type\": \"histogram2d\"}], \"histogram2dcontour\": [{\"colorbar\": {\"outlinewidth\": 0, \"ticks\": \"\"}, \"colorscale\": [[0.0, \"#0d0887\"], [0.1111111111111111, \"#46039f\"], [0.2222222222222222, \"#7201a8\"], [0.3333333333333333, \"#9c179e\"], [0.4444444444444444, \"#bd3786\"], [0.5555555555555556, \"#d8576b\"], [0.6666666666666666, \"#ed7953\"], [0.7777777777777778, \"#fb9f3a\"], [0.8888888888888888, \"#fdca26\"], [1.0, \"#f0f921\"]], \"type\": \"histogram2dcontour\"}], \"mesh3d\": [{\"colorbar\": {\"outlinewidth\": 0, \"ticks\": \"\"}, \"type\": \"mesh3d\"}], \"parcoords\": [{\"line\": {\"colorbar\": {\"outlinewidth\": 0, \"ticks\": \"\"}}, \"type\": \"parcoords\"}], \"pie\": [{\"automargin\": true, \"type\": \"pie\"}], \"scatter\": [{\"marker\": {\"colorbar\": {\"outlinewidth\": 0, \"ticks\": \"\"}}, \"type\": \"scatter\"}], \"scatter3d\": [{\"line\": {\"colorbar\": {\"outlinewidth\": 0, \"ticks\": \"\"}}, \"marker\": {\"colorbar\": {\"outlinewidth\": 0, \"ticks\": \"\"}}, \"type\": \"scatter3d\"}], \"scattercarpet\": [{\"marker\": {\"colorbar\": {\"outlinewidth\": 0, \"ticks\": \"\"}}, \"type\": \"scattercarpet\"}], \"scattergeo\": [{\"marker\": {\"colorbar\": {\"outlinewidth\": 0, \"ticks\": \"\"}}, \"type\": \"scattergeo\"}], \"scattergl\": [{\"marker\": {\"colorbar\": {\"outlinewidth\": 0, \"ticks\": \"\"}}, \"type\": \"scattergl\"}], \"scattermapbox\": [{\"marker\": {\"colorbar\": {\"outlinewidth\": 0, \"ticks\": \"\"}}, \"type\": \"scattermapbox\"}], \"scatterpolar\": [{\"marker\": {\"colorbar\": {\"outlinewidth\": 0, \"ticks\": \"\"}}, \"type\": \"scatterpolar\"}], \"scatterpolargl\": [{\"marker\": {\"colorbar\": {\"outlinewidth\": 0, \"ticks\": \"\"}}, \"type\": \"scatterpolargl\"}], \"scatterternary\": [{\"marker\": {\"colorbar\": {\"outlinewidth\": 0, \"ticks\": \"\"}}, \"type\": \"scatterternary\"}], \"surface\": [{\"colorbar\": {\"outlinewidth\": 0, \"ticks\": \"\"}, \"colorscale\": [[0.0, \"#0d0887\"], [0.1111111111111111, \"#46039f\"], [0.2222222222222222, \"#7201a8\"], [0.3333333333333333, \"#9c179e\"], [0.4444444444444444, \"#bd3786\"], [0.5555555555555556, \"#d8576b\"], [0.6666666666666666, \"#ed7953\"], [0.7777777777777778, \"#fb9f3a\"], [0.8888888888888888, \"#fdca26\"], [1.0, \"#f0f921\"]], \"type\": \"surface\"}], \"table\": [{\"cells\": {\"fill\": {\"color\": \"#EBF0F8\"}, \"line\": {\"color\": \"white\"}}, \"header\": {\"fill\": {\"color\": \"#C8D4E3\"}, \"line\": {\"color\": \"white\"}}, \"type\": \"table\"}]}, \"layout\": {\"annotationdefaults\": {\"arrowcolor\": \"#2a3f5f\", \"arrowhead\": 0, \"arrowwidth\": 1}, \"coloraxis\": {\"colorbar\": {\"outlinewidth\": 0, \"ticks\": \"\"}}, \"colorscale\": {\"diverging\": [[0, \"#8e0152\"], [0.1, \"#c51b7d\"], [0.2, \"#de77ae\"], [0.3, \"#f1b6da\"], [0.4, \"#fde0ef\"], [0.5, \"#f7f7f7\"], [0.6, \"#e6f5d0\"], [0.7, \"#b8e186\"], [0.8, \"#7fbc41\"], [0.9, \"#4d9221\"], [1, \"#276419\"]], \"sequential\": [[0.0, \"#0d0887\"], [0.1111111111111111, \"#46039f\"], [0.2222222222222222, \"#7201a8\"], [0.3333333333333333, \"#9c179e\"], [0.4444444444444444, \"#bd3786\"], [0.5555555555555556, \"#d8576b\"], [0.6666666666666666, \"#ed7953\"], [0.7777777777777778, \"#fb9f3a\"], [0.8888888888888888, \"#fdca26\"], [1.0, \"#f0f921\"]], \"sequentialminus\": [[0.0, \"#0d0887\"], [0.1111111111111111, \"#46039f\"], [0.2222222222222222, \"#7201a8\"], [0.3333333333333333, \"#9c179e\"], [0.4444444444444444, \"#bd3786\"], [0.5555555555555556, \"#d8576b\"], [0.6666666666666666, \"#ed7953\"], [0.7777777777777778, \"#fb9f3a\"], [0.8888888888888888, \"#fdca26\"], [1.0, \"#f0f921\"]]}, \"colorway\": [\"#636efa\", \"#EF553B\", \"#00cc96\", \"#ab63fa\", \"#FFA15A\", \"#19d3f3\", \"#FF6692\", \"#B6E880\", \"#FF97FF\", \"#FECB52\"], \"font\": {\"color\": \"#2a3f5f\"}, \"geo\": {\"bgcolor\": \"white\", \"lakecolor\": \"white\", \"landcolor\": \"#E5ECF6\", \"showlakes\": true, \"showland\": true, \"subunitcolor\": \"white\"}, \"hoverlabel\": {\"align\": \"left\"}, \"hovermode\": \"closest\", \"mapbox\": {\"style\": \"light\"}, \"paper_bgcolor\": \"white\", \"plot_bgcolor\": \"#E5ECF6\", \"polar\": {\"angularaxis\": {\"gridcolor\": \"white\", \"linecolor\": \"white\", \"ticks\": \"\"}, \"bgcolor\": \"#E5ECF6\", \"radialaxis\": {\"gridcolor\": \"white\", \"linecolor\": \"white\", \"ticks\": \"\"}}, \"scene\": {\"xaxis\": {\"backgroundcolor\": \"#E5ECF6\", \"gridcolor\": \"white\", \"gridwidth\": 2, \"linecolor\": \"white\", \"showbackground\": true, \"ticks\": \"\", \"zerolinecolor\": \"white\"}, \"yaxis\": {\"backgroundcolor\": \"#E5ECF6\", \"gridcolor\": \"white\", \"gridwidth\": 2, \"linecolor\": \"white\", \"showbackground\": true, \"ticks\": \"\", \"zerolinecolor\": \"white\"}, \"zaxis\": {\"backgroundcolor\": \"#E5ECF6\", \"gridcolor\": \"white\", \"gridwidth\": 2, \"linecolor\": \"white\", \"showbackground\": true, \"ticks\": \"\", \"zerolinecolor\": \"white\"}}, \"shapedefaults\": {\"line\": {\"color\": \"#2a3f5f\"}}, \"ternary\": {\"aaxis\": {\"gridcolor\": \"white\", \"linecolor\": \"white\", \"ticks\": \"\"}, \"baxis\": {\"gridcolor\": \"white\", \"linecolor\": \"white\", \"ticks\": \"\"}, \"bgcolor\": \"#E5ECF6\", \"caxis\": {\"gridcolor\": \"white\", \"linecolor\": \"white\", \"ticks\": \"\"}}, \"title\": {\"x\": 0.05}, \"xaxis\": {\"automargin\": true, \"gridcolor\": \"white\", \"linecolor\": \"white\", \"ticks\": \"\", \"title\": {\"standoff\": 15}, \"zerolinecolor\": \"white\", \"zerolinewidth\": 2}, \"yaxis\": {\"automargin\": true, \"gridcolor\": \"white\", \"linecolor\": \"white\", \"ticks\": \"\", \"title\": {\"standoff\": 15}, \"zerolinecolor\": \"white\", \"zerolinewidth\": 2}}}},                        {\"responsive\": true}                    ).then(function(){\n",
       "                            \n",
       "var gd = document.getElementById('e5729170-5148-4f22-aff1-696132a6edb1');\n",
       "var x = new MutationObserver(function (mutations, observer) {{\n",
       "        var display = window.getComputedStyle(gd).display;\n",
       "        if (!display || display === 'none') {{\n",
       "            console.log([gd, 'removed!']);\n",
       "            Plotly.purge(gd);\n",
       "            observer.disconnect();\n",
       "        }}\n",
       "}});\n",
       "\n",
       "// Listen for the removal of the full notebook cells\n",
       "var notebookContainer = gd.closest('#notebook-container');\n",
       "if (notebookContainer) {{\n",
       "    x.observe(notebookContainer, {childList: true});\n",
       "}}\n",
       "\n",
       "// Listen for the clearing of the current output cell\n",
       "var outputEl = gd.closest('.output');\n",
       "if (outputEl) {{\n",
       "    x.observe(outputEl, {childList: true});\n",
       "}}\n",
       "\n",
       "                        })                };                });            </script>        </div>"
      ]
     },
     "metadata": {},
     "output_type": "display_data"
    }
   ],
   "source": [
    "score_df=pd.DataFrame(index=lista_x, data={'Score_train':lista_strain, \n",
    "                            'Score_test':lista_stest})\n",
    "fig = go.Figure()\n",
    "fig.add_trace(go.Scatter(x=score_df.index,y=score_df['Score_train'], mode='lines+markers', name='Score_train'))\n",
    "fig.add_trace(go.Scatter(x=score_df.index,y=score_df['Score_test'], mode='lines+markers', name='Score_test'))\n",
    "fig.show()"
   ]
  },
  {
   "cell_type": "code",
   "execution_count": 48,
   "metadata": {
    "ExecuteTime": {
     "end_time": "2021-04-16T15:52:55.781486Z",
     "start_time": "2021-04-16T15:52:55.771486Z"
    }
   },
   "outputs": [],
   "source": [
    "def pinta (x,texto):\n",
    "    # Definimos tantas columnas como variables nos pasen\n",
    "    fig,ax=plt.subplots(3,len(x))\n",
    "    fig.suptitle(texto)\n",
    "    fig.set_size_inches(16,8)\n",
    "    j=0\n",
    "    for b in x:\n",
    "        _X=X_test_head[['Pred-ResultadoFT-'+str(b),'ResultadoFT','Success-'+str(b)]]\n",
    "        ax[0,j].set_title('Deep:'+str(b))\n",
    "        for a in [1,2,3]:\n",
    "            ax[a-1,0].set_ylabel('Resultado '+str(a))\n",
    "            ax[a-1,j].hist(x=_X[_X['ResultadoFT']==a]['Success-'+str(b)], color='#F2AB6D', rwidth=0.85,)\n",
    "        j+=1\n",
    "    #fig.savefig('./figura.jpg')"
   ]
  },
  {
   "cell_type": "code",
   "execution_count": 262,
   "metadata": {
    "ExecuteTime": {
     "end_time": "2021-04-16T16:56:21.201806Z",
     "start_time": "2021-04-16T16:56:17.923151Z"
    }
   },
   "outputs": [
    {
     "data": {
      "image/png": "[encoded data removed]",
      "text/plain": [
       "<Figure size 1152x576 with 24 Axes>"
      ]
     },
     "metadata": {
      "needs_background": "light"
     },
     "output_type": "display_data"
    }
   ],
   "source": [
    "pinta([2,3,4,5,6,7,8,9],'Aciertos-Fallos con borrado de 1000 H')"
   ]
  },
  {
   "cell_type": "markdown",
   "metadata": {},
   "source": [
    "Borramos 1000 victorias del de casa y usamos un profundida de arbol de 6\n"
   ]
  },
  {
   "cell_type": "markdown",
   "metadata": {},
   "source": [
    "## Matriz de confusion para los mejores: 5,6,7"
   ]
  },
  {
   "cell_type": "code",
   "execution_count": 267,
   "metadata": {
    "ExecuteTime": {
     "end_time": "2021-04-16T16:58:34.604414Z",
     "start_time": "2021-04-16T16:58:32.691295Z"
    }
   },
   "outputs": [
    {
     "name": "stdout",
     "output_type": "stream",
     "text": [
      "Jornada: 2020-09-12\n",
      "Resultados para: depth: 10 - Train: 0.5857749469214437 - Test 0.43666666666666665\n"
     ]
    }
   ],
   "source": [
    "print('Jornada: '+str(a))\n",
    "X_test_head = liga[['HomeTeam','AwayTeam','Date']][liga[\"Date1\"]>= a]\n",
    "X_test_head=X_test_head[10:]\n",
    "dt = DecisionTreeClassifier(max_depth=9, random_state=RANDOM_STATE,min_samples_leaf=5 ,min_samples_split=20)\n",
    "dt.fit(X_train,Y_train)\n",
    "score_train=dt.score(X_train, Y_train)\n",
    "score_test=dt.score(X_test, Y_test)\n",
    "print('Resultados para: depth: {} - Train: {} - Test {}'.format(x,score_train,score_test))\n",
    "# Predecimos resultado final:\n",
    "y_test_pred=pd.DataFrame(dt.predict(X_test), index=Y_test.index, columns=['Pred-ResultadoFT'])\n",
    "X_test_head = pd.concat([X_test_head, y_test_pred], axis=1)\n",
    "X_test_head = pd.concat([X_test_head, Y_test], axis=1)\n",
    "X_test_head['Success']=(X_test_head['Pred-ResultadoFT']==X_test_head['ResultadoFT']).astype(int)"
   ]
  },
  {
   "cell_type": "code",
   "execution_count": 268,
   "metadata": {
    "ExecuteTime": {
     "end_time": "2021-04-16T16:58:36.288949Z",
     "start_time": "2021-04-16T16:58:36.265950Z"
    }
   },
   "outputs": [
    {
     "data": {
      "text/plain": [
       "array([[61, 33, 27],\n",
       "       [44, 25, 21],\n",
       "       [19, 25, 45]], dtype=int64)"
      ]
     },
     "execution_count": 268,
     "metadata": {},
     "output_type": "execute_result"
    }
   ],
   "source": [
    "# Para deep 6\n",
    "confusion_matrix(Y_test, dt.predict(X_test), labels=[1.0, 2.0, 3.0])\n"
   ]
  },
  {
   "cell_type": "code",
   "execution_count": 269,
   "metadata": {
    "ExecuteTime": {
     "end_time": "2021-04-16T16:58:49.843592Z",
     "start_time": "2021-04-16T16:58:49.812591Z"
    }
   },
   "outputs": [
    {
     "name": "stdout",
     "output_type": "stream",
     "text": [
      "              precision    recall  f1-score   support\n",
      "\n",
      "           1       0.49      0.50      0.50       121\n",
      "           2       0.30      0.28      0.29        90\n",
      "           3       0.48      0.51      0.49        89\n",
      "\n",
      "    accuracy                           0.44       300\n",
      "   macro avg       0.43      0.43      0.43       300\n",
      "weighted avg       0.43      0.44      0.43       300\n",
      "\n"
     ]
    }
   ],
   "source": [
    "print(classification_report(Y_test, dt.predict(X_test), target_names=[\"1\", \"2\", \"3\"]))"
   ]
  },
  {
   "cell_type": "markdown",
   "metadata": {},
   "source": [
    "## Accuracy por jornadas"
   ]
  },
  {
   "cell_type": "code",
   "execution_count": 270,
   "metadata": {
    "ExecuteTime": {
     "end_time": "2021-04-16T16:59:32.050098Z",
     "start_time": "2021-04-16T16:59:05.843082Z"
    }
   },
   "outputs": [
    {
     "name": "stdout",
     "output_type": "stream",
     "text": [
      "Jornada: 30\n",
      "Resultados para: depth: 9 - Train: 0.5822 - Test 0.5\n",
      "Jornada: 29\n",
      "Resultados para: depth: 9 - Train: 0.5817635270541082 - Test 0.5\n",
      "Jornada: 28\n",
      "Resultados para: depth: 9 - Train: 0.5827309236947791 - Test 0.2\n",
      "Jornada: 27\n",
      "Resultados para: depth: 9 - Train: 0.5844234252364661 - Test 0.4\n",
      "Jornada: 26\n",
      "Resultados para: depth: 9 - Train: 0.581887858007261 - Test 0.5\n",
      "Jornada: 25\n",
      "Resultados para: depth: 9 - Train: 0.5790218270008084 - Test 0.5\n",
      "Jornada: 24\n",
      "Resultados para: depth: 9 - Train: 0.5809195867935993 - Test 0.4\n",
      "Jornada: 23\n",
      "Resultados para: depth: 9 - Train: 0.5785627283800243 - Test 0.5\n",
      "Jornada: 22\n",
      "Resultados para: depth: 9 - Train: 0.5892166836215667 - Test 0.3\n",
      "Jornada: 21\n",
      "Resultados para: depth: 9 - Train: 0.5898063200815494 - Test 0.4\n",
      "Jornada: 20\n",
      "Resultados para: depth: 9 - Train: 0.5840653728294177 - Test 0.7\n",
      "Jornada: 19\n",
      "Resultados para: depth: 9 - Train: 0.590937306021105 - Test 0.4\n",
      "Jornada: 18\n",
      "Resultados para: depth: 9 - Train: 0.590937306021105 - Test 0.4\n"
     ]
    }
   ],
   "source": [
    "# Vemos como se porta para las ultimas jornadas conocidas\n",
    "lista_a=[]\n",
    "lista_x=[]\n",
    "lista_strain=[]\n",
    "lista_stest=[]\n",
    "resultados=[]\n",
    "for a in jornadas:   \n",
    "    dias_jornada=jornadas[a]\n",
    "    X_test = liga[liga[\"Date1\"].isin(dias_jornada)].drop(variables_borrar, axis = 1)\n",
    "    X_train = liga[liga['Date1']< jornadas[a][0]].drop(variables_borrar, axis = 1)\n",
    "    Y_test = liga[liga[\"Date1\"].isin(dias_jornada)]['ResultadoFT']\n",
    "    Y_train = liga[liga['Date1']< jornadas[a][0]]['ResultadoFT']\n",
    "    X_test_head = liga[['HomeTeam','AwayTeam','Date']][liga[\"Date1\"].isin(dias_jornada)]\n",
    "    X_test_head['Jornada']=a\n",
    "    \n",
    "    # Solo las 4000 primeras filas\n",
    "    #X_train=X_train[0:4000]\n",
    "    #Y_train=Y_train[0:4000]\n",
    "    \n",
    "    print('Jornada: '+str(a))\n",
    "    for x in [9]:\n",
    "        dt = DecisionTreeClassifier(max_depth=x, random_state=RANDOM_STATE,min_samples_leaf=5 ,min_samples_split=20)\n",
    "        dt.fit(X_train,Y_train)\n",
    "        score_train=dt.score(X_train, Y_train)\n",
    "        score_test=dt.score(X_test, Y_test)\n",
    "        print('Resultados para: depth: {} - Train: {} - Test {}'.format(x,score_train,score_test))\n",
    "        lista_a.append(a)\n",
    "        lista_x.append(x)\n",
    "        lista_strain.append(score_train)\n",
    "        lista_stest.append(score_test)\n",
    "        # Predecimos resultado final:\n",
    "        y_test_pred=pd.DataFrame(dt.predict(X_test), index=Y_test.index, columns=['Pred-ResultadoFT-'+str(x)])\n",
    "        X_test_head = pd.concat([X_test_head, y_test_pred], axis=1)\n",
    "\n"
   ]
  },
  {
   "cell_type": "code",
   "execution_count": 271,
   "metadata": {
    "ExecuteTime": {
     "end_time": "2021-04-16T16:59:35.425035Z",
     "start_time": "2021-04-16T16:59:35.406043Z"
    }
   },
   "outputs": [
    {
     "data": {
      "application/vnd.plotly.v1+json": {
       "config": {
        "plotlyServerURL": "https://plot.ly"
       },
       "data": [
        {
         "mode": "lines+markers",
         "name": "Score_test",
         "type": "scatter",
         "x": [
          30,
          29,
          28,
          27,
          26,
          25,
          24,
          23,
          22,
          21,
          20,
          19,
          18
         ],
         "y": [
          0.5,
          0.5,
          0.2,
          0.4,
          0.5,
          0.5,
          0.4,
          0.5,
          0.3,
          0.4,
          0.7,
          0.4,
          0.4
         ]
        }
       ],
       "layout": {
        "template": {
         "data": {
          "bar": [
           {
            "error_x": {
             "color": "#2a3f5f"
            },
            "error_y": {
             "color": "#2a3f5f"
            },
            "marker": {
             "line": {
              "color": "#E5ECF6",
              "width": 0.5
             }
            },
            "type": "bar"
           }
          ],
          "barpolar": [
           {
            "marker": {
             "line": {
              "color": "#E5ECF6",
              "width": 0.5
             }
            },
            "type": "barpolar"
           }
          ],
          "carpet": [
           {
            "aaxis": {
             "endlinecolor": "#2a3f5f",
             "gridcolor": "white",
             "linecolor": "white",
             "minorgridcolor": "white",
             "startlinecolor": "#2a3f5f"
            },
            "baxis": {
             "endlinecolor": "#2a3f5f",
             "gridcolor": "white",
             "linecolor": "white",
             "minorgridcolor": "white",
             "startlinecolor": "#2a3f5f"
            },
            "type": "carpet"
           }
          ],
          "choropleth": [
           {
            "colorbar": {
             "outlinewidth": 0,
             "ticks": ""
            },
            "type": "choropleth"
           }
          ],
          "contour": [
           {
            "colorbar": {
             "outlinewidth": 0,
             "ticks": ""
            },
            "colorscale": [
             [
              0,
              "#0d0887"
             ],
             [
              0.1111111111111111,
              "#46039f"
             ],
             [
              0.2222222222222222,
              "#7201a8"
             ],
             [
              0.3333333333333333,
              "#9c179e"
             ],
             [
              0.4444444444444444,
              "#bd3786"
             ],
             [
              0.5555555555555556,
              "#d8576b"
             ],
             [
              0.6666666666666666,
              "#ed7953"
             ],
             [
              0.7777777777777778,
              "#fb9f3a"
             ],
             [
              0.8888888888888888,
              "#fdca26"
             ],
             [
              1,
              "#f0f921"
             ]
            ],
            "type": "contour"
           }
          ],
          "contourcarpet": [
           {
            "colorbar": {
             "outlinewidth": 0,
             "ticks": ""
            },
            "type": "contourcarpet"
           }
          ],
          "heatmap": [
           {
            "colorbar": {
             "outlinewidth": 0,
             "ticks": ""
            },
            "colorscale": [
             [
              0,
              "#0d0887"
             ],
             [
              0.1111111111111111,
              "#46039f"
             ],
             [
              0.2222222222222222,
              "#7201a8"
             ],
             [
              0.3333333333333333,
              "#9c179e"
             ],
             [
              0.4444444444444444,
              "#bd3786"
             ],
             [
              0.5555555555555556,
              "#d8576b"
             ],
             [
              0.6666666666666666,
              "#ed7953"
             ],
             [
              0.7777777777777778,
              "#fb9f3a"
             ],
             [
              0.8888888888888888,
              "#fdca26"
             ],
             [
              1,
              "#f0f921"
             ]
            ],
            "type": "heatmap"
           }
          ],
          "heatmapgl": [
           {
            "colorbar": {
             "outlinewidth": 0,
             "ticks": ""
            },
            "colorscale": [
             [
              0,
              "#0d0887"
             ],
             [
              0.1111111111111111,
              "#46039f"
             ],
             [
              0.2222222222222222,
              "#7201a8"
             ],
             [
              0.3333333333333333,
              "#9c179e"
             ],
             [
              0.4444444444444444,
              "#bd3786"
             ],
             [
              0.5555555555555556,
              "#d8576b"
             ],
             [
              0.6666666666666666,
              "#ed7953"
             ],
             [
              0.7777777777777778,
              "#fb9f3a"
             ],
             [
              0.8888888888888888,
              "#fdca26"
             ],
             [
              1,
              "#f0f921"
             ]
            ],
            "type": "heatmapgl"
           }
          ],
          "histogram": [
           {
            "marker": {
             "colorbar": {
              "outlinewidth": 0,
              "ticks": ""
             }
            },
            "type": "histogram"
           }
          ],
          "histogram2d": [
           {
            "colorbar": {
             "outlinewidth": 0,
             "ticks": ""
            },
            "colorscale": [
             [
              0,
              "#0d0887"
             ],
             [
              0.1111111111111111,
              "#46039f"
             ],
             [
              0.2222222222222222,
              "#7201a8"
             ],
             [
              0.3333333333333333,
              "#9c179e"
             ],
             [
              0.4444444444444444,
              "#bd3786"
             ],
             [
              0.5555555555555556,
              "#d8576b"
             ],
             [
              0.6666666666666666,
              "#ed7953"
             ],
             [
              0.7777777777777778,
              "#fb9f3a"
             ],
             [
              0.8888888888888888,
              "#fdca26"
             ],
             [
              1,
              "#f0f921"
             ]
            ],
            "type": "histogram2d"
           }
          ],
          "histogram2dcontour": [
           {
            "colorbar": {
             "outlinewidth": 0,
             "ticks": ""
            },
            "colorscale": [
             [
              0,
              "#0d0887"
             ],
             [
              0.1111111111111111,
              "#46039f"
             ],
             [
              0.2222222222222222,
              "#7201a8"
             ],
             [
              0.3333333333333333,
              "#9c179e"
             ],
             [
              0.4444444444444444,
              "#bd3786"
             ],
             [
              0.5555555555555556,
              "#d8576b"
             ],
             [
              0.6666666666666666,
              "#ed7953"
             ],
             [
              0.7777777777777778,
              "#fb9f3a"
             ],
             [
              0.8888888888888888,
              "#fdca26"
             ],
             [
              1,
              "#f0f921"
             ]
            ],
            "type": "histogram2dcontour"
           }
          ],
          "mesh3d": [
           {
            "colorbar": {
             "outlinewidth": 0,
             "ticks": ""
            },
            "type": "mesh3d"
           }
          ],
          "parcoords": [
           {
            "line": {
             "colorbar": {
              "outlinewidth": 0,
              "ticks": ""
             }
            },
            "type": "parcoords"
           }
          ],
          "pie": [
           {
            "automargin": true,
            "type": "pie"
           }
          ],
          "scatter": [
           {
            "marker": {
             "colorbar": {
              "outlinewidth": 0,
              "ticks": ""
             }
            },
            "type": "scatter"
           }
          ],
          "scatter3d": [
           {
            "line": {
             "colorbar": {
              "outlinewidth": 0,
              "ticks": ""
             }
            },
            "marker": {
             "colorbar": {
              "outlinewidth": 0,
              "ticks": ""
             }
            },
            "type": "scatter3d"
           }
          ],
          "scattercarpet": [
           {
            "marker": {
             "colorbar": {
              "outlinewidth": 0,
              "ticks": ""
             }
            },
            "type": "scattercarpet"
           }
          ],
          "scattergeo": [
           {
            "marker": {
             "colorbar": {
              "outlinewidth": 0,
              "ticks": ""
             }
            },
            "type": "scattergeo"
           }
          ],
          "scattergl": [
           {
            "marker": {
             "colorbar": {
              "outlinewidth": 0,
              "ticks": ""
             }
            },
            "type": "scattergl"
           }
          ],
          "scattermapbox": [
           {
            "marker": {
             "colorbar": {
              "outlinewidth": 0,
              "ticks": ""
             }
            },
            "type": "scattermapbox"
           }
          ],
          "scatterpolar": [
           {
            "marker": {
             "colorbar": {
              "outlinewidth": 0,
              "ticks": ""
             }
            },
            "type": "scatterpolar"
           }
          ],
          "scatterpolargl": [
           {
            "marker": {
             "colorbar": {
              "outlinewidth": 0,
              "ticks": ""
             }
            },
            "type": "scatterpolargl"
           }
          ],
          "scatterternary": [
           {
            "marker": {
             "colorbar": {
              "outlinewidth": 0,
              "ticks": ""
             }
            },
            "type": "scatterternary"
           }
          ],
          "surface": [
           {
            "colorbar": {
             "outlinewidth": 0,
             "ticks": ""
            },
            "colorscale": [
             [
              0,
              "#0d0887"
             ],
             [
              0.1111111111111111,
              "#46039f"
             ],
             [
              0.2222222222222222,
              "#7201a8"
             ],
             [
              0.3333333333333333,
              "#9c179e"
             ],
             [
              0.4444444444444444,
              "#bd3786"
             ],
             [
              0.5555555555555556,
              "#d8576b"
             ],
             [
              0.6666666666666666,
              "#ed7953"
             ],
             [
              0.7777777777777778,
              "#fb9f3a"
             ],
             [
              0.8888888888888888,
              "#fdca26"
             ],
             [
              1,
              "#f0f921"
             ]
            ],
            "type": "surface"
           }
          ],
          "table": [
           {
            "cells": {
             "fill": {
              "color": "#EBF0F8"
             },
             "line": {
              "color": "white"
             }
            },
            "header": {
             "fill": {
              "color": "#C8D4E3"
             },
             "line": {
              "color": "white"
             }
            },
            "type": "table"
           }
          ]
         },
         "layout": {
          "annotationdefaults": {
           "arrowcolor": "#2a3f5f",
           "arrowhead": 0,
           "arrowwidth": 1
          },
          "coloraxis": {
           "colorbar": {
            "outlinewidth": 0,
            "ticks": ""
           }
          },
          "colorscale": {
           "diverging": [
            [
             0,
             "#8e0152"
            ],
            [
             0.1,
             "#c51b7d"
            ],
            [
             0.2,
             "#de77ae"
            ],
            [
             0.3,
             "#f1b6da"
            ],
            [
             0.4,
             "#fde0ef"
            ],
            [
             0.5,
             "#f7f7f7"
            ],
            [
             0.6,
             "#e6f5d0"
            ],
            [
             0.7,
             "#b8e186"
            ],
            [
             0.8,
             "#7fbc41"
            ],
            [
             0.9,
             "#4d9221"
            ],
            [
             1,
             "#276419"
            ]
           ],
           "sequential": [
            [
             0,
             "#0d0887"
            ],
            [
             0.1111111111111111,
             "#46039f"
            ],
            [
             0.2222222222222222,
             "#7201a8"
            ],
            [
             0.3333333333333333,
             "#9c179e"
            ],
            [
             0.4444444444444444,
             "#bd3786"
            ],
            [
             0.5555555555555556,
             "#d8576b"
            ],
            [
             0.6666666666666666,
             "#ed7953"
            ],
            [
             0.7777777777777778,
             "#fb9f3a"
            ],
            [
             0.8888888888888888,
             "#fdca26"
            ],
            [
             1,
             "#f0f921"
            ]
           ],
           "sequentialminus": [
            [
             0,
             "#0d0887"
            ],
            [
             0.1111111111111111,
             "#46039f"
            ],
            [
             0.2222222222222222,
             "#7201a8"
            ],
            [
             0.3333333333333333,
             "#9c179e"
            ],
            [
             0.4444444444444444,
             "#bd3786"
            ],
            [
             0.5555555555555556,
             "#d8576b"
            ],
            [
             0.6666666666666666,
             "#ed7953"
            ],
            [
             0.7777777777777778,
             "#fb9f3a"
            ],
            [
             0.8888888888888888,
             "#fdca26"
            ],
            [
             1,
             "#f0f921"
            ]
           ]
          },
          "colorway": [
           "#636efa",
           "#EF553B",
           "#00cc96",
           "#ab63fa",
           "#FFA15A",
           "#19d3f3",
           "#FF6692",
           "#B6E880",
           "#FF97FF",
           "#FECB52"
          ],
          "font": {
           "color": "#2a3f5f"
          },
          "geo": {
           "bgcolor": "white",
           "lakecolor": "white",
           "landcolor": "#E5ECF6",
           "showlakes": true,
           "showland": true,
           "subunitcolor": "white"
          },
          "hoverlabel": {
           "align": "left"
          },
          "hovermode": "closest",
          "mapbox": {
           "style": "light"
          },
          "paper_bgcolor": "white",
          "plot_bgcolor": "#E5ECF6",
          "polar": {
           "angularaxis": {
            "gridcolor": "white",
            "linecolor": "white",
            "ticks": ""
           },
           "bgcolor": "#E5ECF6",
           "radialaxis": {
            "gridcolor": "white",
            "linecolor": "white",
            "ticks": ""
           }
          },
          "scene": {
           "xaxis": {
            "backgroundcolor": "#E5ECF6",
            "gridcolor": "white",
            "gridwidth": 2,
            "linecolor": "white",
            "showbackground": true,
            "ticks": "",
            "zerolinecolor": "white"
           },
           "yaxis": {
            "backgroundcolor": "#E5ECF6",
            "gridcolor": "white",
            "gridwidth": 2,
            "linecolor": "white",
            "showbackground": true,
            "ticks": "",
            "zerolinecolor": "white"
           },
           "zaxis": {
            "backgroundcolor": "#E5ECF6",
            "gridcolor": "white",
            "gridwidth": 2,
            "linecolor": "white",
            "showbackground": true,
            "ticks": "",
            "zerolinecolor": "white"
           }
          },
          "shapedefaults": {
           "line": {
            "color": "#2a3f5f"
           }
          },
          "ternary": {
           "aaxis": {
            "gridcolor": "white",
            "linecolor": "white",
            "ticks": ""
           },
           "baxis": {
            "gridcolor": "white",
            "linecolor": "white",
            "ticks": ""
           },
           "bgcolor": "#E5ECF6",
           "caxis": {
            "gridcolor": "white",
            "linecolor": "white",
            "ticks": ""
           }
          },
          "title": {
           "x": 0.05
          },
          "xaxis": {
           "automargin": true,
           "gridcolor": "white",
           "linecolor": "white",
           "ticks": "",
           "title": {
            "standoff": 15
           },
           "zerolinecolor": "white",
           "zerolinewidth": 2
          },
          "yaxis": {
           "automargin": true,
           "gridcolor": "white",
           "linecolor": "white",
           "ticks": "",
           "title": {
            "standoff": 15
           },
           "zerolinecolor": "white",
           "zerolinewidth": 2
          }
         }
        }
       }
      },
      "text/html": [
       "<div>                            <div id=\"4e86e5bd-13d9-4b99-be1c-cddf003c422b\" class=\"plotly-graph-div\" style=\"height:525px; width:100%;\"></div>            <script type=\"text/javascript\">                require([\"plotly\"], function(Plotly) {                    window.PLOTLYENV=window.PLOTLYENV || {};                                    if (document.getElementById(\"4e86e5bd-13d9-4b99-be1c-cddf003c422b\")) {                    Plotly.newPlot(                        \"4e86e5bd-13d9-4b99-be1c-cddf003c422b\",                        [{\"mode\": \"lines+markers\", \"name\": \"Score_test\", \"type\": \"scatter\", \"x\": [30, 29, 28, 27, 26, 25, 24, 23, 22, 21, 20, 19, 18], \"y\": [0.5, 0.5, 0.2, 0.4, 0.5, 0.5, 0.4, 0.5, 0.3, 0.4, 0.7, 0.4, 0.4]}],                        {\"template\": {\"data\": {\"bar\": [{\"error_x\": {\"color\": \"#2a3f5f\"}, \"error_y\": {\"color\": \"#2a3f5f\"}, \"marker\": {\"line\": {\"color\": \"#E5ECF6\", \"width\": 0.5}}, \"type\": \"bar\"}], \"barpolar\": [{\"marker\": {\"line\": {\"color\": \"#E5ECF6\", \"width\": 0.5}}, \"type\": \"barpolar\"}], \"carpet\": [{\"aaxis\": {\"endlinecolor\": \"#2a3f5f\", \"gridcolor\": \"white\", \"linecolor\": \"white\", \"minorgridcolor\": \"white\", \"startlinecolor\": \"#2a3f5f\"}, \"baxis\": {\"endlinecolor\": \"#2a3f5f\", \"gridcolor\": \"white\", \"linecolor\": \"white\", \"minorgridcolor\": \"white\", \"startlinecolor\": \"#2a3f5f\"}, \"type\": \"carpet\"}], \"choropleth\": [{\"colorbar\": {\"outlinewidth\": 0, \"ticks\": \"\"}, \"type\": \"choropleth\"}], \"contour\": [{\"colorbar\": {\"outlinewidth\": 0, \"ticks\": \"\"}, \"colorscale\": [[0.0, \"#0d0887\"], [0.1111111111111111, \"#46039f\"], [0.2222222222222222, \"#7201a8\"], [0.3333333333333333, \"#9c179e\"], [0.4444444444444444, \"#bd3786\"], [0.5555555555555556, \"#d8576b\"], [0.6666666666666666, \"#ed7953\"], [0.7777777777777778, \"#fb9f3a\"], [0.8888888888888888, \"#fdca26\"], [1.0, \"#f0f921\"]], \"type\": \"contour\"}], \"contourcarpet\": [{\"colorbar\": {\"outlinewidth\": 0, \"ticks\": \"\"}, \"type\": \"contourcarpet\"}], \"heatmap\": [{\"colorbar\": {\"outlinewidth\": 0, \"ticks\": \"\"}, \"colorscale\": [[0.0, \"#0d0887\"], [0.1111111111111111, \"#46039f\"], [0.2222222222222222, \"#7201a8\"], [0.3333333333333333, \"#9c179e\"], [0.4444444444444444, \"#bd3786\"], [0.5555555555555556, \"#d8576b\"], [0.6666666666666666, \"#ed7953\"], [0.7777777777777778, \"#fb9f3a\"], [0.8888888888888888, \"#fdca26\"], [1.0, \"#f0f921\"]], \"type\": \"heatmap\"}], \"heatmapgl\": [{\"colorbar\": {\"outlinewidth\": 0, \"ticks\": \"\"}, \"colorscale\": [[0.0, \"#0d0887\"], [0.1111111111111111, \"#46039f\"], [0.2222222222222222, \"#7201a8\"], [0.3333333333333333, \"#9c179e\"], [0.4444444444444444, \"#bd3786\"], [0.5555555555555556, \"#d8576b\"], [0.6666666666666666, \"#ed7953\"], [0.7777777777777778, \"#fb9f3a\"], [0.8888888888888888, \"#fdca26\"], [1.0, \"#f0f921\"]], \"type\": \"heatmapgl\"}], \"histogram\": [{\"marker\": {\"colorbar\": {\"outlinewidth\": 0, \"ticks\": \"\"}}, \"type\": \"histogram\"}], \"histogram2d\": [{\"colorbar\": {\"outlinewidth\": 0, \"ticks\": \"\"}, \"colorscale\": [[0.0, \"#0d0887\"], [0.1111111111111111, \"#46039f\"], [0.2222222222222222, \"#7201a8\"], [0.3333333333333333, \"#9c179e\"], [0.4444444444444444, \"#bd3786\"], [0.5555555555555556, \"#d8576b\"], [0.6666666666666666, \"#ed7953\"], [0.7777777777777778, \"#fb9f3a\"], [0.8888888888888888, \"#fdca26\"], [1.0, \"#f0f921\"]], \"type\": \"histogram2d\"}], \"histogram2dcontour\": [{\"colorbar\": {\"outlinewidth\": 0, \"ticks\": \"\"}, \"colorscale\": [[0.0, \"#0d0887\"], [0.1111111111111111, \"#46039f\"], [0.2222222222222222, \"#7201a8\"], [0.3333333333333333, \"#9c179e\"], [0.4444444444444444, \"#bd3786\"], [0.5555555555555556, \"#d8576b\"], [0.6666666666666666, \"#ed7953\"], [0.7777777777777778, \"#fb9f3a\"], [0.8888888888888888, \"#fdca26\"], [1.0, \"#f0f921\"]], \"type\": \"histogram2dcontour\"}], \"mesh3d\": [{\"colorbar\": {\"outlinewidth\": 0, \"ticks\": \"\"}, \"type\": \"mesh3d\"}], \"parcoords\": [{\"line\": {\"colorbar\": {\"outlinewidth\": 0, \"ticks\": \"\"}}, \"type\": \"parcoords\"}], \"pie\": [{\"automargin\": true, \"type\": \"pie\"}], \"scatter\": [{\"marker\": {\"colorbar\": {\"outlinewidth\": 0, \"ticks\": \"\"}}, \"type\": \"scatter\"}], \"scatter3d\": [{\"line\": {\"colorbar\": {\"outlinewidth\": 0, \"ticks\": \"\"}}, \"marker\": {\"colorbar\": {\"outlinewidth\": 0, \"ticks\": \"\"}}, \"type\": \"scatter3d\"}], \"scattercarpet\": [{\"marker\": {\"colorbar\": {\"outlinewidth\": 0, \"ticks\": \"\"}}, \"type\": \"scattercarpet\"}], \"scattergeo\": [{\"marker\": {\"colorbar\": {\"outlinewidth\": 0, \"ticks\": \"\"}}, \"type\": \"scattergeo\"}], \"scattergl\": [{\"marker\": {\"colorbar\": {\"outlinewidth\": 0, \"ticks\": \"\"}}, \"type\": \"scattergl\"}], \"scattermapbox\": [{\"marker\": {\"colorbar\": {\"outlinewidth\": 0, \"ticks\": \"\"}}, \"type\": \"scattermapbox\"}], \"scatterpolar\": [{\"marker\": {\"colorbar\": {\"outlinewidth\": 0, \"ticks\": \"\"}}, \"type\": \"scatterpolar\"}], \"scatterpolargl\": [{\"marker\": {\"colorbar\": {\"outlinewidth\": 0, \"ticks\": \"\"}}, \"type\": \"scatterpolargl\"}], \"scatterternary\": [{\"marker\": {\"colorbar\": {\"outlinewidth\": 0, \"ticks\": \"\"}}, \"type\": \"scatterternary\"}], \"surface\": [{\"colorbar\": {\"outlinewidth\": 0, \"ticks\": \"\"}, \"colorscale\": [[0.0, \"#0d0887\"], [0.1111111111111111, \"#46039f\"], [0.2222222222222222, \"#7201a8\"], [0.3333333333333333, \"#9c179e\"], [0.4444444444444444, \"#bd3786\"], [0.5555555555555556, \"#d8576b\"], [0.6666666666666666, \"#ed7953\"], [0.7777777777777778, \"#fb9f3a\"], [0.8888888888888888, \"#fdca26\"], [1.0, \"#f0f921\"]], \"type\": \"surface\"}], \"table\": [{\"cells\": {\"fill\": {\"color\": \"#EBF0F8\"}, \"line\": {\"color\": \"white\"}}, \"header\": {\"fill\": {\"color\": \"#C8D4E3\"}, \"line\": {\"color\": \"white\"}}, \"type\": \"table\"}]}, \"layout\": {\"annotationdefaults\": {\"arrowcolor\": \"#2a3f5f\", \"arrowhead\": 0, \"arrowwidth\": 1}, \"coloraxis\": {\"colorbar\": {\"outlinewidth\": 0, \"ticks\": \"\"}}, \"colorscale\": {\"diverging\": [[0, \"#8e0152\"], [0.1, \"#c51b7d\"], [0.2, \"#de77ae\"], [0.3, \"#f1b6da\"], [0.4, \"#fde0ef\"], [0.5, \"#f7f7f7\"], [0.6, \"#e6f5d0\"], [0.7, \"#b8e186\"], [0.8, \"#7fbc41\"], [0.9, \"#4d9221\"], [1, \"#276419\"]], \"sequential\": [[0.0, \"#0d0887\"], [0.1111111111111111, \"#46039f\"], [0.2222222222222222, \"#7201a8\"], [0.3333333333333333, \"#9c179e\"], [0.4444444444444444, \"#bd3786\"], [0.5555555555555556, \"#d8576b\"], [0.6666666666666666, \"#ed7953\"], [0.7777777777777778, \"#fb9f3a\"], [0.8888888888888888, \"#fdca26\"], [1.0, \"#f0f921\"]], \"sequentialminus\": [[0.0, \"#0d0887\"], [0.1111111111111111, \"#46039f\"], [0.2222222222222222, \"#7201a8\"], [0.3333333333333333, \"#9c179e\"], [0.4444444444444444, \"#bd3786\"], [0.5555555555555556, \"#d8576b\"], [0.6666666666666666, \"#ed7953\"], [0.7777777777777778, \"#fb9f3a\"], [0.8888888888888888, \"#fdca26\"], [1.0, \"#f0f921\"]]}, \"colorway\": [\"#636efa\", \"#EF553B\", \"#00cc96\", \"#ab63fa\", \"#FFA15A\", \"#19d3f3\", \"#FF6692\", \"#B6E880\", \"#FF97FF\", \"#FECB52\"], \"font\": {\"color\": \"#2a3f5f\"}, \"geo\": {\"bgcolor\": \"white\", \"lakecolor\": \"white\", \"landcolor\": \"#E5ECF6\", \"showlakes\": true, \"showland\": true, \"subunitcolor\": \"white\"}, \"hoverlabel\": {\"align\": \"left\"}, \"hovermode\": \"closest\", \"mapbox\": {\"style\": \"light\"}, \"paper_bgcolor\": \"white\", \"plot_bgcolor\": \"#E5ECF6\", \"polar\": {\"angularaxis\": {\"gridcolor\": \"white\", \"linecolor\": \"white\", \"ticks\": \"\"}, \"bgcolor\": \"#E5ECF6\", \"radialaxis\": {\"gridcolor\": \"white\", \"linecolor\": \"white\", \"ticks\": \"\"}}, \"scene\": {\"xaxis\": {\"backgroundcolor\": \"#E5ECF6\", \"gridcolor\": \"white\", \"gridwidth\": 2, \"linecolor\": \"white\", \"showbackground\": true, \"ticks\": \"\", \"zerolinecolor\": \"white\"}, \"yaxis\": {\"backgroundcolor\": \"#E5ECF6\", \"gridcolor\": \"white\", \"gridwidth\": 2, \"linecolor\": \"white\", \"showbackground\": true, \"ticks\": \"\", \"zerolinecolor\": \"white\"}, \"zaxis\": {\"backgroundcolor\": \"#E5ECF6\", \"gridcolor\": \"white\", \"gridwidth\": 2, \"linecolor\": \"white\", \"showbackground\": true, \"ticks\": \"\", \"zerolinecolor\": \"white\"}}, \"shapedefaults\": {\"line\": {\"color\": \"#2a3f5f\"}}, \"ternary\": {\"aaxis\": {\"gridcolor\": \"white\", \"linecolor\": \"white\", \"ticks\": \"\"}, \"baxis\": {\"gridcolor\": \"white\", \"linecolor\": \"white\", \"ticks\": \"\"}, \"bgcolor\": \"#E5ECF6\", \"caxis\": {\"gridcolor\": \"white\", \"linecolor\": \"white\", \"ticks\": \"\"}}, \"title\": {\"x\": 0.05}, \"xaxis\": {\"automargin\": true, \"gridcolor\": \"white\", \"linecolor\": \"white\", \"ticks\": \"\", \"title\": {\"standoff\": 15}, \"zerolinecolor\": \"white\", \"zerolinewidth\": 2}, \"yaxis\": {\"automargin\": true, \"gridcolor\": \"white\", \"linecolor\": \"white\", \"ticks\": \"\", \"title\": {\"standoff\": 15}, \"zerolinecolor\": \"white\", \"zerolinewidth\": 2}}}},                        {\"responsive\": true}                    ).then(function(){\n",
       "                            \n",
       "var gd = document.getElementById('4e86e5bd-13d9-4b99-be1c-cddf003c422b');\n",
       "var x = new MutationObserver(function (mutations, observer) {{\n",
       "        var display = window.getComputedStyle(gd).display;\n",
       "        if (!display || display === 'none') {{\n",
       "            console.log([gd, 'removed!']);\n",
       "            Plotly.purge(gd);\n",
       "            observer.disconnect();\n",
       "        }}\n",
       "}});\n",
       "\n",
       "// Listen for the removal of the full notebook cells\n",
       "var notebookContainer = gd.closest('#notebook-container');\n",
       "if (notebookContainer) {{\n",
       "    x.observe(notebookContainer, {childList: true});\n",
       "}}\n",
       "\n",
       "// Listen for the clearing of the current output cell\n",
       "var outputEl = gd.closest('.output');\n",
       "if (outputEl) {{\n",
       "    x.observe(outputEl, {childList: true});\n",
       "}}\n",
       "\n",
       "                        })                };                });            </script>        </div>"
      ]
     },
     "metadata": {},
     "output_type": "display_data"
    }
   ],
   "source": [
    "score_df=pd.DataFrame(index=lista_x, data={'Jornada':lista_a, \n",
    "                            'Score_test':lista_stest})\n",
    "fig = go.Figure()\n",
    "fig.add_trace(go.Scatter(x=score_df['Jornada'],y=score_df['Score_test'], mode='lines+markers', name='Score_test'))\n",
    "fig.show()"
   ]
  },
  {
   "cell_type": "code",
   "execution_count": 109,
   "metadata": {
    "ExecuteTime": {
     "end_time": "2021-04-16T16:05:50.637252Z",
     "start_time": "2021-04-16T16:05:50.631253Z"
    }
   },
   "outputs": [],
   "source": [
    "top_features = pd.Series(dt.feature_importances_, index=X_train.columns).sort_values(ascending=False).head(60)"
   ]
  },
  {
   "cell_type": "code",
   "execution_count": 110,
   "metadata": {
    "ExecuteTime": {
     "end_time": "2021-04-16T16:05:51.547861Z",
     "start_time": "2021-04-16T16:05:51.538862Z"
    }
   },
   "outputs": [
    {
     "data": {
      "text/plain": [
       "F2F-H-VCA-1                      0.221740\n",
       "ATM-WHH-2                        0.138525\n",
       "HomeTeamCode                     0.062698\n",
       "F2F-H-IWA-1                      0.046719\n",
       "AwayTeamCode                     0.030613\n",
       "F2F-H-WHA-3                      0.020240\n",
       "ATM-AY-3                         0.020032\n",
       "HTM-HS-3                         0.017298\n",
       "F2F-H-B365A-1                    0.016712\n",
       "HTM-AwayTeamCode-7               0.016379\n",
       "HTM-AF-3                         0.016000\n",
       "HTM-IWH-3                        0.015124\n",
       "HTM-HS-1                         0.014750\n",
       "F2F-H-BWH-6                      0.014685\n",
       "ATM-deltaPuntosAwayTeam-3        0.014639\n",
       "HTM-BWD-9                        0.014436\n",
       "ATM-IWH-9                        0.014403\n",
       "ATM-DayWeek_Code-2               0.014294\n",
       "HTM-WHA-5                        0.014161\n",
       "HTM-Month-5                      0.013584\n",
       "HTM-IWD-10                       0.013498\n",
       "ATM-HF-8                         0.013200\n",
       "ATM-AF-7                         0.012878\n",
       "F2F-H-deltaFTAG-6                0.012782\n",
       "HTM-WHD-4                        0.012675\n",
       "HTM-PuntosHomeTeam-10            0.012666\n",
       "HTM-HTAG-4                       0.012649\n",
       "F2F-H-Day-1                      0.012268\n",
       "HTM-HC-8                         0.012235\n",
       "ATM-AY-7                         0.011987\n",
       "ATM-HST-6                        0.011918\n",
       "F2F-H-PuntosHomeTeam-1           0.011701\n",
       "ATM-HS-9                         0.011627\n",
       "HTM-HTAG-9                       0.011608\n",
       "ATM-Month-9                      0.011127\n",
       "ATM-HY-8                         0.010990\n",
       "F2F-H-resultadoGolesFT_Code-6    0.009834\n",
       "HTM-WHH-3                        0.009806\n",
       "ATM-HF-10                        0.009466\n",
       "HTM-deltaPuntosHomeTeam-4        0.009139\n",
       "HTM-deltaFTHG-10                 0.007487\n",
       "F2F-H-PuntosHomeTeam-4           0.006881\n",
       "ATM-HomeTeamCode-8               0.005996\n",
       "ATM-AST-10                       0.005453\n",
       "ATM-AY-10                        0.003096\n",
       "HTM-Year-4                       0.000000\n",
       "HTM-Year-3                       0.000000\n",
       "HTM-Year-2                       0.000000\n",
       "HTM-Year-5                       0.000000\n",
       "HTM-DayWeek_Code-9               0.000000\n",
       "HTM-DayWeek_Code-10              0.000000\n",
       "HTM-Year-1                       0.000000\n",
       "HTM-DayWeek_Code-8               0.000000\n",
       "HTM-Temporada_Code-1             0.000000\n",
       "HTM-Year-7                       0.000000\n",
       "HTM-Year-6                       0.000000\n",
       "HTM-DayWeek_Code-7               0.000000\n",
       "HTM-Year-8                       0.000000\n",
       "HTM-DayWeek_Code-6               0.000000\n",
       "HTM-Year-9                       0.000000\n",
       "dtype: float64"
      ]
     },
     "execution_count": 110,
     "metadata": {},
     "output_type": "execute_result"
    }
   ],
   "source": [
    "top_features"
   ]
  },
  {
   "cell_type": "markdown",
   "metadata": {},
   "source": [
    "## Ensemble"
   ]
  },
  {
   "cell_type": "code",
   "execution_count": 230,
   "metadata": {
    "ExecuteTime": {
     "end_time": "2021-03-31T17:05:14.730511Z",
     "start_time": "2021-03-31T17:03:24.353181Z"
    }
   },
   "outputs": [
    {
     "name": "stderr",
     "output_type": "stream",
     "text": [
      "C:\\ProgramData\\Anaconda3\\lib\\site-packages\\xgboost\\sklearn.py:888: UserWarning: The use of label encoder in XGBClassifier is deprecated and will be removed in a future release. To remove this warning, do the following: 1) Pass option use_label_encoder=False when constructing XGBClassifier object; and 2) Encode your labels (y) as integers starting with 0, i.e. 0, 1, 2, ..., [num_class - 1].\n",
      "  warnings.warn(label_encoder_deprecation_msg, UserWarning)\n"
     ]
    },
    {
     "name": "stdout",
     "output_type": "stream",
     "text": [
      "[19:03:24] WARNING: C:/Users/Administrator/workspace/xgboost-win64_release_1.3.0/src/learner.cc:1061: Starting in XGBoost 1.3.0, the default evaluation metric used with the objective 'multi:softprob' was changed from 'merror' to 'mlogloss'. Explicitly set eval_metric if you'd like to restore the old behavior.\n",
      "n_stimators: 1. Train: 0.5990740740740741 - Test: 0.38571428571428573\n",
      "[19:03:25] WARNING: C:/Users/Administrator/workspace/xgboost-win64_release_1.3.0/src/learner.cc:1061: Starting in XGBoost 1.3.0, the default evaluation metric used with the objective 'multi:softprob' was changed from 'merror' to 'mlogloss'. Explicitly set eval_metric if you'd like to restore the old behavior.\n",
      "n_stimators: 2. Train: 0.6583333333333333 - Test: 0.4035714285714286\n",
      "[19:03:25] WARNING: C:/Users/Administrator/workspace/xgboost-win64_release_1.3.0/src/learner.cc:1061: Starting in XGBoost 1.3.0, the default evaluation metric used with the objective 'multi:softprob' was changed from 'merror' to 'mlogloss'. Explicitly set eval_metric if you'd like to restore the old behavior.\n",
      "n_stimators: 3. Train: 0.6849537037037037 - Test: 0.41785714285714287\n",
      "[19:03:26] WARNING: C:/Users/Administrator/workspace/xgboost-win64_release_1.3.0/src/learner.cc:1061: Starting in XGBoost 1.3.0, the default evaluation metric used with the objective 'multi:softprob' was changed from 'merror' to 'mlogloss'. Explicitly set eval_metric if you'd like to restore the old behavior.\n",
      "n_stimators: 4. Train: 0.7210648148148148 - Test: 0.425\n",
      "[19:03:27] WARNING: C:/Users/Administrator/workspace/xgboost-win64_release_1.3.0/src/learner.cc:1061: Starting in XGBoost 1.3.0, the default evaluation metric used with the objective 'multi:softprob' was changed from 'merror' to 'mlogloss'. Explicitly set eval_metric if you'd like to restore the old behavior.\n",
      "n_stimators: 5. Train: 0.7618055555555555 - Test: 0.42857142857142855\n",
      "[19:03:28] WARNING: C:/Users/Administrator/workspace/xgboost-win64_release_1.3.0/src/learner.cc:1061: Starting in XGBoost 1.3.0, the default evaluation metric used with the objective 'multi:softprob' was changed from 'merror' to 'mlogloss'. Explicitly set eval_metric if you'd like to restore the old behavior.\n",
      "n_stimators: 6. Train: 0.7828703703703703 - Test: 0.42857142857142855\n",
      "[19:03:29] WARNING: C:/Users/Administrator/workspace/xgboost-win64_release_1.3.0/src/learner.cc:1061: Starting in XGBoost 1.3.0, the default evaluation metric used with the objective 'multi:softprob' was changed from 'merror' to 'mlogloss'. Explicitly set eval_metric if you'd like to restore the old behavior.\n",
      "n_stimators: 7. Train: 0.8074074074074075 - Test: 0.43214285714285716\n",
      "[19:03:30] WARNING: C:/Users/Administrator/workspace/xgboost-win64_release_1.3.0/src/learner.cc:1061: Starting in XGBoost 1.3.0, the default evaluation metric used with the objective 'multi:softprob' was changed from 'merror' to 'mlogloss'. Explicitly set eval_metric if you'd like to restore the old behavior.\n",
      "n_stimators: 8. Train: 0.8340277777777778 - Test: 0.44285714285714284\n",
      "[19:03:31] WARNING: C:/Users/Administrator/workspace/xgboost-win64_release_1.3.0/src/learner.cc:1061: Starting in XGBoost 1.3.0, the default evaluation metric used with the objective 'multi:softprob' was changed from 'merror' to 'mlogloss'. Explicitly set eval_metric if you'd like to restore the old behavior.\n",
      "n_stimators: 9. Train: 0.8476851851851852 - Test: 0.42857142857142855\n",
      "[19:03:32] WARNING: C:/Users/Administrator/workspace/xgboost-win64_release_1.3.0/src/learner.cc:1061: Starting in XGBoost 1.3.0, the default evaluation metric used with the objective 'multi:softprob' was changed from 'merror' to 'mlogloss'. Explicitly set eval_metric if you'd like to restore the old behavior.\n",
      "n_stimators: 10. Train: 0.8650462962962963 - Test: 0.41785714285714287\n",
      "[19:03:34] WARNING: C:/Users/Administrator/workspace/xgboost-win64_release_1.3.0/src/learner.cc:1061: Starting in XGBoost 1.3.0, the default evaluation metric used with the objective 'multi:softprob' was changed from 'merror' to 'mlogloss'. Explicitly set eval_metric if you'd like to restore the old behavior.\n",
      "n_stimators: 11. Train: 0.8777777777777778 - Test: 0.425\n",
      "[19:03:36] WARNING: C:/Users/Administrator/workspace/xgboost-win64_release_1.3.0/src/learner.cc:1061: Starting in XGBoost 1.3.0, the default evaluation metric used with the objective 'multi:softprob' was changed from 'merror' to 'mlogloss'. Explicitly set eval_metric if you'd like to restore the old behavior.\n",
      "n_stimators: 12. Train: 0.8877314814814815 - Test: 0.425\n",
      "[19:03:37] WARNING: C:/Users/Administrator/workspace/xgboost-win64_release_1.3.0/src/learner.cc:1061: Starting in XGBoost 1.3.0, the default evaluation metric used with the objective 'multi:softprob' was changed from 'merror' to 'mlogloss'. Explicitly set eval_metric if you'd like to restore the old behavior.\n",
      "n_stimators: 13. Train: 0.8951388888888889 - Test: 0.42142857142857143\n",
      "[19:03:39] WARNING: C:/Users/Administrator/workspace/xgboost-win64_release_1.3.0/src/learner.cc:1061: Starting in XGBoost 1.3.0, the default evaluation metric used with the objective 'multi:softprob' was changed from 'merror' to 'mlogloss'. Explicitly set eval_metric if you'd like to restore the old behavior.\n",
      "n_stimators: 14. Train: 0.9074074074074074 - Test: 0.4107142857142857\n",
      "[19:03:41] WARNING: C:/Users/Administrator/workspace/xgboost-win64_release_1.3.0/src/learner.cc:1061: Starting in XGBoost 1.3.0, the default evaluation metric used with the objective 'multi:softprob' was changed from 'merror' to 'mlogloss'. Explicitly set eval_metric if you'd like to restore the old behavior.\n",
      "n_stimators: 15. Train: 0.9217592592592593 - Test: 0.4107142857142857\n",
      "[19:03:44] WARNING: C:/Users/Administrator/workspace/xgboost-win64_release_1.3.0/src/learner.cc:1061: Starting in XGBoost 1.3.0, the default evaluation metric used with the objective 'multi:softprob' was changed from 'merror' to 'mlogloss'. Explicitly set eval_metric if you'd like to restore the old behavior.\n",
      "n_stimators: 16. Train: 0.9284722222222223 - Test: 0.42142857142857143\n",
      "[19:03:46] WARNING: C:/Users/Administrator/workspace/xgboost-win64_release_1.3.0/src/learner.cc:1061: Starting in XGBoost 1.3.0, the default evaluation metric used with the objective 'multi:softprob' was changed from 'merror' to 'mlogloss'. Explicitly set eval_metric if you'd like to restore the old behavior.\n",
      "n_stimators: 17. Train: 0.94375 - Test: 0.41785714285714287\n",
      "[19:03:49] WARNING: C:/Users/Administrator/workspace/xgboost-win64_release_1.3.0/src/learner.cc:1061: Starting in XGBoost 1.3.0, the default evaluation metric used with the objective 'multi:softprob' was changed from 'merror' to 'mlogloss'. Explicitly set eval_metric if you'd like to restore the old behavior.\n",
      "n_stimators: 18. Train: 0.950462962962963 - Test: 0.4107142857142857\n",
      "[19:03:51] WARNING: C:/Users/Administrator/workspace/xgboost-win64_release_1.3.0/src/learner.cc:1061: Starting in XGBoost 1.3.0, the default evaluation metric used with the objective 'multi:softprob' was changed from 'merror' to 'mlogloss'. Explicitly set eval_metric if you'd like to restore the old behavior.\n",
      "n_stimators: 19. Train: 0.9527777777777777 - Test: 0.4035714285714286\n",
      "[19:03:54] WARNING: C:/Users/Administrator/workspace/xgboost-win64_release_1.3.0/src/learner.cc:1061: Starting in XGBoost 1.3.0, the default evaluation metric used with the objective 'multi:softprob' was changed from 'merror' to 'mlogloss'. Explicitly set eval_metric if you'd like to restore the old behavior.\n",
      "n_stimators: 20. Train: 0.9597222222222223 - Test: 0.40714285714285714\n",
      "[19:03:57] WARNING: C:/Users/Administrator/workspace/xgboost-win64_release_1.3.0/src/learner.cc:1061: Starting in XGBoost 1.3.0, the default evaluation metric used with the objective 'multi:softprob' was changed from 'merror' to 'mlogloss'. Explicitly set eval_metric if you'd like to restore the old behavior.\n",
      "n_stimators: 21. Train: 0.9662037037037037 - Test: 0.4142857142857143\n",
      "[19:04:00] WARNING: C:/Users/Administrator/workspace/xgboost-win64_release_1.3.0/src/learner.cc:1061: Starting in XGBoost 1.3.0, the default evaluation metric used with the objective 'multi:softprob' was changed from 'merror' to 'mlogloss'. Explicitly set eval_metric if you'd like to restore the old behavior.\n"
     ]
    },
    {
     "name": "stdout",
     "output_type": "stream",
     "text": [
      "n_stimators: 22. Train: 0.968287037037037 - Test: 0.42142857142857143\n",
      "[19:04:03] WARNING: C:/Users/Administrator/workspace/xgboost-win64_release_1.3.0/src/learner.cc:1061: Starting in XGBoost 1.3.0, the default evaluation metric used with the objective 'multi:softprob' was changed from 'merror' to 'mlogloss'. Explicitly set eval_metric if you'd like to restore the old behavior.\n",
      "n_stimators: 23. Train: 0.9724537037037037 - Test: 0.425\n",
      "[19:04:06] WARNING: C:/Users/Administrator/workspace/xgboost-win64_release_1.3.0/src/learner.cc:1061: Starting in XGBoost 1.3.0, the default evaluation metric used with the objective 'multi:softprob' was changed from 'merror' to 'mlogloss'. Explicitly set eval_metric if you'd like to restore the old behavior.\n",
      "n_stimators: 24. Train: 0.975925925925926 - Test: 0.4142857142857143\n",
      "[19:04:09] WARNING: C:/Users/Administrator/workspace/xgboost-win64_release_1.3.0/src/learner.cc:1061: Starting in XGBoost 1.3.0, the default evaluation metric used with the objective 'multi:softprob' was changed from 'merror' to 'mlogloss'. Explicitly set eval_metric if you'd like to restore the old behavior.\n",
      "n_stimators: 25. Train: 0.9800925925925926 - Test: 0.41785714285714287\n",
      "[19:04:13] WARNING: C:/Users/Administrator/workspace/xgboost-win64_release_1.3.0/src/learner.cc:1061: Starting in XGBoost 1.3.0, the default evaluation metric used with the objective 'multi:softprob' was changed from 'merror' to 'mlogloss'. Explicitly set eval_metric if you'd like to restore the old behavior.\n",
      "n_stimators: 26. Train: 0.9844907407407407 - Test: 0.4107142857142857\n",
      "[19:04:16] WARNING: C:/Users/Administrator/workspace/xgboost-win64_release_1.3.0/src/learner.cc:1061: Starting in XGBoost 1.3.0, the default evaluation metric used with the objective 'multi:softprob' was changed from 'merror' to 'mlogloss'. Explicitly set eval_metric if you'd like to restore the old behavior.\n",
      "n_stimators: 27. Train: 0.9877314814814815 - Test: 0.4035714285714286\n",
      "[19:04:20] WARNING: C:/Users/Administrator/workspace/xgboost-win64_release_1.3.0/src/learner.cc:1061: Starting in XGBoost 1.3.0, the default evaluation metric used with the objective 'multi:softprob' was changed from 'merror' to 'mlogloss'. Explicitly set eval_metric if you'd like to restore the old behavior.\n",
      "n_stimators: 28. Train: 0.9909722222222223 - Test: 0.4035714285714286\n",
      "[19:04:24] WARNING: C:/Users/Administrator/workspace/xgboost-win64_release_1.3.0/src/learner.cc:1061: Starting in XGBoost 1.3.0, the default evaluation metric used with the objective 'multi:softprob' was changed from 'merror' to 'mlogloss'. Explicitly set eval_metric if you'd like to restore the old behavior.\n",
      "n_stimators: 29. Train: 0.9918981481481481 - Test: 0.4142857142857143\n",
      "[19:04:28] WARNING: C:/Users/Administrator/workspace/xgboost-win64_release_1.3.0/src/learner.cc:1061: Starting in XGBoost 1.3.0, the default evaluation metric used with the objective 'multi:softprob' was changed from 'merror' to 'mlogloss'. Explicitly set eval_metric if you'd like to restore the old behavior.\n",
      "n_stimators: 30. Train: 0.9930555555555556 - Test: 0.4107142857142857\n",
      "[19:04:32] WARNING: C:/Users/Administrator/workspace/xgboost-win64_release_1.3.0/src/learner.cc:1061: Starting in XGBoost 1.3.0, the default evaluation metric used with the objective 'multi:softprob' was changed from 'merror' to 'mlogloss'. Explicitly set eval_metric if you'd like to restore the old behavior.\n",
      "n_stimators: 31. Train: 0.9930555555555556 - Test: 0.40714285714285714\n",
      "[19:04:36] WARNING: C:/Users/Administrator/workspace/xgboost-win64_release_1.3.0/src/learner.cc:1061: Starting in XGBoost 1.3.0, the default evaluation metric used with the objective 'multi:softprob' was changed from 'merror' to 'mlogloss'. Explicitly set eval_metric if you'd like to restore the old behavior.\n",
      "n_stimators: 32. Train: 0.9949074074074075 - Test: 0.39285714285714285\n",
      "[19:04:40] WARNING: C:/Users/Administrator/workspace/xgboost-win64_release_1.3.0/src/learner.cc:1061: Starting in XGBoost 1.3.0, the default evaluation metric used with the objective 'multi:softprob' was changed from 'merror' to 'mlogloss'. Explicitly set eval_metric if you'd like to restore the old behavior.\n",
      "n_stimators: 33. Train: 0.9949074074074075 - Test: 0.39285714285714285\n",
      "[19:04:44] WARNING: C:/Users/Administrator/workspace/xgboost-win64_release_1.3.0/src/learner.cc:1061: Starting in XGBoost 1.3.0, the default evaluation metric used with the objective 'multi:softprob' was changed from 'merror' to 'mlogloss'. Explicitly set eval_metric if you'd like to restore the old behavior.\n",
      "n_stimators: 34. Train: 0.9951388888888889 - Test: 0.3964285714285714\n",
      "[19:04:49] WARNING: C:/Users/Administrator/workspace/xgboost-win64_release_1.3.0/src/learner.cc:1061: Starting in XGBoost 1.3.0, the default evaluation metric used with the objective 'multi:softprob' was changed from 'merror' to 'mlogloss'. Explicitly set eval_metric if you'd like to restore the old behavior.\n",
      "n_stimators: 35. Train: 0.9960648148148148 - Test: 0.3892857142857143\n",
      "[19:04:53] WARNING: C:/Users/Administrator/workspace/xgboost-win64_release_1.3.0/src/learner.cc:1061: Starting in XGBoost 1.3.0, the default evaluation metric used with the objective 'multi:softprob' was changed from 'merror' to 'mlogloss'. Explicitly set eval_metric if you'd like to restore the old behavior.\n",
      "n_stimators: 36. Train: 0.9965277777777778 - Test: 0.38571428571428573\n",
      "[19:04:58] WARNING: C:/Users/Administrator/workspace/xgboost-win64_release_1.3.0/src/learner.cc:1061: Starting in XGBoost 1.3.0, the default evaluation metric used with the objective 'multi:softprob' was changed from 'merror' to 'mlogloss'. Explicitly set eval_metric if you'd like to restore the old behavior.\n",
      "n_stimators: 37. Train: 0.9972222222222222 - Test: 0.3892857142857143\n",
      "[19:05:11] WARNING: C:/Users/Administrator/workspace/xgboost-win64_release_1.3.0/src/learner.cc:1061: Starting in XGBoost 1.3.0, the default evaluation metric used with the objective 'multi:softprob' was changed from 'merror' to 'mlogloss'. Explicitly set eval_metric if you'd like to restore the old behavior.\n"
     ]
    },
    {
     "ename": "KeyboardInterrupt",
     "evalue": "",
     "output_type": "error",
     "traceback": [
      "\u001b[1;31m---------------------------------------------------------------------------\u001b[0m",
      "\u001b[1;31mKeyboardInterrupt\u001b[0m                         Traceback (most recent call last)",
      "\u001b[1;32m<ipython-input-230-a11f0408ee00>\u001b[0m in \u001b[0;36m<module>\u001b[1;34m\u001b[0m\n\u001b[0;32m      5\u001b[0m     xg_reg = xgb.XGBClassifier( n_estimators = i, \n\u001b[0;32m      6\u001b[0m                                 max_depth=6,random_state=RANDOM_STATE)\n\u001b[1;32m----> 7\u001b[1;33m     \u001b[0mxg_reg\u001b[0m\u001b[1;33m.\u001b[0m\u001b[0mfit\u001b[0m\u001b[1;33m(\u001b[0m\u001b[0mX_train\u001b[0m\u001b[1;33m,\u001b[0m\u001b[0mY_train\u001b[0m\u001b[1;33m)\u001b[0m\u001b[1;33m\u001b[0m\u001b[1;33m\u001b[0m\u001b[0m\n\u001b[0m\u001b[0;32m      8\u001b[0m     \u001b[0mscore_train\u001b[0m\u001b[1;33m=\u001b[0m\u001b[0mxg_reg\u001b[0m\u001b[1;33m.\u001b[0m\u001b[0mscore\u001b[0m\u001b[1;33m(\u001b[0m\u001b[0mX_train\u001b[0m\u001b[1;33m,\u001b[0m \u001b[0mY_train\u001b[0m\u001b[1;33m)\u001b[0m\u001b[1;33m\u001b[0m\u001b[1;33m\u001b[0m\u001b[0m\n\u001b[0;32m      9\u001b[0m     \u001b[0mscore_test\u001b[0m\u001b[1;33m=\u001b[0m\u001b[0mxg_reg\u001b[0m\u001b[1;33m.\u001b[0m\u001b[0mscore\u001b[0m\u001b[1;33m(\u001b[0m\u001b[0mX_test\u001b[0m\u001b[1;33m,\u001b[0m \u001b[0mY_test\u001b[0m\u001b[1;33m)\u001b[0m\u001b[1;33m\u001b[0m\u001b[1;33m\u001b[0m\u001b[0m\n",
      "\u001b[1;32mC:\\ProgramData\\Anaconda3\\lib\\site-packages\\xgboost\\core.py\u001b[0m in \u001b[0;36minner_f\u001b[1;34m(*args, **kwargs)\u001b[0m\n\u001b[0;32m    420\u001b[0m         \u001b[1;32mfor\u001b[0m \u001b[0mk\u001b[0m\u001b[1;33m,\u001b[0m \u001b[0marg\u001b[0m \u001b[1;32min\u001b[0m \u001b[0mzip\u001b[0m\u001b[1;33m(\u001b[0m\u001b[0msig\u001b[0m\u001b[1;33m.\u001b[0m\u001b[0mparameters\u001b[0m\u001b[1;33m,\u001b[0m \u001b[0margs\u001b[0m\u001b[1;33m)\u001b[0m\u001b[1;33m:\u001b[0m\u001b[1;33m\u001b[0m\u001b[1;33m\u001b[0m\u001b[0m\n\u001b[0;32m    421\u001b[0m             \u001b[0mkwargs\u001b[0m\u001b[1;33m[\u001b[0m\u001b[0mk\u001b[0m\u001b[1;33m]\u001b[0m \u001b[1;33m=\u001b[0m \u001b[0marg\u001b[0m\u001b[1;33m\u001b[0m\u001b[1;33m\u001b[0m\u001b[0m\n\u001b[1;32m--> 422\u001b[1;33m         \u001b[1;32mreturn\u001b[0m \u001b[0mf\u001b[0m\u001b[1;33m(\u001b[0m\u001b[1;33m**\u001b[0m\u001b[0mkwargs\u001b[0m\u001b[1;33m)\u001b[0m\u001b[1;33m\u001b[0m\u001b[1;33m\u001b[0m\u001b[0m\n\u001b[0m\u001b[0;32m    423\u001b[0m \u001b[1;33m\u001b[0m\u001b[0m\n\u001b[0;32m    424\u001b[0m     \u001b[1;32mreturn\u001b[0m \u001b[0minner_f\u001b[0m\u001b[1;33m\u001b[0m\u001b[1;33m\u001b[0m\u001b[0m\n",
      "\u001b[1;32mC:\\ProgramData\\Anaconda3\\lib\\site-packages\\xgboost\\sklearn.py\u001b[0m in \u001b[0;36mfit\u001b[1;34m(self, X, y, sample_weight, base_margin, eval_set, eval_metric, early_stopping_rounds, verbose, xgb_model, sample_weight_eval_set, feature_weights, callbacks)\u001b[0m\n\u001b[0;32m    907\u001b[0m             eval_group=None, label_transform=label_transform)\n\u001b[0;32m    908\u001b[0m \u001b[1;33m\u001b[0m\u001b[0m\n\u001b[1;32m--> 909\u001b[1;33m         self._Booster = train(xgb_options, train_dmatrix,\n\u001b[0m\u001b[0;32m    910\u001b[0m                               \u001b[0mself\u001b[0m\u001b[1;33m.\u001b[0m\u001b[0mget_num_boosting_rounds\u001b[0m\u001b[1;33m(\u001b[0m\u001b[1;33m)\u001b[0m\u001b[1;33m,\u001b[0m\u001b[1;33m\u001b[0m\u001b[1;33m\u001b[0m\u001b[0m\n\u001b[0;32m    911\u001b[0m                               \u001b[0mevals\u001b[0m\u001b[1;33m=\u001b[0m\u001b[0mevals\u001b[0m\u001b[1;33m,\u001b[0m\u001b[1;33m\u001b[0m\u001b[1;33m\u001b[0m\u001b[0m\n",
      "\u001b[1;32mC:\\ProgramData\\Anaconda3\\lib\\site-packages\\xgboost\\training.py\u001b[0m in \u001b[0;36mtrain\u001b[1;34m(params, dtrain, num_boost_round, evals, obj, feval, maximize, early_stopping_rounds, evals_result, verbose_eval, xgb_model, callbacks)\u001b[0m\n\u001b[0;32m    225\u001b[0m     \u001b[0mBooster\u001b[0m \u001b[1;33m:\u001b[0m \u001b[0ma\u001b[0m \u001b[0mtrained\u001b[0m \u001b[0mbooster\u001b[0m \u001b[0mmodel\u001b[0m\u001b[1;33m\u001b[0m\u001b[1;33m\u001b[0m\u001b[0m\n\u001b[0;32m    226\u001b[0m     \"\"\"\n\u001b[1;32m--> 227\u001b[1;33m     bst = _train_internal(params, dtrain,\n\u001b[0m\u001b[0;32m    228\u001b[0m                           \u001b[0mnum_boost_round\u001b[0m\u001b[1;33m=\u001b[0m\u001b[0mnum_boost_round\u001b[0m\u001b[1;33m,\u001b[0m\u001b[1;33m\u001b[0m\u001b[1;33m\u001b[0m\u001b[0m\n\u001b[0;32m    229\u001b[0m                           \u001b[0mevals\u001b[0m\u001b[1;33m=\u001b[0m\u001b[0mevals\u001b[0m\u001b[1;33m,\u001b[0m\u001b[1;33m\u001b[0m\u001b[1;33m\u001b[0m\u001b[0m\n",
      "\u001b[1;32mC:\\ProgramData\\Anaconda3\\lib\\site-packages\\xgboost\\training.py\u001b[0m in \u001b[0;36m_train_internal\u001b[1;34m(params, dtrain, num_boost_round, evals, obj, feval, xgb_model, callbacks, evals_result, maximize, verbose_eval, early_stopping_rounds)\u001b[0m\n\u001b[0;32m    100\u001b[0m         \u001b[1;31m# Skip the first update if it is a recovery step.\u001b[0m\u001b[1;33m\u001b[0m\u001b[1;33m\u001b[0m\u001b[1;33m\u001b[0m\u001b[0m\n\u001b[0;32m    101\u001b[0m         \u001b[1;32mif\u001b[0m \u001b[0mversion\u001b[0m \u001b[1;33m%\u001b[0m \u001b[1;36m2\u001b[0m \u001b[1;33m==\u001b[0m \u001b[1;36m0\u001b[0m\u001b[1;33m:\u001b[0m\u001b[1;33m\u001b[0m\u001b[1;33m\u001b[0m\u001b[0m\n\u001b[1;32m--> 102\u001b[1;33m             \u001b[0mbst\u001b[0m\u001b[1;33m.\u001b[0m\u001b[0mupdate\u001b[0m\u001b[1;33m(\u001b[0m\u001b[0mdtrain\u001b[0m\u001b[1;33m,\u001b[0m \u001b[0mi\u001b[0m\u001b[1;33m,\u001b[0m \u001b[0mobj\u001b[0m\u001b[1;33m)\u001b[0m\u001b[1;33m\u001b[0m\u001b[1;33m\u001b[0m\u001b[0m\n\u001b[0m\u001b[0;32m    103\u001b[0m             \u001b[0mbst\u001b[0m\u001b[1;33m.\u001b[0m\u001b[0msave_rabit_checkpoint\u001b[0m\u001b[1;33m(\u001b[0m\u001b[1;33m)\u001b[0m\u001b[1;33m\u001b[0m\u001b[1;33m\u001b[0m\u001b[0m\n\u001b[0;32m    104\u001b[0m             \u001b[0mversion\u001b[0m \u001b[1;33m+=\u001b[0m \u001b[1;36m1\u001b[0m\u001b[1;33m\u001b[0m\u001b[1;33m\u001b[0m\u001b[0m\n",
      "\u001b[1;32mC:\\ProgramData\\Anaconda3\\lib\\site-packages\\xgboost\\core.py\u001b[0m in \u001b[0;36mupdate\u001b[1;34m(self, dtrain, iteration, fobj)\u001b[0m\n\u001b[0;32m   1278\u001b[0m \u001b[1;33m\u001b[0m\u001b[0m\n\u001b[0;32m   1279\u001b[0m         \u001b[1;32mif\u001b[0m \u001b[0mfobj\u001b[0m \u001b[1;32mis\u001b[0m \u001b[1;32mNone\u001b[0m\u001b[1;33m:\u001b[0m\u001b[1;33m\u001b[0m\u001b[1;33m\u001b[0m\u001b[0m\n\u001b[1;32m-> 1280\u001b[1;33m             _check_call(_LIB.XGBoosterUpdateOneIter(self.handle,\n\u001b[0m\u001b[0;32m   1281\u001b[0m                                                     \u001b[0mctypes\u001b[0m\u001b[1;33m.\u001b[0m\u001b[0mc_int\u001b[0m\u001b[1;33m(\u001b[0m\u001b[0miteration\u001b[0m\u001b[1;33m)\u001b[0m\u001b[1;33m,\u001b[0m\u001b[1;33m\u001b[0m\u001b[1;33m\u001b[0m\u001b[0m\n\u001b[0;32m   1282\u001b[0m                                                     dtrain.handle))\n",
      "\u001b[1;31mKeyboardInterrupt\u001b[0m: "
     ]
    }
   ],
   "source": [
    "lista_x=[]\n",
    "lista_strain=[]\n",
    "lista_stest=[]\n",
    "for i in range(1,40,1):\n",
    "    xg_reg = xgb.XGBClassifier( n_estimators = i, \n",
    "                                max_depth=6,random_state=RANDOM_STATE)\n",
    "    xg_reg.fit(X_train,Y_train)\n",
    "    score_train=xg_reg.score(X_train, Y_train)\n",
    "    score_test=xg_reg.score(X_test, Y_test)\n",
    "    print('n_stimators: {}. Train: {} - Test: {}'.format(i,score_train,score_test))\n",
    "    lista_x.append(i)\n",
    "    lista_strain.append(score_train)\n",
    "    lista_stest.append(score_test)\n",
    "score_df=pd.DataFrame(index=lista_x, data={'Score_train':lista_strain, 'Score_test':lista_stest})"
   ]
  },
  {
   "cell_type": "code",
   "execution_count": 22,
   "metadata": {
    "ExecuteTime": {
     "end_time": "2021-03-30T20:10:42.013107Z",
     "start_time": "2021-03-30T20:10:41.997106Z"
    }
   },
   "outputs": [
    {
     "data": {
      "text/html": [
       "<div>\n",
       "<style scoped>\n",
       "    .dataframe tbody tr th:only-of-type {\n",
       "        vertical-align: middle;\n",
       "    }\n",
       "\n",
       "    .dataframe tbody tr th {\n",
       "        vertical-align: top;\n",
       "    }\n",
       "\n",
       "    .dataframe thead th {\n",
       "        text-align: right;\n",
       "    }\n",
       "</style>\n",
       "<table border=\"1\" class=\"dataframe\">\n",
       "  <thead>\n",
       "    <tr style=\"text-align: right;\">\n",
       "      <th></th>\n",
       "      <th>Score_train</th>\n",
       "      <th>Score_test</th>\n",
       "    </tr>\n",
       "  </thead>\n",
       "  <tbody>\n",
       "    <tr>\n",
       "      <th>24</th>\n",
       "      <td>0.938346</td>\n",
       "      <td>0.507143</td>\n",
       "    </tr>\n",
       "    <tr>\n",
       "      <th>16</th>\n",
       "      <td>0.876692</td>\n",
       "      <td>0.507143</td>\n",
       "    </tr>\n",
       "    <tr>\n",
       "      <th>26</th>\n",
       "      <td>0.946805</td>\n",
       "      <td>0.503571</td>\n",
       "    </tr>\n",
       "    <tr>\n",
       "      <th>23</th>\n",
       "      <td>0.934586</td>\n",
       "      <td>0.503571</td>\n",
       "    </tr>\n",
       "    <tr>\n",
       "      <th>25</th>\n",
       "      <td>0.941729</td>\n",
       "      <td>0.503571</td>\n",
       "    </tr>\n",
       "    <tr>\n",
       "      <th>20</th>\n",
       "      <td>0.913722</td>\n",
       "      <td>0.503571</td>\n",
       "    </tr>\n",
       "    <tr>\n",
       "      <th>18</th>\n",
       "      <td>0.899248</td>\n",
       "      <td>0.500000</td>\n",
       "    </tr>\n",
       "    <tr>\n",
       "      <th>17</th>\n",
       "      <td>0.889474</td>\n",
       "      <td>0.500000</td>\n",
       "    </tr>\n",
       "    <tr>\n",
       "      <th>22</th>\n",
       "      <td>0.924436</td>\n",
       "      <td>0.496429</td>\n",
       "    </tr>\n",
       "    <tr>\n",
       "      <th>37</th>\n",
       "      <td>0.984774</td>\n",
       "      <td>0.492857</td>\n",
       "    </tr>\n",
       "    <tr>\n",
       "      <th>21</th>\n",
       "      <td>0.918233</td>\n",
       "      <td>0.492857</td>\n",
       "    </tr>\n",
       "    <tr>\n",
       "      <th>14</th>\n",
       "      <td>0.851316</td>\n",
       "      <td>0.492857</td>\n",
       "    </tr>\n",
       "    <tr>\n",
       "      <th>15</th>\n",
       "      <td>0.860714</td>\n",
       "      <td>0.492857</td>\n",
       "    </tr>\n",
       "    <tr>\n",
       "      <th>27</th>\n",
       "      <td>0.950564</td>\n",
       "      <td>0.489286</td>\n",
       "    </tr>\n",
       "    <tr>\n",
       "      <th>32</th>\n",
       "      <td>0.970489</td>\n",
       "      <td>0.489286</td>\n",
       "    </tr>\n",
       "    <tr>\n",
       "      <th>19</th>\n",
       "      <td>0.907331</td>\n",
       "      <td>0.489286</td>\n",
       "    </tr>\n",
       "    <tr>\n",
       "      <th>38</th>\n",
       "      <td>0.984586</td>\n",
       "      <td>0.489286</td>\n",
       "    </tr>\n",
       "    <tr>\n",
       "      <th>39</th>\n",
       "      <td>0.987218</td>\n",
       "      <td>0.489286</td>\n",
       "    </tr>\n",
       "    <tr>\n",
       "      <th>7</th>\n",
       "      <td>0.728947</td>\n",
       "      <td>0.489286</td>\n",
       "    </tr>\n",
       "    <tr>\n",
       "      <th>4</th>\n",
       "      <td>0.692669</td>\n",
       "      <td>0.485714</td>\n",
       "    </tr>\n",
       "    <tr>\n",
       "      <th>36</th>\n",
       "      <td>0.983271</td>\n",
       "      <td>0.485714</td>\n",
       "    </tr>\n",
       "    <tr>\n",
       "      <th>5</th>\n",
       "      <td>0.709398</td>\n",
       "      <td>0.485714</td>\n",
       "    </tr>\n",
       "    <tr>\n",
       "      <th>31</th>\n",
       "      <td>0.967293</td>\n",
       "      <td>0.485714</td>\n",
       "    </tr>\n",
       "    <tr>\n",
       "      <th>13</th>\n",
       "      <td>0.838910</td>\n",
       "      <td>0.482143</td>\n",
       "    </tr>\n",
       "    <tr>\n",
       "      <th>34</th>\n",
       "      <td>0.978571</td>\n",
       "      <td>0.482143</td>\n",
       "    </tr>\n",
       "    <tr>\n",
       "      <th>33</th>\n",
       "      <td>0.975940</td>\n",
       "      <td>0.482143</td>\n",
       "    </tr>\n",
       "    <tr>\n",
       "      <th>2</th>\n",
       "      <td>0.645677</td>\n",
       "      <td>0.478571</td>\n",
       "    </tr>\n",
       "    <tr>\n",
       "      <th>29</th>\n",
       "      <td>0.959398</td>\n",
       "      <td>0.478571</td>\n",
       "    </tr>\n",
       "    <tr>\n",
       "      <th>30</th>\n",
       "      <td>0.962970</td>\n",
       "      <td>0.475000</td>\n",
       "    </tr>\n",
       "    <tr>\n",
       "      <th>35</th>\n",
       "      <td>0.981579</td>\n",
       "      <td>0.475000</td>\n",
       "    </tr>\n",
       "    <tr>\n",
       "      <th>11</th>\n",
       "      <td>0.801128</td>\n",
       "      <td>0.475000</td>\n",
       "    </tr>\n",
       "    <tr>\n",
       "      <th>12</th>\n",
       "      <td>0.820677</td>\n",
       "      <td>0.475000</td>\n",
       "    </tr>\n",
       "    <tr>\n",
       "      <th>28</th>\n",
       "      <td>0.954135</td>\n",
       "      <td>0.471429</td>\n",
       "    </tr>\n",
       "    <tr>\n",
       "      <th>8</th>\n",
       "      <td>0.756015</td>\n",
       "      <td>0.467857</td>\n",
       "    </tr>\n",
       "    <tr>\n",
       "      <th>10</th>\n",
       "      <td>0.793233</td>\n",
       "      <td>0.467857</td>\n",
       "    </tr>\n",
       "    <tr>\n",
       "      <th>6</th>\n",
       "      <td>0.716541</td>\n",
       "      <td>0.464286</td>\n",
       "    </tr>\n",
       "    <tr>\n",
       "      <th>9</th>\n",
       "      <td>0.771429</td>\n",
       "      <td>0.464286</td>\n",
       "    </tr>\n",
       "    <tr>\n",
       "      <th>3</th>\n",
       "      <td>0.674812</td>\n",
       "      <td>0.460714</td>\n",
       "    </tr>\n",
       "    <tr>\n",
       "      <th>1</th>\n",
       "      <td>0.616917</td>\n",
       "      <td>0.453571</td>\n",
       "    </tr>\n",
       "  </tbody>\n",
       "</table>\n",
       "</div>"
      ],
      "text/plain": [
       "    Score_train  Score_test\n",
       "24     0.938346    0.507143\n",
       "16     0.876692    0.507143\n",
       "26     0.946805    0.503571\n",
       "23     0.934586    0.503571\n",
       "25     0.941729    0.503571\n",
       "20     0.913722    0.503571\n",
       "18     0.899248    0.500000\n",
       "17     0.889474    0.500000\n",
       "22     0.924436    0.496429\n",
       "37     0.984774    0.492857\n",
       "21     0.918233    0.492857\n",
       "14     0.851316    0.492857\n",
       "15     0.860714    0.492857\n",
       "27     0.950564    0.489286\n",
       "32     0.970489    0.489286\n",
       "19     0.907331    0.489286\n",
       "38     0.984586    0.489286\n",
       "39     0.987218    0.489286\n",
       "7      0.728947    0.489286\n",
       "4      0.692669    0.485714\n",
       "36     0.983271    0.485714\n",
       "5      0.709398    0.485714\n",
       "31     0.967293    0.485714\n",
       "13     0.838910    0.482143\n",
       "34     0.978571    0.482143\n",
       "33     0.975940    0.482143\n",
       "2      0.645677    0.478571\n",
       "29     0.959398    0.478571\n",
       "30     0.962970    0.475000\n",
       "35     0.981579    0.475000\n",
       "11     0.801128    0.475000\n",
       "12     0.820677    0.475000\n",
       "28     0.954135    0.471429\n",
       "8      0.756015    0.467857\n",
       "10     0.793233    0.467857\n",
       "6      0.716541    0.464286\n",
       "9      0.771429    0.464286\n",
       "3      0.674812    0.460714\n",
       "1      0.616917    0.453571"
      ]
     },
     "execution_count": 22,
     "metadata": {},
     "output_type": "execute_result"
    }
   ],
   "source": [
    "score_df.sort_values(by='Score_test',ascending=False)"
   ]
  },
  {
   "cell_type": "markdown",
   "metadata": {},
   "source": [
    "# Tunning hiperpàrametros para Goles"
   ]
  },
  {
   "cell_type": "code",
   "execution_count": 154,
   "metadata": {
    "ExecuteTime": {
     "end_time": "2021-04-15T15:32:59.042395Z",
     "start_time": "2021-04-15T15:32:58.229873Z"
    }
   },
   "outputs": [],
   "source": [
    "liga=pd.read_csv(path_last+'\\SP1-J'+str(jornada)+'\\SP1_Modelo5_J'+str(jornada)+'-con-FE.csv')\n",
    "liga.drop('Unnamed: 0',axis=1,inplace=True)\n",
    "liga['Date1']=pd.to_datetime(liga['Date1'], format='%Y-%m-%d')"
   ]
  },
  {
   "cell_type": "code",
   "execution_count": 155,
   "metadata": {
    "ExecuteTime": {
     "end_time": "2021-04-15T15:33:01.654180Z",
     "start_time": "2021-04-15T15:33:01.650180Z"
    }
   },
   "outputs": [
    {
     "data": {
      "text/plain": [
       "(5630, 1139)"
      ]
     },
     "execution_count": 155,
     "metadata": {},
     "output_type": "execute_result"
    }
   ],
   "source": [
    "liga.shape"
   ]
  },
  {
   "cell_type": "code",
   "execution_count": 156,
   "metadata": {
    "ExecuteTime": {
     "end_time": "2021-04-15T15:33:19.613815Z",
     "start_time": "2021-04-15T15:33:19.605815Z"
    }
   },
   "outputs": [],
   "source": [
    "jornadas={#31:['2021-04-21','2021-04-22'],\n",
    "          30:['2021-04-09','2021-04-10','2021-04-11','2021-04-12'],\n",
    "          29:['2021-04-02','2021-04-03','2021-04-04','2021-04-05','2021-04-07'],\n",
    "          28:['2021-03-19','2021-03-20','2021-03-21'],\n",
    "          27:['2021-03-12','2021-03-13','2021-03-14','2021-03-15'],\n",
    "          26:['2021-03-05','2021-03-06','2021-03-07','2021-03-08'],\n",
    "          25:['2021-02-26','2021-02-27','2021-02-28','2021-03-01'],\n",
    "          24:['2021-02-19','2021-02-20','2021-02-21','2021-02-22'],\n",
    "          23:['2021-02-12','2021-02-13','2021-02-14','2021-02-15'],\n",
    "          22:['2021-02-05','2021-02-06','2021-02-07','2021-02-08'],\n",
    "          21:['2021-01-29','2021-01-30','2021-01-31','2021-02-01'],\n",
    "          20:['2021-01-22','2021-01-23','2021-01-24','2021-01-25'],\n",
    "          19:['2020-12-15','2020-12-16','2021-01-19','2021-01-20','2021-01-21'],\n",
    "          18:['2020-12-15','2020-12-16','2021-01-19','2021-01-20','2021-01-21']}"
   ]
  },
  {
   "cell_type": "markdown",
   "metadata": {},
   "source": [
    "## Resanpling del dataset"
   ]
  },
  {
   "cell_type": "code",
   "execution_count": 158,
   "metadata": {
    "ExecuteTime": {
     "end_time": "2021-04-15T15:34:38.090874Z",
     "start_time": "2021-04-15T15:34:38.076873Z"
    }
   },
   "outputs": [
    {
     "data": {
      "text/html": [
       "<div>\n",
       "<style scoped>\n",
       "    .dataframe tbody tr th:only-of-type {\n",
       "        vertical-align: middle;\n",
       "    }\n",
       "\n",
       "    .dataframe tbody tr th {\n",
       "        vertical-align: top;\n",
       "    }\n",
       "\n",
       "    .dataframe thead th {\n",
       "        text-align: right;\n",
       "    }\n",
       "</style>\n",
       "<table border=\"1\" class=\"dataframe\">\n",
       "  <thead>\n",
       "    <tr style=\"text-align: right;\">\n",
       "      <th></th>\n",
       "      <th>resultadoGolesFT_Code</th>\n",
       "    </tr>\n",
       "    <tr>\n",
       "      <th>resultadoGolesFT_Code</th>\n",
       "      <th></th>\n",
       "    </tr>\n",
       "  </thead>\n",
       "  <tbody>\n",
       "    <tr>\n",
       "      <th>0</th>\n",
       "      <td>652</td>\n",
       "    </tr>\n",
       "    <tr>\n",
       "      <th>1</th>\n",
       "      <td>610</td>\n",
       "    </tr>\n",
       "    <tr>\n",
       "      <th>2</th>\n",
       "      <td>495</td>\n",
       "    </tr>\n",
       "    <tr>\n",
       "      <th>3</th>\n",
       "      <td>440</td>\n",
       "    </tr>\n",
       "    <tr>\n",
       "      <th>4</th>\n",
       "      <td>424</td>\n",
       "    </tr>\n",
       "  </tbody>\n",
       "</table>\n",
       "</div>"
      ],
      "text/plain": [
       "                       resultadoGolesFT_Code\n",
       "resultadoGolesFT_Code                       \n",
       "0                                        652\n",
       "1                                        610\n",
       "2                                        495\n",
       "3                                        440\n",
       "4                                        424"
      ]
     },
     "execution_count": 158,
     "metadata": {},
     "output_type": "execute_result"
    }
   ],
   "source": [
    "liga.groupby(['resultadoGolesFT_Code']).agg({'resultadoGolesFT_Code':len}).head()"
   ]
  },
  {
   "cell_type": "code",
   "execution_count": 159,
   "metadata": {
    "ExecuteTime": {
     "end_time": "2021-04-15T15:34:52.275930Z",
     "start_time": "2021-04-15T15:34:52.160921Z"
    }
   },
   "outputs": [],
   "source": [
    "# Borramos mil victorias del equipo de casa\n",
    "liga.reset_index(drop=True,inplace=True)\n",
    "liga.drop( liga[ (liga['resultadoGolesFT_Code']==0) & (liga['Temporada']!='2020-2021')].sample(200, random_state=RANDOM_STATE).index ,\n",
    "            axis=0,inplace=True )\n",
    "# Borramos mil victorias del equipo de casa\n",
    "liga.reset_index(drop=True,inplace=True)\n",
    "liga.drop( liga[ (liga['resultadoGolesFT_Code']==1) & (liga['Temporada']!='2020-2021')].sample(200, random_state=RANDOM_STATE).index ,\n",
    "            axis=0,inplace=True )"
   ]
  },
  {
   "cell_type": "code",
   "execution_count": 160,
   "metadata": {
    "ExecuteTime": {
     "end_time": "2021-04-15T15:34:54.205531Z",
     "start_time": "2021-04-15T15:34:54.191533Z"
    }
   },
   "outputs": [
    {
     "data": {
      "text/html": [
       "<div>\n",
       "<style scoped>\n",
       "    .dataframe tbody tr th:only-of-type {\n",
       "        vertical-align: middle;\n",
       "    }\n",
       "\n",
       "    .dataframe tbody tr th {\n",
       "        vertical-align: top;\n",
       "    }\n",
       "\n",
       "    .dataframe thead th {\n",
       "        text-align: right;\n",
       "    }\n",
       "</style>\n",
       "<table border=\"1\" class=\"dataframe\">\n",
       "  <thead>\n",
       "    <tr style=\"text-align: right;\">\n",
       "      <th></th>\n",
       "      <th>resultadoGolesFT_Code</th>\n",
       "    </tr>\n",
       "    <tr>\n",
       "      <th>resultadoGolesFT_Code</th>\n",
       "      <th></th>\n",
       "    </tr>\n",
       "  </thead>\n",
       "  <tbody>\n",
       "    <tr>\n",
       "      <th>0</th>\n",
       "      <td>452</td>\n",
       "    </tr>\n",
       "    <tr>\n",
       "      <th>1</th>\n",
       "      <td>410</td>\n",
       "    </tr>\n",
       "    <tr>\n",
       "      <th>2</th>\n",
       "      <td>495</td>\n",
       "    </tr>\n",
       "    <tr>\n",
       "      <th>3</th>\n",
       "      <td>440</td>\n",
       "    </tr>\n",
       "    <tr>\n",
       "      <th>4</th>\n",
       "      <td>424</td>\n",
       "    </tr>\n",
       "  </tbody>\n",
       "</table>\n",
       "</div>"
      ],
      "text/plain": [
       "                       resultadoGolesFT_Code\n",
       "resultadoGolesFT_Code                       \n",
       "0                                        452\n",
       "1                                        410\n",
       "2                                        495\n",
       "3                                        440\n",
       "4                                        424"
      ]
     },
     "execution_count": 160,
     "metadata": {},
     "output_type": "execute_result"
    }
   ],
   "source": [
    "liga.groupby(['resultadoGolesFT_Code']).agg({'resultadoGolesFT_Code':len}).head()"
   ]
  },
  {
   "cell_type": "markdown",
   "metadata": {},
   "source": [
    "## Entrenamos con todo excepto esta ultima temporada"
   ]
  },
  {
   "cell_type": "code",
   "execution_count": 161,
   "metadata": {
    "ExecuteTime": {
     "end_time": "2021-04-15T15:35:21.734539Z",
     "start_time": "2021-04-15T15:35:21.616531Z"
    }
   },
   "outputs": [],
   "source": [
    "a='2020-09-12'\n",
    "\n",
    "X_test = liga[liga[\"Date1\"] >= a ].drop(variables_borrar, axis = 1)\n",
    "X_train = liga[liga['Date1']< a].drop(variables_borrar, axis = 1)\n",
    "\n",
    "Y_test = liga[liga[\"Date1\"]>= a ]['resultadoGolesFT_Code']\n",
    "Y_train = liga[liga['Date1']< a]['resultadoGolesFT_Code']\n",
    "\n",
    "X_test_head = liga[['HomeTeam','AwayTeam','Date']][liga[\"Date1\"]>= a]\n",
    "\n",
    "#Quitamos la ultima jornada ya que no tenemso resultados y no nos sirve para test\n",
    "Y_test=Y_test[10:]\n",
    "X_test=X_test[10:]\n",
    "X_test_head=X_test_head[10:]"
   ]
  },
  {
   "cell_type": "code",
   "execution_count": 162,
   "metadata": {
    "ExecuteTime": {
     "end_time": "2021-04-15T15:35:41.001203Z",
     "start_time": "2021-04-15T15:35:25.072411Z"
    }
   },
   "outputs": [
    {
     "name": "stdout",
     "output_type": "stream",
     "text": [
      "Jornada: 2020-09-12\n",
      "Resultados para: depth: 1 - Train: 0.0975609756097561 - Test 0.10666666666666667\n",
      "Resultados para: depth: 2 - Train: 0.11402439024390244 - Test 0.11333333333333333\n",
      "Resultados para: depth: 3 - Train: 0.12317073170731707 - Test 0.15\n",
      "Resultados para: depth: 4 - Train: 0.1315040650406504 - Test 0.15333333333333332\n",
      "Resultados para: depth: 5 - Train: 0.14227642276422764 - Test 0.15666666666666668\n",
      "Resultados para: depth: 6 - Train: 0.1563008130081301 - Test 0.14666666666666667\n",
      "Resultados para: depth: 7 - Train: 0.16707317073170733 - Test 0.15666666666666668\n",
      "Resultados para: depth: 8 - Train: 0.18556910569105692 - Test 0.14\n",
      "Resultados para: depth: 9 - Train: 0.20548780487804877 - Test 0.10666666666666667\n",
      "Resultados para: depth: 10 - Train: 0.2233739837398374 - Test 0.11666666666666667\n",
      "Resultados para: depth: 11 - Train: 0.24308943089430896 - Test 0.09\n",
      "Resultados para: depth: 12 - Train: 0.2605691056910569 - Test 0.09666666666666666\n",
      "Resultados para: depth: 13 - Train: 0.2758130081300813 - Test 0.09\n"
     ]
    }
   ],
   "source": [
    "lista_a=[]\n",
    "lista_x=[]\n",
    "lista_strain=[]\n",
    "lista_stest=[]\n",
    "resultados=[]\n",
    "print('Jornada: '+str(a))\n",
    "for x in list(range(1,14)):\n",
    "    dt = DecisionTreeClassifier(max_depth=x, random_state=RANDOM_STATE,min_samples_leaf=5 ,min_samples_split=20)\n",
    "    #dt = DecisionTreeClassifier(max_depth=x, random_state=RANDOM_STATE)\n",
    "    dt.fit(X_train,Y_train)\n",
    "    score_train=dt.score(X_train, Y_train)\n",
    "    score_test=dt.score(X_test, Y_test)\n",
    "    print('Resultados para: depth: {} - Train: {} - Test {}'.format(x,score_train,score_test))\n",
    "    lista_a.append(a)\n",
    "    lista_x.append(x)\n",
    "    lista_strain.append(score_train)\n",
    "    lista_stest.append(score_test)\n",
    "\n",
    "    # Predecimos resultado final:\n",
    "    y_test_pred=pd.DataFrame(dt.predict(X_test), index=Y_test.index, columns=['Pred-resultadoGolesFT_Code-'+str(x)])\n",
    "    X_test_head = pd.concat([X_test_head, y_test_pred], axis=1)\n",
    "    # Añadimos el resultado real para calcular aciertos\n",
    "    #X_test_head['Success']=(results_df['Pred-ResultadoFT-'+str(x)]==results_df['ResultadoFT']).astype(int)\n",
    "    #resultados.append(results_df)\n",
    "X_test_head = pd.concat([ X_test_head, Y_test], axis=1)\n",
    "for x in list(range(1,14)):\n",
    "    X_test_head['Success-'+str(x)]=(X_test_head['Pred-resultadoGolesFT_Code-'+str(x)]==X_test_head['resultadoGolesFT_Code']).astype(int)"
   ]
  },
  {
   "cell_type": "code",
   "execution_count": 165,
   "metadata": {
    "ExecuteTime": {
     "end_time": "2021-04-15T15:37:50.884048Z",
     "start_time": "2021-04-15T15:37:50.865048Z"
    }
   },
   "outputs": [
    {
     "data": {
      "application/vnd.plotly.v1+json": {
       "config": {
        "plotlyServerURL": "https://plot.ly"
       },
       "data": [
        {
         "mode": "lines+markers",
         "name": "Score_train",
         "type": "scatter",
         "x": [
          1,
          2,
          3,
          4,
          5,
          6,
          7,
          8,
          9,
          10,
          11,
          12,
          13
         ],
         "y": [
          0.0975609756097561,
          0.11402439024390244,
          0.12317073170731707,
          0.1315040650406504,
          0.14227642276422764,
          0.1563008130081301,
          0.16707317073170733,
          0.18556910569105692,
          0.20548780487804877,
          0.2233739837398374,
          0.24308943089430896,
          0.2605691056910569,
          0.2758130081300813
         ]
        },
        {
         "mode": "lines+markers",
         "name": "Score_test",
         "type": "scatter",
         "x": [
          1,
          2,
          3,
          4,
          5,
          6,
          7,
          8,
          9,
          10,
          11,
          12,
          13
         ],
         "y": [
          0.10666666666666667,
          0.11333333333333333,
          0.15,
          0.15333333333333332,
          0.15666666666666668,
          0.14666666666666667,
          0.15666666666666668,
          0.14,
          0.10666666666666667,
          0.11666666666666667,
          0.09,
          0.09666666666666666,
          0.09
         ]
        }
       ],
       "layout": {
        "template": {
         "data": {
          "bar": [
           {
            "error_x": {
             "color": "#2a3f5f"
            },
            "error_y": {
             "color": "#2a3f5f"
            },
            "marker": {
             "line": {
              "color": "#E5ECF6",
              "width": 0.5
             }
            },
            "type": "bar"
           }
          ],
          "barpolar": [
           {
            "marker": {
             "line": {
              "color": "#E5ECF6",
              "width": 0.5
             }
            },
            "type": "barpolar"
           }
          ],
          "carpet": [
           {
            "aaxis": {
             "endlinecolor": "#2a3f5f",
             "gridcolor": "white",
             "linecolor": "white",
             "minorgridcolor": "white",
             "startlinecolor": "#2a3f5f"
            },
            "baxis": {
             "endlinecolor": "#2a3f5f",
             "gridcolor": "white",
             "linecolor": "white",
             "minorgridcolor": "white",
             "startlinecolor": "#2a3f5f"
            },
            "type": "carpet"
           }
          ],
          "choropleth": [
           {
            "colorbar": {
             "outlinewidth": 0,
             "ticks": ""
            },
            "type": "choropleth"
           }
          ],
          "contour": [
           {
            "colorbar": {
             "outlinewidth": 0,
             "ticks": ""
            },
            "colorscale": [
             [
              0,
              "#0d0887"
             ],
             [
              0.1111111111111111,
              "#46039f"
             ],
             [
              0.2222222222222222,
              "#7201a8"
             ],
             [
              0.3333333333333333,
              "#9c179e"
             ],
             [
              0.4444444444444444,
              "#bd3786"
             ],
             [
              0.5555555555555556,
              "#d8576b"
             ],
             [
              0.6666666666666666,
              "#ed7953"
             ],
             [
              0.7777777777777778,
              "#fb9f3a"
             ],
             [
              0.8888888888888888,
              "#fdca26"
             ],
             [
              1,
              "#f0f921"
             ]
            ],
            "type": "contour"
           }
          ],
          "contourcarpet": [
           {
            "colorbar": {
             "outlinewidth": 0,
             "ticks": ""
            },
            "type": "contourcarpet"
           }
          ],
          "heatmap": [
           {
            "colorbar": {
             "outlinewidth": 0,
             "ticks": ""
            },
            "colorscale": [
             [
              0,
              "#0d0887"
             ],
             [
              0.1111111111111111,
              "#46039f"
             ],
             [
              0.2222222222222222,
              "#7201a8"
             ],
             [
              0.3333333333333333,
              "#9c179e"
             ],
             [
              0.4444444444444444,
              "#bd3786"
             ],
             [
              0.5555555555555556,
              "#d8576b"
             ],
             [
              0.6666666666666666,
              "#ed7953"
             ],
             [
              0.7777777777777778,
              "#fb9f3a"
             ],
             [
              0.8888888888888888,
              "#fdca26"
             ],
             [
              1,
              "#f0f921"
             ]
            ],
            "type": "heatmap"
           }
          ],
          "heatmapgl": [
           {
            "colorbar": {
             "outlinewidth": 0,
             "ticks": ""
            },
            "colorscale": [
             [
              0,
              "#0d0887"
             ],
             [
              0.1111111111111111,
              "#46039f"
             ],
             [
              0.2222222222222222,
              "#7201a8"
             ],
             [
              0.3333333333333333,
              "#9c179e"
             ],
             [
              0.4444444444444444,
              "#bd3786"
             ],
             [
              0.5555555555555556,
              "#d8576b"
             ],
             [
              0.6666666666666666,
              "#ed7953"
             ],
             [
              0.7777777777777778,
              "#fb9f3a"
             ],
             [
              0.8888888888888888,
              "#fdca26"
             ],
             [
              1,
              "#f0f921"
             ]
            ],
            "type": "heatmapgl"
           }
          ],
          "histogram": [
           {
            "marker": {
             "colorbar": {
              "outlinewidth": 0,
              "ticks": ""
             }
            },
            "type": "histogram"
           }
          ],
          "histogram2d": [
           {
            "colorbar": {
             "outlinewidth": 0,
             "ticks": ""
            },
            "colorscale": [
             [
              0,
              "#0d0887"
             ],
             [
              0.1111111111111111,
              "#46039f"
             ],
             [
              0.2222222222222222,
              "#7201a8"
             ],
             [
              0.3333333333333333,
              "#9c179e"
             ],
             [
              0.4444444444444444,
              "#bd3786"
             ],
             [
              0.5555555555555556,
              "#d8576b"
             ],
             [
              0.6666666666666666,
              "#ed7953"
             ],
             [
              0.7777777777777778,
              "#fb9f3a"
             ],
             [
              0.8888888888888888,
              "#fdca26"
             ],
             [
              1,
              "#f0f921"
             ]
            ],
            "type": "histogram2d"
           }
          ],
          "histogram2dcontour": [
           {
            "colorbar": {
             "outlinewidth": 0,
             "ticks": ""
            },
            "colorscale": [
             [
              0,
              "#0d0887"
             ],
             [
              0.1111111111111111,
              "#46039f"
             ],
             [
              0.2222222222222222,
              "#7201a8"
             ],
             [
              0.3333333333333333,
              "#9c179e"
             ],
             [
              0.4444444444444444,
              "#bd3786"
             ],
             [
              0.5555555555555556,
              "#d8576b"
             ],
             [
              0.6666666666666666,
              "#ed7953"
             ],
             [
              0.7777777777777778,
              "#fb9f3a"
             ],
             [
              0.8888888888888888,
              "#fdca26"
             ],
             [
              1,
              "#f0f921"
             ]
            ],
            "type": "histogram2dcontour"
           }
          ],
          "mesh3d": [
           {
            "colorbar": {
             "outlinewidth": 0,
             "ticks": ""
            },
            "type": "mesh3d"
           }
          ],
          "parcoords": [
           {
            "line": {
             "colorbar": {
              "outlinewidth": 0,
              "ticks": ""
             }
            },
            "type": "parcoords"
           }
          ],
          "pie": [
           {
            "automargin": true,
            "type": "pie"
           }
          ],
          "scatter": [
           {
            "marker": {
             "colorbar": {
              "outlinewidth": 0,
              "ticks": ""
             }
            },
            "type": "scatter"
           }
          ],
          "scatter3d": [
           {
            "line": {
             "colorbar": {
              "outlinewidth": 0,
              "ticks": ""
             }
            },
            "marker": {
             "colorbar": {
              "outlinewidth": 0,
              "ticks": ""
             }
            },
            "type": "scatter3d"
           }
          ],
          "scattercarpet": [
           {
            "marker": {
             "colorbar": {
              "outlinewidth": 0,
              "ticks": ""
             }
            },
            "type": "scattercarpet"
           }
          ],
          "scattergeo": [
           {
            "marker": {
             "colorbar": {
              "outlinewidth": 0,
              "ticks": ""
             }
            },
            "type": "scattergeo"
           }
          ],
          "scattergl": [
           {
            "marker": {
             "colorbar": {
              "outlinewidth": 0,
              "ticks": ""
             }
            },
            "type": "scattergl"
           }
          ],
          "scattermapbox": [
           {
            "marker": {
             "colorbar": {
              "outlinewidth": 0,
              "ticks": ""
             }
            },
            "type": "scattermapbox"
           }
          ],
          "scatterpolar": [
           {
            "marker": {
             "colorbar": {
              "outlinewidth": 0,
              "ticks": ""
             }
            },
            "type": "scatterpolar"
           }
          ],
          "scatterpolargl": [
           {
            "marker": {
             "colorbar": {
              "outlinewidth": 0,
              "ticks": ""
             }
            },
            "type": "scatterpolargl"
           }
          ],
          "scatterternary": [
           {
            "marker": {
             "colorbar": {
              "outlinewidth": 0,
              "ticks": ""
             }
            },
            "type": "scatterternary"
           }
          ],
          "surface": [
           {
            "colorbar": {
             "outlinewidth": 0,
             "ticks": ""
            },
            "colorscale": [
             [
              0,
              "#0d0887"
             ],
             [
              0.1111111111111111,
              "#46039f"
             ],
             [
              0.2222222222222222,
              "#7201a8"
             ],
             [
              0.3333333333333333,
              "#9c179e"
             ],
             [
              0.4444444444444444,
              "#bd3786"
             ],
             [
              0.5555555555555556,
              "#d8576b"
             ],
             [
              0.6666666666666666,
              "#ed7953"
             ],
             [
              0.7777777777777778,
              "#fb9f3a"
             ],
             [
              0.8888888888888888,
              "#fdca26"
             ],
             [
              1,
              "#f0f921"
             ]
            ],
            "type": "surface"
           }
          ],
          "table": [
           {
            "cells": {
             "fill": {
              "color": "#EBF0F8"
             },
             "line": {
              "color": "white"
             }
            },
            "header": {
             "fill": {
              "color": "#C8D4E3"
             },
             "line": {
              "color": "white"
             }
            },
            "type": "table"
           }
          ]
         },
         "layout": {
          "annotationdefaults": {
           "arrowcolor": "#2a3f5f",
           "arrowhead": 0,
           "arrowwidth": 1
          },
          "coloraxis": {
           "colorbar": {
            "outlinewidth": 0,
            "ticks": ""
           }
          },
          "colorscale": {
           "diverging": [
            [
             0,
             "#8e0152"
            ],
            [
             0.1,
             "#c51b7d"
            ],
            [
             0.2,
             "#de77ae"
            ],
            [
             0.3,
             "#f1b6da"
            ],
            [
             0.4,
             "#fde0ef"
            ],
            [
             0.5,
             "#f7f7f7"
            ],
            [
             0.6,
             "#e6f5d0"
            ],
            [
             0.7,
             "#b8e186"
            ],
            [
             0.8,
             "#7fbc41"
            ],
            [
             0.9,
             "#4d9221"
            ],
            [
             1,
             "#276419"
            ]
           ],
           "sequential": [
            [
             0,
             "#0d0887"
            ],
            [
             0.1111111111111111,
             "#46039f"
            ],
            [
             0.2222222222222222,
             "#7201a8"
            ],
            [
             0.3333333333333333,
             "#9c179e"
            ],
            [
             0.4444444444444444,
             "#bd3786"
            ],
            [
             0.5555555555555556,
             "#d8576b"
            ],
            [
             0.6666666666666666,
             "#ed7953"
            ],
            [
             0.7777777777777778,
             "#fb9f3a"
            ],
            [
             0.8888888888888888,
             "#fdca26"
            ],
            [
             1,
             "#f0f921"
            ]
           ],
           "sequentialminus": [
            [
             0,
             "#0d0887"
            ],
            [
             0.1111111111111111,
             "#46039f"
            ],
            [
             0.2222222222222222,
             "#7201a8"
            ],
            [
             0.3333333333333333,
             "#9c179e"
            ],
            [
             0.4444444444444444,
             "#bd3786"
            ],
            [
             0.5555555555555556,
             "#d8576b"
            ],
            [
             0.6666666666666666,
             "#ed7953"
            ],
            [
             0.7777777777777778,
             "#fb9f3a"
            ],
            [
             0.8888888888888888,
             "#fdca26"
            ],
            [
             1,
             "#f0f921"
            ]
           ]
          },
          "colorway": [
           "#636efa",
           "#EF553B",
           "#00cc96",
           "#ab63fa",
           "#FFA15A",
           "#19d3f3",
           "#FF6692",
           "#B6E880",
           "#FF97FF",
           "#FECB52"
          ],
          "font": {
           "color": "#2a3f5f"
          },
          "geo": {
           "bgcolor": "white",
           "lakecolor": "white",
           "landcolor": "#E5ECF6",
           "showlakes": true,
           "showland": true,
           "subunitcolor": "white"
          },
          "hoverlabel": {
           "align": "left"
          },
          "hovermode": "closest",
          "mapbox": {
           "style": "light"
          },
          "paper_bgcolor": "white",
          "plot_bgcolor": "#E5ECF6",
          "polar": {
           "angularaxis": {
            "gridcolor": "white",
            "linecolor": "white",
            "ticks": ""
           },
           "bgcolor": "#E5ECF6",
           "radialaxis": {
            "gridcolor": "white",
            "linecolor": "white",
            "ticks": ""
           }
          },
          "scene": {
           "xaxis": {
            "backgroundcolor": "#E5ECF6",
            "gridcolor": "white",
            "gridwidth": 2,
            "linecolor": "white",
            "showbackground": true,
            "ticks": "",
            "zerolinecolor": "white"
           },
           "yaxis": {
            "backgroundcolor": "#E5ECF6",
            "gridcolor": "white",
            "gridwidth": 2,
            "linecolor": "white",
            "showbackground": true,
            "ticks": "",
            "zerolinecolor": "white"
           },
           "zaxis": {
            "backgroundcolor": "#E5ECF6",
            "gridcolor": "white",
            "gridwidth": 2,
            "linecolor": "white",
            "showbackground": true,
            "ticks": "",
            "zerolinecolor": "white"
           }
          },
          "shapedefaults": {
           "line": {
            "color": "#2a3f5f"
           }
          },
          "ternary": {
           "aaxis": {
            "gridcolor": "white",
            "linecolor": "white",
            "ticks": ""
           },
           "baxis": {
            "gridcolor": "white",
            "linecolor": "white",
            "ticks": ""
           },
           "bgcolor": "#E5ECF6",
           "caxis": {
            "gridcolor": "white",
            "linecolor": "white",
            "ticks": ""
           }
          },
          "title": {
           "x": 0.05
          },
          "xaxis": {
           "automargin": true,
           "gridcolor": "white",
           "linecolor": "white",
           "ticks": "",
           "title": {
            "standoff": 15
           },
           "zerolinecolor": "white",
           "zerolinewidth": 2
          },
          "yaxis": {
           "automargin": true,
           "gridcolor": "white",
           "linecolor": "white",
           "ticks": "",
           "title": {
            "standoff": 15
           },
           "zerolinecolor": "white",
           "zerolinewidth": 2
          }
         }
        }
       }
      },
      "text/html": [
       "<div>                            <div id=\"1f09e3f3-97be-4de7-8630-9cfdd94e160d\" class=\"plotly-graph-div\" style=\"height:525px; width:100%;\"></div>            <script type=\"text/javascript\">                require([\"plotly\"], function(Plotly) {                    window.PLOTLYENV=window.PLOTLYENV || {};                                    if (document.getElementById(\"1f09e3f3-97be-4de7-8630-9cfdd94e160d\")) {                    Plotly.newPlot(                        \"1f09e3f3-97be-4de7-8630-9cfdd94e160d\",                        [{\"mode\": \"lines+markers\", \"name\": \"Score_train\", \"type\": \"scatter\", \"x\": [1, 2, 3, 4, 5, 6, 7, 8, 9, 10, 11, 12, 13], \"y\": [0.0975609756097561, 0.11402439024390244, 0.12317073170731707, 0.1315040650406504, 0.14227642276422764, 0.1563008130081301, 0.16707317073170733, 0.18556910569105692, 0.20548780487804877, 0.2233739837398374, 0.24308943089430896, 0.2605691056910569, 0.2758130081300813]}, {\"mode\": \"lines+markers\", \"name\": \"Score_test\", \"type\": \"scatter\", \"x\": [1, 2, 3, 4, 5, 6, 7, 8, 9, 10, 11, 12, 13], \"y\": [0.10666666666666667, 0.11333333333333333, 0.15, 0.15333333333333332, 0.15666666666666668, 0.14666666666666667, 0.15666666666666668, 0.14, 0.10666666666666667, 0.11666666666666667, 0.09, 0.09666666666666666, 0.09]}],                        {\"template\": {\"data\": {\"bar\": [{\"error_x\": {\"color\": \"#2a3f5f\"}, \"error_y\": {\"color\": \"#2a3f5f\"}, \"marker\": {\"line\": {\"color\": \"#E5ECF6\", \"width\": 0.5}}, \"type\": \"bar\"}], \"barpolar\": [{\"marker\": {\"line\": {\"color\": \"#E5ECF6\", \"width\": 0.5}}, \"type\": \"barpolar\"}], \"carpet\": [{\"aaxis\": {\"endlinecolor\": \"#2a3f5f\", \"gridcolor\": \"white\", \"linecolor\": \"white\", \"minorgridcolor\": \"white\", \"startlinecolor\": \"#2a3f5f\"}, \"baxis\": {\"endlinecolor\": \"#2a3f5f\", \"gridcolor\": \"white\", \"linecolor\": \"white\", \"minorgridcolor\": \"white\", \"startlinecolor\": \"#2a3f5f\"}, \"type\": \"carpet\"}], \"choropleth\": [{\"colorbar\": {\"outlinewidth\": 0, \"ticks\": \"\"}, \"type\": \"choropleth\"}], \"contour\": [{\"colorbar\": {\"outlinewidth\": 0, \"ticks\": \"\"}, \"colorscale\": [[0.0, \"#0d0887\"], [0.1111111111111111, \"#46039f\"], [0.2222222222222222, \"#7201a8\"], [0.3333333333333333, \"#9c179e\"], [0.4444444444444444, \"#bd3786\"], [0.5555555555555556, \"#d8576b\"], [0.6666666666666666, \"#ed7953\"], [0.7777777777777778, \"#fb9f3a\"], [0.8888888888888888, \"#fdca26\"], [1.0, \"#f0f921\"]], \"type\": \"contour\"}], \"contourcarpet\": [{\"colorbar\": {\"outlinewidth\": 0, \"ticks\": \"\"}, \"type\": \"contourcarpet\"}], \"heatmap\": [{\"colorbar\": {\"outlinewidth\": 0, \"ticks\": \"\"}, \"colorscale\": [[0.0, \"#0d0887\"], [0.1111111111111111, \"#46039f\"], [0.2222222222222222, \"#7201a8\"], [0.3333333333333333, \"#9c179e\"], [0.4444444444444444, \"#bd3786\"], [0.5555555555555556, \"#d8576b\"], [0.6666666666666666, \"#ed7953\"], [0.7777777777777778, \"#fb9f3a\"], [0.8888888888888888, \"#fdca26\"], [1.0, \"#f0f921\"]], \"type\": \"heatmap\"}], \"heatmapgl\": [{\"colorbar\": {\"outlinewidth\": 0, \"ticks\": \"\"}, \"colorscale\": [[0.0, \"#0d0887\"], [0.1111111111111111, \"#46039f\"], [0.2222222222222222, \"#7201a8\"], [0.3333333333333333, \"#9c179e\"], [0.4444444444444444, \"#bd3786\"], [0.5555555555555556, \"#d8576b\"], [0.6666666666666666, \"#ed7953\"], [0.7777777777777778, \"#fb9f3a\"], [0.8888888888888888, \"#fdca26\"], [1.0, \"#f0f921\"]], \"type\": \"heatmapgl\"}], \"histogram\": [{\"marker\": {\"colorbar\": {\"outlinewidth\": 0, \"ticks\": \"\"}}, \"type\": \"histogram\"}], \"histogram2d\": [{\"colorbar\": {\"outlinewidth\": 0, \"ticks\": \"\"}, \"colorscale\": [[0.0, \"#0d0887\"], [0.1111111111111111, \"#46039f\"], [0.2222222222222222, \"#7201a8\"], [0.3333333333333333, \"#9c179e\"], [0.4444444444444444, \"#bd3786\"], [0.5555555555555556, \"#d8576b\"], [0.6666666666666666, \"#ed7953\"], [0.7777777777777778, \"#fb9f3a\"], [0.8888888888888888, \"#fdca26\"], [1.0, \"#f0f921\"]], \"type\": \"histogram2d\"}], \"histogram2dcontour\": [{\"colorbar\": {\"outlinewidth\": 0, \"ticks\": \"\"}, \"colorscale\": [[0.0, \"#0d0887\"], [0.1111111111111111, \"#46039f\"], [0.2222222222222222, \"#7201a8\"], [0.3333333333333333, \"#9c179e\"], [0.4444444444444444, \"#bd3786\"], [0.5555555555555556, \"#d8576b\"], [0.6666666666666666, \"#ed7953\"], [0.7777777777777778, \"#fb9f3a\"], [0.8888888888888888, \"#fdca26\"], [1.0, \"#f0f921\"]], \"type\": \"histogram2dcontour\"}], \"mesh3d\": [{\"colorbar\": {\"outlinewidth\": 0, \"ticks\": \"\"}, \"type\": \"mesh3d\"}], \"parcoords\": [{\"line\": {\"colorbar\": {\"outlinewidth\": 0, \"ticks\": \"\"}}, \"type\": \"parcoords\"}], \"pie\": [{\"automargin\": true, \"type\": \"pie\"}], \"scatter\": [{\"marker\": {\"colorbar\": {\"outlinewidth\": 0, \"ticks\": \"\"}}, \"type\": \"scatter\"}], \"scatter3d\": [{\"line\": {\"colorbar\": {\"outlinewidth\": 0, \"ticks\": \"\"}}, \"marker\": {\"colorbar\": {\"outlinewidth\": 0, \"ticks\": \"\"}}, \"type\": \"scatter3d\"}], \"scattercarpet\": [{\"marker\": {\"colorbar\": {\"outlinewidth\": 0, \"ticks\": \"\"}}, \"type\": \"scattercarpet\"}], \"scattergeo\": [{\"marker\": {\"colorbar\": {\"outlinewidth\": 0, \"ticks\": \"\"}}, \"type\": \"scattergeo\"}], \"scattergl\": [{\"marker\": {\"colorbar\": {\"outlinewidth\": 0, \"ticks\": \"\"}}, \"type\": \"scattergl\"}], \"scattermapbox\": [{\"marker\": {\"colorbar\": {\"outlinewidth\": 0, \"ticks\": \"\"}}, \"type\": \"scattermapbox\"}], \"scatterpolar\": [{\"marker\": {\"colorbar\": {\"outlinewidth\": 0, \"ticks\": \"\"}}, \"type\": \"scatterpolar\"}], \"scatterpolargl\": [{\"marker\": {\"colorbar\": {\"outlinewidth\": 0, \"ticks\": \"\"}}, \"type\": \"scatterpolargl\"}], \"scatterternary\": [{\"marker\": {\"colorbar\": {\"outlinewidth\": 0, \"ticks\": \"\"}}, \"type\": \"scatterternary\"}], \"surface\": [{\"colorbar\": {\"outlinewidth\": 0, \"ticks\": \"\"}, \"colorscale\": [[0.0, \"#0d0887\"], [0.1111111111111111, \"#46039f\"], [0.2222222222222222, \"#7201a8\"], [0.3333333333333333, \"#9c179e\"], [0.4444444444444444, \"#bd3786\"], [0.5555555555555556, \"#d8576b\"], [0.6666666666666666, \"#ed7953\"], [0.7777777777777778, \"#fb9f3a\"], [0.8888888888888888, \"#fdca26\"], [1.0, \"#f0f921\"]], \"type\": \"surface\"}], \"table\": [{\"cells\": {\"fill\": {\"color\": \"#EBF0F8\"}, \"line\": {\"color\": \"white\"}}, \"header\": {\"fill\": {\"color\": \"#C8D4E3\"}, \"line\": {\"color\": \"white\"}}, \"type\": \"table\"}]}, \"layout\": {\"annotationdefaults\": {\"arrowcolor\": \"#2a3f5f\", \"arrowhead\": 0, \"arrowwidth\": 1}, \"coloraxis\": {\"colorbar\": {\"outlinewidth\": 0, \"ticks\": \"\"}}, \"colorscale\": {\"diverging\": [[0, \"#8e0152\"], [0.1, \"#c51b7d\"], [0.2, \"#de77ae\"], [0.3, \"#f1b6da\"], [0.4, \"#fde0ef\"], [0.5, \"#f7f7f7\"], [0.6, \"#e6f5d0\"], [0.7, \"#b8e186\"], [0.8, \"#7fbc41\"], [0.9, \"#4d9221\"], [1, \"#276419\"]], \"sequential\": [[0.0, \"#0d0887\"], [0.1111111111111111, \"#46039f\"], [0.2222222222222222, \"#7201a8\"], [0.3333333333333333, \"#9c179e\"], [0.4444444444444444, \"#bd3786\"], [0.5555555555555556, \"#d8576b\"], [0.6666666666666666, \"#ed7953\"], [0.7777777777777778, \"#fb9f3a\"], [0.8888888888888888, \"#fdca26\"], [1.0, \"#f0f921\"]], \"sequentialminus\": [[0.0, \"#0d0887\"], [0.1111111111111111, \"#46039f\"], [0.2222222222222222, \"#7201a8\"], [0.3333333333333333, \"#9c179e\"], [0.4444444444444444, \"#bd3786\"], [0.5555555555555556, \"#d8576b\"], [0.6666666666666666, \"#ed7953\"], [0.7777777777777778, \"#fb9f3a\"], [0.8888888888888888, \"#fdca26\"], [1.0, \"#f0f921\"]]}, \"colorway\": [\"#636efa\", \"#EF553B\", \"#00cc96\", \"#ab63fa\", \"#FFA15A\", \"#19d3f3\", \"#FF6692\", \"#B6E880\", \"#FF97FF\", \"#FECB52\"], \"font\": {\"color\": \"#2a3f5f\"}, \"geo\": {\"bgcolor\": \"white\", \"lakecolor\": \"white\", \"landcolor\": \"#E5ECF6\", \"showlakes\": true, \"showland\": true, \"subunitcolor\": \"white\"}, \"hoverlabel\": {\"align\": \"left\"}, \"hovermode\": \"closest\", \"mapbox\": {\"style\": \"light\"}, \"paper_bgcolor\": \"white\", \"plot_bgcolor\": \"#E5ECF6\", \"polar\": {\"angularaxis\": {\"gridcolor\": \"white\", \"linecolor\": \"white\", \"ticks\": \"\"}, \"bgcolor\": \"#E5ECF6\", \"radialaxis\": {\"gridcolor\": \"white\", \"linecolor\": \"white\", \"ticks\": \"\"}}, \"scene\": {\"xaxis\": {\"backgroundcolor\": \"#E5ECF6\", \"gridcolor\": \"white\", \"gridwidth\": 2, \"linecolor\": \"white\", \"showbackground\": true, \"ticks\": \"\", \"zerolinecolor\": \"white\"}, \"yaxis\": {\"backgroundcolor\": \"#E5ECF6\", \"gridcolor\": \"white\", \"gridwidth\": 2, \"linecolor\": \"white\", \"showbackground\": true, \"ticks\": \"\", \"zerolinecolor\": \"white\"}, \"zaxis\": {\"backgroundcolor\": \"#E5ECF6\", \"gridcolor\": \"white\", \"gridwidth\": 2, \"linecolor\": \"white\", \"showbackground\": true, \"ticks\": \"\", \"zerolinecolor\": \"white\"}}, \"shapedefaults\": {\"line\": {\"color\": \"#2a3f5f\"}}, \"ternary\": {\"aaxis\": {\"gridcolor\": \"white\", \"linecolor\": \"white\", \"ticks\": \"\"}, \"baxis\": {\"gridcolor\": \"white\", \"linecolor\": \"white\", \"ticks\": \"\"}, \"bgcolor\": \"#E5ECF6\", \"caxis\": {\"gridcolor\": \"white\", \"linecolor\": \"white\", \"ticks\": \"\"}}, \"title\": {\"x\": 0.05}, \"xaxis\": {\"automargin\": true, \"gridcolor\": \"white\", \"linecolor\": \"white\", \"ticks\": \"\", \"title\": {\"standoff\": 15}, \"zerolinecolor\": \"white\", \"zerolinewidth\": 2}, \"yaxis\": {\"automargin\": true, \"gridcolor\": \"white\", \"linecolor\": \"white\", \"ticks\": \"\", \"title\": {\"standoff\": 15}, \"zerolinecolor\": \"white\", \"zerolinewidth\": 2}}}},                        {\"responsive\": true}                    ).then(function(){\n",
       "                            \n",
       "var gd = document.getElementById('1f09e3f3-97be-4de7-8630-9cfdd94e160d');\n",
       "var x = new MutationObserver(function (mutations, observer) {{\n",
       "        var display = window.getComputedStyle(gd).display;\n",
       "        if (!display || display === 'none') {{\n",
       "            console.log([gd, 'removed!']);\n",
       "            Plotly.purge(gd);\n",
       "            observer.disconnect();\n",
       "        }}\n",
       "}});\n",
       "\n",
       "// Listen for the removal of the full notebook cells\n",
       "var notebookContainer = gd.closest('#notebook-container');\n",
       "if (notebookContainer) {{\n",
       "    x.observe(notebookContainer, {childList: true});\n",
       "}}\n",
       "\n",
       "// Listen for the clearing of the current output cell\n",
       "var outputEl = gd.closest('.output');\n",
       "if (outputEl) {{\n",
       "    x.observe(outputEl, {childList: true});\n",
       "}}\n",
       "\n",
       "                        })                };                });            </script>        </div>"
      ]
     },
     "metadata": {},
     "output_type": "display_data"
    }
   ],
   "source": [
    "score_df=pd.DataFrame(index=lista_x, data={'Score_train':lista_strain, \n",
    "                            'Score_test':lista_stest})\n",
    "fig = go.Figure()\n",
    "fig.add_trace(go.Scatter(x=score_df.index,y=score_df['Score_train'], mode='lines+markers', name='Score_train'))\n",
    "fig.add_trace(go.Scatter(x=score_df.index,y=score_df['Score_test'], mode='lines+markers', name='Score_test'))\n",
    "fig.show()"
   ]
  },
  {
   "cell_type": "code",
   "execution_count": 163,
   "metadata": {
    "ExecuteTime": {
     "end_time": "2021-04-15T15:35:53.784725Z",
     "start_time": "2021-04-15T15:35:53.774726Z"
    }
   },
   "outputs": [],
   "source": [
    "def pinta (x,target,texto):\n",
    "    # Definimos tantas columnas como variables nos pasen\n",
    "    fig,ax=plt.subplots(11,len(x))\n",
    "    fig.suptitle(texto)\n",
    "    fig.set_size_inches(16,16)\n",
    "    j=0\n",
    "    for b in x:\n",
    "        _X=X_test_head[['Pred-'+target+'-'+str(b),target,'Success-'+str(b)]]\n",
    "        ax[0,j].set_title('Deep:'+str(b))\n",
    "        for a in list(range(0,11)):\n",
    "            #ax[a-1,0].set_ylabel('Resultado '+str(a))\n",
    "            #ax[a-1,j].hist(x=_X[_X[target]==a]['Success-'+str(b)], color='#F2AB6D', rwidth=0.85,)\n",
    "            ax[a,0].set_ylabel('Resultado '+str(a))\n",
    "            ax[a,j].hist(x=_X[_X[target]==a]['Success-'+str(b)], color='#F2AB6D', rwidth=0.85,)\n",
    "        j+=1\n",
    "    #fig.savefig('./figura.jpg')"
   ]
  },
  {
   "cell_type": "code",
   "execution_count": 164,
   "metadata": {
    "ExecuteTime": {
     "end_time": "2021-04-15T15:36:09.213248Z",
     "start_time": "2021-04-15T15:36:00.394211Z"
    }
   },
   "outputs": [
    {
     "data": {
      "image/png": "[encoded data removed]",
      "text/plain": [
       "<Figure size 1152x1152 with 88 Axes>"
      ]
     },
     "metadata": {
      "needs_background": "light"
     },
     "output_type": "display_data"
    }
   ],
   "source": [
    "pinta([2,3,4,5,6,7,8,9],'resultadoGolesFT_Code','Aciertos-Fallos con borrado de 200 0 y 1')"
   ]
  },
  {
   "cell_type": "markdown",
   "metadata": {},
   "source": [
    "## Matriz de confusion para los mejores"
   ]
  },
  {
   "cell_type": "code",
   "execution_count": 167,
   "metadata": {
    "ExecuteTime": {
     "end_time": "2021-04-15T15:40:12.477055Z",
     "start_time": "2021-04-15T15:40:11.562004Z"
    }
   },
   "outputs": [
    {
     "name": "stdout",
     "output_type": "stream",
     "text": [
      "Jornada: 2020-09-12\n",
      "Resultados para: depth: 13 - Train: 0.14227642276422764 - Test 0.15666666666666668\n"
     ]
    }
   ],
   "source": [
    "print('Jornada: '+str(a))\n",
    "X_test_head = liga[['HomeTeam','AwayTeam','Date']][liga[\"Date1\"]>= a]\n",
    "X_test_head=X_test_head[10:]\n",
    "dt = DecisionTreeClassifier(max_depth=5, random_state=RANDOM_STATE,min_samples_leaf=5 ,min_samples_split=20)\n",
    "dt.fit(X_train,Y_train)\n",
    "score_train=dt.score(X_train, Y_train)\n",
    "score_test=dt.score(X_test, Y_test)\n",
    "print('Resultados para: depth: {} - Train: {} - Test {}'.format(x,score_train,score_test))\n",
    "# Predecimos resultado final:\n",
    "y_test_pred=pd.DataFrame(dt.predict(X_test), index=Y_test.index, columns=['Pred-resultadoGolesFT_Code'])\n",
    "X_test_head = pd.concat([X_test_head, y_test_pred], axis=1)\n",
    "X_test_head = pd.concat([X_test_head, Y_test], axis=1)\n",
    "X_test_head['Success']=(X_test_head['Pred-resultadoGolesFT_Code']==X_test_head['resultadoGolesFT_Code']).astype(int)"
   ]
  },
  {
   "cell_type": "code",
   "execution_count": 168,
   "metadata": {
    "ExecuteTime": {
     "end_time": "2021-04-15T15:41:47.887710Z",
     "start_time": "2021-04-15T15:41:47.865708Z"
    }
   },
   "outputs": [
    {
     "data": {
      "text/plain": [
       "array([[25,  0,  1,  7,  0, 17,  0,  0,  0,  1,  0,  0,  0,  0,  0,  0,\n",
       "         0,  0,  0,  0],\n",
       "       [11,  0,  0, 11,  1,  5,  0,  0,  0,  0,  1,  0,  0,  0,  0,  0,\n",
       "         0,  0,  0,  0],\n",
       "       [13,  0,  0,  7,  0,  9,  0,  0,  0,  0,  0,  0,  0,  0,  0,  0,\n",
       "         0,  0,  0,  0],\n",
       "       [ 8,  0,  0, 10,  0,  4,  0,  0,  0,  1,  0,  0,  0,  0,  0,  0,\n",
       "         0,  0,  0,  1],\n",
       "       [12,  0,  0,  1,  0, 10,  0,  0,  0,  0,  0,  0,  0,  0,  0,  0,\n",
       "         0,  0,  0,  0],\n",
       "       [12,  0,  0,  4,  0,  8,  0,  0,  0,  0,  0,  0,  0,  0,  0,  0,\n",
       "         0,  0,  0,  1],\n",
       "       [ 5,  0,  0,  2,  0,  5,  0,  0,  0,  0,  0,  0,  0,  0,  0,  0,\n",
       "         0,  0,  0,  0],\n",
       "       [ 8,  0,  0,  2,  1,  9,  0,  1,  0,  0,  1,  0,  0,  0,  0,  0,\n",
       "         0,  0,  0,  0],\n",
       "       [ 1,  0,  0,  3,  0,  3,  0,  0,  0,  0,  0,  0,  0,  0,  0,  0,\n",
       "         0,  0,  0,  0],\n",
       "       [ 7,  0,  0,  3,  0,  0,  0,  0,  0,  0,  0,  0,  0,  0,  0,  0,\n",
       "         0,  0,  0,  0],\n",
       "       [ 7,  0,  0,  4,  1,  2,  0,  0,  0,  0,  1,  0,  0,  0,  0,  0,\n",
       "         0,  0,  0,  0],\n",
       "       [ 3,  0,  0,  1,  0,  0,  0,  0,  0,  0,  0,  0,  0,  0,  0,  0,\n",
       "         0,  0,  0,  0],\n",
       "       [ 6,  0,  0,  0,  0,  6,  0,  0,  0,  0,  1,  0,  0,  0,  0,  0,\n",
       "         0,  0,  0,  0],\n",
       "       [ 2,  0,  0,  1,  0,  1,  0,  0,  0,  0,  0,  0,  0,  0,  0,  0,\n",
       "         0,  0,  0,  2],\n",
       "       [ 1,  0,  0,  0,  0,  4,  0,  0,  0,  0,  0,  0,  0,  0,  0,  0,\n",
       "         0,  0,  0,  0],\n",
       "       [ 0,  0,  0,  2,  0,  2,  0,  0,  0,  1,  0,  0,  0,  0,  0,  0,\n",
       "         0,  0,  0,  0],\n",
       "       [ 0,  0,  0,  0,  0,  3,  0,  0,  0,  0,  0,  0,  0,  0,  0,  0,\n",
       "         0,  0,  0,  0],\n",
       "       [ 0,  0,  0,  2,  0,  0,  0,  0,  0,  0,  0,  0,  0,  0,  0,  0,\n",
       "         0,  0,  0,  0],\n",
       "       [ 0,  0,  0,  0,  0,  2,  0,  0,  0,  0,  0,  0,  0,  0,  0,  0,\n",
       "         0,  0,  0,  0],\n",
       "       [ 5,  0,  0,  1,  0,  5,  0,  0,  0,  0,  0,  0,  0,  0,  0,  0,\n",
       "         0,  0,  0,  2]], dtype=int64)"
      ]
     },
     "execution_count": 168,
     "metadata": {},
     "output_type": "execute_result"
    }
   ],
   "source": [
    "# Para deep 5\n",
    "confusion_matrix(Y_test, dt.predict(X_test))\n"
   ]
  },
  {
   "cell_type": "code",
   "execution_count": 169,
   "metadata": {
    "ExecuteTime": {
     "end_time": "2021-04-15T15:43:49.972552Z",
     "start_time": "2021-04-15T15:43:49.948550Z"
    }
   },
   "outputs": [
    {
     "name": "stdout",
     "output_type": "stream",
     "text": [
      "              precision    recall  f1-score   support\n",
      "\n",
      "           0       0.20      0.49      0.28        51\n",
      "           1       0.00      0.00      0.00        29\n",
      "           2       0.00      0.00      0.00        29\n",
      "           3       0.16      0.42      0.24        24\n",
      "           4       0.00      0.00      0.00        23\n",
      "           5       0.08      0.32      0.13        25\n",
      "           6       0.00      0.00      0.00        12\n",
      "           7       1.00      0.05      0.09        22\n",
      "           8       0.00      0.00      0.00         7\n",
      "           9       0.00      0.00      0.00        10\n",
      "          10       0.25      0.07      0.11        15\n",
      "          11       0.00      0.00      0.00         4\n",
      "          12       0.00      0.00      0.00        13\n",
      "          13       0.00      0.00      0.00         6\n",
      "          14       0.00      0.00      0.00         5\n",
      "          15       0.00      0.00      0.00         5\n",
      "          16       0.00      0.00      0.00         3\n",
      "          17       0.00      0.00      0.00         2\n",
      "          18       0.00      0.00      0.00         2\n",
      "          20       0.33      0.15      0.21        13\n",
      "\n",
      "    accuracy                           0.16       300\n",
      "   macro avg       0.10      0.07      0.05       300\n",
      "weighted avg       0.15      0.16      0.10       300\n",
      "\n"
     ]
    },
    {
     "name": "stderr",
     "output_type": "stream",
     "text": [
      "C:\\ProgramData\\Anaconda3\\lib\\site-packages\\sklearn\\metrics\\_classification.py:1221: UndefinedMetricWarning:\n",
      "\n",
      "Precision and F-score are ill-defined and being set to 0.0 in labels with no predicted samples. Use `zero_division` parameter to control this behavior.\n",
      "\n"
     ]
    }
   ],
   "source": [
    "# Para deep 5\n",
    "print(classification_report(Y_test, dt.predict(X_test)))"
   ]
  },
  {
   "cell_type": "markdown",
   "metadata": {},
   "source": [
    "## Accuracy por jornadas "
   ]
  },
  {
   "cell_type": "code",
   "execution_count": 170,
   "metadata": {
    "ExecuteTime": {
     "end_time": "2021-04-15T15:45:45.559565Z",
     "start_time": "2021-04-15T15:45:31.446601Z"
    }
   },
   "outputs": [
    {
     "name": "stdout",
     "output_type": "stream",
     "text": [
      "Jornada: 30\n",
      "Resultados para: depth: 5 - Train: 0.14414587332053744 - Test 0.2\n",
      "Jornada: 29\n",
      "Resultados para: depth: 5 - Train: 0.14403846153846153 - Test 0.2\n",
      "Jornada: 28\n",
      "Resultados para: depth: 5 - Train: 0.14373795761078997 - Test 0.2\n",
      "Jornada: 27\n",
      "Resultados para: depth: 5 - Train: 0.14365707665572505 - Test 0.1\n",
      "Jornada: 26\n",
      "Resultados para: depth: 5 - Train: 0.14241486068111456 - Test 0.1\n",
      "Jornada: 25\n",
      "Resultados para: depth: 5 - Train: 0.1423032183016673 - Test 0.2\n",
      "Jornada: 24\n",
      "Resultados para: depth: 5 - Train: 0.14260734408393239 - Test 0.2\n",
      "Jornada: 23\n",
      "Resultados para: depth: 5 - Train: 0.139797507788162 - Test 0.4\n",
      "Jornada: 22\n",
      "Resultados para: depth: 5 - Train: 0.14009756097560977 - Test 0.1\n",
      "Jornada: 21\n",
      "Resultados para: depth: 5 - Train: 0.14037145650048877 - Test 0.0\n",
      "Jornada: 20\n",
      "Resultados para: depth: 5 - Train: 0.14123408423114595 - Test 0.2\n",
      "Jornada: 19\n",
      "Resultados para: depth: 5 - Train: 0.1423755700971644 - Test 0.0\n",
      "Jornada: 18\n",
      "Resultados para: depth: 5 - Train: 0.1423755700971644 - Test 0.0\n"
     ]
    }
   ],
   "source": [
    "lista_a=[]\n",
    "lista_x=[]\n",
    "lista_strain=[]\n",
    "lista_stest=[]\n",
    "resultados=[]\n",
    "for a in jornadas:   \n",
    "    dias_jornada=jornadas[a]\n",
    "    X_test = liga[liga[\"Date1\"].isin(dias_jornada)].drop(variables_borrar, axis = 1)\n",
    "    X_train = liga[liga['Date1']< jornadas[a][0]].drop(variables_borrar, axis = 1)\n",
    "    Y_test = liga[liga[\"Date1\"].isin(dias_jornada)]['resultadoGolesFT_Code']\n",
    "    Y_train = liga[liga['Date1']< jornadas[a][0]]['resultadoGolesFT_Code']\n",
    "    X_test_head = liga[['HomeTeam','AwayTeam','Date']][liga[\"Date1\"].isin(dias_jornada)]\n",
    "    X_test_head['Jornada']=a\n",
    "    \n",
    "    # Solo las 4000 primeras filas\n",
    "    #X_train=X_train[0:4000]\n",
    "    #Y_train=Y_train[0:4000]\n",
    "    \n",
    "    print('Jornada: '+str(a))\n",
    "    for x in [5]:\n",
    "        dt = DecisionTreeClassifier(max_depth=x, random_state=RANDOM_STATE,min_samples_leaf=5 ,min_samples_split=20)\n",
    "        dt.fit(X_train,Y_train)\n",
    "        score_train=dt.score(X_train, Y_train)\n",
    "        score_test=dt.score(X_test, Y_test)\n",
    "        print('Resultados para: depth: {} - Train: {} - Test {}'.format(x,score_train,score_test))\n",
    "        lista_a.append(a)\n",
    "        lista_x.append(x)\n",
    "        lista_strain.append(score_train)\n",
    "        lista_stest.append(score_test)\n",
    "        # Predecimos resultado final:\n",
    "        y_test_pred=pd.DataFrame(dt.predict(X_test), index=Y_test.index, columns=['Pred-resultadoGolesFT_Code-'+str(x)])\n",
    "        X_test_head = pd.concat([X_test_head, y_test_pred], axis=1)\n"
   ]
  },
  {
   "cell_type": "code",
   "execution_count": 171,
   "metadata": {
    "ExecuteTime": {
     "end_time": "2021-04-15T15:45:49.828551Z",
     "start_time": "2021-04-15T15:45:49.810551Z"
    }
   },
   "outputs": [
    {
     "data": {
      "application/vnd.plotly.v1+json": {
       "config": {
        "plotlyServerURL": "https://plot.ly"
       },
       "data": [
        {
         "mode": "lines+markers",
         "name": "Score_test",
         "type": "scatter",
         "x": [
          30,
          29,
          28,
          27,
          26,
          25,
          24,
          23,
          22,
          21,
          20,
          19,
          18
         ],
         "y": [
          0.2,
          0.2,
          0.2,
          0.1,
          0.1,
          0.2,
          0.2,
          0.4,
          0.1,
          0,
          0.2,
          0,
          0
         ]
        }
       ],
       "layout": {
        "template": {
         "data": {
          "bar": [
           {
            "error_x": {
             "color": "#2a3f5f"
            },
            "error_y": {
             "color": "#2a3f5f"
            },
            "marker": {
             "line": {
              "color": "#E5ECF6",
              "width": 0.5
             }
            },
            "type": "bar"
           }
          ],
          "barpolar": [
           {
            "marker": {
             "line": {
              "color": "#E5ECF6",
              "width": 0.5
             }
            },
            "type": "barpolar"
           }
          ],
          "carpet": [
           {
            "aaxis": {
             "endlinecolor": "#2a3f5f",
             "gridcolor": "white",
             "linecolor": "white",
             "minorgridcolor": "white",
             "startlinecolor": "#2a3f5f"
            },
            "baxis": {
             "endlinecolor": "#2a3f5f",
             "gridcolor": "white",
             "linecolor": "white",
             "minorgridcolor": "white",
             "startlinecolor": "#2a3f5f"
            },
            "type": "carpet"
           }
          ],
          "choropleth": [
           {
            "colorbar": {
             "outlinewidth": 0,
             "ticks": ""
            },
            "type": "choropleth"
           }
          ],
          "contour": [
           {
            "colorbar": {
             "outlinewidth": 0,
             "ticks": ""
            },
            "colorscale": [
             [
              0,
              "#0d0887"
             ],
             [
              0.1111111111111111,
              "#46039f"
             ],
             [
              0.2222222222222222,
              "#7201a8"
             ],
             [
              0.3333333333333333,
              "#9c179e"
             ],
             [
              0.4444444444444444,
              "#bd3786"
             ],
             [
              0.5555555555555556,
              "#d8576b"
             ],
             [
              0.6666666666666666,
              "#ed7953"
             ],
             [
              0.7777777777777778,
              "#fb9f3a"
             ],
             [
              0.8888888888888888,
              "#fdca26"
             ],
             [
              1,
              "#f0f921"
             ]
            ],
            "type": "contour"
           }
          ],
          "contourcarpet": [
           {
            "colorbar": {
             "outlinewidth": 0,
             "ticks": ""
            },
            "type": "contourcarpet"
           }
          ],
          "heatmap": [
           {
            "colorbar": {
             "outlinewidth": 0,
             "ticks": ""
            },
            "colorscale": [
             [
              0,
              "#0d0887"
             ],
             [
              0.1111111111111111,
              "#46039f"
             ],
             [
              0.2222222222222222,
              "#7201a8"
             ],
             [
              0.3333333333333333,
              "#9c179e"
             ],
             [
              0.4444444444444444,
              "#bd3786"
             ],
             [
              0.5555555555555556,
              "#d8576b"
             ],
             [
              0.6666666666666666,
              "#ed7953"
             ],
             [
              0.7777777777777778,
              "#fb9f3a"
             ],
             [
              0.8888888888888888,
              "#fdca26"
             ],
             [
              1,
              "#f0f921"
             ]
            ],
            "type": "heatmap"
           }
          ],
          "heatmapgl": [
           {
            "colorbar": {
             "outlinewidth": 0,
             "ticks": ""
            },
            "colorscale": [
             [
              0,
              "#0d0887"
             ],
             [
              0.1111111111111111,
              "#46039f"
             ],
             [
              0.2222222222222222,
              "#7201a8"
             ],
             [
              0.3333333333333333,
              "#9c179e"
             ],
             [
              0.4444444444444444,
              "#bd3786"
             ],
             [
              0.5555555555555556,
              "#d8576b"
             ],
             [
              0.6666666666666666,
              "#ed7953"
             ],
             [
              0.7777777777777778,
              "#fb9f3a"
             ],
             [
              0.8888888888888888,
              "#fdca26"
             ],
             [
              1,
              "#f0f921"
             ]
            ],
            "type": "heatmapgl"
           }
          ],
          "histogram": [
           {
            "marker": {
             "colorbar": {
              "outlinewidth": 0,
              "ticks": ""
             }
            },
            "type": "histogram"
           }
          ],
          "histogram2d": [
           {
            "colorbar": {
             "outlinewidth": 0,
             "ticks": ""
            },
            "colorscale": [
             [
              0,
              "#0d0887"
             ],
             [
              0.1111111111111111,
              "#46039f"
             ],
             [
              0.2222222222222222,
              "#7201a8"
             ],
             [
              0.3333333333333333,
              "#9c179e"
             ],
             [
              0.4444444444444444,
              "#bd3786"
             ],
             [
              0.5555555555555556,
              "#d8576b"
             ],
             [
              0.6666666666666666,
              "#ed7953"
             ],
             [
              0.7777777777777778,
              "#fb9f3a"
             ],
             [
              0.8888888888888888,
              "#fdca26"
             ],
             [
              1,
              "#f0f921"
             ]
            ],
            "type": "histogram2d"
           }
          ],
          "histogram2dcontour": [
           {
            "colorbar": {
             "outlinewidth": 0,
             "ticks": ""
            },
            "colorscale": [
             [
              0,
              "#0d0887"
             ],
             [
              0.1111111111111111,
              "#46039f"
             ],
             [
              0.2222222222222222,
              "#7201a8"
             ],
             [
              0.3333333333333333,
              "#9c179e"
             ],
             [
              0.4444444444444444,
              "#bd3786"
             ],
             [
              0.5555555555555556,
              "#d8576b"
             ],
             [
              0.6666666666666666,
              "#ed7953"
             ],
             [
              0.7777777777777778,
              "#fb9f3a"
             ],
             [
              0.8888888888888888,
              "#fdca26"
             ],
             [
              1,
              "#f0f921"
             ]
            ],
            "type": "histogram2dcontour"
           }
          ],
          "mesh3d": [
           {
            "colorbar": {
             "outlinewidth": 0,
             "ticks": ""
            },
            "type": "mesh3d"
           }
          ],
          "parcoords": [
           {
            "line": {
             "colorbar": {
              "outlinewidth": 0,
              "ticks": ""
             }
            },
            "type": "parcoords"
           }
          ],
          "pie": [
           {
            "automargin": true,
            "type": "pie"
           }
          ],
          "scatter": [
           {
            "marker": {
             "colorbar": {
              "outlinewidth": 0,
              "ticks": ""
             }
            },
            "type": "scatter"
           }
          ],
          "scatter3d": [
           {
            "line": {
             "colorbar": {
              "outlinewidth": 0,
              "ticks": ""
             }
            },
            "marker": {
             "colorbar": {
              "outlinewidth": 0,
              "ticks": ""
             }
            },
            "type": "scatter3d"
           }
          ],
          "scattercarpet": [
           {
            "marker": {
             "colorbar": {
              "outlinewidth": 0,
              "ticks": ""
             }
            },
            "type": "scattercarpet"
           }
          ],
          "scattergeo": [
           {
            "marker": {
             "colorbar": {
              "outlinewidth": 0,
              "ticks": ""
             }
            },
            "type": "scattergeo"
           }
          ],
          "scattergl": [
           {
            "marker": {
             "colorbar": {
              "outlinewidth": 0,
              "ticks": ""
             }
            },
            "type": "scattergl"
           }
          ],
          "scattermapbox": [
           {
            "marker": {
             "colorbar": {
              "outlinewidth": 0,
              "ticks": ""
             }
            },
            "type": "scattermapbox"
           }
          ],
          "scatterpolar": [
           {
            "marker": {
             "colorbar": {
              "outlinewidth": 0,
              "ticks": ""
             }
            },
            "type": "scatterpolar"
           }
          ],
          "scatterpolargl": [
           {
            "marker": {
             "colorbar": {
              "outlinewidth": 0,
              "ticks": ""
             }
            },
            "type": "scatterpolargl"
           }
          ],
          "scatterternary": [
           {
            "marker": {
             "colorbar": {
              "outlinewidth": 0,
              "ticks": ""
             }
            },
            "type": "scatterternary"
           }
          ],
          "surface": [
           {
            "colorbar": {
             "outlinewidth": 0,
             "ticks": ""
            },
            "colorscale": [
             [
              0,
              "#0d0887"
             ],
             [
              0.1111111111111111,
              "#46039f"
             ],
             [
              0.2222222222222222,
              "#7201a8"
             ],
             [
              0.3333333333333333,
              "#9c179e"
             ],
             [
              0.4444444444444444,
              "#bd3786"
             ],
             [
              0.5555555555555556,
              "#d8576b"
             ],
             [
              0.6666666666666666,
              "#ed7953"
             ],
             [
              0.7777777777777778,
              "#fb9f3a"
             ],
             [
              0.8888888888888888,
              "#fdca26"
             ],
             [
              1,
              "#f0f921"
             ]
            ],
            "type": "surface"
           }
          ],
          "table": [
           {
            "cells": {
             "fill": {
              "color": "#EBF0F8"
             },
             "line": {
              "color": "white"
             }
            },
            "header": {
             "fill": {
              "color": "#C8D4E3"
             },
             "line": {
              "color": "white"
             }
            },
            "type": "table"
           }
          ]
         },
         "layout": {
          "annotationdefaults": {
           "arrowcolor": "#2a3f5f",
           "arrowhead": 0,
           "arrowwidth": 1
          },
          "coloraxis": {
           "colorbar": {
            "outlinewidth": 0,
            "ticks": ""
           }
          },
          "colorscale": {
           "diverging": [
            [
             0,
             "#8e0152"
            ],
            [
             0.1,
             "#c51b7d"
            ],
            [
             0.2,
             "#de77ae"
            ],
            [
             0.3,
             "#f1b6da"
            ],
            [
             0.4,
             "#fde0ef"
            ],
            [
             0.5,
             "#f7f7f7"
            ],
            [
             0.6,
             "#e6f5d0"
            ],
            [
             0.7,
             "#b8e186"
            ],
            [
             0.8,
             "#7fbc41"
            ],
            [
             0.9,
             "#4d9221"
            ],
            [
             1,
             "#276419"
            ]
           ],
           "sequential": [
            [
             0,
             "#0d0887"
            ],
            [
             0.1111111111111111,
             "#46039f"
            ],
            [
             0.2222222222222222,
             "#7201a8"
            ],
            [
             0.3333333333333333,
             "#9c179e"
            ],
            [
             0.4444444444444444,
             "#bd3786"
            ],
            [
             0.5555555555555556,
             "#d8576b"
            ],
            [
             0.6666666666666666,
             "#ed7953"
            ],
            [
             0.7777777777777778,
             "#fb9f3a"
            ],
            [
             0.8888888888888888,
             "#fdca26"
            ],
            [
             1,
             "#f0f921"
            ]
           ],
           "sequentialminus": [
            [
             0,
             "#0d0887"
            ],
            [
             0.1111111111111111,
             "#46039f"
            ],
            [
             0.2222222222222222,
             "#7201a8"
            ],
            [
             0.3333333333333333,
             "#9c179e"
            ],
            [
             0.4444444444444444,
             "#bd3786"
            ],
            [
             0.5555555555555556,
             "#d8576b"
            ],
            [
             0.6666666666666666,
             "#ed7953"
            ],
            [
             0.7777777777777778,
             "#fb9f3a"
            ],
            [
             0.8888888888888888,
             "#fdca26"
            ],
            [
             1,
             "#f0f921"
            ]
           ]
          },
          "colorway": [
           "#636efa",
           "#EF553B",
           "#00cc96",
           "#ab63fa",
           "#FFA15A",
           "#19d3f3",
           "#FF6692",
           "#B6E880",
           "#FF97FF",
           "#FECB52"
          ],
          "font": {
           "color": "#2a3f5f"
          },
          "geo": {
           "bgcolor": "white",
           "lakecolor": "white",
           "landcolor": "#E5ECF6",
           "showlakes": true,
           "showland": true,
           "subunitcolor": "white"
          },
          "hoverlabel": {
           "align": "left"
          },
          "hovermode": "closest",
          "mapbox": {
           "style": "light"
          },
          "paper_bgcolor": "white",
          "plot_bgcolor": "#E5ECF6",
          "polar": {
           "angularaxis": {
            "gridcolor": "white",
            "linecolor": "white",
            "ticks": ""
           },
           "bgcolor": "#E5ECF6",
           "radialaxis": {
            "gridcolor": "white",
            "linecolor": "white",
            "ticks": ""
           }
          },
          "scene": {
           "xaxis": {
            "backgroundcolor": "#E5ECF6",
            "gridcolor": "white",
            "gridwidth": 2,
            "linecolor": "white",
            "showbackground": true,
            "ticks": "",
            "zerolinecolor": "white"
           },
           "yaxis": {
            "backgroundcolor": "#E5ECF6",
            "gridcolor": "white",
            "gridwidth": 2,
            "linecolor": "white",
            "showbackground": true,
            "ticks": "",
            "zerolinecolor": "white"
           },
           "zaxis": {
            "backgroundcolor": "#E5ECF6",
            "gridcolor": "white",
            "gridwidth": 2,
            "linecolor": "white",
            "showbackground": true,
            "ticks": "",
            "zerolinecolor": "white"
           }
          },
          "shapedefaults": {
           "line": {
            "color": "#2a3f5f"
           }
          },
          "ternary": {
           "aaxis": {
            "gridcolor": "white",
            "linecolor": "white",
            "ticks": ""
           },
           "baxis": {
            "gridcolor": "white",
            "linecolor": "white",
            "ticks": ""
           },
           "bgcolor": "#E5ECF6",
           "caxis": {
            "gridcolor": "white",
            "linecolor": "white",
            "ticks": ""
           }
          },
          "title": {
           "x": 0.05
          },
          "xaxis": {
           "automargin": true,
           "gridcolor": "white",
           "linecolor": "white",
           "ticks": "",
           "title": {
            "standoff": 15
           },
           "zerolinecolor": "white",
           "zerolinewidth": 2
          },
          "yaxis": {
           "automargin": true,
           "gridcolor": "white",
           "linecolor": "white",
           "ticks": "",
           "title": {
            "standoff": 15
           },
           "zerolinecolor": "white",
           "zerolinewidth": 2
          }
         }
        }
       }
      },
      "text/html": [
       "<div>                            <div id=\"fe7419cd-9070-4a3e-80c4-990ee4ec6cb6\" class=\"plotly-graph-div\" style=\"height:525px; width:100%;\"></div>            <script type=\"text/javascript\">                require([\"plotly\"], function(Plotly) {                    window.PLOTLYENV=window.PLOTLYENV || {};                                    if (document.getElementById(\"fe7419cd-9070-4a3e-80c4-990ee4ec6cb6\")) {                    Plotly.newPlot(                        \"fe7419cd-9070-4a3e-80c4-990ee4ec6cb6\",                        [{\"mode\": \"lines+markers\", \"name\": \"Score_test\", \"type\": \"scatter\", \"x\": [30, 29, 28, 27, 26, 25, 24, 23, 22, 21, 20, 19, 18], \"y\": [0.2, 0.2, 0.2, 0.1, 0.1, 0.2, 0.2, 0.4, 0.1, 0.0, 0.2, 0.0, 0.0]}],                        {\"template\": {\"data\": {\"bar\": [{\"error_x\": {\"color\": \"#2a3f5f\"}, \"error_y\": {\"color\": \"#2a3f5f\"}, \"marker\": {\"line\": {\"color\": \"#E5ECF6\", \"width\": 0.5}}, \"type\": \"bar\"}], \"barpolar\": [{\"marker\": {\"line\": {\"color\": \"#E5ECF6\", \"width\": 0.5}}, \"type\": \"barpolar\"}], \"carpet\": [{\"aaxis\": {\"endlinecolor\": \"#2a3f5f\", \"gridcolor\": \"white\", \"linecolor\": \"white\", \"minorgridcolor\": \"white\", \"startlinecolor\": \"#2a3f5f\"}, \"baxis\": {\"endlinecolor\": \"#2a3f5f\", \"gridcolor\": \"white\", \"linecolor\": \"white\", \"minorgridcolor\": \"white\", \"startlinecolor\": \"#2a3f5f\"}, \"type\": \"carpet\"}], \"choropleth\": [{\"colorbar\": {\"outlinewidth\": 0, \"ticks\": \"\"}, \"type\": \"choropleth\"}], \"contour\": [{\"colorbar\": {\"outlinewidth\": 0, \"ticks\": \"\"}, \"colorscale\": [[0.0, \"#0d0887\"], [0.1111111111111111, \"#46039f\"], [0.2222222222222222, \"#7201a8\"], [0.3333333333333333, \"#9c179e\"], [0.4444444444444444, \"#bd3786\"], [0.5555555555555556, \"#d8576b\"], [0.6666666666666666, \"#ed7953\"], [0.7777777777777778, \"#fb9f3a\"], [0.8888888888888888, \"#fdca26\"], [1.0, \"#f0f921\"]], \"type\": \"contour\"}], \"contourcarpet\": [{\"colorbar\": {\"outlinewidth\": 0, \"ticks\": \"\"}, \"type\": \"contourcarpet\"}], \"heatmap\": [{\"colorbar\": {\"outlinewidth\": 0, \"ticks\": \"\"}, \"colorscale\": [[0.0, \"#0d0887\"], [0.1111111111111111, \"#46039f\"], [0.2222222222222222, \"#7201a8\"], [0.3333333333333333, \"#9c179e\"], [0.4444444444444444, \"#bd3786\"], [0.5555555555555556, \"#d8576b\"], [0.6666666666666666, \"#ed7953\"], [0.7777777777777778, \"#fb9f3a\"], [0.8888888888888888, \"#fdca26\"], [1.0, \"#f0f921\"]], \"type\": \"heatmap\"}], \"heatmapgl\": [{\"colorbar\": {\"outlinewidth\": 0, \"ticks\": \"\"}, \"colorscale\": [[0.0, \"#0d0887\"], [0.1111111111111111, \"#46039f\"], [0.2222222222222222, \"#7201a8\"], [0.3333333333333333, \"#9c179e\"], [0.4444444444444444, \"#bd3786\"], [0.5555555555555556, \"#d8576b\"], [0.6666666666666666, \"#ed7953\"], [0.7777777777777778, \"#fb9f3a\"], [0.8888888888888888, \"#fdca26\"], [1.0, \"#f0f921\"]], \"type\": \"heatmapgl\"}], \"histogram\": [{\"marker\": {\"colorbar\": {\"outlinewidth\": 0, \"ticks\": \"\"}}, \"type\": \"histogram\"}], \"histogram2d\": [{\"colorbar\": {\"outlinewidth\": 0, \"ticks\": \"\"}, \"colorscale\": [[0.0, \"#0d0887\"], [0.1111111111111111, \"#46039f\"], [0.2222222222222222, \"#7201a8\"], [0.3333333333333333, \"#9c179e\"], [0.4444444444444444, \"#bd3786\"], [0.5555555555555556, \"#d8576b\"], [0.6666666666666666, \"#ed7953\"], [0.7777777777777778, \"#fb9f3a\"], [0.8888888888888888, \"#fdca26\"], [1.0, \"#f0f921\"]], \"type\": \"histogram2d\"}], \"histogram2dcontour\": [{\"colorbar\": {\"outlinewidth\": 0, \"ticks\": \"\"}, \"colorscale\": [[0.0, \"#0d0887\"], [0.1111111111111111, \"#46039f\"], [0.2222222222222222, \"#7201a8\"], [0.3333333333333333, \"#9c179e\"], [0.4444444444444444, \"#bd3786\"], [0.5555555555555556, \"#d8576b\"], [0.6666666666666666, \"#ed7953\"], [0.7777777777777778, \"#fb9f3a\"], [0.8888888888888888, \"#fdca26\"], [1.0, \"#f0f921\"]], \"type\": \"histogram2dcontour\"}], \"mesh3d\": [{\"colorbar\": {\"outlinewidth\": 0, \"ticks\": \"\"}, \"type\": \"mesh3d\"}], \"parcoords\": [{\"line\": {\"colorbar\": {\"outlinewidth\": 0, \"ticks\": \"\"}}, \"type\": \"parcoords\"}], \"pie\": [{\"automargin\": true, \"type\": \"pie\"}], \"scatter\": [{\"marker\": {\"colorbar\": {\"outlinewidth\": 0, \"ticks\": \"\"}}, \"type\": \"scatter\"}], \"scatter3d\": [{\"line\": {\"colorbar\": {\"outlinewidth\": 0, \"ticks\": \"\"}}, \"marker\": {\"colorbar\": {\"outlinewidth\": 0, \"ticks\": \"\"}}, \"type\": \"scatter3d\"}], \"scattercarpet\": [{\"marker\": {\"colorbar\": {\"outlinewidth\": 0, \"ticks\": \"\"}}, \"type\": \"scattercarpet\"}], \"scattergeo\": [{\"marker\": {\"colorbar\": {\"outlinewidth\": 0, \"ticks\": \"\"}}, \"type\": \"scattergeo\"}], \"scattergl\": [{\"marker\": {\"colorbar\": {\"outlinewidth\": 0, \"ticks\": \"\"}}, \"type\": \"scattergl\"}], \"scattermapbox\": [{\"marker\": {\"colorbar\": {\"outlinewidth\": 0, \"ticks\": \"\"}}, \"type\": \"scattermapbox\"}], \"scatterpolar\": [{\"marker\": {\"colorbar\": {\"outlinewidth\": 0, \"ticks\": \"\"}}, \"type\": \"scatterpolar\"}], \"scatterpolargl\": [{\"marker\": {\"colorbar\": {\"outlinewidth\": 0, \"ticks\": \"\"}}, \"type\": \"scatterpolargl\"}], \"scatterternary\": [{\"marker\": {\"colorbar\": {\"outlinewidth\": 0, \"ticks\": \"\"}}, \"type\": \"scatterternary\"}], \"surface\": [{\"colorbar\": {\"outlinewidth\": 0, \"ticks\": \"\"}, \"colorscale\": [[0.0, \"#0d0887\"], [0.1111111111111111, \"#46039f\"], [0.2222222222222222, \"#7201a8\"], [0.3333333333333333, \"#9c179e\"], [0.4444444444444444, \"#bd3786\"], [0.5555555555555556, \"#d8576b\"], [0.6666666666666666, \"#ed7953\"], [0.7777777777777778, \"#fb9f3a\"], [0.8888888888888888, \"#fdca26\"], [1.0, \"#f0f921\"]], \"type\": \"surface\"}], \"table\": [{\"cells\": {\"fill\": {\"color\": \"#EBF0F8\"}, \"line\": {\"color\": \"white\"}}, \"header\": {\"fill\": {\"color\": \"#C8D4E3\"}, \"line\": {\"color\": \"white\"}}, \"type\": \"table\"}]}, \"layout\": {\"annotationdefaults\": {\"arrowcolor\": \"#2a3f5f\", \"arrowhead\": 0, \"arrowwidth\": 1}, \"coloraxis\": {\"colorbar\": {\"outlinewidth\": 0, \"ticks\": \"\"}}, \"colorscale\": {\"diverging\": [[0, \"#8e0152\"], [0.1, \"#c51b7d\"], [0.2, \"#de77ae\"], [0.3, \"#f1b6da\"], [0.4, \"#fde0ef\"], [0.5, \"#f7f7f7\"], [0.6, \"#e6f5d0\"], [0.7, \"#b8e186\"], [0.8, \"#7fbc41\"], [0.9, \"#4d9221\"], [1, \"#276419\"]], \"sequential\": [[0.0, \"#0d0887\"], [0.1111111111111111, \"#46039f\"], [0.2222222222222222, \"#7201a8\"], [0.3333333333333333, \"#9c179e\"], [0.4444444444444444, \"#bd3786\"], [0.5555555555555556, \"#d8576b\"], [0.6666666666666666, \"#ed7953\"], [0.7777777777777778, \"#fb9f3a\"], [0.8888888888888888, \"#fdca26\"], [1.0, \"#f0f921\"]], \"sequentialminus\": [[0.0, \"#0d0887\"], [0.1111111111111111, \"#46039f\"], [0.2222222222222222, \"#7201a8\"], [0.3333333333333333, \"#9c179e\"], [0.4444444444444444, \"#bd3786\"], [0.5555555555555556, \"#d8576b\"], [0.6666666666666666, \"#ed7953\"], [0.7777777777777778, \"#fb9f3a\"], [0.8888888888888888, \"#fdca26\"], [1.0, \"#f0f921\"]]}, \"colorway\": [\"#636efa\", \"#EF553B\", \"#00cc96\", \"#ab63fa\", \"#FFA15A\", \"#19d3f3\", \"#FF6692\", \"#B6E880\", \"#FF97FF\", \"#FECB52\"], \"font\": {\"color\": \"#2a3f5f\"}, \"geo\": {\"bgcolor\": \"white\", \"lakecolor\": \"white\", \"landcolor\": \"#E5ECF6\", \"showlakes\": true, \"showland\": true, \"subunitcolor\": \"white\"}, \"hoverlabel\": {\"align\": \"left\"}, \"hovermode\": \"closest\", \"mapbox\": {\"style\": \"light\"}, \"paper_bgcolor\": \"white\", \"plot_bgcolor\": \"#E5ECF6\", \"polar\": {\"angularaxis\": {\"gridcolor\": \"white\", \"linecolor\": \"white\", \"ticks\": \"\"}, \"bgcolor\": \"#E5ECF6\", \"radialaxis\": {\"gridcolor\": \"white\", \"linecolor\": \"white\", \"ticks\": \"\"}}, \"scene\": {\"xaxis\": {\"backgroundcolor\": \"#E5ECF6\", \"gridcolor\": \"white\", \"gridwidth\": 2, \"linecolor\": \"white\", \"showbackground\": true, \"ticks\": \"\", \"zerolinecolor\": \"white\"}, \"yaxis\": {\"backgroundcolor\": \"#E5ECF6\", \"gridcolor\": \"white\", \"gridwidth\": 2, \"linecolor\": \"white\", \"showbackground\": true, \"ticks\": \"\", \"zerolinecolor\": \"white\"}, \"zaxis\": {\"backgroundcolor\": \"#E5ECF6\", \"gridcolor\": \"white\", \"gridwidth\": 2, \"linecolor\": \"white\", \"showbackground\": true, \"ticks\": \"\", \"zerolinecolor\": \"white\"}}, \"shapedefaults\": {\"line\": {\"color\": \"#2a3f5f\"}}, \"ternary\": {\"aaxis\": {\"gridcolor\": \"white\", \"linecolor\": \"white\", \"ticks\": \"\"}, \"baxis\": {\"gridcolor\": \"white\", \"linecolor\": \"white\", \"ticks\": \"\"}, \"bgcolor\": \"#E5ECF6\", \"caxis\": {\"gridcolor\": \"white\", \"linecolor\": \"white\", \"ticks\": \"\"}}, \"title\": {\"x\": 0.05}, \"xaxis\": {\"automargin\": true, \"gridcolor\": \"white\", \"linecolor\": \"white\", \"ticks\": \"\", \"title\": {\"standoff\": 15}, \"zerolinecolor\": \"white\", \"zerolinewidth\": 2}, \"yaxis\": {\"automargin\": true, \"gridcolor\": \"white\", \"linecolor\": \"white\", \"ticks\": \"\", \"title\": {\"standoff\": 15}, \"zerolinecolor\": \"white\", \"zerolinewidth\": 2}}}},                        {\"responsive\": true}                    ).then(function(){\n",
       "                            \n",
       "var gd = document.getElementById('fe7419cd-9070-4a3e-80c4-990ee4ec6cb6');\n",
       "var x = new MutationObserver(function (mutations, observer) {{\n",
       "        var display = window.getComputedStyle(gd).display;\n",
       "        if (!display || display === 'none') {{\n",
       "            console.log([gd, 'removed!']);\n",
       "            Plotly.purge(gd);\n",
       "            observer.disconnect();\n",
       "        }}\n",
       "}});\n",
       "\n",
       "// Listen for the removal of the full notebook cells\n",
       "var notebookContainer = gd.closest('#notebook-container');\n",
       "if (notebookContainer) {{\n",
       "    x.observe(notebookContainer, {childList: true});\n",
       "}}\n",
       "\n",
       "// Listen for the clearing of the current output cell\n",
       "var outputEl = gd.closest('.output');\n",
       "if (outputEl) {{\n",
       "    x.observe(outputEl, {childList: true});\n",
       "}}\n",
       "\n",
       "                        })                };                });            </script>        </div>"
      ]
     },
     "metadata": {},
     "output_type": "display_data"
    }
   ],
   "source": [
    "score_df=pd.DataFrame(index=lista_x, data={'Jornada':lista_a, \n",
    "                            'Score_test':lista_stest})\n",
    "fig = go.Figure()\n",
    "fig.add_trace(go.Scatter(x=score_df['Jornada'],y=score_df['Score_test'], mode='lines+markers', name='Score_test'))\n",
    "fig.show()"
   ]
  },
  {
   "cell_type": "code",
   "execution_count": 172,
   "metadata": {
    "ExecuteTime": {
     "end_time": "2021-04-15T15:46:28.875563Z",
     "start_time": "2021-04-15T15:46:28.868579Z"
    }
   },
   "outputs": [],
   "source": [
    "top_features = pd.Series(dt.feature_importances_, index=X_train.columns).sort_values(ascending=False).head(60)"
   ]
  },
  {
   "cell_type": "code",
   "execution_count": 173,
   "metadata": {
    "ExecuteTime": {
     "end_time": "2021-04-15T15:46:37.116989Z",
     "start_time": "2021-04-15T15:46:37.108989Z"
    }
   },
   "outputs": [
    {
     "data": {
      "text/plain": [
       "HomeTeamCode             0.163647\n",
       "ATM-WHH-2                0.114278\n",
       "HTM-VCD-10               0.060427\n",
       "F2F-H-B365D-3            0.046569\n",
       "F2F-H-HF-6               0.037043\n",
       "HTM-AF-5                 0.035711\n",
       "F2F-H-BWH-1              0.032782\n",
       "ATM-B365A-5              0.032235\n",
       "F2F-H-WHH-1              0.031363\n",
       "F2F-H-HC-4               0.031358\n",
       "HTM-B365A-8              0.029753\n",
       "HTM-BWH-4                0.028679\n",
       "HTM-VCD-5                0.028578\n",
       "HTM-HST-7                0.028548\n",
       "HTM-HS-5                 0.028470\n",
       "ATM-B365H-1              0.027521\n",
       "F2F-H-IWA-1              0.026643\n",
       "HTM-AwayTeamCode-5       0.026481\n",
       "ATM-IWH-3                0.026069\n",
       "HTM-deltaFTAG-8          0.025976\n",
       "HTM-AC-7                 0.025853\n",
       "F2F-H-HC-2               0.025422\n",
       "ATM-Day-3                0.023002\n",
       "ATM-HS-9                 0.022799\n",
       "ATM-BWH-10               0.021995\n",
       "ATM-WHA-3                0.018798\n",
       "HTM-Month-10             0.000000\n",
       "HTM-Month-8              0.000000\n",
       "HTM-Month-9              0.000000\n",
       "HTM-Month-7              0.000000\n",
       "HTM-Month-6              0.000000\n",
       "HTM-Day-4                0.000000\n",
       "HTM-Month-5              0.000000\n",
       "HTM-Month-4              0.000000\n",
       "HTM-Day-5                0.000000\n",
       "HTM-Year-2               0.000000\n",
       "HTM-Month-3              0.000000\n",
       "HTM-Month-2              0.000000\n",
       "HTM-Month-1              0.000000\n",
       "HTM-Day-10               0.000000\n",
       "HTM-Day-9                0.000000\n",
       "HTM-Day-8                0.000000\n",
       "HTM-Day-7                0.000000\n",
       "HTM-Day-6                0.000000\n",
       "HTM-Year-1               0.000000\n",
       "HTM-Year-7               0.000000\n",
       "HTM-Year-3               0.000000\n",
       "HTM-DayWeek_Code-10      0.000000\n",
       "HTM-deltaFTHG-4          0.000000\n",
       "HTM-deltaFTHG-3          0.000000\n",
       "HTM-deltaFTHG-2          0.000000\n",
       "HTM-deltaFTHG-1          0.000000\n",
       "HTM-Temporada_Code-10    0.000000\n",
       "HTM-Temporada_Code-9     0.000000\n",
       "HTM-Temporada_Code-8     0.000000\n",
       "HTM-Temporada_Code-7     0.000000\n",
       "HTM-Temporada_Code-6     0.000000\n",
       "HTM-Temporada_Code-5     0.000000\n",
       "HTM-Temporada_Code-4     0.000000\n",
       "HTM-Temporada_Code-3     0.000000\n",
       "dtype: float64"
      ]
     },
     "execution_count": 173,
     "metadata": {},
     "output_type": "execute_result"
    }
   ],
   "source": [
    "top_features"
   ]
  },
  {
   "cell_type": "markdown",
   "metadata": {},
   "source": [
    "# Prediccion jornada 31"
   ]
  },
  {
   "cell_type": "markdown",
   "metadata": {},
   "source": [
    "## Prediccion Resultado"
   ]
  },
  {
   "cell_type": "code",
   "execution_count": 111,
   "metadata": {
    "ExecuteTime": {
     "end_time": "2021-04-16T16:16:23.416245Z",
     "start_time": "2021-04-16T16:16:22.430143Z"
    }
   },
   "outputs": [],
   "source": [
    "liga=pd.read_csv(path_last+'\\SP1-J'+str(jornada)+'\\SP1_Modelo5_J'+str(jornada)+'-con-FE.csv')\n",
    "liga.drop('Unnamed: 0',axis=1,inplace=True)\n",
    "liga['Date1']=pd.to_datetime(liga['Date1'], format='%Y-%m-%d')"
   ]
  },
  {
   "cell_type": "code",
   "execution_count": 113,
   "metadata": {
    "ExecuteTime": {
     "end_time": "2021-04-16T16:17:07.619803Z",
     "start_time": "2021-04-16T16:17:07.614802Z"
    }
   },
   "outputs": [
    {
     "data": {
      "text/plain": [
       "(6010, 1207)"
      ]
     },
     "execution_count": 113,
     "metadata": {},
     "output_type": "execute_result"
    }
   ],
   "source": [
    "liga.shape"
   ]
  },
  {
   "cell_type": "code",
   "execution_count": 114,
   "metadata": {
    "ExecuteTime": {
     "end_time": "2021-04-16T16:17:08.760442Z",
     "start_time": "2021-04-16T16:17:08.623433Z"
    }
   },
   "outputs": [],
   "source": [
    "# Borramos mil victorias del equipo de casa\n",
    "liga.reset_index(drop=True,inplace=True)\n",
    "liga.drop( liga[ (liga['FTR']=='H') & (liga['Temporada']!='2020-2021')].sample(1000, random_state=RANDOM_STATE).index ,\n",
    "            axis=0,inplace=True )\n",
    "# Borramos mil victorias del equipo de casa\n",
    "liga.reset_index(drop=True,inplace=True)\n",
    "liga.drop( liga[ (liga['resultadoGolesFT_Code']==1) & (liga['Temporada']!='2020-2021')].sample(200, random_state=RANDOM_STATE).index ,\n",
    "            axis=0,inplace=True )"
   ]
  },
  {
   "cell_type": "code",
   "execution_count": 115,
   "metadata": {
    "ExecuteTime": {
     "end_time": "2021-04-16T16:17:12.123647Z",
     "start_time": "2021-04-16T16:17:12.116646Z"
    }
   },
   "outputs": [],
   "source": [
    "jornadas={31:['2021-04-21','2021-04-22'],\n",
    "          30:['2021-04-09','2021-04-10','2021-04-11','2021-04-12'],\n",
    "          29:['2021-04-02','2021-04-03','2021-04-04','2021-04-05','2021-04-07'],\n",
    "          28:['2021-03-19','2021-03-20','2021-03-21'],\n",
    "          27:['2021-03-12','2021-03-13','2021-03-14','2021-03-15'],\n",
    "          26:['2021-03-05','2021-03-06','2021-03-07','2021-03-08'],\n",
    "          25:['2021-02-26','2021-02-27','2021-02-28','2021-03-01'],\n",
    "          24:['2021-02-19','2021-02-20','2021-02-21','2021-02-22'],\n",
    "          23:['2021-02-12','2021-02-13','2021-02-14','2021-02-15'],\n",
    "          22:['2021-02-05','2021-02-06','2021-02-07','2021-02-08'],\n",
    "          21:['2021-01-29','2021-01-30','2021-01-31','2021-02-01'],\n",
    "          20:['2021-01-22','2021-01-23','2021-01-24','2021-01-25'],\n",
    "          19:['2020-12-15','2020-12-16','2021-01-19','2021-01-20','2021-01-21'],\n",
    "          18:['2020-12-15','2020-12-16','2021-01-19','2021-01-20','2021-01-21']}"
   ]
  },
  {
   "cell_type": "code",
   "execution_count": 116,
   "metadata": {
    "ExecuteTime": {
     "end_time": "2021-04-16T16:17:29.674327Z",
     "start_time": "2021-04-16T16:17:26.524823Z"
    }
   },
   "outputs": [
    {
     "name": "stdout",
     "output_type": "stream",
     "text": [
      "Resultados para: depth: 4 - Train: 0.48291666666666666 - Test 0\n",
      "Resultados para: depth: 5 - Train: 0.5016666666666667 - Test 0\n",
      "Resultados para: depth: 6 - Train: 0.5247916666666667 - Test 0\n"
     ]
    },
    {
     "data": {
      "text/html": [
       "<div>\n",
       "<style scoped>\n",
       "    .dataframe tbody tr th:only-of-type {\n",
       "        vertical-align: middle;\n",
       "    }\n",
       "\n",
       "    .dataframe tbody tr th {\n",
       "        vertical-align: top;\n",
       "    }\n",
       "\n",
       "    .dataframe thead th {\n",
       "        text-align: right;\n",
       "    }\n",
       "</style>\n",
       "<table border=\"1\" class=\"dataframe\">\n",
       "  <thead>\n",
       "    <tr style=\"text-align: right;\">\n",
       "      <th></th>\n",
       "      <th>HomeTeam</th>\n",
       "      <th>AwayTeam</th>\n",
       "      <th>Date</th>\n",
       "      <th>Jornada</th>\n",
       "      <th>Pred-ResultadoFT-4</th>\n",
       "      <th>Pred-ResultadoFT-5</th>\n",
       "      <th>Pred-ResultadoFT-6</th>\n",
       "    </tr>\n",
       "  </thead>\n",
       "  <tbody>\n",
       "    <tr>\n",
       "      <th>0</th>\n",
       "      <td>Ath Madrid</td>\n",
       "      <td>Huesca</td>\n",
       "      <td>22/04/2021</td>\n",
       "      <td>31</td>\n",
       "      <td>1.0</td>\n",
       "      <td>1.0</td>\n",
       "      <td>1.0</td>\n",
       "    </tr>\n",
       "    <tr>\n",
       "      <th>1</th>\n",
       "      <td>Granada</td>\n",
       "      <td>Eibar</td>\n",
       "      <td>22/04/2021</td>\n",
       "      <td>31</td>\n",
       "      <td>2.0</td>\n",
       "      <td>2.0</td>\n",
       "      <td>2.0</td>\n",
       "    </tr>\n",
       "    <tr>\n",
       "      <th>2</th>\n",
       "      <td>Sociedad</td>\n",
       "      <td>Celta</td>\n",
       "      <td>22/04/2021</td>\n",
       "      <td>31</td>\n",
       "      <td>3.0</td>\n",
       "      <td>3.0</td>\n",
       "      <td>3.0</td>\n",
       "    </tr>\n",
       "    <tr>\n",
       "      <th>3</th>\n",
       "      <td>Barcelona</td>\n",
       "      <td>Getafe</td>\n",
       "      <td>22/04/2021</td>\n",
       "      <td>31</td>\n",
       "      <td>2.0</td>\n",
       "      <td>1.0</td>\n",
       "      <td>2.0</td>\n",
       "    </tr>\n",
       "    <tr>\n",
       "      <th>4</th>\n",
       "      <td>Levante</td>\n",
       "      <td>Sevilla</td>\n",
       "      <td>21/04/2021</td>\n",
       "      <td>31</td>\n",
       "      <td>3.0</td>\n",
       "      <td>3.0</td>\n",
       "      <td>3.0</td>\n",
       "    </tr>\n",
       "    <tr>\n",
       "      <th>5</th>\n",
       "      <td>Osasuna</td>\n",
       "      <td>Valencia</td>\n",
       "      <td>21/04/2021</td>\n",
       "      <td>31</td>\n",
       "      <td>2.0</td>\n",
       "      <td>2.0</td>\n",
       "      <td>2.0</td>\n",
       "    </tr>\n",
       "    <tr>\n",
       "      <th>6</th>\n",
       "      <td>Betis</td>\n",
       "      <td>Ath Bilbao</td>\n",
       "      <td>21/04/2021</td>\n",
       "      <td>31</td>\n",
       "      <td>3.0</td>\n",
       "      <td>3.0</td>\n",
       "      <td>3.0</td>\n",
       "    </tr>\n",
       "    <tr>\n",
       "      <th>7</th>\n",
       "      <td>Alaves</td>\n",
       "      <td>Villarreal</td>\n",
       "      <td>21/04/2021</td>\n",
       "      <td>31</td>\n",
       "      <td>3.0</td>\n",
       "      <td>3.0</td>\n",
       "      <td>3.0</td>\n",
       "    </tr>\n",
       "    <tr>\n",
       "      <th>8</th>\n",
       "      <td>Elche</td>\n",
       "      <td>Valladolid</td>\n",
       "      <td>21/04/2021</td>\n",
       "      <td>31</td>\n",
       "      <td>2.0</td>\n",
       "      <td>2.0</td>\n",
       "      <td>2.0</td>\n",
       "    </tr>\n",
       "    <tr>\n",
       "      <th>9</th>\n",
       "      <td>Cadiz</td>\n",
       "      <td>Real Madrid</td>\n",
       "      <td>21/04/2021</td>\n",
       "      <td>31</td>\n",
       "      <td>3.0</td>\n",
       "      <td>3.0</td>\n",
       "      <td>3.0</td>\n",
       "    </tr>\n",
       "  </tbody>\n",
       "</table>\n",
       "</div>"
      ],
      "text/plain": [
       "     HomeTeam     AwayTeam        Date  Jornada  Pred-ResultadoFT-4  \\\n",
       "0  Ath Madrid       Huesca  22/04/2021       31                 1.0   \n",
       "1     Granada        Eibar  22/04/2021       31                 2.0   \n",
       "2    Sociedad        Celta  22/04/2021       31                 3.0   \n",
       "3   Barcelona       Getafe  22/04/2021       31                 2.0   \n",
       "4     Levante      Sevilla  21/04/2021       31                 3.0   \n",
       "5     Osasuna     Valencia  21/04/2021       31                 2.0   \n",
       "6       Betis   Ath Bilbao  21/04/2021       31                 3.0   \n",
       "7      Alaves   Villarreal  21/04/2021       31                 3.0   \n",
       "8       Elche   Valladolid  21/04/2021       31                 2.0   \n",
       "9       Cadiz  Real Madrid  21/04/2021       31                 3.0   \n",
       "\n",
       "   Pred-ResultadoFT-5  Pred-ResultadoFT-6  \n",
       "0                 1.0                 1.0  \n",
       "1                 2.0                 2.0  \n",
       "2                 3.0                 3.0  \n",
       "3                 1.0                 2.0  \n",
       "4                 3.0                 3.0  \n",
       "5                 2.0                 2.0  \n",
       "6                 3.0                 3.0  \n",
       "7                 3.0                 3.0  \n",
       "8                 2.0                 2.0  \n",
       "9                 3.0                 3.0  "
      ]
     },
     "execution_count": 116,
     "metadata": {},
     "output_type": "execute_result"
    }
   ],
   "source": [
    "# OPredecimos la jornada 30:\n",
    "a=31\n",
    "dias_jornada=jornadas[a]\n",
    "X_test = liga[liga[\"Date1\"].isin(dias_jornada)].drop(variables_borrar, axis = 1)\n",
    "X_train = liga[liga['Date1']< jornadas[a][0]].drop(variables_borrar, axis = 1)\n",
    "Y_test = liga[liga[\"Date1\"].isin(dias_jornada)]['ResultadoFT']\n",
    "Y_train = liga[liga['Date1']< jornadas[a][0]]['ResultadoFT']\n",
    "# Sacamos el -head con los partidos para ver despues mejor el resultado\n",
    "X_test_head = liga[['HomeTeam','AwayTeam','Date']][liga[\"Date1\"].isin(dias_jornada)]\n",
    "X_test_head['Jornada']=a\n",
    "# Probamos para diversas profuncidades del arbnol:\n",
    "#for x in [4,5,6,7]:\n",
    "for x in [4,5,6]:\n",
    "        dt = DecisionTreeClassifier(max_depth=x, random_state=RANDOM_STATE,min_samples_leaf=5 ,min_samples_split=20)\n",
    "        #dt = DecisionTreeClassifier(max_depth=x, random_state=RANDOM_STATE)\n",
    "        dt.fit(X_train,Y_train)\n",
    "        score_train=dt.score(X_train, Y_train)\n",
    "        print('Resultados para: depth: {} - Train: {} - Test {}'.format(x,score_train,0))        \n",
    "        # Predecimos resultado final:\n",
    "        y_test_pred=pd.DataFrame(dt.predict(X_test), index=Y_test.index, columns=['Pred-ResultadoFT-'+str(x)])\n",
    "        X_test_head = pd.concat([X_test_head, y_test_pred], axis=1)\n",
    "X_test_head"
   ]
  },
  {
   "cell_type": "code",
   "execution_count": 179,
   "metadata": {
    "ExecuteTime": {
     "end_time": "2021-04-15T15:49:54.544120Z",
     "start_time": "2021-04-15T15:49:54.535121Z"
    }
   },
   "outputs": [],
   "source": [
    "X_test_head.to_csv(path_last+'/SP1-J'+str(jornada)+'/SP1_prediccion_jornada_'+str(jornada)+'_567.csv')"
   ]
  },
  {
   "cell_type": "code",
   "execution_count": 180,
   "metadata": {
    "ExecuteTime": {
     "end_time": "2021-04-15T15:50:09.817117Z",
     "start_time": "2021-04-15T15:50:08.689370Z"
    }
   },
   "outputs": [
    {
     "name": "stdout",
     "output_type": "stream",
     "text": [
      "Resultados para: depth: 6 - Train: 0.5201298701298701 - Test 0\n"
     ]
    },
    {
     "data": {
      "text/html": [
       "<div>\n",
       "<style scoped>\n",
       "    .dataframe tbody tr th:only-of-type {\n",
       "        vertical-align: middle;\n",
       "    }\n",
       "\n",
       "    .dataframe tbody tr th {\n",
       "        vertical-align: top;\n",
       "    }\n",
       "\n",
       "    .dataframe thead th {\n",
       "        text-align: right;\n",
       "    }\n",
       "</style>\n",
       "<table border=\"1\" class=\"dataframe\">\n",
       "  <thead>\n",
       "    <tr style=\"text-align: right;\">\n",
       "      <th></th>\n",
       "      <th>HomeTeam</th>\n",
       "      <th>AwayTeam</th>\n",
       "      <th>Date</th>\n",
       "      <th>Jornada</th>\n",
       "      <th>Pred-ResultadoFT</th>\n",
       "      <th>0</th>\n",
       "      <th>1</th>\n",
       "      <th>2</th>\n",
       "    </tr>\n",
       "  </thead>\n",
       "  <tbody>\n",
       "    <tr>\n",
       "      <th>0</th>\n",
       "      <td>Ath Madrid</td>\n",
       "      <td>Huesca</td>\n",
       "      <td>22/04/2021</td>\n",
       "      <td>31</td>\n",
       "      <td>1.0</td>\n",
       "      <td>0.544444</td>\n",
       "      <td>0.213889</td>\n",
       "      <td>0.241667</td>\n",
       "    </tr>\n",
       "    <tr>\n",
       "      <th>1</th>\n",
       "      <td>Granada</td>\n",
       "      <td>Eibar</td>\n",
       "      <td>22/04/2021</td>\n",
       "      <td>31</td>\n",
       "      <td>1.0</td>\n",
       "      <td>0.375915</td>\n",
       "      <td>0.358015</td>\n",
       "      <td>0.266070</td>\n",
       "    </tr>\n",
       "    <tr>\n",
       "      <th>2</th>\n",
       "      <td>Sociedad</td>\n",
       "      <td>Celta</td>\n",
       "      <td>22/04/2021</td>\n",
       "      <td>31</td>\n",
       "      <td>2.0</td>\n",
       "      <td>0.267857</td>\n",
       "      <td>0.428571</td>\n",
       "      <td>0.303571</td>\n",
       "    </tr>\n",
       "    <tr>\n",
       "      <th>3</th>\n",
       "      <td>Barcelona</td>\n",
       "      <td>Getafe</td>\n",
       "      <td>22/04/2021</td>\n",
       "      <td>31</td>\n",
       "      <td>1.0</td>\n",
       "      <td>0.880734</td>\n",
       "      <td>0.068807</td>\n",
       "      <td>0.050459</td>\n",
       "    </tr>\n",
       "    <tr>\n",
       "      <th>4</th>\n",
       "      <td>Levante</td>\n",
       "      <td>Sevilla</td>\n",
       "      <td>21/04/2021</td>\n",
       "      <td>31</td>\n",
       "      <td>3.0</td>\n",
       "      <td>0.046980</td>\n",
       "      <td>0.073826</td>\n",
       "      <td>0.879195</td>\n",
       "    </tr>\n",
       "    <tr>\n",
       "      <th>5</th>\n",
       "      <td>Osasuna</td>\n",
       "      <td>Valencia</td>\n",
       "      <td>21/04/2021</td>\n",
       "      <td>31</td>\n",
       "      <td>1.0</td>\n",
       "      <td>0.375915</td>\n",
       "      <td>0.358015</td>\n",
       "      <td>0.266070</td>\n",
       "    </tr>\n",
       "    <tr>\n",
       "      <th>6</th>\n",
       "      <td>Betis</td>\n",
       "      <td>Ath Bilbao</td>\n",
       "      <td>21/04/2021</td>\n",
       "      <td>31</td>\n",
       "      <td>2.0</td>\n",
       "      <td>0.294915</td>\n",
       "      <td>0.359322</td>\n",
       "      <td>0.345763</td>\n",
       "    </tr>\n",
       "    <tr>\n",
       "      <th>7</th>\n",
       "      <td>Alaves</td>\n",
       "      <td>Villarreal</td>\n",
       "      <td>21/04/2021</td>\n",
       "      <td>31</td>\n",
       "      <td>3.0</td>\n",
       "      <td>0.204000</td>\n",
       "      <td>0.240000</td>\n",
       "      <td>0.556000</td>\n",
       "    </tr>\n",
       "    <tr>\n",
       "      <th>8</th>\n",
       "      <td>Elche</td>\n",
       "      <td>Valladolid</td>\n",
       "      <td>21/04/2021</td>\n",
       "      <td>31</td>\n",
       "      <td>1.0</td>\n",
       "      <td>0.375915</td>\n",
       "      <td>0.358015</td>\n",
       "      <td>0.266070</td>\n",
       "    </tr>\n",
       "    <tr>\n",
       "      <th>9</th>\n",
       "      <td>Cadiz</td>\n",
       "      <td>Real Madrid</td>\n",
       "      <td>21/04/2021</td>\n",
       "      <td>31</td>\n",
       "      <td>3.0</td>\n",
       "      <td>0.133333</td>\n",
       "      <td>0.169697</td>\n",
       "      <td>0.696970</td>\n",
       "    </tr>\n",
       "  </tbody>\n",
       "</table>\n",
       "</div>"
      ],
      "text/plain": [
       "     HomeTeam     AwayTeam        Date  Jornada  Pred-ResultadoFT         0  \\\n",
       "0  Ath Madrid       Huesca  22/04/2021       31               1.0  0.544444   \n",
       "1     Granada        Eibar  22/04/2021       31               1.0  0.375915   \n",
       "2    Sociedad        Celta  22/04/2021       31               2.0  0.267857   \n",
       "3   Barcelona       Getafe  22/04/2021       31               1.0  0.880734   \n",
       "4     Levante      Sevilla  21/04/2021       31               3.0  0.046980   \n",
       "5     Osasuna     Valencia  21/04/2021       31               1.0  0.375915   \n",
       "6       Betis   Ath Bilbao  21/04/2021       31               2.0  0.294915   \n",
       "7      Alaves   Villarreal  21/04/2021       31               3.0  0.204000   \n",
       "8       Elche   Valladolid  21/04/2021       31               1.0  0.375915   \n",
       "9       Cadiz  Real Madrid  21/04/2021       31               3.0  0.133333   \n",
       "\n",
       "          1         2  \n",
       "0  0.213889  0.241667  \n",
       "1  0.358015  0.266070  \n",
       "2  0.428571  0.303571  \n",
       "3  0.068807  0.050459  \n",
       "4  0.073826  0.879195  \n",
       "5  0.358015  0.266070  \n",
       "6  0.359322  0.345763  \n",
       "7  0.240000  0.556000  \n",
       "8  0.358015  0.266070  \n",
       "9  0.169697  0.696970  "
      ]
     },
     "execution_count": 180,
     "metadata": {},
     "output_type": "execute_result"
    }
   ],
   "source": [
    "# OPredecimos la jornada jornada:\n",
    "a=jornada\n",
    "dias_jornada=jornadas[a]\n",
    "X_test = liga[liga[\"Date1\"].isin(dias_jornada)].drop(variables_borrar, axis = 1)\n",
    "X_train = liga[liga['Date1']< jornadas[a][0]].drop(variables_borrar, axis = 1)\n",
    "Y_test = liga[liga[\"Date1\"].isin(dias_jornada)]['ResultadoFT']\n",
    "Y_train = liga[liga['Date1']< jornadas[a][0]]['ResultadoFT']\n",
    "# Sacamos el -head con los partidos para ver despues mejor el resultado\n",
    "X_test_head = liga[['HomeTeam','AwayTeam','Date']][liga[\"Date1\"].isin(dias_jornada)]\n",
    "X_test_head['Jornada']=a\n",
    "# Probamos para diversas profuncidades del arbnol:\n",
    "for x in [6]:\n",
    "        dt = DecisionTreeClassifier(max_depth=x, random_state=RANDOM_STATE,min_samples_leaf=5 ,min_samples_split=20)\n",
    "        #dt = DecisionTreeClassifier(max_depth=x, random_state=RANDOM_STATE)\n",
    "        dt.fit(X_train,Y_train)\n",
    "        score_train=dt.score(X_train, Y_train)\n",
    "        print('Resultados para: depth: {} - Train: {} - Test {}'.format(x,score_train,0))        \n",
    "        # Predecimos resultado final:\n",
    "        y_test_pred=pd.DataFrame(dt.predict(X_test), index=Y_test.index, columns=['Pred-ResultadoFT'])\n",
    "        X_test_head = pd.concat([X_test_head, y_test_pred], axis=1)\n",
    "        #y_test_pred=pd.DataFrame(dt.predict_proba(X_test), index=Y_test.index, columns=['%1','%2','%3'])\n",
    "        y_test_pred=pd.DataFrame(dt.predict_proba(X_test), index=Y_test.index)\n",
    "        X_test_head = pd.concat([X_test_head, y_test_pred], axis=1)\n",
    "X_test_head"
   ]
  },
  {
   "cell_type": "code",
   "execution_count": 181,
   "metadata": {
    "ExecuteTime": {
     "end_time": "2021-04-15T15:50:32.919348Z",
     "start_time": "2021-04-15T15:50:32.912349Z"
    }
   },
   "outputs": [],
   "source": [
    "X_test_head.to_csv(path_last+'/SP1-J'+str(jornada)+'/SP1_prediccion_jornada_'+str(jornada)+'_6Proba.csv')"
   ]
  },
  {
   "cell_type": "markdown",
   "metadata": {},
   "source": [
    "## Prediccion Goles"
   ]
  },
  {
   "cell_type": "code",
   "execution_count": 184,
   "metadata": {
    "ExecuteTime": {
     "end_time": "2021-04-15T15:52:28.503591Z",
     "start_time": "2021-04-15T15:52:27.621603Z"
    }
   },
   "outputs": [],
   "source": [
    "liga=pd.read_csv(path_last+'\\SP1-J'+str(jornada)+'\\SP1_Modelo5_J'+str(jornada)+'-con-FE-condeltas.csv')\n",
    "liga.drop('Unnamed: 0',axis=1,inplace=True)\n",
    "liga['Date1']=pd.to_datetime(liga['Date1'], format='%Y-%m-%d')"
   ]
  },
  {
   "cell_type": "code",
   "execution_count": 185,
   "metadata": {
    "ExecuteTime": {
     "end_time": "2021-04-15T15:52:43.765919Z",
     "start_time": "2021-04-15T15:52:43.759920Z"
    }
   },
   "outputs": [
    {
     "data": {
      "text/plain": [
       "(5630, 1139)"
      ]
     },
     "execution_count": 185,
     "metadata": {},
     "output_type": "execute_result"
    }
   ],
   "source": [
    "liga.shape"
   ]
  },
  {
   "cell_type": "code",
   "execution_count": 203,
   "metadata": {
    "ExecuteTime": {
     "end_time": "2021-04-15T16:02:08.316130Z",
     "start_time": "2021-04-15T16:02:08.303124Z"
    }
   },
   "outputs": [],
   "source": [
    "mapeo_resultadoGolesFT=pd.read_csv(path_last+'/SP1-encoders/SP1_mapeo_resultadoGolesFT.csv')"
   ]
  },
  {
   "cell_type": "code",
   "execution_count": 204,
   "metadata": {
    "ExecuteTime": {
     "end_time": "2021-04-15T16:02:08.933579Z",
     "start_time": "2021-04-15T16:02:08.928577Z"
    }
   },
   "outputs": [
    {
     "data": {
      "text/plain": [
       "(55, 2)"
      ]
     },
     "execution_count": 204,
     "metadata": {},
     "output_type": "execute_result"
    }
   ],
   "source": [
    "mapeo_resultadoGolesFT.shape"
   ]
  },
  {
   "cell_type": "code",
   "execution_count": 205,
   "metadata": {
    "ExecuteTime": {
     "end_time": "2021-04-15T16:02:11.639041Z",
     "start_time": "2021-04-15T16:02:11.626046Z"
    }
   },
   "outputs": [
    {
     "data": {
      "text/html": [
       "<div>\n",
       "<style scoped>\n",
       "    .dataframe tbody tr th:only-of-type {\n",
       "        vertical-align: middle;\n",
       "    }\n",
       "\n",
       "    .dataframe tbody tr th {\n",
       "        vertical-align: top;\n",
       "    }\n",
       "\n",
       "    .dataframe thead th {\n",
       "        text-align: right;\n",
       "    }\n",
       "</style>\n",
       "<table border=\"1\" class=\"dataframe\">\n",
       "  <thead>\n",
       "    <tr style=\"text-align: right;\">\n",
       "      <th></th>\n",
       "      <th>resultadoGolesFT</th>\n",
       "      <th>index</th>\n",
       "    </tr>\n",
       "  </thead>\n",
       "  <tbody>\n",
       "    <tr>\n",
       "      <th>0</th>\n",
       "      <td>1.0-1.0</td>\n",
       "      <td>0</td>\n",
       "    </tr>\n",
       "    <tr>\n",
       "      <th>1</th>\n",
       "      <td>1.0-0.0</td>\n",
       "      <td>1</td>\n",
       "    </tr>\n",
       "    <tr>\n",
       "      <th>2</th>\n",
       "      <td>2.0-1.0</td>\n",
       "      <td>2</td>\n",
       "    </tr>\n",
       "    <tr>\n",
       "      <th>3</th>\n",
       "      <td>2.0-0.0</td>\n",
       "      <td>3</td>\n",
       "    </tr>\n",
       "    <tr>\n",
       "      <th>4</th>\n",
       "      <td>0.0-0.0</td>\n",
       "      <td>4</td>\n",
       "    </tr>\n",
       "    <tr>\n",
       "      <th>5</th>\n",
       "      <td>0.0-1.0</td>\n",
       "      <td>5</td>\n",
       "    </tr>\n",
       "    <tr>\n",
       "      <th>6</th>\n",
       "      <td>1.0-2.0</td>\n",
       "      <td>6</td>\n",
       "    </tr>\n",
       "    <tr>\n",
       "      <th>7</th>\n",
       "      <td>0.0-2.0</td>\n",
       "      <td>7</td>\n",
       "    </tr>\n",
       "    <tr>\n",
       "      <th>8</th>\n",
       "      <td>3.0-0.0</td>\n",
       "      <td>8</td>\n",
       "    </tr>\n",
       "    <tr>\n",
       "      <th>9</th>\n",
       "      <td>3.0-1.0</td>\n",
       "      <td>9</td>\n",
       "    </tr>\n",
       "    <tr>\n",
       "      <th>10</th>\n",
       "      <td>2.0-2.0</td>\n",
       "      <td>10</td>\n",
       "    </tr>\n",
       "    <tr>\n",
       "      <th>11</th>\n",
       "      <td>3.0-2.0</td>\n",
       "      <td>11</td>\n",
       "    </tr>\n",
       "    <tr>\n",
       "      <th>12</th>\n",
       "      <td>1.0-3.0</td>\n",
       "      <td>12</td>\n",
       "    </tr>\n",
       "    <tr>\n",
       "      <th>13</th>\n",
       "      <td>4.0-0.0</td>\n",
       "      <td>13</td>\n",
       "    </tr>\n",
       "    <tr>\n",
       "      <th>14</th>\n",
       "      <td>0.0-3.0</td>\n",
       "      <td>14</td>\n",
       "    </tr>\n",
       "    <tr>\n",
       "      <th>15</th>\n",
       "      <td>4.0-1.0</td>\n",
       "      <td>15</td>\n",
       "    </tr>\n",
       "    <tr>\n",
       "      <th>16</th>\n",
       "      <td>2.0-3.0</td>\n",
       "      <td>16</td>\n",
       "    </tr>\n",
       "    <tr>\n",
       "      <th>17</th>\n",
       "      <td>4.0-2.0</td>\n",
       "      <td>17</td>\n",
       "    </tr>\n",
       "    <tr>\n",
       "      <th>18</th>\n",
       "      <td>1.0-4.0</td>\n",
       "      <td>18</td>\n",
       "    </tr>\n",
       "    <tr>\n",
       "      <th>19</th>\n",
       "      <td>5.0-0.0</td>\n",
       "      <td>19</td>\n",
       "    </tr>\n",
       "    <tr>\n",
       "      <th>20</th>\n",
       "      <td>5.0-1.0</td>\n",
       "      <td>20</td>\n",
       "    </tr>\n",
       "    <tr>\n",
       "      <th>21</th>\n",
       "      <td>3.0-3.0</td>\n",
       "      <td>20</td>\n",
       "    </tr>\n",
       "    <tr>\n",
       "      <th>22</th>\n",
       "      <td>0.0-4.0</td>\n",
       "      <td>20</td>\n",
       "    </tr>\n",
       "    <tr>\n",
       "      <th>23</th>\n",
       "      <td>4.0-3.0</td>\n",
       "      <td>20</td>\n",
       "    </tr>\n",
       "    <tr>\n",
       "      <th>24</th>\n",
       "      <td>2.0-4.0</td>\n",
       "      <td>20</td>\n",
       "    </tr>\n",
       "    <tr>\n",
       "      <th>25</th>\n",
       "      <td>0.0-5.0</td>\n",
       "      <td>20</td>\n",
       "    </tr>\n",
       "    <tr>\n",
       "      <th>26</th>\n",
       "      <td>5.0-2.0</td>\n",
       "      <td>20</td>\n",
       "    </tr>\n",
       "    <tr>\n",
       "      <th>27</th>\n",
       "      <td>6.0-0.0</td>\n",
       "      <td>20</td>\n",
       "    </tr>\n",
       "    <tr>\n",
       "      <th>28</th>\n",
       "      <td>6.0-1.0</td>\n",
       "      <td>20</td>\n",
       "    </tr>\n",
       "    <tr>\n",
       "      <th>29</th>\n",
       "      <td>1.0-5.0</td>\n",
       "      <td>20</td>\n",
       "    </tr>\n",
       "    <tr>\n",
       "      <th>30</th>\n",
       "      <td>3.0-4.0</td>\n",
       "      <td>20</td>\n",
       "    </tr>\n",
       "    <tr>\n",
       "      <th>31</th>\n",
       "      <td>nan-nan</td>\n",
       "      <td>20</td>\n",
       "    </tr>\n",
       "    <tr>\n",
       "      <th>32</th>\n",
       "      <td>2.0-5.0</td>\n",
       "      <td>20</td>\n",
       "    </tr>\n",
       "    <tr>\n",
       "      <th>33</th>\n",
       "      <td>7.0-1.0</td>\n",
       "      <td>20</td>\n",
       "    </tr>\n",
       "    <tr>\n",
       "      <th>34</th>\n",
       "      <td>3.0-5.0</td>\n",
       "      <td>20</td>\n",
       "    </tr>\n",
       "    <tr>\n",
       "      <th>35</th>\n",
       "      <td>7.0-0.0</td>\n",
       "      <td>20</td>\n",
       "    </tr>\n",
       "    <tr>\n",
       "      <th>36</th>\n",
       "      <td>0.0-6.0</td>\n",
       "      <td>20</td>\n",
       "    </tr>\n",
       "    <tr>\n",
       "      <th>37</th>\n",
       "      <td>5.0-3.0</td>\n",
       "      <td>20</td>\n",
       "    </tr>\n",
       "    <tr>\n",
       "      <th>38</th>\n",
       "      <td>6.0-2.0</td>\n",
       "      <td>20</td>\n",
       "    </tr>\n",
       "    <tr>\n",
       "      <th>39</th>\n",
       "      <td>2.0-6.0</td>\n",
       "      <td>20</td>\n",
       "    </tr>\n",
       "    <tr>\n",
       "      <th>40</th>\n",
       "      <td>1.0-6.0</td>\n",
       "      <td>20</td>\n",
       "    </tr>\n",
       "    <tr>\n",
       "      <th>41</th>\n",
       "      <td>4.0-4.0</td>\n",
       "      <td>20</td>\n",
       "    </tr>\n",
       "    <tr>\n",
       "      <th>42</th>\n",
       "      <td>0.0-8.0</td>\n",
       "      <td>20</td>\n",
       "    </tr>\n",
       "    <tr>\n",
       "      <th>43</th>\n",
       "      <td>7.0-3.0</td>\n",
       "      <td>20</td>\n",
       "    </tr>\n",
       "    <tr>\n",
       "      <th>44</th>\n",
       "      <td>6.0-3.0</td>\n",
       "      <td>20</td>\n",
       "    </tr>\n",
       "    <tr>\n",
       "      <th>45</th>\n",
       "      <td>3.0-6.0</td>\n",
       "      <td>20</td>\n",
       "    </tr>\n",
       "    <tr>\n",
       "      <th>46</th>\n",
       "      <td>5.0-4.0</td>\n",
       "      <td>20</td>\n",
       "    </tr>\n",
       "    <tr>\n",
       "      <th>47</th>\n",
       "      <td>8.0-1.0</td>\n",
       "      <td>20</td>\n",
       "    </tr>\n",
       "    <tr>\n",
       "      <th>48</th>\n",
       "      <td>0.0-7.0</td>\n",
       "      <td>20</td>\n",
       "    </tr>\n",
       "    <tr>\n",
       "      <th>49</th>\n",
       "      <td>10.0-2.0</td>\n",
       "      <td>20</td>\n",
       "    </tr>\n",
       "    <tr>\n",
       "      <th>50</th>\n",
       "      <td>8.0-0.0</td>\n",
       "      <td>20</td>\n",
       "    </tr>\n",
       "    <tr>\n",
       "      <th>51</th>\n",
       "      <td>2.0-8.0</td>\n",
       "      <td>20</td>\n",
       "    </tr>\n",
       "    <tr>\n",
       "      <th>52</th>\n",
       "      <td>9.0-1.0</td>\n",
       "      <td>20</td>\n",
       "    </tr>\n",
       "    <tr>\n",
       "      <th>53</th>\n",
       "      <td>6.0-4.0</td>\n",
       "      <td>20</td>\n",
       "    </tr>\n",
       "    <tr>\n",
       "      <th>54</th>\n",
       "      <td>4.0-5.0</td>\n",
       "      <td>20</td>\n",
       "    </tr>\n",
       "  </tbody>\n",
       "</table>\n",
       "</div>"
      ],
      "text/plain": [
       "   resultadoGolesFT  index\n",
       "0           1.0-1.0      0\n",
       "1           1.0-0.0      1\n",
       "2           2.0-1.0      2\n",
       "3           2.0-0.0      3\n",
       "4           0.0-0.0      4\n",
       "5           0.0-1.0      5\n",
       "6           1.0-2.0      6\n",
       "7           0.0-2.0      7\n",
       "8           3.0-0.0      8\n",
       "9           3.0-1.0      9\n",
       "10          2.0-2.0     10\n",
       "11          3.0-2.0     11\n",
       "12          1.0-3.0     12\n",
       "13          4.0-0.0     13\n",
       "14          0.0-3.0     14\n",
       "15          4.0-1.0     15\n",
       "16          2.0-3.0     16\n",
       "17          4.0-2.0     17\n",
       "18          1.0-4.0     18\n",
       "19          5.0-0.0     19\n",
       "20          5.0-1.0     20\n",
       "21          3.0-3.0     20\n",
       "22          0.0-4.0     20\n",
       "23          4.0-3.0     20\n",
       "24          2.0-4.0     20\n",
       "25          0.0-5.0     20\n",
       "26          5.0-2.0     20\n",
       "27          6.0-0.0     20\n",
       "28          6.0-1.0     20\n",
       "29          1.0-5.0     20\n",
       "30          3.0-4.0     20\n",
       "31          nan-nan     20\n",
       "32          2.0-5.0     20\n",
       "33          7.0-1.0     20\n",
       "34          3.0-5.0     20\n",
       "35          7.0-0.0     20\n",
       "36          0.0-6.0     20\n",
       "37          5.0-3.0     20\n",
       "38          6.0-2.0     20\n",
       "39          2.0-6.0     20\n",
       "40          1.0-6.0     20\n",
       "41          4.0-4.0     20\n",
       "42          0.0-8.0     20\n",
       "43          7.0-3.0     20\n",
       "44          6.0-3.0     20\n",
       "45          3.0-6.0     20\n",
       "46          5.0-4.0     20\n",
       "47          8.0-1.0     20\n",
       "48          0.0-7.0     20\n",
       "49         10.0-2.0     20\n",
       "50          8.0-0.0     20\n",
       "51          2.0-8.0     20\n",
       "52          9.0-1.0     20\n",
       "53          6.0-4.0     20\n",
       "54          4.0-5.0     20"
      ]
     },
     "execution_count": 205,
     "metadata": {},
     "output_type": "execute_result"
    }
   ],
   "source": [
    "mapeo_resultadoGolesFT"
   ]
  },
  {
   "cell_type": "code",
   "execution_count": 206,
   "metadata": {
    "ExecuteTime": {
     "end_time": "2021-04-15T16:02:28.637285Z",
     "start_time": "2021-04-15T16:02:28.572282Z"
    }
   },
   "outputs": [],
   "source": [
    "# Borramos mil victorias del equipo de casa\n",
    "liga.reset_index(drop=True,inplace=True)\n",
    "liga.drop( liga[ (liga['resultadoGolesFT_Code']==0) & (liga['Temporada']!='2020-2021')].sample(200, random_state=RANDOM_STATE).index ,\n",
    "            axis=0,inplace=True )"
   ]
  },
  {
   "cell_type": "code",
   "execution_count": 207,
   "metadata": {
    "ExecuteTime": {
     "end_time": "2021-04-15T16:02:29.438826Z",
     "start_time": "2021-04-15T16:02:29.384824Z"
    }
   },
   "outputs": [],
   "source": [
    "# Borramos mil victorias del equipo de casa\n",
    "liga.reset_index(drop=True,inplace=True)\n",
    "liga.drop( liga[ (liga['resultadoGolesFT_Code']==1) & (liga['Temporada']!='2020-2021')].sample(200, random_state=RANDOM_STATE).index ,\n",
    "            axis=0,inplace=True )"
   ]
  },
  {
   "cell_type": "code",
   "execution_count": 212,
   "metadata": {
    "ExecuteTime": {
     "end_time": "2021-04-15T16:04:42.677290Z",
     "start_time": "2021-04-15T16:04:41.292875Z"
    }
   },
   "outputs": [
    {
     "name": "stdout",
     "output_type": "stream",
     "text": [
      "Resultados para: depth: 5 - Train: 0.1557471264367816 - Test 0\n"
     ]
    },
    {
     "data": {
      "text/html": [
       "<div>\n",
       "<style scoped>\n",
       "    .dataframe tbody tr th:only-of-type {\n",
       "        vertical-align: middle;\n",
       "    }\n",
       "\n",
       "    .dataframe tbody tr th {\n",
       "        vertical-align: top;\n",
       "    }\n",
       "\n",
       "    .dataframe thead th {\n",
       "        text-align: right;\n",
       "    }\n",
       "</style>\n",
       "<table border=\"1\" class=\"dataframe\">\n",
       "  <thead>\n",
       "    <tr style=\"text-align: right;\">\n",
       "      <th></th>\n",
       "      <th>HomeTeam</th>\n",
       "      <th>AwayTeam</th>\n",
       "      <th>Date</th>\n",
       "      <th>Jornada</th>\n",
       "      <th>Pred-resultadoGolesFT_Code</th>\n",
       "      <th>0</th>\n",
       "      <th>1</th>\n",
       "      <th>2</th>\n",
       "      <th>3</th>\n",
       "      <th>4</th>\n",
       "      <th>...</th>\n",
       "      <th>11</th>\n",
       "      <th>12</th>\n",
       "      <th>13</th>\n",
       "      <th>14</th>\n",
       "      <th>15</th>\n",
       "      <th>16</th>\n",
       "      <th>17</th>\n",
       "      <th>18</th>\n",
       "      <th>19</th>\n",
       "      <th>20</th>\n",
       "    </tr>\n",
       "  </thead>\n",
       "  <tbody>\n",
       "    <tr>\n",
       "      <th>0</th>\n",
       "      <td>Ath Madrid</td>\n",
       "      <td>Huesca</td>\n",
       "      <td>22/04/2021</td>\n",
       "      <td>31</td>\n",
       "      <td>8</td>\n",
       "      <td>0.000000</td>\n",
       "      <td>0.000000</td>\n",
       "      <td>0.142857</td>\n",
       "      <td>0.000000</td>\n",
       "      <td>0.000000</td>\n",
       "      <td>...</td>\n",
       "      <td>0.000000</td>\n",
       "      <td>0.000000</td>\n",
       "      <td>0.000000</td>\n",
       "      <td>0.000000</td>\n",
       "      <td>0.000000</td>\n",
       "      <td>0.000000</td>\n",
       "      <td>0.000000</td>\n",
       "      <td>0.000000</td>\n",
       "      <td>0.000000</td>\n",
       "      <td>0.000000</td>\n",
       "    </tr>\n",
       "    <tr>\n",
       "      <th>1</th>\n",
       "      <td>Granada</td>\n",
       "      <td>Eibar</td>\n",
       "      <td>22/04/2021</td>\n",
       "      <td>31</td>\n",
       "      <td>0</td>\n",
       "      <td>0.104314</td>\n",
       "      <td>0.092157</td>\n",
       "      <td>0.093725</td>\n",
       "      <td>0.085098</td>\n",
       "      <td>0.097647</td>\n",
       "      <td>...</td>\n",
       "      <td>0.026667</td>\n",
       "      <td>0.022745</td>\n",
       "      <td>0.015294</td>\n",
       "      <td>0.019608</td>\n",
       "      <td>0.014510</td>\n",
       "      <td>0.015294</td>\n",
       "      <td>0.009020</td>\n",
       "      <td>0.003922</td>\n",
       "      <td>0.003529</td>\n",
       "      <td>0.045490</td>\n",
       "    </tr>\n",
       "    <tr>\n",
       "      <th>2</th>\n",
       "      <td>Sociedad</td>\n",
       "      <td>Celta</td>\n",
       "      <td>22/04/2021</td>\n",
       "      <td>31</td>\n",
       "      <td>5</td>\n",
       "      <td>0.087079</td>\n",
       "      <td>0.054775</td>\n",
       "      <td>0.094101</td>\n",
       "      <td>0.066011</td>\n",
       "      <td>0.108146</td>\n",
       "      <td>...</td>\n",
       "      <td>0.016854</td>\n",
       "      <td>0.040730</td>\n",
       "      <td>0.011236</td>\n",
       "      <td>0.025281</td>\n",
       "      <td>0.007022</td>\n",
       "      <td>0.025281</td>\n",
       "      <td>0.008427</td>\n",
       "      <td>0.016854</td>\n",
       "      <td>0.002809</td>\n",
       "      <td>0.046348</td>\n",
       "    </tr>\n",
       "    <tr>\n",
       "      <th>3</th>\n",
       "      <td>Barcelona</td>\n",
       "      <td>Getafe</td>\n",
       "      <td>22/04/2021</td>\n",
       "      <td>31</td>\n",
       "      <td>3</td>\n",
       "      <td>0.076142</td>\n",
       "      <td>0.116751</td>\n",
       "      <td>0.114213</td>\n",
       "      <td>0.131980</td>\n",
       "      <td>0.060914</td>\n",
       "      <td>...</td>\n",
       "      <td>0.058376</td>\n",
       "      <td>0.005076</td>\n",
       "      <td>0.045685</td>\n",
       "      <td>0.015228</td>\n",
       "      <td>0.043147</td>\n",
       "      <td>0.007614</td>\n",
       "      <td>0.017766</td>\n",
       "      <td>0.002538</td>\n",
       "      <td>0.007614</td>\n",
       "      <td>0.058376</td>\n",
       "    </tr>\n",
       "    <tr>\n",
       "      <th>4</th>\n",
       "      <td>Levante</td>\n",
       "      <td>Sevilla</td>\n",
       "      <td>21/04/2021</td>\n",
       "      <td>31</td>\n",
       "      <td>0</td>\n",
       "      <td>0.114458</td>\n",
       "      <td>0.030120</td>\n",
       "      <td>0.054217</td>\n",
       "      <td>0.048193</td>\n",
       "      <td>0.042169</td>\n",
       "      <td>...</td>\n",
       "      <td>0.006024</td>\n",
       "      <td>0.042169</td>\n",
       "      <td>0.000000</td>\n",
       "      <td>0.054217</td>\n",
       "      <td>0.000000</td>\n",
       "      <td>0.054217</td>\n",
       "      <td>0.000000</td>\n",
       "      <td>0.078313</td>\n",
       "      <td>0.000000</td>\n",
       "      <td>0.084337</td>\n",
       "    </tr>\n",
       "    <tr>\n",
       "      <th>5</th>\n",
       "      <td>Osasuna</td>\n",
       "      <td>Valencia</td>\n",
       "      <td>21/04/2021</td>\n",
       "      <td>31</td>\n",
       "      <td>0</td>\n",
       "      <td>0.104314</td>\n",
       "      <td>0.092157</td>\n",
       "      <td>0.093725</td>\n",
       "      <td>0.085098</td>\n",
       "      <td>0.097647</td>\n",
       "      <td>...</td>\n",
       "      <td>0.026667</td>\n",
       "      <td>0.022745</td>\n",
       "      <td>0.015294</td>\n",
       "      <td>0.019608</td>\n",
       "      <td>0.014510</td>\n",
       "      <td>0.015294</td>\n",
       "      <td>0.009020</td>\n",
       "      <td>0.003922</td>\n",
       "      <td>0.003529</td>\n",
       "      <td>0.045490</td>\n",
       "    </tr>\n",
       "    <tr>\n",
       "      <th>6</th>\n",
       "      <td>Betis</td>\n",
       "      <td>Ath Bilbao</td>\n",
       "      <td>21/04/2021</td>\n",
       "      <td>31</td>\n",
       "      <td>5</td>\n",
       "      <td>0.087079</td>\n",
       "      <td>0.054775</td>\n",
       "      <td>0.094101</td>\n",
       "      <td>0.066011</td>\n",
       "      <td>0.108146</td>\n",
       "      <td>...</td>\n",
       "      <td>0.016854</td>\n",
       "      <td>0.040730</td>\n",
       "      <td>0.011236</td>\n",
       "      <td>0.025281</td>\n",
       "      <td>0.007022</td>\n",
       "      <td>0.025281</td>\n",
       "      <td>0.008427</td>\n",
       "      <td>0.016854</td>\n",
       "      <td>0.002809</td>\n",
       "      <td>0.046348</td>\n",
       "    </tr>\n",
       "    <tr>\n",
       "      <th>7</th>\n",
       "      <td>Alaves</td>\n",
       "      <td>Villarreal</td>\n",
       "      <td>21/04/2021</td>\n",
       "      <td>31</td>\n",
       "      <td>5</td>\n",
       "      <td>0.087079</td>\n",
       "      <td>0.054775</td>\n",
       "      <td>0.094101</td>\n",
       "      <td>0.066011</td>\n",
       "      <td>0.108146</td>\n",
       "      <td>...</td>\n",
       "      <td>0.016854</td>\n",
       "      <td>0.040730</td>\n",
       "      <td>0.011236</td>\n",
       "      <td>0.025281</td>\n",
       "      <td>0.007022</td>\n",
       "      <td>0.025281</td>\n",
       "      <td>0.008427</td>\n",
       "      <td>0.016854</td>\n",
       "      <td>0.002809</td>\n",
       "      <td>0.046348</td>\n",
       "    </tr>\n",
       "    <tr>\n",
       "      <th>8</th>\n",
       "      <td>Elche</td>\n",
       "      <td>Valladolid</td>\n",
       "      <td>21/04/2021</td>\n",
       "      <td>31</td>\n",
       "      <td>0</td>\n",
       "      <td>0.104314</td>\n",
       "      <td>0.092157</td>\n",
       "      <td>0.093725</td>\n",
       "      <td>0.085098</td>\n",
       "      <td>0.097647</td>\n",
       "      <td>...</td>\n",
       "      <td>0.026667</td>\n",
       "      <td>0.022745</td>\n",
       "      <td>0.015294</td>\n",
       "      <td>0.019608</td>\n",
       "      <td>0.014510</td>\n",
       "      <td>0.015294</td>\n",
       "      <td>0.009020</td>\n",
       "      <td>0.003922</td>\n",
       "      <td>0.003529</td>\n",
       "      <td>0.045490</td>\n",
       "    </tr>\n",
       "    <tr>\n",
       "      <th>9</th>\n",
       "      <td>Cadiz</td>\n",
       "      <td>Real Madrid</td>\n",
       "      <td>21/04/2021</td>\n",
       "      <td>31</td>\n",
       "      <td>5</td>\n",
       "      <td>0.087079</td>\n",
       "      <td>0.054775</td>\n",
       "      <td>0.094101</td>\n",
       "      <td>0.066011</td>\n",
       "      <td>0.108146</td>\n",
       "      <td>...</td>\n",
       "      <td>0.016854</td>\n",
       "      <td>0.040730</td>\n",
       "      <td>0.011236</td>\n",
       "      <td>0.025281</td>\n",
       "      <td>0.007022</td>\n",
       "      <td>0.025281</td>\n",
       "      <td>0.008427</td>\n",
       "      <td>0.016854</td>\n",
       "      <td>0.002809</td>\n",
       "      <td>0.046348</td>\n",
       "    </tr>\n",
       "  </tbody>\n",
       "</table>\n",
       "<p>10 rows × 26 columns</p>\n",
       "</div>"
      ],
      "text/plain": [
       "     HomeTeam     AwayTeam        Date  Jornada  Pred-resultadoGolesFT_Code  \\\n",
       "0  Ath Madrid       Huesca  22/04/2021       31                           8   \n",
       "1     Granada        Eibar  22/04/2021       31                           0   \n",
       "2    Sociedad        Celta  22/04/2021       31                           5   \n",
       "3   Barcelona       Getafe  22/04/2021       31                           3   \n",
       "4     Levante      Sevilla  21/04/2021       31                           0   \n",
       "5     Osasuna     Valencia  21/04/2021       31                           0   \n",
       "6       Betis   Ath Bilbao  21/04/2021       31                           5   \n",
       "7      Alaves   Villarreal  21/04/2021       31                           5   \n",
       "8       Elche   Valladolid  21/04/2021       31                           0   \n",
       "9       Cadiz  Real Madrid  21/04/2021       31                           5   \n",
       "\n",
       "          0         1         2         3         4  ...        11        12  \\\n",
       "0  0.000000  0.000000  0.142857  0.000000  0.000000  ...  0.000000  0.000000   \n",
       "1  0.104314  0.092157  0.093725  0.085098  0.097647  ...  0.026667  0.022745   \n",
       "2  0.087079  0.054775  0.094101  0.066011  0.108146  ...  0.016854  0.040730   \n",
       "3  0.076142  0.116751  0.114213  0.131980  0.060914  ...  0.058376  0.005076   \n",
       "4  0.114458  0.030120  0.054217  0.048193  0.042169  ...  0.006024  0.042169   \n",
       "5  0.104314  0.092157  0.093725  0.085098  0.097647  ...  0.026667  0.022745   \n",
       "6  0.087079  0.054775  0.094101  0.066011  0.108146  ...  0.016854  0.040730   \n",
       "7  0.087079  0.054775  0.094101  0.066011  0.108146  ...  0.016854  0.040730   \n",
       "8  0.104314  0.092157  0.093725  0.085098  0.097647  ...  0.026667  0.022745   \n",
       "9  0.087079  0.054775  0.094101  0.066011  0.108146  ...  0.016854  0.040730   \n",
       "\n",
       "         13        14        15        16        17        18        19  \\\n",
       "0  0.000000  0.000000  0.000000  0.000000  0.000000  0.000000  0.000000   \n",
       "1  0.015294  0.019608  0.014510  0.015294  0.009020  0.003922  0.003529   \n",
       "2  0.011236  0.025281  0.007022  0.025281  0.008427  0.016854  0.002809   \n",
       "3  0.045685  0.015228  0.043147  0.007614  0.017766  0.002538  0.007614   \n",
       "4  0.000000  0.054217  0.000000  0.054217  0.000000  0.078313  0.000000   \n",
       "5  0.015294  0.019608  0.014510  0.015294  0.009020  0.003922  0.003529   \n",
       "6  0.011236  0.025281  0.007022  0.025281  0.008427  0.016854  0.002809   \n",
       "7  0.011236  0.025281  0.007022  0.025281  0.008427  0.016854  0.002809   \n",
       "8  0.015294  0.019608  0.014510  0.015294  0.009020  0.003922  0.003529   \n",
       "9  0.011236  0.025281  0.007022  0.025281  0.008427  0.016854  0.002809   \n",
       "\n",
       "         20  \n",
       "0  0.000000  \n",
       "1  0.045490  \n",
       "2  0.046348  \n",
       "3  0.058376  \n",
       "4  0.084337  \n",
       "5  0.045490  \n",
       "6  0.046348  \n",
       "7  0.046348  \n",
       "8  0.045490  \n",
       "9  0.046348  \n",
       "\n",
       "[10 rows x 26 columns]"
      ]
     },
     "execution_count": 212,
     "metadata": {},
     "output_type": "execute_result"
    }
   ],
   "source": [
    "# OPredecimos la jornada 30:\n",
    "a=jornada\n",
    "dias_jornada=jornadas[a]\n",
    "X_test = liga[liga[\"Date1\"].isin(dias_jornada)].drop(variables_borrar, axis = 1)\n",
    "X_train = liga[liga['Date1']< jornadas[a][0]].drop(variables_borrar, axis = 1)\n",
    "Y_test = liga[liga[\"Date1\"].isin(dias_jornada)]['resultadoGolesFT_Code']\n",
    "Y_train = liga[liga['Date1']< jornadas[a][0]]['resultadoGolesFT_Code']\n",
    "# Sacamos el -head con los partidos para ver despues mejor el resultado\n",
    "X_test_head = liga[['HomeTeam','AwayTeam','Date']][liga[\"Date1\"].isin(dias_jornada)]\n",
    "X_test_head['Jornada']=a\n",
    "# Probamos para diversas profuncidades del arbnol:\n",
    "for x in [5]:\n",
    "        dt = DecisionTreeClassifier(max_depth=6, random_state=RANDOM_STATE,min_samples_leaf=5 ,min_samples_split=20)\n",
    "        #dt = DecisionTreeClassifier(max_depth=x, random_state=RANDOM_STATE)\n",
    "        dt.fit(X_train,Y_train)\n",
    "        score_train=dt.score(X_train, Y_train)\n",
    "        print('Resultados para: depth: {} - Train: {} - Test {}'.format(x,score_train,0))        \n",
    "        # Predecimos resultado final:\n",
    "        y_test_pred=pd.DataFrame(dt.predict(X_test), index=Y_test.index, columns=['Pred-resultadoGolesFT_Code'])\n",
    "        X_test_head = pd.concat([X_test_head, y_test_pred], axis=1)\n",
    "        #y_test_pred=pd.DataFrame(dt.predict_proba(X_test), index=Y_test.index, columns=['%1','%2','%3'])\n",
    "        y_test_pred=pd.DataFrame(dt.predict_proba(X_test), index=Y_test.index)\n",
    "        X_test_head = pd.concat([X_test_head, y_test_pred], axis=1)\n",
    "X_test_head"
   ]
  },
  {
   "cell_type": "code",
   "execution_count": 213,
   "metadata": {
    "ExecuteTime": {
     "end_time": "2021-04-15T16:04:47.691380Z",
     "start_time": "2021-04-15T16:04:47.683380Z"
    }
   },
   "outputs": [],
   "source": [
    "X_test_head['resultado']=X_test_head['Pred-resultadoGolesFT_Code'].map(mapeo_resultadoGolesFT.reset_index().set_index('index')['resultadoGolesFT'].head(21))"
   ]
  },
  {
   "cell_type": "code",
   "execution_count": 214,
   "metadata": {
    "ExecuteTime": {
     "end_time": "2021-04-15T16:04:48.383428Z",
     "start_time": "2021-04-15T16:04:48.352424Z"
    }
   },
   "outputs": [
    {
     "data": {
      "text/html": [
       "<div>\n",
       "<style scoped>\n",
       "    .dataframe tbody tr th:only-of-type {\n",
       "        vertical-align: middle;\n",
       "    }\n",
       "\n",
       "    .dataframe tbody tr th {\n",
       "        vertical-align: top;\n",
       "    }\n",
       "\n",
       "    .dataframe thead th {\n",
       "        text-align: right;\n",
       "    }\n",
       "</style>\n",
       "<table border=\"1\" class=\"dataframe\">\n",
       "  <thead>\n",
       "    <tr style=\"text-align: right;\">\n",
       "      <th></th>\n",
       "      <th>HomeTeam</th>\n",
       "      <th>AwayTeam</th>\n",
       "      <th>Date</th>\n",
       "      <th>Jornada</th>\n",
       "      <th>Pred-resultadoGolesFT_Code</th>\n",
       "      <th>0</th>\n",
       "      <th>1</th>\n",
       "      <th>2</th>\n",
       "      <th>3</th>\n",
       "      <th>4</th>\n",
       "      <th>...</th>\n",
       "      <th>12</th>\n",
       "      <th>13</th>\n",
       "      <th>14</th>\n",
       "      <th>15</th>\n",
       "      <th>16</th>\n",
       "      <th>17</th>\n",
       "      <th>18</th>\n",
       "      <th>19</th>\n",
       "      <th>20</th>\n",
       "      <th>resultado</th>\n",
       "    </tr>\n",
       "  </thead>\n",
       "  <tbody>\n",
       "    <tr>\n",
       "      <th>0</th>\n",
       "      <td>Ath Madrid</td>\n",
       "      <td>Huesca</td>\n",
       "      <td>22/04/2021</td>\n",
       "      <td>31</td>\n",
       "      <td>8</td>\n",
       "      <td>0.000000</td>\n",
       "      <td>0.000000</td>\n",
       "      <td>0.142857</td>\n",
       "      <td>0.000000</td>\n",
       "      <td>0.000000</td>\n",
       "      <td>...</td>\n",
       "      <td>0.000000</td>\n",
       "      <td>0.000000</td>\n",
       "      <td>0.000000</td>\n",
       "      <td>0.000000</td>\n",
       "      <td>0.000000</td>\n",
       "      <td>0.000000</td>\n",
       "      <td>0.000000</td>\n",
       "      <td>0.000000</td>\n",
       "      <td>0.000000</td>\n",
       "      <td>3.0-0.0</td>\n",
       "    </tr>\n",
       "    <tr>\n",
       "      <th>1</th>\n",
       "      <td>Granada</td>\n",
       "      <td>Eibar</td>\n",
       "      <td>22/04/2021</td>\n",
       "      <td>31</td>\n",
       "      <td>0</td>\n",
       "      <td>0.104314</td>\n",
       "      <td>0.092157</td>\n",
       "      <td>0.093725</td>\n",
       "      <td>0.085098</td>\n",
       "      <td>0.097647</td>\n",
       "      <td>...</td>\n",
       "      <td>0.022745</td>\n",
       "      <td>0.015294</td>\n",
       "      <td>0.019608</td>\n",
       "      <td>0.014510</td>\n",
       "      <td>0.015294</td>\n",
       "      <td>0.009020</td>\n",
       "      <td>0.003922</td>\n",
       "      <td>0.003529</td>\n",
       "      <td>0.045490</td>\n",
       "      <td>1.0-1.0</td>\n",
       "    </tr>\n",
       "    <tr>\n",
       "      <th>2</th>\n",
       "      <td>Sociedad</td>\n",
       "      <td>Celta</td>\n",
       "      <td>22/04/2021</td>\n",
       "      <td>31</td>\n",
       "      <td>5</td>\n",
       "      <td>0.087079</td>\n",
       "      <td>0.054775</td>\n",
       "      <td>0.094101</td>\n",
       "      <td>0.066011</td>\n",
       "      <td>0.108146</td>\n",
       "      <td>...</td>\n",
       "      <td>0.040730</td>\n",
       "      <td>0.011236</td>\n",
       "      <td>0.025281</td>\n",
       "      <td>0.007022</td>\n",
       "      <td>0.025281</td>\n",
       "      <td>0.008427</td>\n",
       "      <td>0.016854</td>\n",
       "      <td>0.002809</td>\n",
       "      <td>0.046348</td>\n",
       "      <td>0.0-1.0</td>\n",
       "    </tr>\n",
       "    <tr>\n",
       "      <th>3</th>\n",
       "      <td>Barcelona</td>\n",
       "      <td>Getafe</td>\n",
       "      <td>22/04/2021</td>\n",
       "      <td>31</td>\n",
       "      <td>3</td>\n",
       "      <td>0.076142</td>\n",
       "      <td>0.116751</td>\n",
       "      <td>0.114213</td>\n",
       "      <td>0.131980</td>\n",
       "      <td>0.060914</td>\n",
       "      <td>...</td>\n",
       "      <td>0.005076</td>\n",
       "      <td>0.045685</td>\n",
       "      <td>0.015228</td>\n",
       "      <td>0.043147</td>\n",
       "      <td>0.007614</td>\n",
       "      <td>0.017766</td>\n",
       "      <td>0.002538</td>\n",
       "      <td>0.007614</td>\n",
       "      <td>0.058376</td>\n",
       "      <td>2.0-0.0</td>\n",
       "    </tr>\n",
       "    <tr>\n",
       "      <th>4</th>\n",
       "      <td>Levante</td>\n",
       "      <td>Sevilla</td>\n",
       "      <td>21/04/2021</td>\n",
       "      <td>31</td>\n",
       "      <td>0</td>\n",
       "      <td>0.114458</td>\n",
       "      <td>0.030120</td>\n",
       "      <td>0.054217</td>\n",
       "      <td>0.048193</td>\n",
       "      <td>0.042169</td>\n",
       "      <td>...</td>\n",
       "      <td>0.042169</td>\n",
       "      <td>0.000000</td>\n",
       "      <td>0.054217</td>\n",
       "      <td>0.000000</td>\n",
       "      <td>0.054217</td>\n",
       "      <td>0.000000</td>\n",
       "      <td>0.078313</td>\n",
       "      <td>0.000000</td>\n",
       "      <td>0.084337</td>\n",
       "      <td>1.0-1.0</td>\n",
       "    </tr>\n",
       "    <tr>\n",
       "      <th>5</th>\n",
       "      <td>Osasuna</td>\n",
       "      <td>Valencia</td>\n",
       "      <td>21/04/2021</td>\n",
       "      <td>31</td>\n",
       "      <td>0</td>\n",
       "      <td>0.104314</td>\n",
       "      <td>0.092157</td>\n",
       "      <td>0.093725</td>\n",
       "      <td>0.085098</td>\n",
       "      <td>0.097647</td>\n",
       "      <td>...</td>\n",
       "      <td>0.022745</td>\n",
       "      <td>0.015294</td>\n",
       "      <td>0.019608</td>\n",
       "      <td>0.014510</td>\n",
       "      <td>0.015294</td>\n",
       "      <td>0.009020</td>\n",
       "      <td>0.003922</td>\n",
       "      <td>0.003529</td>\n",
       "      <td>0.045490</td>\n",
       "      <td>1.0-1.0</td>\n",
       "    </tr>\n",
       "    <tr>\n",
       "      <th>6</th>\n",
       "      <td>Betis</td>\n",
       "      <td>Ath Bilbao</td>\n",
       "      <td>21/04/2021</td>\n",
       "      <td>31</td>\n",
       "      <td>5</td>\n",
       "      <td>0.087079</td>\n",
       "      <td>0.054775</td>\n",
       "      <td>0.094101</td>\n",
       "      <td>0.066011</td>\n",
       "      <td>0.108146</td>\n",
       "      <td>...</td>\n",
       "      <td>0.040730</td>\n",
       "      <td>0.011236</td>\n",
       "      <td>0.025281</td>\n",
       "      <td>0.007022</td>\n",
       "      <td>0.025281</td>\n",
       "      <td>0.008427</td>\n",
       "      <td>0.016854</td>\n",
       "      <td>0.002809</td>\n",
       "      <td>0.046348</td>\n",
       "      <td>0.0-1.0</td>\n",
       "    </tr>\n",
       "    <tr>\n",
       "      <th>7</th>\n",
       "      <td>Alaves</td>\n",
       "      <td>Villarreal</td>\n",
       "      <td>21/04/2021</td>\n",
       "      <td>31</td>\n",
       "      <td>5</td>\n",
       "      <td>0.087079</td>\n",
       "      <td>0.054775</td>\n",
       "      <td>0.094101</td>\n",
       "      <td>0.066011</td>\n",
       "      <td>0.108146</td>\n",
       "      <td>...</td>\n",
       "      <td>0.040730</td>\n",
       "      <td>0.011236</td>\n",
       "      <td>0.025281</td>\n",
       "      <td>0.007022</td>\n",
       "      <td>0.025281</td>\n",
       "      <td>0.008427</td>\n",
       "      <td>0.016854</td>\n",
       "      <td>0.002809</td>\n",
       "      <td>0.046348</td>\n",
       "      <td>0.0-1.0</td>\n",
       "    </tr>\n",
       "    <tr>\n",
       "      <th>8</th>\n",
       "      <td>Elche</td>\n",
       "      <td>Valladolid</td>\n",
       "      <td>21/04/2021</td>\n",
       "      <td>31</td>\n",
       "      <td>0</td>\n",
       "      <td>0.104314</td>\n",
       "      <td>0.092157</td>\n",
       "      <td>0.093725</td>\n",
       "      <td>0.085098</td>\n",
       "      <td>0.097647</td>\n",
       "      <td>...</td>\n",
       "      <td>0.022745</td>\n",
       "      <td>0.015294</td>\n",
       "      <td>0.019608</td>\n",
       "      <td>0.014510</td>\n",
       "      <td>0.015294</td>\n",
       "      <td>0.009020</td>\n",
       "      <td>0.003922</td>\n",
       "      <td>0.003529</td>\n",
       "      <td>0.045490</td>\n",
       "      <td>1.0-1.0</td>\n",
       "    </tr>\n",
       "    <tr>\n",
       "      <th>9</th>\n",
       "      <td>Cadiz</td>\n",
       "      <td>Real Madrid</td>\n",
       "      <td>21/04/2021</td>\n",
       "      <td>31</td>\n",
       "      <td>5</td>\n",
       "      <td>0.087079</td>\n",
       "      <td>0.054775</td>\n",
       "      <td>0.094101</td>\n",
       "      <td>0.066011</td>\n",
       "      <td>0.108146</td>\n",
       "      <td>...</td>\n",
       "      <td>0.040730</td>\n",
       "      <td>0.011236</td>\n",
       "      <td>0.025281</td>\n",
       "      <td>0.007022</td>\n",
       "      <td>0.025281</td>\n",
       "      <td>0.008427</td>\n",
       "      <td>0.016854</td>\n",
       "      <td>0.002809</td>\n",
       "      <td>0.046348</td>\n",
       "      <td>0.0-1.0</td>\n",
       "    </tr>\n",
       "  </tbody>\n",
       "</table>\n",
       "<p>10 rows × 27 columns</p>\n",
       "</div>"
      ],
      "text/plain": [
       "     HomeTeam     AwayTeam        Date  Jornada  Pred-resultadoGolesFT_Code  \\\n",
       "0  Ath Madrid       Huesca  22/04/2021       31                           8   \n",
       "1     Granada        Eibar  22/04/2021       31                           0   \n",
       "2    Sociedad        Celta  22/04/2021       31                           5   \n",
       "3   Barcelona       Getafe  22/04/2021       31                           3   \n",
       "4     Levante      Sevilla  21/04/2021       31                           0   \n",
       "5     Osasuna     Valencia  21/04/2021       31                           0   \n",
       "6       Betis   Ath Bilbao  21/04/2021       31                           5   \n",
       "7      Alaves   Villarreal  21/04/2021       31                           5   \n",
       "8       Elche   Valladolid  21/04/2021       31                           0   \n",
       "9       Cadiz  Real Madrid  21/04/2021       31                           5   \n",
       "\n",
       "          0         1         2         3         4  ...        12        13  \\\n",
       "0  0.000000  0.000000  0.142857  0.000000  0.000000  ...  0.000000  0.000000   \n",
       "1  0.104314  0.092157  0.093725  0.085098  0.097647  ...  0.022745  0.015294   \n",
       "2  0.087079  0.054775  0.094101  0.066011  0.108146  ...  0.040730  0.011236   \n",
       "3  0.076142  0.116751  0.114213  0.131980  0.060914  ...  0.005076  0.045685   \n",
       "4  0.114458  0.030120  0.054217  0.048193  0.042169  ...  0.042169  0.000000   \n",
       "5  0.104314  0.092157  0.093725  0.085098  0.097647  ...  0.022745  0.015294   \n",
       "6  0.087079  0.054775  0.094101  0.066011  0.108146  ...  0.040730  0.011236   \n",
       "7  0.087079  0.054775  0.094101  0.066011  0.108146  ...  0.040730  0.011236   \n",
       "8  0.104314  0.092157  0.093725  0.085098  0.097647  ...  0.022745  0.015294   \n",
       "9  0.087079  0.054775  0.094101  0.066011  0.108146  ...  0.040730  0.011236   \n",
       "\n",
       "         14        15        16        17        18        19        20  \\\n",
       "0  0.000000  0.000000  0.000000  0.000000  0.000000  0.000000  0.000000   \n",
       "1  0.019608  0.014510  0.015294  0.009020  0.003922  0.003529  0.045490   \n",
       "2  0.025281  0.007022  0.025281  0.008427  0.016854  0.002809  0.046348   \n",
       "3  0.015228  0.043147  0.007614  0.017766  0.002538  0.007614  0.058376   \n",
       "4  0.054217  0.000000  0.054217  0.000000  0.078313  0.000000  0.084337   \n",
       "5  0.019608  0.014510  0.015294  0.009020  0.003922  0.003529  0.045490   \n",
       "6  0.025281  0.007022  0.025281  0.008427  0.016854  0.002809  0.046348   \n",
       "7  0.025281  0.007022  0.025281  0.008427  0.016854  0.002809  0.046348   \n",
       "8  0.019608  0.014510  0.015294  0.009020  0.003922  0.003529  0.045490   \n",
       "9  0.025281  0.007022  0.025281  0.008427  0.016854  0.002809  0.046348   \n",
       "\n",
       "   resultado  \n",
       "0    3.0-0.0  \n",
       "1    1.0-1.0  \n",
       "2    0.0-1.0  \n",
       "3    2.0-0.0  \n",
       "4    1.0-1.0  \n",
       "5    1.0-1.0  \n",
       "6    0.0-1.0  \n",
       "7    0.0-1.0  \n",
       "8    1.0-1.0  \n",
       "9    0.0-1.0  \n",
       "\n",
       "[10 rows x 27 columns]"
      ]
     },
     "execution_count": 214,
     "metadata": {},
     "output_type": "execute_result"
    }
   ],
   "source": [
    "X_test_head"
   ]
  },
  {
   "cell_type": "code",
   "execution_count": 215,
   "metadata": {
    "ExecuteTime": {
     "end_time": "2021-04-15T16:05:14.472805Z",
     "start_time": "2021-04-15T16:05:14.464805Z"
    }
   },
   "outputs": [],
   "source": [
    "X_test_head.to_csv(path_last+'/SP1-J'+str(jornada)+'/SP1_prediccion_jornada_'+str(jornada)+'_goles.csv')"
   ]
  },
  {
   "cell_type": "code",
   "execution_count": null,
   "metadata": {},
   "outputs": [],
   "source": []
  }
 ],
 "metadata": {
  "kernelspec": {
   "display_name": "Python 3",
   "language": "python",
   "name": "python3"
  },
  "language_info": {
   "codemirror_mode": {
    "name": "ipython",
    "version": 3
   },
   "file_extension": ".py",
   "mimetype": "text/x-python",
   "name": "python",
   "nbconvert_exporter": "python",
   "pygments_lexer": "ipython3",
   "version": "3.8.3"
  },
  "toc": {
   "base_numbering": 1,
   "nav_menu": {},
   "number_sections": true,
   "sideBar": true,
   "skip_h1_title": false,
   "title_cell": "Table of Contents",
   "title_sidebar": "Contents",
   "toc_cell": false,
   "toc_position": {
    "height": "calc(100% - 180px)",
    "left": "10px",
    "top": "150px",
    "width": "289.888px"
   },
   "toc_section_display": true,
   "toc_window_display": true
  },
  "varInspector": {
   "cols": {
    "lenName": 16,
    "lenType": 16,
    "lenVar": 40
   },
   "kernels_config": {
    "python": {
     "delete_cmd_postfix": "",
     "delete_cmd_prefix": "del ",
     "library": "var_list.py",
     "varRefreshCmd": "print(var_dic_list())"
    },
    "r": {
     "delete_cmd_postfix": ") ",
     "delete_cmd_prefix": "rm(",
     "library": "var_list.r",
     "varRefreshCmd": "cat(var_dic_list()) "
    }
   },
   "types_to_exclude": [
    "module",
    "function",
    "builtin_function_or_method",
    "instance",
    "_Feature"
   ],
   "window_display": false
  }
 },
 "nbformat": 4,
 "nbformat_minor": 4
}
